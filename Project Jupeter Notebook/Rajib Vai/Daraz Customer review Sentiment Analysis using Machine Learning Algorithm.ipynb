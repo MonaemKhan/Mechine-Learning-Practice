{
 "cells": [
  {
   "cell_type": "code",
   "execution_count": 1,
   "id": "43ae1703",
   "metadata": {},
   "outputs": [],
   "source": [
    "from sklearn.metrics import accuracy_score, f1_score, precision_score, recall_score\n",
    "from sklearn.feature_extraction.text import CountVectorizer,TfidfVectorizer,HashingVectorizer\n",
    "from sklearn.model_selection import train_test_split\n",
    "from sklearn.preprocessing import LabelEncoder\n",
    "from bltk.langtools import remove_stopwords\n",
    "from bltk.langtools import Tokenizer\n",
    "\n",
    "from sklearn.svm import SVC\n",
    "from sklearn.tree import DecisionTreeClassifier\n",
    "from sklearn.neighbors import KNeighborsClassifier\n",
    "from sklearn.ensemble import RandomForestClassifier\n",
    "from sklearn.linear_model import LogisticRegression\n",
    "from sklearn.naive_bayes import GaussianNB,MultinomialNB\n",
    "\n",
    "import re\n",
    "import pandas as pd\n",
    "import matplotlib.pyplot as plt\n",
    "%matplotlib inline"
   ]
  },
  {
   "cell_type": "markdown",
   "id": "cf951dc1",
   "metadata": {},
   "source": [
    "# Data Preprocessing"
   ]
  },
  {
   "cell_type": "code",
   "execution_count": 2,
   "id": "50736739",
   "metadata": {},
   "outputs": [
    {
     "data": {
      "text/html": [
       "<div>\n",
       "<style scoped>\n",
       "    .dataframe tbody tr th:only-of-type {\n",
       "        vertical-align: middle;\n",
       "    }\n",
       "\n",
       "    .dataframe tbody tr th {\n",
       "        vertical-align: top;\n",
       "    }\n",
       "\n",
       "    .dataframe thead th {\n",
       "        text-align: right;\n",
       "    }\n",
       "</style>\n",
       "<table border=\"1\" class=\"dataframe\">\n",
       "  <thead>\n",
       "    <tr style=\"text-align: right;\">\n",
       "      <th></th>\n",
       "      <th>Name</th>\n",
       "      <th>Comment</th>\n",
       "      <th>Tag</th>\n",
       "    </tr>\n",
       "  </thead>\n",
       "  <tbody>\n",
       "    <tr>\n",
       "      <th>0</th>\n",
       "      <td>Hanif R.</td>\n",
       "      <td>দাম অনুযায়ী পেন্ট ঠিক আছে এবং কোয়লিটি খুবই ভালো</td>\n",
       "      <td>Positive</td>\n",
       "    </tr>\n",
       "    <tr>\n",
       "      <th>1</th>\n",
       "      <td>Thoid M</td>\n",
       "      <td>এটা নিঃসন্দেহে প্রতারণা। আমি রিটার্ন করবো।</td>\n",
       "      <td>Negative</td>\n",
       "    </tr>\n",
       "    <tr>\n",
       "      <th>2</th>\n",
       "      <td>সুন্দর জ</td>\n",
       "      <td>দারাজ  কাছ থেকে এত বাজে মানের কাপড়ের শিলি হবে...</td>\n",
       "      <td>Negative</td>\n",
       "    </tr>\n",
       "    <tr>\n",
       "      <th>3</th>\n",
       "      <td>Karmokar A</td>\n",
       "      <td>খারাপ না প্রোডাক্ট তা ... . একটু দাম কম হলে ভা...</td>\n",
       "      <td>Neutral</td>\n",
       "    </tr>\n",
       "    <tr>\n",
       "      <th>4</th>\n",
       "      <td>tauhid S</td>\n",
       "      <td>পুরাই বাটপার। প্রোডাক্ট রিটার্ন করে নাই। বাটপা...</td>\n",
       "      <td>Negative</td>\n",
       "    </tr>\n",
       "  </tbody>\n",
       "</table>\n",
       "</div>"
      ],
      "text/plain": [
       "         Name                                            Comment       Tag\n",
       "0    Hanif R.    দাম অনুযায়ী পেন্ট ঠিক আছে এবং কোয়লিটি খুবই ভালো  Positive\n",
       "1     Thoid M         এটা নিঃসন্দেহে প্রতারণা। আমি রিটার্ন করবো।  Negative\n",
       "2    সুন্দর জ  দারাজ  কাছ থেকে এত বাজে মানের কাপড়ের শিলি হবে...  Negative\n",
       "3  Karmokar A  খারাপ না প্রোডাক্ট তা ... . একটু দাম কম হলে ভা...   Neutral\n",
       "4    tauhid S  পুরাই বাটপার। প্রোডাক্ট রিটার্ন করে নাই। বাটপা...  Negative"
      ]
     },
     "execution_count": 2,
     "metadata": {},
     "output_type": "execute_result"
    }
   ],
   "source": [
    "df = pd.read_csv('daraz1.csv')\n",
    "df.head()"
   ]
  },
  {
   "cell_type": "code",
   "execution_count": 3,
   "id": "f00165e8",
   "metadata": {},
   "outputs": [
    {
     "data": {
      "text/plain": [
       "(1011, 3)"
      ]
     },
     "execution_count": 3,
     "metadata": {},
     "output_type": "execute_result"
    }
   ],
   "source": [
    "df.shape"
   ]
  },
  {
   "cell_type": "code",
   "execution_count": 4,
   "id": "0ceeb972",
   "metadata": {},
   "outputs": [
    {
     "data": {
      "text/html": [
       "<div>\n",
       "<style scoped>\n",
       "    .dataframe tbody tr th:only-of-type {\n",
       "        vertical-align: middle;\n",
       "    }\n",
       "\n",
       "    .dataframe tbody tr th {\n",
       "        vertical-align: top;\n",
       "    }\n",
       "\n",
       "    .dataframe thead th {\n",
       "        text-align: right;\n",
       "    }\n",
       "</style>\n",
       "<table border=\"1\" class=\"dataframe\">\n",
       "  <thead>\n",
       "    <tr style=\"text-align: right;\">\n",
       "      <th></th>\n",
       "      <th>Comment</th>\n",
       "      <th>Tag</th>\n",
       "    </tr>\n",
       "  </thead>\n",
       "  <tbody>\n",
       "    <tr>\n",
       "      <th>0</th>\n",
       "      <td>দাম অনুযায়ী পেন্ট ঠিক আছে এবং কোয়লিটি খুবই ভালো</td>\n",
       "      <td>Positive</td>\n",
       "    </tr>\n",
       "    <tr>\n",
       "      <th>1</th>\n",
       "      <td>এটা নিঃসন্দেহে প্রতারণা। আমি রিটার্ন করবো।</td>\n",
       "      <td>Negative</td>\n",
       "    </tr>\n",
       "    <tr>\n",
       "      <th>2</th>\n",
       "      <td>দারাজ  কাছ থেকে এত বাজে মানের কাপড়ের শিলি হবে...</td>\n",
       "      <td>Negative</td>\n",
       "    </tr>\n",
       "    <tr>\n",
       "      <th>3</th>\n",
       "      <td>খারাপ না প্রোডাক্ট তা ... . একটু দাম কম হলে ভা...</td>\n",
       "      <td>Neutral</td>\n",
       "    </tr>\n",
       "    <tr>\n",
       "      <th>4</th>\n",
       "      <td>পুরাই বাটপার। প্রোডাক্ট রিটার্ন করে নাই। বাটপা...</td>\n",
       "      <td>Negative</td>\n",
       "    </tr>\n",
       "  </tbody>\n",
       "</table>\n",
       "</div>"
      ],
      "text/plain": [
       "                                             Comment       Tag\n",
       "0    দাম অনুযায়ী পেন্ট ঠিক আছে এবং কোয়লিটি খুবই ভালো  Positive\n",
       "1         এটা নিঃসন্দেহে প্রতারণা। আমি রিটার্ন করবো।  Negative\n",
       "2  দারাজ  কাছ থেকে এত বাজে মানের কাপড়ের শিলি হবে...  Negative\n",
       "3  খারাপ না প্রোডাক্ট তা ... . একটু দাম কম হলে ভা...   Neutral\n",
       "4  পুরাই বাটপার। প্রোডাক্ট রিটার্ন করে নাই। বাটপা...  Negative"
      ]
     },
     "execution_count": 4,
     "metadata": {},
     "output_type": "execute_result"
    }
   ],
   "source": [
    "df = df.drop(['Name'],axis=1)\n",
    "df.head()"
   ]
  },
  {
   "cell_type": "code",
   "execution_count": 5,
   "id": "6f9b45b6",
   "metadata": {},
   "outputs": [
    {
     "data": {
      "text/plain": [
       "(1011, 2)"
      ]
     },
     "execution_count": 5,
     "metadata": {},
     "output_type": "execute_result"
    }
   ],
   "source": [
    "df.shape"
   ]
  },
  {
   "cell_type": "code",
   "execution_count": 6,
   "id": "f72de9d7",
   "metadata": {},
   "outputs": [
    {
     "data": {
      "text/plain": [
       "Comment    0\n",
       "Tag        0\n",
       "dtype: int64"
      ]
     },
     "execution_count": 6,
     "metadata": {},
     "output_type": "execute_result"
    }
   ],
   "source": [
    "df.isna().sum()"
   ]
  },
  {
   "cell_type": "code",
   "execution_count": 7,
   "id": "6c40b73a",
   "metadata": {},
   "outputs": [
    {
     "data": {
      "text/plain": [
       "Positive    535\n",
       "Negative    344\n",
       "Neutral     132\n",
       "Name: Tag, dtype: int64"
      ]
     },
     "execution_count": 7,
     "metadata": {},
     "output_type": "execute_result"
    }
   ],
   "source": [
    "df.Tag.value_counts()"
   ]
  },
  {
   "cell_type": "code",
   "execution_count": 8,
   "id": "3f41ec2b",
   "metadata": {},
   "outputs": [
    {
     "data": {
      "image/png": "[encoded data removed]",
      "text/plain": [
       "<Figure size 720x360 with 1 Axes>"
      ]
     },
     "metadata": {},
     "output_type": "display_data"
    }
   ],
   "source": [
    "plt.figure(figsize=(10,5))\n",
    "plt.pie(df['Tag'].value_counts(),labels=['Positive','Negative','Neutral'], autopct = \"%0.2f%%\",explode = [0.1,0,0.1],shadow = True,radius = 1.4,)\n",
    "plt.legend(title = \"Daraz Customer Sentiment Analysis\")\n",
    "plt.show()"
   ]
  },
  {
   "cell_type": "code",
   "execution_count": 9,
   "id": "30e8e226",
   "metadata": {},
   "outputs": [],
   "source": [
    "#labelencoding\n",
    "encoder = LabelEncoder()\n",
    "df['Tag'] = encoder.fit_transform(df['Tag'])"
   ]
  },
  {
   "cell_type": "code",
   "execution_count": 10,
   "id": "62e053e8",
   "metadata": {},
   "outputs": [
    {
     "data": {
      "text/plain": [
       "2    535\n",
       "0    344\n",
       "1    132\n",
       "Name: Tag, dtype: int64"
      ]
     },
     "execution_count": 10,
     "metadata": {},
     "output_type": "execute_result"
    }
   ],
   "source": [
    "df.Tag.value_counts()\n",
    "# 0 = Negative\n",
    "# 1 = Neutral\n",
    "# 2 = Positive"
   ]
  },
  {
   "cell_type": "markdown",
   "id": "daff0634",
   "metadata": {},
   "source": [
    "# >>>Cleaning"
   ]
  },
  {
   "cell_type": "code",
   "execution_count": 11,
   "id": "cdb93d4c",
   "metadata": {},
   "outputs": [],
   "source": [
    "def clean_sentence(sent):\n",
    "\n",
    "    sent = re.sub('[?.`*^()!°¢܌Ͱ̰ߒנ~×Ҡߘ:ҰߑÍ|।;!,&%\\'@#$>]', '', sent)\n",
    "    sent = re.sub(r'(\\W)(?=\\1)', '', sent)\n",
    "    sent = re.sub(r'https?:\\/\\/.*[\\r\\n]*', '', sent, flags=re.MULTILINE)\n",
    "    sent = re.sub(r'\\'', '', sent)\n",
    "    sent = re.sub(r'&', '', sent) \n",
    "    sent = re.sub(r'[০-৯]', '', sent)\n",
    "    sent = re.sub(r'\\'', '', sent)\n",
    "    sent = re.sub(r'ߑͰߑ̰ߒנ', '', sent)\n",
    "    sent = re.sub(r'ߎɰߎɰߎɍ', '', sent)\n",
    "    \n",
    "    sent = sent.strip()\n",
    "    return sent"
   ]
  },
  {
   "cell_type": "code",
   "execution_count": 12,
   "id": "5aa54b35",
   "metadata": {},
   "outputs": [
    {
     "data": {
      "text/plain": [
       "'আমি চাইছিলাম  ৩৬ সাইজ  আর  আমারে  দিছে  ৩৪ সাইজ '"
      ]
     },
     "execution_count": 12,
     "metadata": {},
     "output_type": "execute_result"
    }
   ],
   "source": [
    "#before cleanning the sentence\n",
    "df.loc[15,'Comment']"
   ]
  },
  {
   "cell_type": "code",
   "execution_count": 13,
   "id": "cb7f8886",
   "metadata": {},
   "outputs": [],
   "source": [
    "#clean all the unwanted things like numbers and puncuation\n",
    "for i, sent  in enumerate(df['Comment'].tolist()):\n",
    "    df.loc[i,'clean_sentence'] = clean_sentence(sent)"
   ]
  },
  {
   "cell_type": "code",
   "execution_count": 14,
   "id": "e318cfe6",
   "metadata": {},
   "outputs": [
    {
     "data": {
      "text/plain": [
       "'আমি চাইছিলাম  সাইজ আর আমারে দিছে  সাইজ'"
      ]
     },
     "execution_count": 14,
     "metadata": {},
     "output_type": "execute_result"
    }
   ],
   "source": [
    "#after cleanning sentence\n",
    "df.loc[15,'clean_sentence']"
   ]
  },
  {
   "cell_type": "code",
   "execution_count": 15,
   "id": "f6166bd9",
   "metadata": {},
   "outputs": [
    {
     "data": {
      "text/plain": [
       "['চাইছিলাম', 'সাইজ', 'আমারে', 'দিছে', 'সাইজ']"
      ]
     },
     "execution_count": 15,
     "metadata": {},
     "output_type": "execute_result"
    }
   ],
   "source": [
    "#tokenize and remove stop or unwanted word\n",
    "tokenizer = Tokenizer()\n",
    "remove_stopwords(tokenizer.word_tokenizer(df.loc[15,'clean_sentence']), level='hard')"
   ]
  },
  {
   "cell_type": "code",
   "execution_count": 16,
   "id": "927e8067",
   "metadata": {},
   "outputs": [],
   "source": [
    "#remove stop or unwanted word from clean_sentence and make the comment clean_data\n",
    "df['clean_data'] = [' '.join(remove_stopwords(Tokenizer().word_tokenizer(sent), level='hard')) for sent in df['clean_sentence'].tolist()]"
   ]
  },
  {
   "cell_type": "code",
   "execution_count": 17,
   "id": "a486f50f",
   "metadata": {},
   "outputs": [
    {
     "data": {
      "text/html": [
       "<div>\n",
       "<style scoped>\n",
       "    .dataframe tbody tr th:only-of-type {\n",
       "        vertical-align: middle;\n",
       "    }\n",
       "\n",
       "    .dataframe tbody tr th {\n",
       "        vertical-align: top;\n",
       "    }\n",
       "\n",
       "    .dataframe thead th {\n",
       "        text-align: right;\n",
       "    }\n",
       "</style>\n",
       "<table border=\"1\" class=\"dataframe\">\n",
       "  <thead>\n",
       "    <tr style=\"text-align: right;\">\n",
       "      <th></th>\n",
       "      <th>Comment</th>\n",
       "      <th>Tag</th>\n",
       "      <th>clean_sentence</th>\n",
       "      <th>clean_data</th>\n",
       "    </tr>\n",
       "  </thead>\n",
       "  <tbody>\n",
       "    <tr>\n",
       "      <th>0</th>\n",
       "      <td>দাম অনুযায়ী পেন্ট ঠিক আছে এবং কোয়লিটি খুবই ভালো</td>\n",
       "      <td>2</td>\n",
       "      <td>দাম অনুযায়ী পেন্ট ঠিক আছে এবং কোয়লিটি খুবই ভালো</td>\n",
       "      <td>দাম অনুযায়ী পেন্ট কোয়লিটি ভালো</td>\n",
       "    </tr>\n",
       "    <tr>\n",
       "      <th>1</th>\n",
       "      <td>এটা নিঃসন্দেহে প্রতারণা। আমি রিটার্ন করবো।</td>\n",
       "      <td>0</td>\n",
       "      <td>এটা নিঃসন্দেহে প্রতারণা আমি রিটার্ন করবো</td>\n",
       "      <td>নিঃসন্দেহে প্রতারণা রিটার্ন করবো</td>\n",
       "    </tr>\n",
       "    <tr>\n",
       "      <th>2</th>\n",
       "      <td>দারাজ  কাছ থেকে এত বাজে মানের কাপড়ের শিলি হবে...</td>\n",
       "      <td>0</td>\n",
       "      <td>দারাজ কাছ থেকে এত বাজে মানের কাপড়ের শিলি হবে ...</td>\n",
       "      <td>দারাজ বাজে মানের কাপড়ের শিলি কখনোই আশা করিনি ...</td>\n",
       "    </tr>\n",
       "    <tr>\n",
       "      <th>3</th>\n",
       "      <td>খারাপ না প্রোডাক্ট তা ... . একটু দাম কম হলে ভা...</td>\n",
       "      <td>1</td>\n",
       "      <td>খারাপ না প্রোডাক্ট তা একটু দাম কম হলে ভালো হতো...</td>\n",
       "      <td>খারাপ প্রোডাক্ট একটু দাম কম ভালো হতো দাম অনুযা...</td>\n",
       "    </tr>\n",
       "    <tr>\n",
       "      <th>4</th>\n",
       "      <td>পুরাই বাটপার। প্রোডাক্ট রিটার্ন করে নাই। বাটপা...</td>\n",
       "      <td>0</td>\n",
       "      <td>পুরাই বাটপার প্রোডাক্ট রিটার্ন করে নাই বাটপারি...</td>\n",
       "      <td>পুরাই বাটপার প্রোডাক্ট রিটার্ন বাটপারি বাদ</td>\n",
       "    </tr>\n",
       "  </tbody>\n",
       "</table>\n",
       "</div>"
      ],
      "text/plain": [
       "                                             Comment  Tag  \\\n",
       "0    দাম অনুযায়ী পেন্ট ঠিক আছে এবং কোয়লিটি খুবই ভালো    2   \n",
       "1         এটা নিঃসন্দেহে প্রতারণা। আমি রিটার্ন করবো।    0   \n",
       "2  দারাজ  কাছ থেকে এত বাজে মানের কাপড়ের শিলি হবে...    0   \n",
       "3  খারাপ না প্রোডাক্ট তা ... . একটু দাম কম হলে ভা...    1   \n",
       "4  পুরাই বাটপার। প্রোডাক্ট রিটার্ন করে নাই। বাটপা...    0   \n",
       "\n",
       "                                      clean_sentence  \\\n",
       "0    দাম অনুযায়ী পেন্ট ঠিক আছে এবং কোয়লিটি খুবই ভালো   \n",
       "1           এটা নিঃসন্দেহে প্রতারণা আমি রিটার্ন করবো   \n",
       "2  দারাজ কাছ থেকে এত বাজে মানের কাপড়ের শিলি হবে ...   \n",
       "3  খারাপ না প্রোডাক্ট তা একটু দাম কম হলে ভালো হতো...   \n",
       "4  পুরাই বাটপার প্রোডাক্ট রিটার্ন করে নাই বাটপারি...   \n",
       "\n",
       "                                          clean_data  \n",
       "0                     দাম অনুযায়ী পেন্ট কোয়লিটি ভালো  \n",
       "1                   নিঃসন্দেহে প্রতারণা রিটার্ন করবো  \n",
       "2  দারাজ বাজে মানের কাপড়ের শিলি কখনোই আশা করিনি ...  \n",
       "3  খারাপ প্রোডাক্ট একটু দাম কম ভালো হতো দাম অনুযা...  \n",
       "4         পুরাই বাটপার প্রোডাক্ট রিটার্ন বাটপারি বাদ  "
      ]
     },
     "execution_count": 17,
     "metadata": {},
     "output_type": "execute_result"
    }
   ],
   "source": [
    "df.head()"
   ]
  },
  {
   "cell_type": "code",
   "execution_count": 18,
   "id": "47df4ce6",
   "metadata": {},
   "outputs": [
    {
     "data": {
      "text/plain": [
       "(1011, 4)"
      ]
     },
     "execution_count": 18,
     "metadata": {},
     "output_type": "execute_result"
    }
   ],
   "source": [
    "df.shape"
   ]
  },
  {
   "cell_type": "code",
   "execution_count": 19,
   "id": "7da2c34b",
   "metadata": {},
   "outputs": [],
   "source": [
    "#save the csv file after cleaning\n",
    "df.to_csv('daraz_clean_data.csv', encoding='utf8', index=False)"
   ]
  },
  {
   "cell_type": "markdown",
   "id": "abf270df",
   "metadata": {},
   "source": [
    "# Feature Extraction"
   ]
  },
  {
   "cell_type": "code",
   "execution_count": 20,
   "id": "9b9e2714",
   "metadata": {},
   "outputs": [],
   "source": [
    "#countvectorizer & tfidfVectorizer\n",
    "cv = CountVectorizer(max_features=3000)\n",
    "tfidf = TfidfVectorizer(max_features=3000)"
   ]
  },
  {
   "cell_type": "code",
   "execution_count": 21,
   "id": "8d3e4800",
   "metadata": {},
   "outputs": [
    {
     "name": "stdout",
     "output_type": "stream",
     "text": [
      "[2 0 0 1]\n"
     ]
    }
   ],
   "source": [
    "y = df.Tag.values\n",
    "print(y[0:4])"
   ]
  },
  {
   "cell_type": "markdown",
   "id": "0be466ab",
   "metadata": {},
   "source": [
    "# >>>CountVectorizer"
   ]
  },
  {
   "cell_type": "code",
   "execution_count": 22,
   "id": "acf730f0",
   "metadata": {},
   "outputs": [
    {
     "name": "stdout",
     "output_type": "stream",
     "text": [
      "[[0 0 0 ... 0 1 0]\n",
      " [0 0 0 ... 0 0 0]\n",
      " [0 0 0 ... 0 0 0]\n",
      " [0 0 0 ... 0 0 0]]\n"
     ]
    }
   ],
   "source": [
    "cv_X = cv.fit_transform(df.clean_data).toarray()\n",
    "print(cv_X[0:4])"
   ]
  },
  {
   "cell_type": "markdown",
   "id": "6e734c70",
   "metadata": {},
   "source": [
    "# >>>TfidfVectorizer"
   ]
  },
  {
   "cell_type": "code",
   "execution_count": 23,
   "id": "95ffcb61",
   "metadata": {},
   "outputs": [
    {
     "name": "stdout",
     "output_type": "stream",
     "text": [
      "[[0.      0.      0.      ... 0.      0.91127 0.     ]\n",
      " [0.      0.      0.      ... 0.      0.      0.     ]\n",
      " [0.      0.      0.      ... 0.      0.      0.     ]\n",
      " [0.      0.      0.      ... 0.      0.      0.     ]]\n"
     ]
    }
   ],
   "source": [
    "tfid_X = tfidf.fit_transform(df.clean_data).toarray()\n",
    "print(tfid_X[0:4])"
   ]
  },
  {
   "cell_type": "markdown",
   "id": "878d18bd",
   "metadata": {},
   "source": [
    "# >>>HashingVectorizer"
   ]
  },
  {
   "cell_type": "code",
   "execution_count": 24,
   "id": "bca7fece",
   "metadata": {},
   "outputs": [
    {
     "name": "stdout",
     "output_type": "stream",
     "text": [
      "[[ 0.          0.          0.          0.          0.          0.\n",
      "   0.          0.          0.          0.          0.          0.\n",
      "   0.          0.          0.          0.          0.          0.\n",
      "   0.          0.          0.          0.          0.          0.\n",
      "   0.          0.          0.          0.          0.          0.\n",
      "   0.          0.          0.          0.          0.          0.\n",
      "   0.          0.          0.          0.          0.          0.\n",
      "   0.70710678  0.          0.          0.          0.          0.\n",
      "   0.          0.          0.          0.          0.         -0.70710678\n",
      "   0.          0.          0.          0.          0.          0.\n",
      "   0.          0.          0.          0.          0.          0.\n",
      "   0.          0.          0.          0.          0.          0.\n",
      "   0.          0.          0.          0.          0.          0.\n",
      "   0.          0.          0.          0.          0.          0.\n",
      "   0.          0.          0.          0.          0.          0.\n",
      "   0.          0.          0.          0.          0.          0.\n",
      "   0.          0.          0.          0.          0.          0.\n",
      "   0.          0.          0.          0.          0.          0.\n",
      "   0.          0.          0.          0.          0.          0.\n",
      "   0.          0.          0.          0.          0.          0.\n",
      "   0.          0.          0.          0.          0.          0.\n",
      "   0.          0.        ]]\n"
     ]
    }
   ],
   "source": [
    "hashing = HashingVectorizer(n_features=2**7)\n",
    "ha_X = hashing.fit_transform(df.clean_data).toarray()\n",
    "print((ha_X[0:1]))"
   ]
  },
  {
   "cell_type": "markdown",
   "id": "6de830b0",
   "metadata": {},
   "source": [
    "# Model Building (CountVectorizer)"
   ]
  },
  {
   "cell_type": "code",
   "execution_count": 25,
   "id": "d7643843",
   "metadata": {},
   "outputs": [],
   "source": [
    "cv_X_train, cv_X_test, y_train, y_test = train_test_split(cv_X,y,test_size=0.3,random_state=42)"
   ]
  },
  {
   "cell_type": "code",
   "execution_count": 26,
   "id": "9ee27aa1",
   "metadata": {},
   "outputs": [],
   "source": [
    "def model(model,i):\n",
    "    print(i,'.',model,':\\n')\n",
    "    model.fit(cv_X_train,y_train)\n",
    "\n",
    "    #train data\n",
    "    y_pred = model.predict(cv_X_train)\n",
    "    print('\\tTraining Data:')\n",
    "    print('\\t\\tAccuracy: ', round(accuracy_score(y_train,y_pred),2),end=\"\\n\")\n",
    "#     print('\\tf1_score: ', round(f1_score(y_train,y_pred, average='micro'),2),end=\"\")\n",
    "#     print('\\tprecision_score: ', round(precision_score(y_train,y_pred, average='micro'),2),end=\"\")\n",
    "#     print('\\trecall_score: ', round(recall_score(y_train,y_pred, average='micro'),2),end=\"\")\n",
    "\n",
    "    #test data\n",
    "    y_pred = model.predict(cv_X_test)\n",
    "    print('\\n\\tTesting Data:')\n",
    "    print('\\t\\tAccuracy: ', round(accuracy_score(y_test,y_pred),2),end=\"\\n\")\n",
    "#     print('\\tf1_score: ', round(f1_score(y_test,y_pred, average='micro'),2),end=\"\")\n",
    "#     print('\\tprecision_score: ', round(precision_score(y_test,y_pred, average='micro'),2),end=\"\")\n",
    "#     print('\\trecall_score: ', round(recall_score(y_test,y_pred, average='micro'),2),'\\n')"
   ]
  },
  {
   "cell_type": "code",
   "execution_count": 27,
   "id": "d1116824",
   "metadata": {},
   "outputs": [
    {
     "name": "stdout",
     "output_type": "stream",
     "text": [
      "1 . LogisticRegression() :\n",
      "\n",
      "\tTraining Data:\n",
      "\t\tAccuracy:  0.93\n",
      "\n",
      "\tTesting Data:\n",
      "\t\tAccuracy:  0.78\n",
      "2 . SVC() :\n",
      "\n",
      "\tTraining Data:\n",
      "\t\tAccuracy:  0.91\n",
      "\n",
      "\tTesting Data:\n",
      "\t\tAccuracy:  0.76\n",
      "3 . DecisionTreeClassifier() :\n",
      "\n",
      "\tTraining Data:\n",
      "\t\tAccuracy:  0.99\n",
      "\n",
      "\tTesting Data:\n",
      "\t\tAccuracy:  0.73\n",
      "4 . RandomForestClassifier() :\n",
      "\n",
      "\tTraining Data:\n",
      "\t\tAccuracy:  0.99\n",
      "\n",
      "\tTesting Data:\n",
      "\t\tAccuracy:  0.77\n",
      "5 . KNeighborsClassifier() :\n",
      "\n",
      "\tTraining Data:\n",
      "\t\tAccuracy:  0.78\n",
      "\n",
      "\tTesting Data:\n",
      "\t\tAccuracy:  0.67\n",
      "6 . GaussianNB() :\n",
      "\n",
      "\tTraining Data:\n",
      "\t\tAccuracy:  0.68\n",
      "\n",
      "\tTesting Data:\n",
      "\t\tAccuracy:  0.47\n",
      "7 . MultinomialNB() :\n",
      "\n",
      "\tTraining Data:\n",
      "\t\tAccuracy:  0.87\n",
      "\n",
      "\tTesting Data:\n",
      "\t\tAccuracy:  0.78\n"
     ]
    }
   ],
   "source": [
    "model(LogisticRegression(),1)\n",
    "model(SVC(),2)\n",
    "model(DecisionTreeClassifier(),3)\n",
    "model(RandomForestClassifier(),4)\n",
    "model(KNeighborsClassifier(),5)\n",
    "model(GaussianNB(),6)\n",
    "model(MultinomialNB(),7)"
   ]
  },
  {
   "cell_type": "markdown",
   "id": "7b2034db",
   "metadata": {},
   "source": [
    "TfidfVectorizer"
   ]
  },
  {
   "cell_type": "markdown",
   "id": "48e400b9",
   "metadata": {},
   "source": [
    "# Model Building (TfidfVectorizer)"
   ]
  },
  {
   "cell_type": "code",
   "execution_count": 28,
   "id": "a84945d8",
   "metadata": {},
   "outputs": [],
   "source": [
    "tfid_X_train, tfid_X_test, y_train, y_test = train_test_split(tfid_X,y,test_size=0.3,random_state=42)"
   ]
  },
  {
   "cell_type": "code",
   "execution_count": 29,
   "id": "c3a43cd9",
   "metadata": {},
   "outputs": [],
   "source": [
    "def model(model,i):\n",
    "    print(i,'.',model,':\\n')\n",
    "    model.fit(tfid_X_train,y_train)\n",
    "\n",
    "    #train data\n",
    "    y_pred = model.predict(tfid_X_train)\n",
    "    print('\\tTraining Data:')\n",
    "    print('\\t\\tAccuracy: ', round(accuracy_score(y_train,y_pred),2),end=\"\\n\")\n",
    "#     print('\\tf1_score: ', round(f1_score(y_train,y_pred, average='micro'),2),end=\"\")\n",
    "#     print('\\tprecision_score: ', round(precision_score(y_train,y_pred, average='micro'),2),end=\"\")\n",
    "#     print('\\trecall_score: ', round(recall_score(y_train,y_pred, average='micro'),2),end=\"\")\n",
    "\n",
    "    #test data\n",
    "    y_pred = model.predict(tfid_X_test)\n",
    "    print('\\n\\tTesting Data:')\n",
    "    print('\\t\\tAccuracy: ', round(accuracy_score(y_test,y_pred),2),end=\"\\n\")\n",
    "#     print('\\tf1_score: ', round(f1_score(y_test,y_pred, average='micro'),2),end=\"\")\n",
    "#     print('\\tprecision_score: ', round(precision_score(y_test,y_pred, average='micro'),2),end=\"\")\n",
    "#     print('\\trecall_score: ', round(recall_score(y_test,y_pred, average='micro'),2),'\\n')"
   ]
  },
  {
   "cell_type": "code",
   "execution_count": 30,
   "id": "561ef5fa",
   "metadata": {},
   "outputs": [
    {
     "name": "stdout",
     "output_type": "stream",
     "text": [
      "1 . LogisticRegression() :\n",
      "\n",
      "\tTraining Data:\n",
      "\t\tAccuracy:  0.88\n",
      "\n",
      "\tTesting Data:\n",
      "\t\tAccuracy:  0.79\n",
      "2 . SVC() :\n",
      "\n",
      "\tTraining Data:\n",
      "\t\tAccuracy:  0.95\n",
      "\n",
      "\tTesting Data:\n",
      "\t\tAccuracy:  0.78\n",
      "3 . DecisionTreeClassifier() :\n",
      "\n",
      "\tTraining Data:\n",
      "\t\tAccuracy:  0.99\n",
      "\n",
      "\tTesting Data:\n",
      "\t\tAccuracy:  0.7\n",
      "4 . RandomForestClassifier() :\n",
      "\n",
      "\tTraining Data:\n",
      "\t\tAccuracy:  0.99\n",
      "\n",
      "\tTesting Data:\n",
      "\t\tAccuracy:  0.76\n",
      "5 . KNeighborsClassifier() :\n",
      "\n",
      "\tTraining Data:\n",
      "\t\tAccuracy:  0.79\n",
      "\n",
      "\tTesting Data:\n",
      "\t\tAccuracy:  0.61\n",
      "6 . GaussianNB() :\n",
      "\n",
      "\tTraining Data:\n",
      "\t\tAccuracy:  0.7\n",
      "\n",
      "\tTesting Data:\n",
      "\t\tAccuracy:  0.46\n",
      "7 . MultinomialNB() :\n",
      "\n",
      "\tTraining Data:\n",
      "\t\tAccuracy:  0.83\n",
      "\n",
      "\tTesting Data:\n",
      "\t\tAccuracy:  0.75\n"
     ]
    }
   ],
   "source": [
    "model(LogisticRegression(),1)\n",
    "model(SVC(),2)\n",
    "model(DecisionTreeClassifier(),3)\n",
    "model(RandomForestClassifier(),4)\n",
    "model(KNeighborsClassifier(),5)\n",
    "model(GaussianNB(),6)\n",
    "model(MultinomialNB(),7)"
   ]
  },
  {
   "cell_type": "markdown",
   "id": "1ac3194d",
   "metadata": {},
   "source": [
    "# Model Building (HashingVectorizer)"
   ]
  },
  {
   "cell_type": "code",
   "execution_count": 31,
   "id": "94e5378b",
   "metadata": {},
   "outputs": [],
   "source": [
    "ha_X_train, ha_X_test, y_train, y_test = train_test_split(ha_X,y,test_size=0.3,random_state=42)"
   ]
  },
  {
   "cell_type": "code",
   "execution_count": 32,
   "id": "1e196d80",
   "metadata": {},
   "outputs": [],
   "source": [
    "def model(model,i):\n",
    "    print(i,'.',model,':\\n')\n",
    "    model = model.fit(ha_X_train,y_train)\n",
    "\n",
    "    #train data\n",
    "    y_pred = model.predict(ha_X_train)\n",
    "    print('\\tTraining Data:')\n",
    "    print('\\t\\tAccuracy: ', round(accuracy_score(y_train,y_pred),2),end=\"\\n\")\n",
    "#     print('\\tf1_score: ', round(f1_score(y_train,y_pred, average='micro'),2),end=\"\")\n",
    "#     print('\\tprecision_score: ', round(precision_score(y_train,y_pred, average='micro'),2),end=\"\")\n",
    "#     print('\\trecall_score: ', round(recall_score(y_train,y_pred, average='micro'),2),end=\"\")\n",
    "\n",
    "    #test data\n",
    "    y_pred = model.predict(ha_X_test)\n",
    "    print('\\n\\tTesting Data:')\n",
    "    print('\\t\\tAccuracy: ', round(accuracy_score(y_test,y_pred),2),end=\"\\n\")\n",
    "#     print('\\tf1_score: ', round(f1_score(y_test,y_pred, average='micro'),2),end=\"\")\n",
    "#     print('\\tprecision_score: ', round(precision_score(y_test,y_pred, average='micro'),2),end=\"\")\n",
    "#     print('\\trecall_score: ', round(recall_score(y_test,y_pred, average='micro'),2),'\\n')"
   ]
  },
  {
   "cell_type": "code",
   "execution_count": 33,
   "id": "fbb2e952",
   "metadata": {},
   "outputs": [
    {
     "name": "stdout",
     "output_type": "stream",
     "text": [
      "1 . LogisticRegression() :\n",
      "\n",
      "\tTraining Data:\n",
      "\t\tAccuracy:  0.82\n",
      "\n",
      "\tTesting Data:\n",
      "\t\tAccuracy:  0.76\n",
      "2 . SVC() :\n",
      "\n",
      "\tTraining Data:\n",
      "\t\tAccuracy:  0.91\n",
      "\n",
      "\tTesting Data:\n",
      "\t\tAccuracy:  0.75\n",
      "3 . DecisionTreeClassifier() :\n",
      "\n",
      "\tTraining Data:\n",
      "\t\tAccuracy:  0.99\n",
      "\n",
      "\tTesting Data:\n",
      "\t\tAccuracy:  0.65\n",
      "4 . RandomForestClassifier() :\n",
      "\n",
      "\tTraining Data:\n",
      "\t\tAccuracy:  0.99\n",
      "\n",
      "\tTesting Data:\n",
      "\t\tAccuracy:  0.73\n",
      "5 . KNeighborsClassifier() :\n",
      "\n",
      "\tTraining Data:\n",
      "\t\tAccuracy:  0.83\n",
      "\n",
      "\tTesting Data:\n",
      "\t\tAccuracy:  0.65\n",
      "6 . GaussianNB() :\n",
      "\n",
      "\tTraining Data:\n",
      "\t\tAccuracy:  0.35\n",
      "\n",
      "\tTesting Data:\n",
      "\t\tAccuracy:  0.29\n"
     ]
    }
   ],
   "source": [
    "model(LogisticRegression(),1)\n",
    "model(SVC(),2)\n",
    "model(DecisionTreeClassifier(),3)\n",
    "model(RandomForestClassifier(),4)\n",
    "model(KNeighborsClassifier(),5)\n",
    "model(GaussianNB(),6)\n",
    "# model(MultinomialNB(),7)"
   ]
  },
  {
   "cell_type": "code",
   "execution_count": null,
   "id": "c212d290",
   "metadata": {},
   "outputs": [],
   "source": []
  }
 ],
 "metadata": {
  "kernelspec": {
   "display_name": "Python 3 (ipykernel)",
   "language": "python",
   "name": "python3"
  },
  "language_info": {
   "codemirror_mode": {
    "name": "ipython",
    "version": 3
   },
   "file_extension": ".py",
   "mimetype": "text/x-python",
   "name": "python",
   "nbconvert_exporter": "python",
   "pygments_lexer": "ipython3",
   "version": "3.9.12"
  }
 },
 "nbformat": 4,
 "nbformat_minor": 5
}
