{
 "cells": [
  {
   "cell_type": "code",
   "execution_count": 1,
   "id": "aedbc204",
   "metadata": {},
   "outputs": [
    {
     "data": {
      "text/plain": [
       "['4', '7']"
      ]
     },
     "execution_count": 1,
     "metadata": {},
     "output_type": "execute_result"
    }
   ],
   "source": [
    "height = '4.7'\n",
    "height = height.split('.')\n",
    "height"
   ]
  },
  {
   "cell_type": "code",
   "execution_count": 2,
   "id": "8cd45651",
   "metadata": {},
   "outputs": [
    {
     "data": {
      "text/plain": [
       "1.2192"
      ]
     },
     "execution_count": 2,
     "metadata": {},
     "output_type": "execute_result"
    }
   ],
   "source": [
    "feet_to_metre = (int) (height[0])*0.3048\n",
    "feet_to_metre"
   ]
  },
  {
   "cell_type": "code",
   "execution_count": 3,
   "id": "398a29fb",
   "metadata": {},
   "outputs": [
    {
     "data": {
      "text/plain": [
       "0.17779999999999999"
      ]
     },
     "execution_count": 3,
     "metadata": {},
     "output_type": "execute_result"
    }
   ],
   "source": [
    "inchie_to_metre = (int) (height[1])*0.0254\n",
    "inchie_to_metre"
   ]
  },
  {
   "cell_type": "code",
   "execution_count": 4,
   "id": "267e74d4",
   "metadata": {},
   "outputs": [
    {
     "data": {
      "text/plain": [
       "1.397"
      ]
     },
     "execution_count": 4,
     "metadata": {},
     "output_type": "execute_result"
    }
   ],
   "source": [
    "metre = feet_to_metre+inchie_to_metre\n",
    "metre"
   ]
  },
  {
   "cell_type": "code",
   "execution_count": 5,
   "id": "21ae79b5",
   "metadata": {},
   "outputs": [],
   "source": [
    "#convert height\n",
    "def convert_to_metre(height):\n",
    "    height = height.split('.')\n",
    "    feet_to_metre = (int) (height[0])*0.3048\n",
    "    inchie_to_metre = (int) (height[1])*0.0254\n",
    "    return feet_to_metre+inchie_to_metre"
   ]
  },
  {
   "cell_type": "code",
   "execution_count": 6,
   "id": "14413ff0",
   "metadata": {},
   "outputs": [
    {
     "data": {
      "text/plain": [
       "1.397"
      ]
     },
     "execution_count": 6,
     "metadata": {},
     "output_type": "execute_result"
    }
   ],
   "source": [
    "convert_to_metre(str(4.7))"
   ]
  },
  {
   "cell_type": "code",
   "execution_count": 7,
   "id": "5572a91f",
   "metadata": {},
   "outputs": [
    {
     "data": {
      "text/plain": [
       "float"
      ]
     },
     "execution_count": 7,
     "metadata": {},
     "output_type": "execute_result"
    }
   ],
   "source": [
    "type(convert_to_metre(str(4.7)))"
   ]
  },
  {
   "cell_type": "code",
   "execution_count": 9,
   "id": "db9f77e2",
   "metadata": {},
   "outputs": [
    {
     "name": "stdout",
     "output_type": "stream",
     "text": [
      "4.7\n",
      "55\n"
     ]
    }
   ],
   "source": [
    "#calculate BMI\n",
    "height = input()\n",
    "weight = input()\n",
    "bmi = round((float (weight) / convert_to_metre(height)**2),2)\n",
    "if bmi <= 18.5:\n",
    "    print(\"underweight.\")\n",
    "elif 18.5 < bmi <= 24.9:\n",
    "    print(\"normal.\")\n",
    "elif 25 < bmi <= 29.29:\n",
    "    print(\"overweight.\")\n",
    "else:\n",
    "    print(\"obese.\")"
   ]
  },
  {
   "cell_type": "code",
   "execution_count": 25,
   "id": "914c1bd1",
   "metadata": {},
   "outputs": [
    {
     "data": {
      "text/html": [
       "<div>\n",
       "<style scoped>\n",
       "    .dataframe tbody tr th:only-of-type {\n",
       "        vertical-align: middle;\n",
       "    }\n",
       "\n",
       "    .dataframe tbody tr th {\n",
       "        vertical-align: top;\n",
       "    }\n",
       "\n",
       "    .dataframe thead th {\n",
       "        text-align: right;\n",
       "    }\n",
       "</style>\n",
       "<table border=\"1\" class=\"dataframe\">\n",
       "  <thead>\n",
       "    <tr style=\"text-align: right;\">\n",
       "      <th></th>\n",
       "      <th>Unnamed: 0</th>\n",
       "      <th>location</th>\n",
       "      <th>size</th>\n",
       "      <th>total_sqft</th>\n",
       "      <th>bath</th>\n",
       "      <th>balcony</th>\n",
       "      <th>price</th>\n",
       "    </tr>\n",
       "  </thead>\n",
       "  <tbody>\n",
       "    <tr>\n",
       "      <th>0</th>\n",
       "      <td>0</td>\n",
       "      <td>Electronic City Phase II</td>\n",
       "      <td>2 BHK</td>\n",
       "      <td>1056</td>\n",
       "      <td>2</td>\n",
       "      <td>1</td>\n",
       "      <td>39.07</td>\n",
       "    </tr>\n",
       "    <tr>\n",
       "      <th>1</th>\n",
       "      <td>1</td>\n",
       "      <td>Chikka Tirupathi</td>\n",
       "      <td>4 Bedroom</td>\n",
       "      <td>2600</td>\n",
       "      <td>5</td>\n",
       "      <td>3</td>\n",
       "      <td>120.00</td>\n",
       "    </tr>\n",
       "    <tr>\n",
       "      <th>2</th>\n",
       "      <td>0</td>\n",
       "      <td>NagaLand</td>\n",
       "      <td>2 BHK</td>\n",
       "      <td>1055</td>\n",
       "      <td>2</td>\n",
       "      <td>1</td>\n",
       "      <td>29.70</td>\n",
       "    </tr>\n",
       "  </tbody>\n",
       "</table>\n",
       "</div>"
      ],
      "text/plain": [
       "   Unnamed: 0                  location       size  total_sqft  bath  balcony  \\\n",
       "0           0  Electronic City Phase II      2 BHK        1056     2        1   \n",
       "1           1          Chikka Tirupathi  4 Bedroom        2600     5        3   \n",
       "2           0                  NagaLand      2 BHK        1055     2        1   \n",
       "\n",
       "    price  \n",
       "0   39.07  \n",
       "1  120.00  \n",
       "2   29.70  "
      ]
     },
     "execution_count": 25,
     "metadata": {},
     "output_type": "execute_result"
    }
   ],
   "source": [
    "import pandas as pd\n",
    "df = pd.read_csv('aaa.csv')\n",
    "df"
   ]
  },
  {
   "cell_type": "code",
   "execution_count": 18,
   "id": "b303725f",
   "metadata": {},
   "outputs": [
    {
     "data": {
      "text/plain": [
       "{'location': ['NagaLand'],\n",
       " 'size': ['2 BHK'],\n",
       " 'total_sqft': [1055],\n",
       " 'bath': [2],\n",
       " 'balcony': [1],\n",
       " 'price': [29.7]}"
      ]
     },
     "execution_count": 18,
     "metadata": {},
     "output_type": "execute_result"
    }
   ],
   "source": [
    "add = {\n",
    "    'location': ['NagaLand'],\n",
    "    'size': ['2 BHK'],\n",
    "    'total_sqft': [1055],\n",
    "    'bath': [2],\n",
    "    'balcony': [1],\n",
    "    'price': [29.7]\n",
    "}\n",
    "add"
   ]
  },
  {
   "cell_type": "code",
   "execution_count": 20,
   "id": "f5c8baf2",
   "metadata": {},
   "outputs": [
    {
     "data": {
      "text/html": [
       "<div>\n",
       "<style scoped>\n",
       "    .dataframe tbody tr th:only-of-type {\n",
       "        vertical-align: middle;\n",
       "    }\n",
       "\n",
       "    .dataframe tbody tr th {\n",
       "        vertical-align: top;\n",
       "    }\n",
       "\n",
       "    .dataframe thead th {\n",
       "        text-align: right;\n",
       "    }\n",
       "</style>\n",
       "<table border=\"1\" class=\"dataframe\">\n",
       "  <thead>\n",
       "    <tr style=\"text-align: right;\">\n",
       "      <th></th>\n",
       "      <th>location</th>\n",
       "      <th>size</th>\n",
       "      <th>total_sqft</th>\n",
       "      <th>bath</th>\n",
       "      <th>balcony</th>\n",
       "      <th>price</th>\n",
       "    </tr>\n",
       "  </thead>\n",
       "  <tbody>\n",
       "    <tr>\n",
       "      <th>0</th>\n",
       "      <td>NagaLand</td>\n",
       "      <td>2 BHK</td>\n",
       "      <td>1055</td>\n",
       "      <td>2</td>\n",
       "      <td>1</td>\n",
       "      <td>29.7</td>\n",
       "    </tr>\n",
       "  </tbody>\n",
       "</table>\n",
       "</div>"
      ],
      "text/plain": [
       "   location   size  total_sqft  bath  balcony  price\n",
       "0  NagaLand  2 BHK        1055     2        1   29.7"
      ]
     },
     "execution_count": 20,
     "metadata": {},
     "output_type": "execute_result"
    }
   ],
   "source": [
    "df2 = pd.DataFrame(add)\n",
    "df2"
   ]
  },
  {
   "cell_type": "code",
   "execution_count": 38,
   "id": "ef33ae1a",
   "metadata": {},
   "outputs": [
    {
     "data": {
      "text/html": [
       "<div>\n",
       "<style scoped>\n",
       "    .dataframe tbody tr th:only-of-type {\n",
       "        vertical-align: middle;\n",
       "    }\n",
       "\n",
       "    .dataframe tbody tr th {\n",
       "        vertical-align: top;\n",
       "    }\n",
       "\n",
       "    .dataframe thead th {\n",
       "        text-align: right;\n",
       "    }\n",
       "</style>\n",
       "<table border=\"1\" class=\"dataframe\">\n",
       "  <thead>\n",
       "    <tr style=\"text-align: right;\">\n",
       "      <th></th>\n",
       "      <th>location</th>\n",
       "      <th>size</th>\n",
       "      <th>total_sqft</th>\n",
       "      <th>bath</th>\n",
       "      <th>balcony</th>\n",
       "      <th>price</th>\n",
       "    </tr>\n",
       "  </thead>\n",
       "  <tbody>\n",
       "    <tr>\n",
       "      <th>0</th>\n",
       "      <td>Electronic City Phase II</td>\n",
       "      <td>2 BHK</td>\n",
       "      <td>1056</td>\n",
       "      <td>2</td>\n",
       "      <td>1</td>\n",
       "      <td>39.07</td>\n",
       "    </tr>\n",
       "    <tr>\n",
       "      <th>1</th>\n",
       "      <td>Chikka Tirupathi</td>\n",
       "      <td>4 Bedroom</td>\n",
       "      <td>2600</td>\n",
       "      <td>5</td>\n",
       "      <td>3</td>\n",
       "      <td>120.00</td>\n",
       "    </tr>\n",
       "    <tr>\n",
       "      <th>2</th>\n",
       "      <td>NagaLand</td>\n",
       "      <td>2 BHK</td>\n",
       "      <td>1055</td>\n",
       "      <td>2</td>\n",
       "      <td>1</td>\n",
       "      <td>29.70</td>\n",
       "    </tr>\n",
       "    <tr>\n",
       "      <th>0</th>\n",
       "      <td>NagaLand</td>\n",
       "      <td>2 BHK</td>\n",
       "      <td>1055</td>\n",
       "      <td>2</td>\n",
       "      <td>1</td>\n",
       "      <td>29.70</td>\n",
       "    </tr>\n",
       "  </tbody>\n",
       "</table>\n",
       "</div>"
      ],
      "text/plain": [
       "                   location       size  total_sqft  bath  balcony   price\n",
       "0  Electronic City Phase II      2 BHK        1056     2        1   39.07\n",
       "1          Chikka Tirupathi  4 Bedroom        2600     5        3  120.00\n",
       "2                  NagaLand      2 BHK        1055     2        1   29.70\n",
       "0                  NagaLand      2 BHK        1055     2        1   29.70"
      ]
     },
     "execution_count": 38,
     "metadata": {},
     "output_type": "execute_result"
    }
   ],
   "source": [
    "df3 = pd.concat([df,df2], axis=0, join='inner')\n",
    "df3"
   ]
  },
  {
   "cell_type": "code",
   "execution_count": 24,
   "id": "be718380",
   "metadata": {},
   "outputs": [],
   "source": [
    "df3.to_csv('aaa.csv')"
   ]
  },
  {
   "cell_type": "code",
   "execution_count": 26,
   "id": "7956c74e",
   "metadata": {},
   "outputs": [],
   "source": [
    "data = {\n",
    "    'Age':[],\n",
    "    'Height':[],\n",
    "    'Weight':[],\n",
    "    'BMI':[],\n",
    "    'Blood Group ( is Negative?)':[],\n",
    "    'Delivery Type':[],\n",
    "    'Systolic Blood Pressure':[],\n",
    "    'Diastolic Blood Pressure':[],\n",
    "    'Edema':[],\n",
    "    'Anemia':[],\n",
    "    'Jaundice':[],\n",
    "    'Diabetes':[],\n",
    "    'Risk':[]    \n",
    "}"
   ]
  },
  {
   "cell_type": "code",
   "execution_count": 27,
   "id": "f7121bee",
   "metadata": {},
   "outputs": [
    {
     "data": {
      "text/plain": [
       "{'Age': [],\n",
       " 'Height': [],\n",
       " 'Weight': [],\n",
       " 'BMI': [],\n",
       " 'Blood Group ( is Negative?)': [],\n",
       " 'Delivery Type': [],\n",
       " 'Systolic Blood Pressure': [],\n",
       " 'Diastolic Blood Pressure': [],\n",
       " 'Edema': [],\n",
       " 'Anemia': [],\n",
       " 'Jaundice': [],\n",
       " 'Diabetes': [],\n",
       " 'Risk': []}"
      ]
     },
     "execution_count": 27,
     "metadata": {},
     "output_type": "execute_result"
    }
   ],
   "source": [
    "data"
   ]
  },
  {
   "cell_type": "code",
   "execution_count": 40,
   "id": "1dd5a87d",
   "metadata": {},
   "outputs": [],
   "source": [
    "#pd.DataFrame(data).to_csv('Pregnancy Risk.csv')"
   ]
  },
  {
   "cell_type": "code",
   "execution_count": null,
   "id": "a785ed77",
   "metadata": {},
   "outputs": [],
   "source": []
  }
 ],
 "metadata": {
  "kernelspec": {
   "display_name": "Python 3 (ipykernel)",
   "language": "python",
   "name": "python3"
  },
  "language_info": {
   "codemirror_mode": {
    "name": "ipython",
    "version": 3
   },
   "file_extension": ".py",
   "mimetype": "text/x-python",
   "name": "python",
   "nbconvert_exporter": "python",
   "pygments_lexer": "ipython3",
   "version": "3.9.12"
  }
 },
 "nbformat": 4,
 "nbformat_minor": 5
}
