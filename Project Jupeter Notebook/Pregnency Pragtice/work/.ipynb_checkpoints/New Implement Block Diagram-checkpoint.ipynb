{
 "cells": [
  {
   "cell_type": "code",
   "execution_count": 1,
   "id": "cd55e0ae",
   "metadata": {},
   "outputs": [],
   "source": [
    "import warnings\n",
    "warnings.filterwarnings(\"ignore\")\n",
    "import pandas as pd\n",
    "import numpy as np\n",
    "\n",
    "from sklearn.svm import SVC\n",
    "from sklearn.tree import DecisionTreeClassifier\n",
    "from sklearn.neighbors import KNeighborsClassifier\n",
    "from sklearn.ensemble import RandomForestClassifier\n",
    "from sklearn.linear_model import LogisticRegression\n",
    "from sklearn.naive_bayes import GaussianNB,MultinomialNB\n",
    "\n",
    "from sklearn.metrics import accuracy_score, f1_score, precision_score, recall_score\n",
    "from sklearn.metrics import ConfusionMatrixDisplay,confusion_matrix,roc_auc_score,roc_curve,auc\n",
    "import matplotlib.pyplot as plt\n",
    "%matplotlib inline\n",
    "import seaborn as sns"
   ]
  },
  {
   "cell_type": "code",
   "execution_count": 2,
   "id": "ed942b87",
   "metadata": {},
   "outputs": [
    {
     "data": {
      "text/html": [
       "<div>\n",
       "<style scoped>\n",
       "    .dataframe tbody tr th:only-of-type {\n",
       "        vertical-align: middle;\n",
       "    }\n",
       "\n",
       "    .dataframe tbody tr th {\n",
       "        vertical-align: top;\n",
       "    }\n",
       "\n",
       "    .dataframe thead th {\n",
       "        text-align: right;\n",
       "    }\n",
       "</style>\n",
       "<table border=\"1\" class=\"dataframe\">\n",
       "  <thead>\n",
       "    <tr style=\"text-align: right;\">\n",
       "      <th></th>\n",
       "      <th>Age</th>\n",
       "      <th>Height</th>\n",
       "      <th>Weight</th>\n",
       "      <th>BMI</th>\n",
       "      <th>Blood Group ( is Negative?)</th>\n",
       "      <th>Delivery Type</th>\n",
       "      <th>Systolic Blood Pressure</th>\n",
       "      <th>Diastolic Blood Pressure</th>\n",
       "      <th>Edema</th>\n",
       "      <th>Anemia</th>\n",
       "      <th>Jaundice</th>\n",
       "      <th>Diabetes</th>\n",
       "      <th>Risk</th>\n",
       "      <th>Para</th>\n",
       "      <th>Gravida</th>\n",
       "    </tr>\n",
       "  </thead>\n",
       "  <tbody>\n",
       "    <tr>\n",
       "      <th>2962</th>\n",
       "      <td>20</td>\n",
       "      <td>1.524</td>\n",
       "      <td>59.3</td>\n",
       "      <td>25.53</td>\n",
       "      <td>No</td>\n",
       "      <td>No_delivary</td>\n",
       "      <td>120</td>\n",
       "      <td>70</td>\n",
       "      <td>Normal</td>\n",
       "      <td>Normal</td>\n",
       "      <td>No</td>\n",
       "      <td>No</td>\n",
       "      <td>No</td>\n",
       "      <td>0</td>\n",
       "      <td>1</td>\n",
       "    </tr>\n",
       "    <tr>\n",
       "      <th>2675</th>\n",
       "      <td>26</td>\n",
       "      <td>1.447</td>\n",
       "      <td>57.0</td>\n",
       "      <td>27.19</td>\n",
       "      <td>No</td>\n",
       "      <td>No_delivary</td>\n",
       "      <td>110</td>\n",
       "      <td>70</td>\n",
       "      <td>Modarate</td>\n",
       "      <td>Normal</td>\n",
       "      <td>No</td>\n",
       "      <td>No</td>\n",
       "      <td>Yes</td>\n",
       "      <td>0</td>\n",
       "      <td>1</td>\n",
       "    </tr>\n",
       "    <tr>\n",
       "      <th>618</th>\n",
       "      <td>26</td>\n",
       "      <td>1.549</td>\n",
       "      <td>57.0</td>\n",
       "      <td>23.76</td>\n",
       "      <td>No</td>\n",
       "      <td>No_delivary</td>\n",
       "      <td>100</td>\n",
       "      <td>70</td>\n",
       "      <td>Normal</td>\n",
       "      <td>Normal</td>\n",
       "      <td>No</td>\n",
       "      <td>No</td>\n",
       "      <td>No</td>\n",
       "      <td>0</td>\n",
       "      <td>1</td>\n",
       "    </tr>\n",
       "    <tr>\n",
       "      <th>2918</th>\n",
       "      <td>36</td>\n",
       "      <td>1.600</td>\n",
       "      <td>68.6</td>\n",
       "      <td>26.79</td>\n",
       "      <td>No</td>\n",
       "      <td>C-section</td>\n",
       "      <td>120</td>\n",
       "      <td>70</td>\n",
       "      <td>Normal</td>\n",
       "      <td>Normal</td>\n",
       "      <td>No</td>\n",
       "      <td>No</td>\n",
       "      <td>Yes</td>\n",
       "      <td>1</td>\n",
       "      <td>2</td>\n",
       "    </tr>\n",
       "    <tr>\n",
       "      <th>1639</th>\n",
       "      <td>33</td>\n",
       "      <td>1.575</td>\n",
       "      <td>62.5</td>\n",
       "      <td>25.20</td>\n",
       "      <td>No</td>\n",
       "      <td>Normal</td>\n",
       "      <td>110</td>\n",
       "      <td>80</td>\n",
       "      <td>Normal</td>\n",
       "      <td>Normal</td>\n",
       "      <td>No</td>\n",
       "      <td>No</td>\n",
       "      <td>No</td>\n",
       "      <td>1</td>\n",
       "      <td>2</td>\n",
       "    </tr>\n",
       "  </tbody>\n",
       "</table>\n",
       "</div>"
      ],
      "text/plain": [
       "      Age  Height  Weight    BMI Blood Group ( is Negative?) Delivery Type  \\\n",
       "2962   20   1.524    59.3  25.53                          No   No_delivary   \n",
       "2675   26   1.447    57.0  27.19                          No   No_delivary   \n",
       "618    26   1.549    57.0  23.76                          No   No_delivary   \n",
       "2918   36   1.600    68.6  26.79                          No     C-section   \n",
       "1639   33   1.575    62.5  25.20                          No        Normal   \n",
       "\n",
       "      Systolic Blood Pressure  Diastolic Blood Pressure     Edema  Anemia  \\\n",
       "2962                      120                        70    Normal  Normal   \n",
       "2675                      110                        70  Modarate  Normal   \n",
       "618                       100                        70    Normal  Normal   \n",
       "2918                      120                        70    Normal  Normal   \n",
       "1639                      110                        80    Normal  Normal   \n",
       "\n",
       "     Jaundice Diabetes Risk  Para  Gravida  \n",
       "2962       No       No   No     0        1  \n",
       "2675       No       No  Yes     0        1  \n",
       "618        No       No   No     0        1  \n",
       "2918       No       No  Yes     1        2  \n",
       "1639       No       No   No     1        2  "
      ]
     },
     "execution_count": 2,
     "metadata": {},
     "output_type": "execute_result"
    }
   ],
   "source": [
    "df1 = pd.read_csv('final.csv')\n",
    "result = []\n",
    "df1.sample(5)"
   ]
  },
  {
   "cell_type": "code",
   "execution_count": 3,
   "id": "31e4f4f1",
   "metadata": {},
   "outputs": [
    {
     "data": {
      "text/plain": [
       "(3578, 15)"
      ]
     },
     "execution_count": 3,
     "metadata": {},
     "output_type": "execute_result"
    }
   ],
   "source": [
    "df1.shape"
   ]
  },
  {
   "cell_type": "code",
   "execution_count": 4,
   "id": "d0424629",
   "metadata": {},
   "outputs": [],
   "source": [
    "df1['Blood Group ( is Negative?)'] = df1['Blood Group ( is Negative?)'].map({'Yes':1,'No':0})\n",
    "df1['Jaundice'] = df1['Jaundice'].map({'Yes':1,'No':0})\n",
    "df1['Diabetes'] = df1['Diabetes'].map({'Yes':1,'No':0})\n",
    "df1['Risk'] = df1['Risk'].map({'Yes':1,'No':0})\n",
    "df1['Delivery Type'] = df1['Delivery Type'].map({'No_delivary':0,'Normal':1,'C-section':2})\n",
    "df1['Edema'] = df1['Edema'].map({'Normal':0,'High':1,'Modarate':2})\n",
    "df1['Anemia'] = df1['Anemia'].map({'Normal':0,'Low':1,'Very-Low':2})"
   ]
  },
  {
   "cell_type": "code",
   "execution_count": 5,
   "id": "fcd955b3",
   "metadata": {},
   "outputs": [
    {
     "data": {
      "text/html": [
       "<div>\n",
       "<style scoped>\n",
       "    .dataframe tbody tr th:only-of-type {\n",
       "        vertical-align: middle;\n",
       "    }\n",
       "\n",
       "    .dataframe tbody tr th {\n",
       "        vertical-align: top;\n",
       "    }\n",
       "\n",
       "    .dataframe thead th {\n",
       "        text-align: right;\n",
       "    }\n",
       "</style>\n",
       "<table border=\"1\" class=\"dataframe\">\n",
       "  <thead>\n",
       "    <tr style=\"text-align: right;\">\n",
       "      <th></th>\n",
       "      <th>Age</th>\n",
       "      <th>Height</th>\n",
       "      <th>Weight</th>\n",
       "      <th>BMI</th>\n",
       "      <th>Blood Group ( is Negative?)</th>\n",
       "      <th>Delivery Type</th>\n",
       "      <th>Systolic Blood Pressure</th>\n",
       "      <th>Diastolic Blood Pressure</th>\n",
       "      <th>Edema</th>\n",
       "      <th>Anemia</th>\n",
       "      <th>Jaundice</th>\n",
       "      <th>Diabetes</th>\n",
       "      <th>Risk</th>\n",
       "      <th>Para</th>\n",
       "      <th>Gravida</th>\n",
       "    </tr>\n",
       "  </thead>\n",
       "  <tbody>\n",
       "    <tr>\n",
       "      <th>415</th>\n",
       "      <td>22</td>\n",
       "      <td>1.422</td>\n",
       "      <td>89.7</td>\n",
       "      <td>44.34</td>\n",
       "      <td>0</td>\n",
       "      <td>1</td>\n",
       "      <td>120</td>\n",
       "      <td>80</td>\n",
       "      <td>0</td>\n",
       "      <td>1</td>\n",
       "      <td>0</td>\n",
       "      <td>0</td>\n",
       "      <td>1</td>\n",
       "      <td>1</td>\n",
       "      <td>2</td>\n",
       "    </tr>\n",
       "    <tr>\n",
       "      <th>1130</th>\n",
       "      <td>26</td>\n",
       "      <td>1.524</td>\n",
       "      <td>61.0</td>\n",
       "      <td>26.26</td>\n",
       "      <td>0</td>\n",
       "      <td>1</td>\n",
       "      <td>130</td>\n",
       "      <td>90</td>\n",
       "      <td>0</td>\n",
       "      <td>0</td>\n",
       "      <td>0</td>\n",
       "      <td>0</td>\n",
       "      <td>0</td>\n",
       "      <td>1</td>\n",
       "      <td>2</td>\n",
       "    </tr>\n",
       "    <tr>\n",
       "      <th>3029</th>\n",
       "      <td>33</td>\n",
       "      <td>1.524</td>\n",
       "      <td>63.3</td>\n",
       "      <td>27.25</td>\n",
       "      <td>0</td>\n",
       "      <td>1</td>\n",
       "      <td>110</td>\n",
       "      <td>70</td>\n",
       "      <td>0</td>\n",
       "      <td>1</td>\n",
       "      <td>0</td>\n",
       "      <td>0</td>\n",
       "      <td>0</td>\n",
       "      <td>1</td>\n",
       "      <td>3</td>\n",
       "    </tr>\n",
       "    <tr>\n",
       "      <th>3033</th>\n",
       "      <td>34</td>\n",
       "      <td>1.473</td>\n",
       "      <td>63.4</td>\n",
       "      <td>29.21</td>\n",
       "      <td>0</td>\n",
       "      <td>0</td>\n",
       "      <td>120</td>\n",
       "      <td>80</td>\n",
       "      <td>2</td>\n",
       "      <td>0</td>\n",
       "      <td>0</td>\n",
       "      <td>0</td>\n",
       "      <td>0</td>\n",
       "      <td>0</td>\n",
       "      <td>1</td>\n",
       "    </tr>\n",
       "    <tr>\n",
       "      <th>1046</th>\n",
       "      <td>18</td>\n",
       "      <td>1.549</td>\n",
       "      <td>48.0</td>\n",
       "      <td>19.99</td>\n",
       "      <td>0</td>\n",
       "      <td>0</td>\n",
       "      <td>90</td>\n",
       "      <td>60</td>\n",
       "      <td>0</td>\n",
       "      <td>0</td>\n",
       "      <td>0</td>\n",
       "      <td>0</td>\n",
       "      <td>1</td>\n",
       "      <td>0</td>\n",
       "      <td>1</td>\n",
       "    </tr>\n",
       "  </tbody>\n",
       "</table>\n",
       "</div>"
      ],
      "text/plain": [
       "      Age  Height  Weight    BMI  Blood Group ( is Negative?)  Delivery Type  \\\n",
       "415    22   1.422    89.7  44.34                            0              1   \n",
       "1130   26   1.524    61.0  26.26                            0              1   \n",
       "3029   33   1.524    63.3  27.25                            0              1   \n",
       "3033   34   1.473    63.4  29.21                            0              0   \n",
       "1046   18   1.549    48.0  19.99                            0              0   \n",
       "\n",
       "      Systolic Blood Pressure  Diastolic Blood Pressure  Edema  Anemia  \\\n",
       "415                       120                        80      0       1   \n",
       "1130                      130                        90      0       0   \n",
       "3029                      110                        70      0       1   \n",
       "3033                      120                        80      2       0   \n",
       "1046                       90                        60      0       0   \n",
       "\n",
       "      Jaundice  Diabetes  Risk  Para  Gravida  \n",
       "415          0         0     1     1        2  \n",
       "1130         0         0     0     1        2  \n",
       "3029         0         0     0     1        3  \n",
       "3033         0         0     0     0        1  \n",
       "1046         0         0     1     0        1  "
      ]
     },
     "execution_count": 5,
     "metadata": {},
     "output_type": "execute_result"
    }
   ],
   "source": [
    "df1.sample(5)"
   ]
  },
  {
   "cell_type": "code",
   "execution_count": 6,
   "id": "41d7019c",
   "metadata": {},
   "outputs": [],
   "source": [
    "length = int(len(df1)*0.70)\n",
    "\n",
    "train = df1[:length]\n",
    "test = df1[length:]\n",
    "\n",
    "x_train = train.drop(['Risk','Height','Weight'],axis=1)\n",
    "y_train = train.Risk\n",
    "\n",
    "x_test = test.drop(['Risk','Height','Weight'],axis=1)\n",
    "y_test = test.Risk"
   ]
  },
  {
   "cell_type": "code",
   "execution_count": 7,
   "id": "dda17e09",
   "metadata": {},
   "outputs": [
    {
     "data": {
      "text/plain": [
       "(2504, 15)"
      ]
     },
     "execution_count": 7,
     "metadata": {},
     "output_type": "execute_result"
    }
   ],
   "source": [
    "train.shape"
   ]
  },
  {
   "cell_type": "code",
   "execution_count": 8,
   "id": "57714ce4",
   "metadata": {},
   "outputs": [
    {
     "data": {
      "text/plain": [
       "(1074, 15)"
      ]
     },
     "execution_count": 8,
     "metadata": {},
     "output_type": "execute_result"
    }
   ],
   "source": [
    "test.shape"
   ]
  },
  {
   "cell_type": "code",
   "execution_count": 9,
   "id": "84da0e7a",
   "metadata": {},
   "outputs": [],
   "source": [
    "# def model(model,i):\n",
    "#     print(i,'.',model,':\\n')\n",
    "#     model = model.fit(x_train,y_train)\n",
    "\n",
    "#     #train data\n",
    "#     y_pred = model.predict(x_train)\n",
    "#     print('\\tTraining Data:')\n",
    "#     print('\\t\\t> Accuracy: ', round(accuracy_score(y_train,y_pred),2)*100,'%',end=\" \")\n",
    "#     print('\\t> f1_score: ', round(f1_score(y_train,y_pred),2)*100,'%',end=\" \")\n",
    "#     print('\\t> precision_score: ', round(precision_score(y_train,y_pred),2)*100,'%',end=\" \")\n",
    "#     print('\\t> recall_score: ', round(recall_score(y_train,y_pred),2)*100,'%',end=\" \")\n",
    "\n",
    "#     #test data\n",
    "#     y_pred = model.predict(x_test)\n",
    "#     print('\\n\\tTesting Data:')\n",
    "#     print('\\t\\t> Accuracy: ', round(accuracy_score(y_test,y_pred),2)*100,'%',end=\" \")\n",
    "#     print('\\t> f1_score: ', round(f1_score(y_test,y_pred),2)*100,'%',end=\" \")\n",
    "#     print('\\t> precision_score: ', round(precision_score(y_test,y_pred),2)*100,'%',end=\" \")\n",
    "#     print('\\t> recall_score: ', round(recall_score(y_test,y_pred),2)*100,'%','\\n')"
   ]
  },
  {
   "cell_type": "code",
   "execution_count": 10,
   "id": "b3ab0153",
   "metadata": {},
   "outputs": [],
   "source": [
    "# model(LogisticRegression(),1)\n",
    "# model(SVC(),2)\n",
    "# model(DecisionTreeClassifier(),3)\n",
    "# model(RandomForestClassifier(),4)\n",
    "# model(KNeighborsClassifier(),5)\n",
    "# model(GaussianNB(),6)\n",
    "# model(MultinomialNB(),7)"
   ]
  },
  {
   "cell_type": "code",
   "execution_count": 11,
   "id": "1d140fc3",
   "metadata": {},
   "outputs": [],
   "source": [
    "# #best model\n",
    "# model = RandomForestClassifier().fit(x_train,y_train)\n",
    "# #train data\n",
    "# y_train_pred = model.predict(x_train)\n",
    "# print('Training Data:')\n",
    "# print('\\t> Accuracy:', round(accuracy_score(y_train,y_train_pred),2)*100,'%')\n",
    "# print('\\t> f1_score:', round(f1_score(y_train,y_train_pred),2)*100,'%')\n",
    "# print('\\t> precision_score:', round(precision_score(y_train,y_train_pred),2)*100,'%')\n",
    "# print('\\t> recall_score:', round(recall_score(y_train,y_train_pred),2)*100,'%')\n",
    "\n",
    "# #test data\n",
    "# y_test_pred = model.predict(x_test)\n",
    "# print('\\nTesting Data:')\n",
    "# print('\\t> Accuracy:', round(accuracy_score(y_test,y_test_pred),2)*100,'%')\n",
    "# print('\\t> f1_score:', round(f1_score(y_test,y_test_pred),2)*100,'%')\n",
    "# print('\\t> precision_score:', round(precision_score(y_test,y_test_pred),2)*100,'%')\n",
    "# print('\\t> recall_score:', round(recall_score(y_test,y_test_pred),2)*100,'%')"
   ]
  },
  {
   "cell_type": "code",
   "execution_count": 12,
   "id": "4ff38c12",
   "metadata": {},
   "outputs": [],
   "source": [
    "# tn, fp, fn, tp = confusion_matrix(y_test,y_test_pred).ravel()\n",
    "# print(tn,fp,fn,tp)"
   ]
  },
  {
   "cell_type": "code",
   "execution_count": 13,
   "id": "6494bbcf",
   "metadata": {},
   "outputs": [],
   "source": [
    "# accuracy = (tp+tn)/(len(test))\n",
    "# accuracy"
   ]
  },
  {
   "cell_type": "code",
   "execution_count": 14,
   "id": "db0568b0",
   "metadata": {},
   "outputs": [],
   "source": [
    "# f_score = (2*tp)/((2*tp)+fp+fn)\n",
    "# f_score"
   ]
  },
  {
   "cell_type": "code",
   "execution_count": 15,
   "id": "bf4055b6",
   "metadata": {},
   "outputs": [],
   "source": [
    "# precision = tp/(tp+fp)\n",
    "# precision"
   ]
  },
  {
   "cell_type": "code",
   "execution_count": 16,
   "id": "cf8b0085",
   "metadata": {},
   "outputs": [],
   "source": [
    "# recall = tp/(tp+fn)\n",
    "# recall"
   ]
  },
  {
   "cell_type": "code",
   "execution_count": 17,
   "id": "2c41909b",
   "metadata": {},
   "outputs": [],
   "source": [
    "# print(y_test.value_counts())\n",
    "# # plt.figure(figsize=(10,8))\n",
    "# ConfusionMatrixDisplay.from_predictions(y_test,y_test_pred,display_labels=['No Risk','Risk'])\n",
    "# # print(cm)\n",
    "# # sns.heatmap(cm,annot=True)\n",
    "# # plt.savefig('Random Forest Confusion Matries.jpg')\n",
    "# plt.show()"
   ]
  },
  {
   "cell_type": "code",
   "execution_count": 18,
   "id": "b3dea136",
   "metadata": {
    "scrolled": false
   },
   "outputs": [
    {
     "name": "stdout",
     "output_type": "stream",
     "text": [
      "precision :  0.88\n",
      "recall :  0.8\n",
      "f1_masure :  0.84\n",
      "se :  0.8\n",
      "sp :  0.96\n",
      "cc :  0.92\n",
      "acc :  0.92\n",
      "auc :  0.88\n"
     ]
    },
    {
     "data": {
      "image/png": "[encoded data removed]",
      "text/plain": [
       "<Figure size 432x288 with 2 Axes>"
      ]
     },
     "metadata": {
      "needs_background": "light"
     },
     "output_type": "display_data"
    },
    {
     "name": "stdout",
     "output_type": "stream",
     "text": [
      "No as No   (TN):  767\n",
      "No as Yes  (FP):  31\n",
      "yes as No  (FN):  54\n",
      "Yes as Yes (TP):  222\n"
     ]
    }
   ],
   "source": [
    "clf = RandomForestClassifier().fit(x_train,y_train)\n",
    "RF_pred = clf.predict(x_test)\n",
    "tn, fp, fn, tp = confusion_matrix(y_test,RF_pred).ravel()\n",
    "\n",
    "precision = round((tp/(tp+fp)),2)\n",
    "recall = round((tp/(tp+fn)),2)\n",
    "f1_masure = round((2*precision*recall)/(precision+recall),2)\n",
    "se = round((tp/(tp+fn)),2)\n",
    "sp = round((tn/(tn+fp)),2)\n",
    "cc = round(((tp+tn)/(tp+tn+fp+fn)),2)\n",
    "acc = round(((tp+tn)/len(x_test)),2)\n",
    "auc_ = round((roc_auc_score(y_test,RF_pred)),2)\n",
    "\n",
    "print(\"precision : \",precision)\n",
    "print(\"recall : \",recall)\n",
    "print(\"f1_masure : \",f1_masure)\n",
    "print(\"se : \",se)\n",
    "print(\"sp : \",sp)\n",
    "print(\"cc : \",cc)\n",
    "print(\"acc : \",acc)\n",
    "print(\"auc : \",auc_)\n",
    "\n",
    "result.append({\n",
    "    'Classifier': 'Random Forest',\n",
    "    'Precision': precision,\n",
    "    'Recall':recall,\n",
    "    'F1-Measure':f1_masure,\n",
    "    'Se':se,\n",
    "    'Sp':sp,\n",
    "    'CC':cc,\n",
    "    'Accuracy':acc,\n",
    "    'AUC':auc_\n",
    "})\n",
    "\n",
    "ConfusionMatrixDisplay.from_predictions(y_test,RF_pred,display_labels=['No','Yes'])\n",
    "plt.title('Random Forest Confusion Matrix')\n",
    "# plt.savefig('./con_mat/RF_confusion_matrix.jpg')\n",
    "plt.show()\n",
    "print('No as No   (TN): ',tn)\n",
    "print('No as Yes  (FP): ',fp)\n",
    "print('yes as No  (FN): ',fn)\n",
    "print('Yes as Yes (TP): ',tp)"
   ]
  },
  {
   "cell_type": "code",
   "execution_count": 19,
   "id": "60fe810d",
   "metadata": {},
   "outputs": [
    {
     "name": "stdout",
     "output_type": "stream",
     "text": [
      "precision :  0.74\n",
      "recall :  0.85\n",
      "f1_masure :  0.79\n",
      "se :  0.85\n",
      "sp :  0.9\n",
      "cc :  0.88\n",
      "acc :  0.88\n",
      "auc :  0.87\n"
     ]
    },
    {
     "data": {
      "image/png": "[encoded data removed]",
      "text/plain": [
       "<Figure size 432x288 with 2 Axes>"
      ]
     },
     "metadata": {
      "needs_background": "light"
     },
     "output_type": "display_data"
    },
    {
     "name": "stdout",
     "output_type": "stream",
     "text": [
      "No as No   (TN):  716\n",
      "No as Yes  (FP):  82\n",
      "yes as No  (FN):  42\n",
      "Yes as Yes (TP):  234\n"
     ]
    }
   ],
   "source": [
    "clf = DecisionTreeClassifier().fit(x_train,y_train)\n",
    "DT_pred = clf.predict(x_test)\n",
    "tn, fp, fn, tp = confusion_matrix(y_test,DT_pred).ravel()\n",
    "\n",
    "precision = round((tp/(tp+fp)),2)\n",
    "recall = round((tp/(tp+fn)),2)\n",
    "f1_masure = round((2*precision*recall)/(precision+recall),2)\n",
    "se = round((tp/(tp+fn)),2)\n",
    "sp = round((tn/(tn+fp)),2)\n",
    "cc = round(((tp+tn)/(tp+tn+fp+fn)),2)\n",
    "acc = round(((tp+tn)/len(x_test)),2)\n",
    "auc_ = round((roc_auc_score(y_test,DT_pred)),2)\n",
    "\n",
    "print(\"precision : \",precision)\n",
    "print(\"recall : \",recall)\n",
    "print(\"f1_masure : \",f1_masure)\n",
    "print(\"se : \",se)\n",
    "print(\"sp : \",sp)\n",
    "print(\"cc : \",cc)\n",
    "print(\"acc : \",acc)\n",
    "print(\"auc : \",auc_)\n",
    "\n",
    "\n",
    "result.append({\n",
    "    'Classifier': 'Decision Tree',\n",
    "    'Precision': precision,\n",
    "    'Recall':recall,\n",
    "    'F1-Measure':f1_masure,\n",
    "    'Se':se,\n",
    "    'Sp':sp,\n",
    "    'CC':cc,\n",
    "    'Accuracy':acc,\n",
    "    'AUC':auc_\n",
    "})\n",
    "\n",
    "ConfusionMatrixDisplay.from_predictions(y_test,DT_pred,display_labels=['No','Yes'])\n",
    "plt.title('Decision Tree Confusion Matrix')\n",
    "# plt.savefig('./con_mat/DT_confusion_matrix.jpg')\n",
    "plt.show()\n",
    "print('No as No   (TN): ',tn)\n",
    "print('No as Yes  (FP): ',fp)\n",
    "print('yes as No  (FN): ',fn)\n",
    "print('Yes as Yes (TP): ',tp)"
   ]
  },
  {
   "cell_type": "code",
   "execution_count": 20,
   "id": "34578c96",
   "metadata": {},
   "outputs": [
    {
     "name": "stdout",
     "output_type": "stream",
     "text": [
      "precision :  0.88\n",
      "recall :  0.32\n",
      "f1_masure :  0.47\n",
      "se :  0.32\n",
      "sp :  0.98\n",
      "cc :  0.81\n",
      "acc :  0.81\n",
      "auc :  0.65\n"
     ]
    },
    {
     "data": {
      "image/png": "[encoded data removed]",
      "text/plain": [
       "<Figure size 432x288 with 2 Axes>"
      ]
     },
     "metadata": {
      "needs_background": "light"
     },
     "output_type": "display_data"
    },
    {
     "name": "stdout",
     "output_type": "stream",
     "text": [
      "No as No   (TN):  786\n",
      "No as Yes  (FP):  12\n",
      "yes as No  (FN):  187\n",
      "Yes as Yes (TP):  89\n"
     ]
    }
   ],
   "source": [
    "clf = LogisticRegression().fit(x_train,y_train)\n",
    "Los_pred = clf.predict(x_test)\n",
    "tn, fp, fn, tp = confusion_matrix(y_test,Los_pred).ravel()\n",
    "\n",
    "precision = round((tp/(tp+fp)),2)\n",
    "recall = round((tp/(tp+fn)),2)\n",
    "f1_masure = round((2*precision*recall)/(precision+recall),2)\n",
    "se = round((tp/(tp+fn)),2)\n",
    "sp = round((tn/(tn+fp)),2)\n",
    "cc = round(((tp+tn)/(tp+tn+fp+fn)),2)\n",
    "acc = round(((tp+tn)/len(x_test)),2)\n",
    "auc_ = round((roc_auc_score(y_test,Los_pred)),2)\n",
    "\n",
    "print(\"precision : \",precision)\n",
    "print(\"recall : \",recall)\n",
    "print(\"f1_masure : \",f1_masure)\n",
    "print(\"se : \",se)\n",
    "print(\"sp : \",sp)\n",
    "print(\"cc : \",cc)\n",
    "print(\"acc : \",acc)\n",
    "print(\"auc : \",auc_)\n",
    "\n",
    "\n",
    "result.append({\n",
    "    'Classifier': 'Logistic Regression',\n",
    "    'Precision': precision,\n",
    "    'Recall':recall,\n",
    "    'F1-Measure':f1_masure,\n",
    "    'Se':se,\n",
    "    'Sp':sp,\n",
    "    'CC':cc,\n",
    "    'Accuracy':acc,\n",
    "    'AUC':auc_\n",
    "})\n",
    "\n",
    "ConfusionMatrixDisplay.from_predictions(y_test,Los_pred,display_labels=['No','Yes'])\n",
    "plt.title('Logistic Regression Confusion Matrix')\n",
    "# plt.savefig('./con_mat/Los_confusion_matrix.jpg')\n",
    "plt.show()\n",
    "print('No as No   (TN): ',tn)\n",
    "print('No as Yes  (FP): ',fp)\n",
    "print('yes as No  (FN): ',fn)\n",
    "print('Yes as Yes (TP): ',tp)"
   ]
  },
  {
   "cell_type": "code",
   "execution_count": 21,
   "id": "a2eb9aee",
   "metadata": {},
   "outputs": [
    {
     "name": "stdout",
     "output_type": "stream",
     "text": [
      "precision :  0.76\n",
      "recall :  0.5\n",
      "f1_masure :  0.6\n",
      "se :  0.5\n",
      "sp :  0.95\n",
      "cc :  0.83\n",
      "acc :  0.83\n",
      "auc :  0.72\n"
     ]
    },
    {
     "data": {
      "image/png": "[encoded data removed]",
      "text/plain": [
       "<Figure size 432x288 with 2 Axes>"
      ]
     },
     "metadata": {
      "needs_background": "light"
     },
     "output_type": "display_data"
    },
    {
     "name": "stdout",
     "output_type": "stream",
     "text": [
      "No as No   (TN):  755\n",
      "No as Yes  (FP):  43\n",
      "yes as No  (FN):  137\n",
      "Yes as Yes (TP):  139\n"
     ]
    }
   ],
   "source": [
    "clf = KNeighborsClassifier().fit(x_train,y_train)\n",
    "Knn_pred = clf.predict(x_test)\n",
    "tn, fp, fn, tp = confusion_matrix(y_test,Knn_pred).ravel()\n",
    "\n",
    "precision = round((tp/(tp+fp)),2)\n",
    "recall = round((tp/(tp+fn)),2)\n",
    "f1_masure = round((2*precision*recall)/(precision+recall),2)\n",
    "se = round((tp/(tp+fn)),2)\n",
    "sp = round((tn/(tn+fp)),2)\n",
    "cc = round(((tp+tn)/(tp+tn+fp+fn)),2)\n",
    "acc = round(((tp+tn)/len(x_test)),2)\n",
    "auc_ = round((roc_auc_score(y_test,Knn_pred)),2)\n",
    "\n",
    "print(\"precision : \",precision)\n",
    "print(\"recall : \",recall)\n",
    "print(\"f1_masure : \",f1_masure)\n",
    "print(\"se : \",se)\n",
    "print(\"sp : \",sp)\n",
    "print(\"cc : \",cc)\n",
    "print(\"acc : \",acc)\n",
    "print(\"auc : \",auc_)\n",
    "\n",
    "\n",
    "result.append({\n",
    "    'Classifier': 'K-Nearest Neighbors',\n",
    "    'Precision': precision,\n",
    "    'Recall':recall,\n",
    "    'F1-Measure':f1_masure,\n",
    "    'Se':se,\n",
    "    'Sp':sp,\n",
    "    'CC':cc,\n",
    "    'Accuracy':acc,\n",
    "    'AUC':auc_\n",
    "})\n",
    "\n",
    "ConfusionMatrixDisplay.from_predictions(y_test,Knn_pred,display_labels=['No','Yes'])\n",
    "plt.title('K-Nearest Neighbors Confusion Matrix')\n",
    "plt.savefig('./con_mat/knn_confusion_matrix.jpg')\n",
    "plt.show()\n",
    "print('No as No   (TN): ',tn)\n",
    "print('No as Yes  (FP): ',fp)\n",
    "print('yes as No  (FN): ',fn)\n",
    "print('Yes as Yes (TP): ',tp)"
   ]
  },
  {
   "cell_type": "code",
   "execution_count": 22,
   "id": "25bd6159",
   "metadata": {},
   "outputs": [
    {
     "name": "stdout",
     "output_type": "stream",
     "text": [
      "precision :  0.96\n",
      "recall :  0.08\n",
      "f1_masure :  0.15\n",
      "se :  0.08\n",
      "sp :  1.0\n",
      "cc :  0.76\n",
      "acc :  0.76\n",
      "auc :  0.54\n"
     ]
    },
    {
     "data": {
      "image/png": "[encoded data removed]",
      "text/plain": [
       "<Figure size 432x288 with 2 Axes>"
      ]
     },
     "metadata": {
      "needs_background": "light"
     },
     "output_type": "display_data"
    },
    {
     "name": "stdout",
     "output_type": "stream",
     "text": [
      "No as No   (TN):  797\n",
      "No as Yes  (FP):  1\n",
      "yes as No  (FN):  254\n",
      "Yes as Yes (TP):  22\n"
     ]
    }
   ],
   "source": [
    "clf = SVC().fit(x_train,y_train)\n",
    "svm_pred = clf.predict(x_test)\n",
    "tn, fp, fn, tp = confusion_matrix(y_test,svm_pred).ravel()\n",
    "\n",
    "precision = round((tp/(tp+fp)),2)\n",
    "recall = round((tp/(tp+fn)),2)\n",
    "f1_masure = round((2*precision*recall)/(precision+recall),2)\n",
    "se = round((tp/(tp+fn)),2)\n",
    "sp = round((tn/(tn+fp)),2)\n",
    "cc = round(((tp+tn)/(tp+tn+fp+fn)),2)\n",
    "acc = round(((tp+tn)/len(x_test)),2)\n",
    "auc_ = round((roc_auc_score(y_test,svm_pred)),2)\n",
    "\n",
    "print(\"precision : \",precision)\n",
    "print(\"recall : \",recall)\n",
    "print(\"f1_masure : \",f1_masure)\n",
    "print(\"se : \",se)\n",
    "print(\"sp : \",sp)\n",
    "print(\"cc : \",cc)\n",
    "print(\"acc : \",acc)\n",
    "print(\"auc : \",auc_)\n",
    "\n",
    "\n",
    "result.append({\n",
    "    'Classifier': 'SVM',\n",
    "    'Precision': precision,\n",
    "    'Recall':recall,\n",
    "    'F1-Measure':f1_masure,\n",
    "    'Se':se,\n",
    "    'Sp':sp,\n",
    "    'CC':cc,\n",
    "    'Accuracy':acc,\n",
    "    'AUC':auc_\n",
    "})\n",
    "\n",
    "ConfusionMatrixDisplay.from_predictions(y_test,svm_pred,display_labels=['No','Yes'])\n",
    "plt.title('SVM Confusion Matrix')\n",
    "# plt.savefig('./con_mat/SVM_confusion_matrix.jpg')\n",
    "plt.show()\n",
    "print('No as No   (TN): ',tn)\n",
    "print('No as Yes  (FP): ',fp)\n",
    "print('yes as No  (FN): ',fn)\n",
    "print('Yes as Yes (TP): ',tp)"
   ]
  },
  {
   "cell_type": "code",
   "execution_count": 23,
   "id": "ca624a8f",
   "metadata": {},
   "outputs": [
    {
     "name": "stdout",
     "output_type": "stream",
     "text": [
      "precision :  0.96\n",
      "recall :  0.17\n",
      "f1_masure :  0.29\n",
      "se :  0.17\n",
      "sp :  1.0\n",
      "cc :  0.78\n",
      "acc :  0.78\n",
      "auc :  0.58\n"
     ]
    },
    {
     "data": {
      "image/png": "[encoded data removed]",
      "text/plain": [
       "<Figure size 432x288 with 2 Axes>"
      ]
     },
     "metadata": {
      "needs_background": "light"
     },
     "output_type": "display_data"
    },
    {
     "name": "stdout",
     "output_type": "stream",
     "text": [
      "No as No   (TN):  796\n",
      "No as Yes  (FP):  2\n",
      "yes as No  (FN):  229\n",
      "Yes as Yes (TP):  47\n"
     ]
    }
   ],
   "source": [
    "clf = GaussianNB().fit(x_train,y_train)\n",
    "gnb_pred = clf.predict(x_test)\n",
    "tn, fp, fn, tp = confusion_matrix(y_test,gnb_pred).ravel()\n",
    "\n",
    "precision = round((tp/(tp+fp)),2)\n",
    "recall = round((tp/(tp+fn)),2)\n",
    "f1_masure = round((2*precision*recall)/(precision+recall),2)\n",
    "se = round((tp/(tp+fn)),2)\n",
    "sp = round((tn/(tn+fp)),2)\n",
    "cc = round(((tp+tn)/(tp+tn+fp+fn)),2)\n",
    "acc = round(((tp+tn)/len(x_test)),2)\n",
    "auc_ = round((roc_auc_score(y_test,gnb_pred)),2)\n",
    "\n",
    "print(\"precision : \",precision)\n",
    "print(\"recall : \",recall)\n",
    "print(\"f1_masure : \",f1_masure)\n",
    "print(\"se : \",se)\n",
    "print(\"sp : \",sp)\n",
    "print(\"cc : \",cc)\n",
    "print(\"acc : \",acc)\n",
    "print(\"auc : \",auc_)\n",
    "\n",
    "\n",
    "result.append({\n",
    "    'Classifier': 'Naive Baye\\'s',\n",
    "    'Precision': precision,\n",
    "    'Recall':recall,\n",
    "    'F1-Measure':f1_masure,\n",
    "    'Se':se,\n",
    "    'Sp':sp,\n",
    "    'CC':cc,\n",
    "    'Accuracy':acc,\n",
    "    'AUC':auc_\n",
    "})\n",
    "\n",
    "ConfusionMatrixDisplay.from_predictions(y_test,gnb_pred,display_labels=['No','Yes'])\n",
    "plt.title('Naive Baye\\'s Confusion Matrix')\n",
    "# plt.savefig('./con_mat/gnb_confusion_matrix.jpg')\n",
    "plt.show()\n",
    "print('No as No   (TN): ',tn)\n",
    "print('No as Yes  (FP): ',fp)\n",
    "print('yes as No  (FN): ',fn)\n",
    "print('Yes as Yes (TP): ',tp)"
   ]
  },
  {
   "cell_type": "code",
   "execution_count": null,
   "id": "ffd6b3f9",
   "metadata": {},
   "outputs": [],
   "source": []
  },
  {
   "cell_type": "code",
   "execution_count": 24,
   "id": "654f75c4",
   "metadata": {},
   "outputs": [],
   "source": [
    "pd.DataFrame(result).reset_index(drop=True).to_csv('./con_mat/result evaluation.csv')"
   ]
  },
  {
   "cell_type": "code",
   "execution_count": 25,
   "id": "8d9c3248",
   "metadata": {},
   "outputs": [
    {
     "data": {
      "image/png": "[encoded data removed]",
      "text/plain": [
       "<Figure size 1000x700 with 1 Axes>"
      ]
     },
     "metadata": {
      "needs_background": "light"
     },
     "output_type": "display_data"
    }
   ],
   "source": [
    "plt.figure(figsize=(10, 7), dpi=100)\n",
    "\n",
    "def plot_roc(name,pred,i):\n",
    "    fpr, tpr, threshold = roc_curve(y_test, pred)\n",
    "    auc_ = auc(fpr,tpr)\n",
    "    \n",
    "    if i%2==0:\n",
    "        plt.plot(fpr,tpr, linestyle='--',marker='.', label = name+' (auc = %0.2f)' % auc_)\n",
    "    else:\n",
    "        plt.plot(fpr,tpr, linestyle='-',marker='.', label = name+' (auc = %0.2f)' % auc_)\n",
    "    i = i+1\n",
    "\n",
    "plot_roc('Random Forest',RF_pred,1)\n",
    "plot_roc('SVM',svm_pred,5)\n",
    "plot_roc('K-Nearest Neighbors',Knn_pred,4)\n",
    "plot_roc('Decision Tree',DT_pred,2)\n",
    "plot_roc('Naive Baye\\'s',gnb_pred,6)\n",
    "plot_roc('Logistic Regression',Los_pred,3)\n",
    "\n",
    "plt.title('“Receiver Operating Characteristic(ROC) Curve” of test data')\n",
    "plt.xlabel('False Positive Rate (FPR) -->')\n",
    "plt.ylabel('True Positive Rate (TPR) -->')\n",
    "\n",
    "plt.legend()\n",
    "\n",
    "# plt.savefig('./con_mat/all testing result ROC-AUC.jpg')\n",
    "plt.show()"
   ]
  }
 ],
 "metadata": {
  "kernelspec": {
   "display_name": "Python 3 (ipykernel)",
   "language": "python",
   "name": "python3"
  },
  "language_info": {
   "codemirror_mode": {
    "name": "ipython",
    "version": 3
   },
   "file_extension": ".py",
   "mimetype": "text/x-python",
   "name": "python",
   "nbconvert_exporter": "python",
   "pygments_lexer": "ipython3",
   "version": "3.9.12"
  }
 },
 "nbformat": 4,
 "nbformat_minor": 5
}
