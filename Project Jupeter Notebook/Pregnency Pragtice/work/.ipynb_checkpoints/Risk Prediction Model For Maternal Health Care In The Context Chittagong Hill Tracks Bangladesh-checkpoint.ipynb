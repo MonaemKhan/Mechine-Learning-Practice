{
 "cells": [
  {
   "cell_type": "code",
   "execution_count": 1,
   "id": "376bbc14",
   "metadata": {},
   "outputs": [],
   "source": [
    "import warnings\n",
    "warnings.filterwarnings(\"ignore\")\n",
    "import pandas as pd\n",
    "import numpy as np\n",
    "from sklearn.metrics import make_scorer,accuracy_score\n",
    "from sklearn.model_selection import cross_val_score\n",
    "from sklearn.metrics import classification_report"
   ]
  },
  {
   "cell_type": "code",
   "execution_count": 2,
   "id": "cf79a835",
   "metadata": {},
   "outputs": [
    {
     "data": {
      "text/plain": [
       "(3578, 15)"
      ]
     },
     "execution_count": 2,
     "metadata": {},
     "output_type": "execute_result"
    }
   ],
   "source": [
    "df = pd.read_csv('final.csv')\n",
    "df.shape"
   ]
  },
  {
   "cell_type": "code",
   "execution_count": 3,
   "id": "44724fbb",
   "metadata": {},
   "outputs": [
    {
     "data": {
      "text/html": [
       "<div>\n",
       "<style scoped>\n",
       "    .dataframe tbody tr th:only-of-type {\n",
       "        vertical-align: middle;\n",
       "    }\n",
       "\n",
       "    .dataframe tbody tr th {\n",
       "        vertical-align: top;\n",
       "    }\n",
       "\n",
       "    .dataframe thead th {\n",
       "        text-align: right;\n",
       "    }\n",
       "</style>\n",
       "<table border=\"1\" class=\"dataframe\">\n",
       "  <thead>\n",
       "    <tr style=\"text-align: right;\">\n",
       "      <th></th>\n",
       "      <th>Age</th>\n",
       "      <th>Height</th>\n",
       "      <th>Weight</th>\n",
       "      <th>BMI</th>\n",
       "      <th>Blood Group ( is Negative?)</th>\n",
       "      <th>Delivery Type</th>\n",
       "      <th>Systolic Blood Pressure</th>\n",
       "      <th>Diastolic Blood Pressure</th>\n",
       "      <th>Edema</th>\n",
       "      <th>Anemia</th>\n",
       "      <th>Jaundice</th>\n",
       "      <th>Diabetes</th>\n",
       "      <th>Risk</th>\n",
       "      <th>Para</th>\n",
       "      <th>Gravida</th>\n",
       "    </tr>\n",
       "  </thead>\n",
       "  <tbody>\n",
       "    <tr>\n",
       "      <th>1690</th>\n",
       "      <td>17</td>\n",
       "      <td>1.524</td>\n",
       "      <td>58.3</td>\n",
       "      <td>25.10</td>\n",
       "      <td>No</td>\n",
       "      <td>No_delivary</td>\n",
       "      <td>120</td>\n",
       "      <td>70</td>\n",
       "      <td>Normal</td>\n",
       "      <td>Low</td>\n",
       "      <td>No</td>\n",
       "      <td>No</td>\n",
       "      <td>Yes</td>\n",
       "      <td>0</td>\n",
       "      <td>1</td>\n",
       "    </tr>\n",
       "    <tr>\n",
       "      <th>3045</th>\n",
       "      <td>19</td>\n",
       "      <td>1.524</td>\n",
       "      <td>48.0</td>\n",
       "      <td>20.67</td>\n",
       "      <td>No</td>\n",
       "      <td>No_delivary</td>\n",
       "      <td>100</td>\n",
       "      <td>80</td>\n",
       "      <td>Normal</td>\n",
       "      <td>Low</td>\n",
       "      <td>No</td>\n",
       "      <td>No</td>\n",
       "      <td>No</td>\n",
       "      <td>0</td>\n",
       "      <td>1</td>\n",
       "    </tr>\n",
       "    <tr>\n",
       "      <th>1733</th>\n",
       "      <td>24</td>\n",
       "      <td>1.600</td>\n",
       "      <td>64.0</td>\n",
       "      <td>24.99</td>\n",
       "      <td>No</td>\n",
       "      <td>No_delivary</td>\n",
       "      <td>100</td>\n",
       "      <td>60</td>\n",
       "      <td>Normal</td>\n",
       "      <td>Normal</td>\n",
       "      <td>No</td>\n",
       "      <td>No</td>\n",
       "      <td>Yes</td>\n",
       "      <td>0</td>\n",
       "      <td>1</td>\n",
       "    </tr>\n",
       "    <tr>\n",
       "      <th>1021</th>\n",
       "      <td>25</td>\n",
       "      <td>1.549</td>\n",
       "      <td>66.0</td>\n",
       "      <td>27.51</td>\n",
       "      <td>No</td>\n",
       "      <td>Normal</td>\n",
       "      <td>110</td>\n",
       "      <td>80</td>\n",
       "      <td>Normal</td>\n",
       "      <td>Normal</td>\n",
       "      <td>No</td>\n",
       "      <td>No</td>\n",
       "      <td>No</td>\n",
       "      <td>1</td>\n",
       "      <td>3</td>\n",
       "    </tr>\n",
       "    <tr>\n",
       "      <th>1954</th>\n",
       "      <td>18</td>\n",
       "      <td>1.625</td>\n",
       "      <td>64.0</td>\n",
       "      <td>24.22</td>\n",
       "      <td>No</td>\n",
       "      <td>No_delivary</td>\n",
       "      <td>90</td>\n",
       "      <td>90</td>\n",
       "      <td>Normal</td>\n",
       "      <td>Normal</td>\n",
       "      <td>No</td>\n",
       "      <td>No</td>\n",
       "      <td>Yes</td>\n",
       "      <td>0</td>\n",
       "      <td>1</td>\n",
       "    </tr>\n",
       "  </tbody>\n",
       "</table>\n",
       "</div>"
      ],
      "text/plain": [
       "      Age  Height  Weight    BMI Blood Group ( is Negative?) Delivery Type  \\\n",
       "1690   17   1.524    58.3  25.10                          No   No_delivary   \n",
       "3045   19   1.524    48.0  20.67                          No   No_delivary   \n",
       "1733   24   1.600    64.0  24.99                          No   No_delivary   \n",
       "1021   25   1.549    66.0  27.51                          No        Normal   \n",
       "1954   18   1.625    64.0  24.22                          No   No_delivary   \n",
       "\n",
       "      Systolic Blood Pressure  Diastolic Blood Pressure   Edema  Anemia  \\\n",
       "1690                      120                        70  Normal     Low   \n",
       "3045                      100                        80  Normal     Low   \n",
       "1733                      100                        60  Normal  Normal   \n",
       "1021                      110                        80  Normal  Normal   \n",
       "1954                       90                        90  Normal  Normal   \n",
       "\n",
       "     Jaundice Diabetes Risk  Para  Gravida  \n",
       "1690       No       No  Yes     0        1  \n",
       "3045       No       No   No     0        1  \n",
       "1733       No       No  Yes     0        1  \n",
       "1021       No       No   No     1        3  \n",
       "1954       No       No  Yes     0        1  "
      ]
     },
     "execution_count": 3,
     "metadata": {},
     "output_type": "execute_result"
    }
   ],
   "source": [
    "df.sample(5)"
   ]
  },
  {
   "cell_type": "code",
   "execution_count": 8,
   "id": "bad464c4",
   "metadata": {},
   "outputs": [
    {
     "data": {
      "text/html": [
       "<div>\n",
       "<style scoped>\n",
       "    .dataframe tbody tr th:only-of-type {\n",
       "        vertical-align: middle;\n",
       "    }\n",
       "\n",
       "    .dataframe tbody tr th {\n",
       "        vertical-align: top;\n",
       "    }\n",
       "\n",
       "    .dataframe thead th {\n",
       "        text-align: right;\n",
       "    }\n",
       "</style>\n",
       "<table border=\"1\" class=\"dataframe\">\n",
       "  <thead>\n",
       "    <tr style=\"text-align: right;\">\n",
       "      <th></th>\n",
       "      <th>Age</th>\n",
       "      <th>Height</th>\n",
       "      <th>Weight</th>\n",
       "      <th>BMI</th>\n",
       "      <th>Blood Group ( is Negative?)</th>\n",
       "      <th>Delivery Type</th>\n",
       "      <th>Systolic Blood Pressure</th>\n",
       "      <th>Diastolic Blood Pressure</th>\n",
       "      <th>Edema</th>\n",
       "      <th>Anemia</th>\n",
       "      <th>Jaundice</th>\n",
       "      <th>Diabetes</th>\n",
       "      <th>Risk</th>\n",
       "      <th>Para</th>\n",
       "      <th>Gravida</th>\n",
       "    </tr>\n",
       "  </thead>\n",
       "  <tbody>\n",
       "    <tr>\n",
       "      <th>0</th>\n",
       "      <td>26</td>\n",
       "      <td>1.346</td>\n",
       "      <td>95.0</td>\n",
       "      <td>52.42</td>\n",
       "      <td>No</td>\n",
       "      <td>Normal</td>\n",
       "      <td>120</td>\n",
       "      <td>80</td>\n",
       "      <td>Normal</td>\n",
       "      <td>Normal</td>\n",
       "      <td>No</td>\n",
       "      <td>No</td>\n",
       "      <td>Yes</td>\n",
       "      <td>1</td>\n",
       "      <td>2</td>\n",
       "    </tr>\n",
       "    <tr>\n",
       "      <th>1</th>\n",
       "      <td>26</td>\n",
       "      <td>1.346</td>\n",
       "      <td>95.0</td>\n",
       "      <td>52.42</td>\n",
       "      <td>No</td>\n",
       "      <td>Normal</td>\n",
       "      <td>140</td>\n",
       "      <td>60</td>\n",
       "      <td>Normal</td>\n",
       "      <td>Normal</td>\n",
       "      <td>No</td>\n",
       "      <td>No</td>\n",
       "      <td>Yes</td>\n",
       "      <td>1</td>\n",
       "      <td>2</td>\n",
       "    </tr>\n",
       "    <tr>\n",
       "      <th>2</th>\n",
       "      <td>18</td>\n",
       "      <td>1.244</td>\n",
       "      <td>78.0</td>\n",
       "      <td>50.40</td>\n",
       "      <td>No</td>\n",
       "      <td>Normal</td>\n",
       "      <td>120</td>\n",
       "      <td>70</td>\n",
       "      <td>Normal</td>\n",
       "      <td>Normal</td>\n",
       "      <td>No</td>\n",
       "      <td>No</td>\n",
       "      <td>Yes</td>\n",
       "      <td>1</td>\n",
       "      <td>3</td>\n",
       "    </tr>\n",
       "    <tr>\n",
       "      <th>3</th>\n",
       "      <td>26</td>\n",
       "      <td>1.270</td>\n",
       "      <td>77.0</td>\n",
       "      <td>47.74</td>\n",
       "      <td>No</td>\n",
       "      <td>Normal</td>\n",
       "      <td>100</td>\n",
       "      <td>60</td>\n",
       "      <td>Normal</td>\n",
       "      <td>Normal</td>\n",
       "      <td>No</td>\n",
       "      <td>No</td>\n",
       "      <td>Yes</td>\n",
       "      <td>1</td>\n",
       "      <td>2</td>\n",
       "    </tr>\n",
       "    <tr>\n",
       "      <th>4</th>\n",
       "      <td>26</td>\n",
       "      <td>1.270</td>\n",
       "      <td>77.0</td>\n",
       "      <td>47.74</td>\n",
       "      <td>No</td>\n",
       "      <td>Normal</td>\n",
       "      <td>110</td>\n",
       "      <td>80</td>\n",
       "      <td>Normal</td>\n",
       "      <td>Normal</td>\n",
       "      <td>No</td>\n",
       "      <td>No</td>\n",
       "      <td>Yes</td>\n",
       "      <td>1</td>\n",
       "      <td>2</td>\n",
       "    </tr>\n",
       "  </tbody>\n",
       "</table>\n",
       "</div>"
      ],
      "text/plain": [
       "   Age  Height  Weight    BMI Blood Group ( is Negative?) Delivery Type  \\\n",
       "0   26   1.346    95.0  52.42                          No        Normal   \n",
       "1   26   1.346    95.0  52.42                          No        Normal   \n",
       "2   18   1.244    78.0  50.40                          No        Normal   \n",
       "3   26   1.270    77.0  47.74                          No        Normal   \n",
       "4   26   1.270    77.0  47.74                          No        Normal   \n",
       "\n",
       "   Systolic Blood Pressure  Diastolic Blood Pressure   Edema  Anemia Jaundice  \\\n",
       "0                      120                        80  Normal  Normal       No   \n",
       "1                      140                        60  Normal  Normal       No   \n",
       "2                      120                        70  Normal  Normal       No   \n",
       "3                      100                        60  Normal  Normal       No   \n",
       "4                      110                        80  Normal  Normal       No   \n",
       "\n",
       "  Diabetes Risk  Para  Gravida  \n",
       "0       No  Yes     1        2  \n",
       "1       No  Yes     1        2  \n",
       "2       No  Yes     1        3  \n",
       "3       No  Yes     1        2  \n",
       "4       No  Yes     1        2  "
      ]
     },
     "execution_count": 8,
     "metadata": {},
     "output_type": "execute_result"
    }
   ],
   "source": [
    "df1 = df.copy()\n",
    "df1.head(5)"
   ]
  },
  {
   "cell_type": "markdown",
   "id": "ed662988",
   "metadata": {},
   "source": [
    "# Data Analysis"
   ]
  },
  {
   "cell_type": "code",
   "execution_count": 5,
   "id": "1abe107c",
   "metadata": {},
   "outputs": [],
   "source": [
    "import seaborn as sns\n",
    "import matplotlib.pyplot as plt\n",
    "%matplotlib inline"
   ]
  },
  {
   "cell_type": "code",
   "execution_count": 6,
   "id": "b0e95954",
   "metadata": {},
   "outputs": [
    {
     "data": {
      "text/plain": [
       "['Age',\n",
       " 'Height',\n",
       " 'Blood Group ( is Negative?)',\n",
       " 'Delivery Type',\n",
       " 'Systolic Blood Pressure',\n",
       " 'Diastolic Blood Pressure',\n",
       " 'Edema',\n",
       " 'Anemia',\n",
       " 'Jaundice',\n",
       " 'Diabetes',\n",
       " 'Para',\n",
       " 'Gravida']"
      ]
     },
     "execution_count": 6,
     "metadata": {},
     "output_type": "execute_result"
    }
   ],
   "source": [
    "columns = ['Age', 'Height', 'Blood Group ( is Negative?)',\n",
    "       'Delivery Type', 'Systolic Blood Pressure', 'Diastolic Blood Pressure',\n",
    "       'Edema', 'Anemia', 'Jaundice', 'Diabetes','Para','Gravida']\n",
    "columns"
   ]
  },
  {
   "cell_type": "code",
   "execution_count": 7,
   "id": "ec5fa7a9",
   "metadata": {},
   "outputs": [
    {
     "ename": "NameError",
     "evalue": "name 'df1' is not defined",
     "output_type": "error",
     "traceback": [
      "\u001b[1;31m---------------------------------------------------------------------------\u001b[0m",
      "\u001b[1;31mNameError\u001b[0m                                 Traceback (most recent call last)",
      "Input \u001b[1;32mIn [7]\u001b[0m, in \u001b[0;36m<cell line: 1>\u001b[1;34m()\u001b[0m\n\u001b[1;32m----> 1\u001b[0m \u001b[43mdf1\u001b[49m[\u001b[38;5;124m'\u001b[39m\u001b[38;5;124mRisk\u001b[39m\u001b[38;5;124m'\u001b[39m]\u001b[38;5;241m.\u001b[39mvalue_counts()\n",
      "\u001b[1;31mNameError\u001b[0m: name 'df1' is not defined"
     ]
    }
   ],
   "source": [
    "df1['Risk'].value_counts()"
   ]
  },
  {
   "cell_type": "code",
   "execution_count": null,
   "id": "e56cf825",
   "metadata": {},
   "outputs": [],
   "source": [
    "plt.figure(figsize=(10,5))\n",
    "plt.pie(df1['Risk'].value_counts(), labels=['No Risk','Risk'], autopct = \"%0.2f\",explode = [0.1,0],colors = ['#c9ee82','#8293ee'])\n",
    "plt.legend(title = \"Pragnency Risk Prediction\")\n",
    "plt.show()"
   ]
  },
  {
   "cell_type": "code",
   "execution_count": null,
   "id": "c010263b",
   "metadata": {},
   "outputs": [],
   "source": [
    "# for x in columns:\n",
    "#     plt.figure(figsize=(15,5))\n",
    "#     plt.title(x)\n",
    "#     sns.countplot(data=df1, x=x, hue=\"Risk\")\n",
    "# plt.tight_layout()"
   ]
  },
  {
   "cell_type": "code",
   "execution_count": null,
   "id": "03427960",
   "metadata": {},
   "outputs": [],
   "source": [
    "plt.figure(figsize=(12,6))\n",
    "plt.title(\"Co-relation between independent variable\")\n",
    "sns.heatmap(df1.corr(),annot=True)\n",
    "plt.show()"
   ]
  },
  {
   "cell_type": "markdown",
   "id": "8654f576",
   "metadata": {},
   "source": [
    "# Data Preprocessing"
   ]
  },
  {
   "cell_type": "code",
   "execution_count": null,
   "id": "144600d8",
   "metadata": {},
   "outputs": [],
   "source": [
    "df1.dtypes"
   ]
  },
  {
   "cell_type": "code",
   "execution_count": null,
   "id": "274885d0",
   "metadata": {},
   "outputs": [],
   "source": [
    "df1.isna().sum()"
   ]
  },
  {
   "cell_type": "code",
   "execution_count": null,
   "id": "ef88dc2f",
   "metadata": {},
   "outputs": [],
   "source": [
    "# df1.loc[df1.Height.isna()]"
   ]
  },
  {
   "cell_type": "code",
   "execution_count": null,
   "id": "1beca459",
   "metadata": {},
   "outputs": [],
   "source": [
    "height_nan_index = df1['Height'].index[df1['Height'].apply(np.isnan)]\n",
    "height_nan_index"
   ]
  },
  {
   "cell_type": "code",
   "execution_count": null,
   "id": "b16c2ed8",
   "metadata": {},
   "outputs": [],
   "source": [
    "df1.Height = df1.Height.fillna(df1.Height.mean())"
   ]
  },
  {
   "cell_type": "code",
   "execution_count": null,
   "id": "6f2962f4",
   "metadata": {},
   "outputs": [],
   "source": [
    "df1.Height.isna().sum()"
   ]
  },
  {
   "cell_type": "code",
   "execution_count": null,
   "id": "5677a805",
   "metadata": {},
   "outputs": [],
   "source": [
    "for i in height_nan_index:\n",
    "    df1.BMI[i] = (round((float(df1.Weight[i]) / df1.Height[i] ** 2), 2))"
   ]
  },
  {
   "cell_type": "code",
   "execution_count": null,
   "id": "a166926a",
   "metadata": {},
   "outputs": [],
   "source": [
    "df1.isna().sum()"
   ]
  },
  {
   "cell_type": "code",
   "execution_count": null,
   "id": "b0633be0",
   "metadata": {},
   "outputs": [],
   "source": [
    "bmi_nan_index = df1['BMI'].index[df1['BMI'].apply(np.isnan)]\n",
    "bmi_nan_index"
   ]
  },
  {
   "cell_type": "code",
   "execution_count": null,
   "id": "895997dd",
   "metadata": {},
   "outputs": [],
   "source": [
    "for i in bmi_nan_index:\n",
    "    df1.BMI[i] = (round((float(df1.Weight[i]) / df1.Height[i] ** 2), 2))"
   ]
  },
  {
   "cell_type": "code",
   "execution_count": null,
   "id": "3f74dd17",
   "metadata": {},
   "outputs": [],
   "source": [
    "df1.isna().sum()"
   ]
  },
  {
   "cell_type": "code",
   "execution_count": null,
   "id": "81f96ca5",
   "metadata": {},
   "outputs": [],
   "source": [
    "df1['Systolic Blood Pressure'] = df1['Systolic Blood Pressure'].fillna(120)"
   ]
  },
  {
   "cell_type": "code",
   "execution_count": null,
   "id": "1ce55182",
   "metadata": {},
   "outputs": [],
   "source": [
    "df1['Diastolic Blood Pressure'] = df1['Diastolic Blood Pressure'].fillna(80)"
   ]
  },
  {
   "cell_type": "code",
   "execution_count": null,
   "id": "36980c32",
   "metadata": {},
   "outputs": [],
   "source": [
    "df1.isna().sum()"
   ]
  },
  {
   "cell_type": "markdown",
   "id": "e94ba8d3",
   "metadata": {},
   "source": [
    "# Model Building"
   ]
  },
  {
   "cell_type": "code",
   "execution_count": null,
   "id": "45b377b3",
   "metadata": {},
   "outputs": [],
   "source": [
    "from sklearn.preprocessing import LabelEncoder\n",
    "encoder = LabelEncoder()\n",
    "col = ['Blood Group ( is Negative?)','Jaundice','Diabetes','Risk']\n",
    "for x in col:\n",
    "    df1[x] = encoder.fit_transform(df[x])\n",
    "df1.head(5)"
   ]
  },
  {
   "cell_type": "code",
   "execution_count": null,
   "id": "9c0573be",
   "metadata": {},
   "outputs": [],
   "source": [
    "df2 = pd.get_dummies(df1,drop_first=True)\n",
    "df2.sample(2)"
   ]
  },
  {
   "cell_type": "code",
   "execution_count": null,
   "id": "9bc52e43",
   "metadata": {},
   "outputs": [],
   "source": [
    "X = df2.drop(['Risk','Height','Weight'],axis=1)"
   ]
  },
  {
   "cell_type": "code",
   "execution_count": null,
   "id": "22f0f6a7",
   "metadata": {},
   "outputs": [],
   "source": [
    "y = df2.Risk"
   ]
  },
  {
   "cell_type": "code",
   "execution_count": null,
   "id": "65dc097c",
   "metadata": {},
   "outputs": [],
   "source": [
    "from sklearn.svm import SVC\n",
    "\n",
    "originalclass = []\n",
    "predictedclass = []\n",
    "\n",
    "def classification_report_with_accuracy_score(y_true, y_pred):\n",
    "    originalclass.extend(y_true)\n",
    "    predictedclass.extend(y_pred)\n",
    "    return accuracy_score(y_true, y_pred) # return accuracy score\n",
    "\n",
    "\n",
    "nested_score = cross_val_score(SVC(),X,y, cv=10, scoring=make_scorer(classification_report_with_accuracy_score))\n",
    "\n",
    "print('cross_val_score : ',round(nested_score.mean(),2))\n",
    "print('\\nClassification Report : ')\n",
    "print(classification_report(originalclass, predictedclass))"
   ]
  },
  {
   "cell_type": "code",
   "execution_count": null,
   "id": "21bdbc7e",
   "metadata": {},
   "outputs": [],
   "source": [
    "from sklearn.ensemble import RandomForestClassifier\n",
    "\n",
    "originalclass = []\n",
    "predictedclass = []\n",
    "\n",
    "def classification_report_with_accuracy_score(y_true, y_pred):\n",
    "    originalclass.extend(y_true)\n",
    "    predictedclass.extend(y_pred)\n",
    "    return accuracy_score(y_true, y_pred) # return accuracy score\n",
    "\n",
    "\n",
    "nested_score = cross_val_score(RandomForestClassifier(),X,y, cv=10, scoring=make_scorer(classification_report_with_accuracy_score))\n",
    "\n",
    "print('cross_val_score : ',round(nested_score.mean(),2))\n",
    "print('\\nClassification Report : ')\n",
    "print(classification_report(originalclass, predictedclass))"
   ]
  },
  {
   "cell_type": "code",
   "execution_count": null,
   "id": "7006c29c",
   "metadata": {},
   "outputs": [],
   "source": [
    "from sklearn.tree import DecisionTreeClassifier\n",
    "\n",
    "originalclass = []\n",
    "predictedclass = []\n",
    "\n",
    "def classification_report_with_accuracy_score(y_true, y_pred):\n",
    "    originalclass.extend(y_true)\n",
    "    predictedclass.extend(y_pred)\n",
    "    return accuracy_score(y_true, y_pred) # return accuracy score\n",
    "\n",
    "\n",
    "nested_score = cross_val_score(DecisionTreeClassifier(),X,y, cv=10, scoring=make_scorer(classification_report_with_accuracy_score))\n",
    "\n",
    "print('cross_val_score : ',round(nested_score.mean(),2))\n",
    "print('\\nClassification Report : ')\n",
    "print(classification_report(originalclass, predictedclass))"
   ]
  },
  {
   "cell_type": "code",
   "execution_count": null,
   "id": "8def56c2",
   "metadata": {},
   "outputs": [],
   "source": [
    "from sklearn.linear_model import LogisticRegression\n",
    "\n",
    "originalclass = []\n",
    "predictedclass = []\n",
    "\n",
    "def classification_report_with_accuracy_score(y_true, y_pred):\n",
    "    originalclass.extend(y_true)\n",
    "    predictedclass.extend(y_pred)\n",
    "    return accuracy_score(y_true, y_pred) # return accuracy score\n",
    "\n",
    "\n",
    "nested_score = cross_val_score(LogisticRegression(),X,y, cv=10, scoring=make_scorer(classification_report_with_accuracy_score))\n",
    "\n",
    "print('cross_val_score : ',round(nested_score.mean(),2))\n",
    "print('\\nClassification Report : ')\n",
    "print(classification_report(originalclass, predictedclass))"
   ]
  },
  {
   "cell_type": "code",
   "execution_count": null,
   "id": "add69645",
   "metadata": {},
   "outputs": [],
   "source": [
    "from sklearn.neighbors import KNeighborsClassifier\n",
    "\n",
    "originalclass = []\n",
    "predictedclass = []\n",
    "\n",
    "def classification_report_with_accuracy_score(y_true, y_pred):\n",
    "    originalclass.extend(y_true)\n",
    "    predictedclass.extend(y_pred)\n",
    "    return accuracy_score(y_true, y_pred) # return accuracy score\n",
    "\n",
    "\n",
    "nested_score = cross_val_score(KNeighborsClassifier(),X,y, cv=10, scoring=make_scorer(classification_report_with_accuracy_score))\n",
    "\n",
    "print('cross_val_score : ',round(nested_score.mean(),2))\n",
    "print('\\nClassification Report : ')\n",
    "print(classification_report(originalclass, predictedclass))"
   ]
  },
  {
   "cell_type": "code",
   "execution_count": null,
   "id": "94eeb83b",
   "metadata": {
    "scrolled": true
   },
   "outputs": [],
   "source": [
    "from sklearn.naive_bayes import GaussianNB\n",
    "\n",
    "originalclass = []\n",
    "predictedclass = []\n",
    "\n",
    "def classification_report_with_accuracy_score(y_true, y_pred):\n",
    "    originalclass.extend(y_true)\n",
    "    predictedclass.extend(y_pred)\n",
    "    return accuracy_score(y_true, y_pred) # return accuracy score\n",
    "\n",
    "\n",
    "nested_score = cross_val_score(GaussianNB(),X,y, cv=10, scoring=make_scorer(classification_report_with_accuracy_score))\n",
    "\n",
    "print('cross_val_score : ',round(nested_score.mean(),2))\n",
    "print('\\nClassification Report : ')\n",
    "print(classification_report(originalclass, predictedclass))"
   ]
  },
  {
   "cell_type": "code",
   "execution_count": null,
   "id": "8baf1fa7",
   "metadata": {},
   "outputs": [],
   "source": [
    "from sklearn.naive_bayes import MultinomialNB\n",
    "from sklearn.metrics import confusion_matrix,f1_score,recall_score\n",
    "import seaborn as sns\n",
    "\n",
    "originalclass = []\n",
    "predictedclass = []\n",
    "\n",
    "def classification_report_with_accuracy_score(y_true, y_pred):\n",
    "    originalclass.extend(y_true)\n",
    "    predictedclass.extend(y_pred)\n",
    "    return accuracy_score(y_true, y_pred) # return accuracy score\n",
    "\n",
    "\n",
    "nested_score = cross_val_score(MultinomialNB(),X,y, cv=10, scoring=make_scorer(classification_report_with_accuracy_score))\n",
    "\n",
    "print('cross_val_score : ',round(nested_score.mean(),2))\n",
    "print('\\nClassification Report : ')\n",
    "print(classification_report(originalclass, predictedclass))"
   ]
  },
  {
   "cell_type": "code",
   "execution_count": null,
   "id": "8fc97c2e",
   "metadata": {},
   "outputs": [],
   "source": []
  }
 ],
 "metadata": {
  "kernelspec": {
   "display_name": "Python 3 (ipykernel)",
   "language": "python",
   "name": "python3"
  },
  "language_info": {
   "codemirror_mode": {
    "name": "ipython",
    "version": 3
   },
   "file_extension": ".py",
   "mimetype": "text/x-python",
   "name": "python",
   "nbconvert_exporter": "python",
   "pygments_lexer": "ipython3",
   "version": "3.9.12"
  }
 },
 "nbformat": 4,
 "nbformat_minor": 5
}
