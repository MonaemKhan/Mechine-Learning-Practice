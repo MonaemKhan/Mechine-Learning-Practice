{
 "cells": [
  {
   "cell_type": "code",
   "execution_count": 1,
   "id": "a9ee27c4",
   "metadata": {},
   "outputs": [],
   "source": [
    "import warnings\n",
    "warnings.filterwarnings(\"ignore\")\n",
    "import pandas as pd\n",
    "import numpy as np\n",
    "df = pd.read_csv('final.csv')\n",
    "\n",
    "df1 = df.drop(['Unnamed: 0'],axis=1)\n",
    "\n",
    "from sklearn.preprocessing import LabelEncoder\n",
    "\n",
    "encoder = LabelEncoder()\n",
    "col = ['Blood Group ( is Negative?)','Jaundice','Diabetes','Risk']\n",
    "for x in col:\n",
    "    df1[x] = encoder.fit_transform(df[x])\n",
    "    \n",
    "df2 = pd.get_dummies(df1,drop_first=True)\n",
    "\n",
    "X = df2.drop(['Risk','Height','Weight'],axis=1)\n",
    "y = df2.Risk\n",
    "\n",
    "from sklearn.model_selection import train_test_split\n",
    "X_train, X_test, y_train, y_test = train_test_split(X, y, test_size=0.3)"
   ]
  },
  {
   "cell_type": "code",
   "execution_count": 2,
   "id": "1b9e20c9",
   "metadata": {},
   "outputs": [
    {
     "data": {
      "text/plain": [
       "(3658, 16)"
      ]
     },
     "execution_count": 2,
     "metadata": {},
     "output_type": "execute_result"
    }
   ],
   "source": [
    "df.shape"
   ]
  },
  {
   "cell_type": "code",
   "execution_count": 3,
   "id": "cdaa9ed1",
   "metadata": {},
   "outputs": [
    {
     "data": {
      "text/plain": [
       "0    1847\n",
       "1     713\n",
       "Name: Risk, dtype: int64"
      ]
     },
     "execution_count": 3,
     "metadata": {},
     "output_type": "execute_result"
    }
   ],
   "source": [
    "y_train.value_counts()"
   ]
  },
  {
   "cell_type": "code",
   "execution_count": 4,
   "id": "a25ee2e8",
   "metadata": {},
   "outputs": [
    {
     "data": {
      "text/plain": [
       "0    825\n",
       "1    273\n",
       "Name: Risk, dtype: int64"
      ]
     },
     "execution_count": 4,
     "metadata": {},
     "output_type": "execute_result"
    }
   ],
   "source": [
    "y_test.value_counts()"
   ]
  },
  {
   "cell_type": "code",
   "execution_count": 5,
   "id": "ff3c28d7",
   "metadata": {},
   "outputs": [
    {
     "data": {
      "text/plain": [
       "2560"
      ]
     },
     "execution_count": 5,
     "metadata": {},
     "output_type": "execute_result"
    }
   ],
   "source": [
    "len(X_train)"
   ]
  },
  {
   "cell_type": "code",
   "execution_count": 6,
   "id": "957d1598",
   "metadata": {},
   "outputs": [],
   "source": [
    "from sklearn.svm import SVC\n",
    "from sklearn.tree import DecisionTreeClassifier\n",
    "from sklearn.neighbors import KNeighborsClassifier\n",
    "from sklearn.ensemble import RandomForestClassifier\n",
    "from sklearn.linear_model import LogisticRegression\n",
    "from sklearn.naive_bayes import GaussianNB,MultinomialNB\n",
    "\n",
    "from sklearn.metrics import accuracy_score, f1_score, precision_score, recall_score"
   ]
  },
  {
   "cell_type": "code",
   "execution_count": 7,
   "id": "cba76605",
   "metadata": {},
   "outputs": [],
   "source": [
    "def model(model,i):\n",
    "    print(i,'.',model,':\\n')\n",
    "    model = model.fit(X_train,y_train)\n",
    "\n",
    "    #train data\n",
    "    y_pred = model.predict(X_train)\n",
    "    print('\\tTraining Data:')\n",
    "    print('\\t\\t> Accuracy: ', round(accuracy_score(y_train,y_pred),2)*100,'%',end=\" \")\n",
    "    print('\\t> f1_score: ', round(f1_score(y_train,y_pred, average='micro'),2)*100,'%',end=\" \")\n",
    "    print('\\t> precision_score: ', round(precision_score(y_train,y_pred, average='micro'),2)*100,'%',end=\" \")\n",
    "    print('\\t> recall_score: ', round(recall_score(y_train,y_pred, average='micro'),2)*100,'%',end=\" \")\n",
    "\n",
    "    #test data\n",
    "    y_pred = model.predict(X_test)\n",
    "    print('\\n\\tTesting Data:')\n",
    "    print('\\t\\t> Accuracy: ', round(accuracy_score(y_test,y_pred),2)*100,'%',end=\" \")\n",
    "    print('\\t> f1_score: ', round(f1_score(y_test,y_pred, average='micro'),2)*100,'%',end=\" \")\n",
    "    print('\\t> precision_score: ', round(precision_score(y_test,y_pred, average='micro'),2)*100,'%',end=\" \")\n",
    "    print('\\t> recall_score: ', round(recall_score(y_test,y_pred, average='micro'),2)*100,'%','\\n')"
   ]
  },
  {
   "cell_type": "code",
   "execution_count": 8,
   "id": "6915cd3f",
   "metadata": {},
   "outputs": [
    {
     "name": "stdout",
     "output_type": "stream",
     "text": [
      "1 . LogisticRegression() :\n",
      "\n",
      "\tTraining Data:\n",
      "\t\t> Accuracy:  79.0 % \t> f1_score:  79.0 % \t> precision_score:  79.0 % \t> recall_score:  79.0 % \n",
      "\tTesting Data:\n",
      "\t\t> Accuracy:  82.0 % \t> f1_score:  82.0 % \t> precision_score:  82.0 % \t> recall_score:  82.0 % \n",
      "\n",
      "2 . SVC() :\n",
      "\n",
      "\tTraining Data:\n",
      "\t\t> Accuracy:  73.0 % \t> f1_score:  73.0 % \t> precision_score:  73.0 % \t> recall_score:  73.0 % \n",
      "\tTesting Data:\n",
      "\t\t> Accuracy:  76.0 % \t> f1_score:  76.0 % \t> precision_score:  76.0 % \t> recall_score:  76.0 % \n",
      "\n",
      "3 . DecisionTreeClassifier() :\n",
      "\n",
      "\tTraining Data:\n",
      "\t\t> Accuracy:  100.0 % \t> f1_score:  100.0 % \t> precision_score:  100.0 % \t> recall_score:  100.0 % \n",
      "\tTesting Data:\n",
      "\t\t> Accuracy:  86.0 % \t> f1_score:  86.0 % \t> precision_score:  86.0 % \t> recall_score:  86.0 % \n",
      "\n",
      "4 . RandomForestClassifier() :\n",
      "\n",
      "\tTraining Data:\n",
      "\t\t> Accuracy:  100.0 % \t> f1_score:  100.0 % \t> precision_score:  100.0 % \t> recall_score:  100.0 % \n",
      "\tTesting Data:\n",
      "\t\t> Accuracy:  92.0 % \t> f1_score:  92.0 % \t> precision_score:  92.0 % \t> recall_score:  92.0 % \n",
      "\n",
      "5 . KNeighborsClassifier() :\n",
      "\n",
      "\tTraining Data:\n",
      "\t\t> Accuracy:  87.0 % \t> f1_score:  87.0 % \t> precision_score:  87.0 % \t> recall_score:  87.0 % \n",
      "\tTesting Data:\n",
      "\t\t> Accuracy:  85.0 % \t> f1_score:  85.0 % \t> precision_score:  85.0 % \t> recall_score:  85.0 % \n",
      "\n",
      "6 . GaussianNB() :\n",
      "\n",
      "\tTraining Data:\n",
      "\t\t> Accuracy:  78.0 % \t> f1_score:  78.0 % \t> precision_score:  78.0 % \t> recall_score:  78.0 % \n",
      "\tTesting Data:\n",
      "\t\t> Accuracy:  80.0 % \t> f1_score:  80.0 % \t> precision_score:  80.0 % \t> recall_score:  80.0 % \n",
      "\n",
      "7 . MultinomialNB() :\n",
      "\n",
      "\tTraining Data:\n",
      "\t\t> Accuracy:  78.0 % \t> f1_score:  78.0 % \t> precision_score:  78.0 % \t> recall_score:  78.0 % \n",
      "\tTesting Data:\n",
      "\t\t> Accuracy:  80.0 % \t> f1_score:  80.0 % \t> precision_score:  80.0 % \t> recall_score:  80.0 % \n",
      "\n"
     ]
    }
   ],
   "source": [
    "model(LogisticRegression(),1)\n",
    "model(SVC(),2)\n",
    "model(DecisionTreeClassifier(),3)\n",
    "model(RandomForestClassifier(),4)\n",
    "model(KNeighborsClassifier(),5)\n",
    "model(GaussianNB(),6)\n",
    "model(MultinomialNB(),7)"
   ]
  },
  {
   "cell_type": "markdown",
   "id": "7c2aa8e9",
   "metadata": {},
   "source": [
    "# Other Test"
   ]
  },
  {
   "cell_type": "code",
   "execution_count": 9,
   "id": "fd93d701",
   "metadata": {},
   "outputs": [],
   "source": [
    "import warnings\n",
    "warnings.filterwarnings(\"ignore\")\n",
    "import pandas as pd\n",
    "import numpy as np\n",
    "df = pd.read_csv('final.csv')\n",
    "\n",
    "df1 = df.drop(['Unnamed: 0'],axis=1)\n",
    "\n",
    "from sklearn.preprocessing import LabelEncoder\n",
    "\n",
    "encoder = LabelEncoder()\n",
    "col = ['Blood Group ( is Negative?)','Jaundice','Diabetes','Risk','Delivery Type','Edema','Anemia']\n",
    "for x in col:\n",
    "    df1[x] = encoder.fit_transform(df[x])"
   ]
  },
  {
   "cell_type": "code",
   "execution_count": 10,
   "id": "86c27676",
   "metadata": {},
   "outputs": [],
   "source": [
    "train = df1[:2560]\n",
    "test = df1[2560:]"
   ]
  },
  {
   "cell_type": "code",
   "execution_count": 11,
   "id": "67885bbd",
   "metadata": {},
   "outputs": [],
   "source": [
    "x_tt = train.drop(['Risk','Height','Weight'],axis=1)\n",
    "y_tt = train.Risk"
   ]
  },
  {
   "cell_type": "code",
   "execution_count": 12,
   "id": "941dfa76",
   "metadata": {},
   "outputs": [
    {
     "data": {
      "text/plain": [
       "(2560, 15)"
      ]
     },
     "execution_count": 12,
     "metadata": {},
     "output_type": "execute_result"
    }
   ],
   "source": [
    "train.shape"
   ]
  },
  {
   "cell_type": "code",
   "execution_count": 13,
   "id": "3358ab93",
   "metadata": {},
   "outputs": [],
   "source": [
    "x_te = test.drop(['Risk','Height','Weight'],axis=1)\n",
    "y_te = test.Risk"
   ]
  },
  {
   "cell_type": "code",
   "execution_count": 14,
   "id": "fc97f43c",
   "metadata": {},
   "outputs": [
    {
     "data": {
      "text/plain": [
       "0    813\n",
       "1    285\n",
       "Name: Risk, dtype: int64"
      ]
     },
     "execution_count": 14,
     "metadata": {},
     "output_type": "execute_result"
    }
   ],
   "source": [
    "y_te.value_counts()"
   ]
  },
  {
   "cell_type": "code",
   "execution_count": 15,
   "id": "9582be12",
   "metadata": {},
   "outputs": [
    {
     "data": {
      "text/plain": [
       "0    1859\n",
       "1     701\n",
       "Name: Risk, dtype: int64"
      ]
     },
     "execution_count": 15,
     "metadata": {},
     "output_type": "execute_result"
    }
   ],
   "source": [
    "y_tt.value_counts()"
   ]
  },
  {
   "cell_type": "code",
   "execution_count": 16,
   "id": "d4b52dfa",
   "metadata": {},
   "outputs": [],
   "source": [
    "def model(model,i):\n",
    "    print(i,'.',model,':\\n')\n",
    "    model = model.fit(x_tt,y_tt)\n",
    "\n",
    "    #train data\n",
    "    y_pred = model.predict(x_tt)\n",
    "    print('\\tTraining Data:')\n",
    "    print('\\t\\t> Accuracy: ', round(accuracy_score(y_tt,y_pred),2)*100,'%',end=\" \")\n",
    "    print('\\t> f1_score: ', round(f1_score(y_tt,y_pred, average='micro'),2)*100,'%',end=\" \")\n",
    "    print('\\t> precision_score: ', round(precision_score(y_tt,y_pred, average='micro'),2)*100,'%',end=\" \")\n",
    "    print('\\t> recall_score: ', round(recall_score(y_tt,y_pred, average='micro'),2)*100,'%',end=\" \")\n",
    "\n",
    "    #test data\n",
    "    y_pred = model.predict(x_te)\n",
    "    print('\\n\\tTesting Data:')\n",
    "    print('\\t\\t> Accuracy: ', round(accuracy_score(y_te,y_pred),2)*100,'%',end=\" \")\n",
    "    print('\\t> f1_score: ', round(f1_score(y_te,y_pred, average='micro'),2)*100,'%',end=\" \")\n",
    "    print('\\t> precision_score: ', round(precision_score(y_te,y_pred, average='micro'),2)*100,'%',end=\" \")\n",
    "    print('\\t> recall_score: ', round(recall_score(y_te,y_pred, average='micro'),2)*100,'%','\\n')"
   ]
  },
  {
   "cell_type": "code",
   "execution_count": 17,
   "id": "2ccd4ac6",
   "metadata": {},
   "outputs": [
    {
     "name": "stdout",
     "output_type": "stream",
     "text": [
      "1 . LogisticRegression() :\n",
      "\n",
      "\tTraining Data:\n",
      "\t\t> Accuracy:  79.0 % \t> f1_score:  79.0 % \t> precision_score:  79.0 % \t> recall_score:  79.0 % \n",
      "\tTesting Data:\n",
      "\t\t> Accuracy:  82.0 % \t> f1_score:  82.0 % \t> precision_score:  82.0 % \t> recall_score:  82.0 % \n",
      "\n",
      "2 . SVC() :\n",
      "\n",
      "\tTraining Data:\n",
      "\t\t> Accuracy:  75.0 % \t> f1_score:  75.0 % \t> precision_score:  75.0 % \t> recall_score:  75.0 % \n",
      "\tTesting Data:\n",
      "\t\t> Accuracy:  77.0 % \t> f1_score:  77.0 % \t> precision_score:  77.0 % \t> recall_score:  77.0 % \n",
      "\n",
      "3 . DecisionTreeClassifier() :\n",
      "\n",
      "\tTraining Data:\n",
      "\t\t> Accuracy:  100.0 % \t> f1_score:  100.0 % \t> precision_score:  100.0 % \t> recall_score:  100.0 % \n",
      "\tTesting Data:\n",
      "\t\t> Accuracy:  89.0 % \t> f1_score:  89.0 % \t> precision_score:  89.0 % \t> recall_score:  89.0 % \n",
      "\n",
      "4 . RandomForestClassifier() :\n",
      "\n",
      "\tTraining Data:\n",
      "\t\t> Accuracy:  100.0 % \t> f1_score:  100.0 % \t> precision_score:  100.0 % \t> recall_score:  100.0 % \n",
      "\tTesting Data:\n",
      "\t\t> Accuracy:  92.0 % \t> f1_score:  92.0 % \t> precision_score:  92.0 % \t> recall_score:  92.0 % \n",
      "\n",
      "5 . KNeighborsClassifier() :\n",
      "\n",
      "\tTraining Data:\n",
      "\t\t> Accuracy:  87.0 % \t> f1_score:  87.0 % \t> precision_score:  87.0 % \t> recall_score:  87.0 % \n",
      "\tTesting Data:\n",
      "\t\t> Accuracy:  83.0 % \t> f1_score:  83.0 % \t> precision_score:  83.0 % \t> recall_score:  83.0 % \n",
      "\n",
      "6 . GaussianNB() :\n",
      "\n",
      "\tTraining Data:\n",
      "\t\t> Accuracy:  78.0 % \t> f1_score:  78.0 % \t> precision_score:  78.0 % \t> recall_score:  78.0 % \n",
      "\tTesting Data:\n",
      "\t\t> Accuracy:  80.0 % \t> f1_score:  80.0 % \t> precision_score:  80.0 % \t> recall_score:  80.0 % \n",
      "\n",
      "7 . MultinomialNB() :\n",
      "\n",
      "\tTraining Data:\n",
      "\t\t> Accuracy:  77.0 % \t> f1_score:  77.0 % \t> precision_score:  77.0 % \t> recall_score:  77.0 % \n",
      "\tTesting Data:\n",
      "\t\t> Accuracy:  79.0 % \t> f1_score:  79.0 % \t> precision_score:  79.0 % \t> recall_score:  79.0 % \n",
      "\n"
     ]
    }
   ],
   "source": [
    "model(LogisticRegression(),1)\n",
    "model(SVC(),2)\n",
    "model(DecisionTreeClassifier(),3)\n",
    "model(RandomForestClassifier(),4)\n",
    "model(KNeighborsClassifier(),5)\n",
    "model(GaussianNB(),6)\n",
    "model(MultinomialNB(),7)"
   ]
  },
  {
   "cell_type": "code",
   "execution_count": 18,
   "id": "cc16c8aa",
   "metadata": {},
   "outputs": [
    {
     "name": "stdout",
     "output_type": "stream",
     "text": [
      "Training Data:\n",
      "Accuracy:  1.0\n",
      "f1_score:  1.0\n",
      "precision_score:  1.0\n",
      "recall_score:  1.0\n",
      "\n",
      "Testing Data:\n",
      "Accuracy:  0.92\n",
      "f1_score:  0.92\n",
      "precision_score:  0.92\n",
      "recall_score:  0.92\n"
     ]
    }
   ],
   "source": [
    "rm_model = RandomForestClassifier()\n",
    "rm_model.fit(x_tt,y_tt)\n",
    "\n",
    "#train data\n",
    "yt_pred = rm_model.predict(x_tt)\n",
    "print('Training Data:')\n",
    "print('Accuracy: ', round(accuracy_score(y_tt,yt_pred),2))\n",
    "print('f1_score: ', round(f1_score(y_tt,yt_pred, average='micro'),2))\n",
    "print('precision_score: ', round(precision_score(y_tt,yt_pred, average='micro'),2))\n",
    "print('recall_score: ', round(recall_score(y_tt,yt_pred, average='micro'),2))\n",
    "\n",
    "#test data\n",
    "y_pred = rm_model.predict(x_te)\n",
    "print('\\nTesting Data:')\n",
    "print('Accuracy: ', round(accuracy_score(y_te,y_pred),2))\n",
    "print('f1_score: ', round(f1_score(y_te,y_pred, average='micro'),2))\n",
    "print('precision_score: ', round(precision_score(y_te,y_pred, average='micro'),2))\n",
    "print('recall_score: ', round(recall_score(y_te,y_pred, average='micro'),2))"
   ]
  },
  {
   "cell_type": "code",
   "execution_count": 19,
   "id": "767dc430",
   "metadata": {},
   "outputs": [
    {
     "name": "stdout",
     "output_type": "stream",
     "text": [
      "model test AUC score: 0.887771088237198\n",
      "model train AUC score: 0.9980355428616157\n"
     ]
    },
    {
     "data": {
      "image/png": "[encoded data removed]",
      "text/plain": [
       "<Figure size 432x288 with 1 Axes>"
      ]
     },
     "metadata": {
      "needs_background": "light"
     },
     "output_type": "display_data"
    }
   ],
   "source": [
    "from sklearn.metrics import accuracy_score, confusion_matrix, roc_auc_score, roc_curve\n",
    "import matplotlib.pyplot as plt\n",
    "\n",
    "def plot_roc_curve(true_y, y_prob):\n",
    "    fpr, tpr, thresholds = roc_curve(true_y, y_prob)\n",
    "    plt.plot(fpr, tpr)\n",
    "#     plt.plot(thresholds)\n",
    "    plt.xlabel('False Positive Rate')\n",
    "    plt.ylabel('True Positive Rate')\n",
    "\n",
    "plot_roc_curve(y_te,y_pred)\n",
    "plot_roc_curve(y_tt,yt_pred)\n",
    "print(f'model test AUC score: {roc_auc_score(y_te,y_pred)}')\n",
    "print(f'model train AUC score: {roc_auc_score(y_tt,yt_pred)}')"
   ]
  },
  {
   "cell_type": "code",
   "execution_count": 20,
   "id": "180b7157",
   "metadata": {},
   "outputs": [],
   "source": [
    "# from sklearn import tree\n",
    "# import sys\n",
    "# plt.figure(figsize=(100,100))\n",
    "# tree.plot_tree(dt_model,feature_names=X_train.columns)\n",
    "# plt.savefig(\"tree.png\")"
   ]
  }
 ],
 "metadata": {
  "kernelspec": {
   "display_name": "Python 3 (ipykernel)",
   "language": "python",
   "name": "python3"
  },
  "language_info": {
   "codemirror_mode": {
    "name": "ipython",
    "version": 3
   },
   "file_extension": ".py",
   "mimetype": "text/x-python",
   "name": "python",
   "nbconvert_exporter": "python",
   "pygments_lexer": "ipython3",
   "version": "3.9.12"
  }
 },
 "nbformat": 4,
 "nbformat_minor": 5
}
