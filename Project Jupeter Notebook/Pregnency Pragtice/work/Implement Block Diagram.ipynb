{
 "cells": [
  {
   "cell_type": "code",
   "execution_count": 1,
   "id": "a9ee27c4",
   "metadata": {},
   "outputs": [],
   "source": [
    "import warnings\n",
    "warnings.filterwarnings(\"ignore\")\n",
    "import pandas as pd\n",
    "import numpy as np\n",
    "df = pd.read_csv('final.csv')\n",
    "\n",
    "# df1 = df.drop(['Unnamed: 0'],axis=1)\n",
    "df1 = df.drop_duplicates().reset_index(drop=True)\n",
    "\n",
    "from sklearn.preprocessing import LabelEncoder\n",
    "\n",
    "encoder = LabelEncoder()\n",
    "col = ['Blood Group ( is Negative?)','Jaundice','Diabetes','Risk']\n",
    "for x in col:\n",
    "    df1[x] = encoder.fit_transform(df1[x])\n",
    "    \n",
    "df2 = pd.get_dummies(df1,drop_first=True)\n",
    "\n",
    "X = df2.drop(['Risk','Height','Weight'],axis=1)\n",
    "y = df2.Risk\n",
    "\n",
    "from sklearn.model_selection import train_test_split\n",
    "X_train, X_test, y_train, y_test = train_test_split(X, y, test_size=0.3)"
   ]
  },
  {
   "cell_type": "code",
   "execution_count": 2,
   "id": "1b9e20c9",
   "metadata": {},
   "outputs": [
    {
     "data": {
      "text/plain": [
       "(3578, 18)"
      ]
     },
     "execution_count": 2,
     "metadata": {},
     "output_type": "execute_result"
    }
   ],
   "source": [
    "df2.shape"
   ]
  },
  {
   "cell_type": "code",
   "execution_count": 3,
   "id": "cdaa9ed1",
   "metadata": {},
   "outputs": [
    {
     "data": {
      "text/plain": [
       "0    1841\n",
       "1     663\n",
       "Name: Risk, dtype: int64"
      ]
     },
     "execution_count": 3,
     "metadata": {},
     "output_type": "execute_result"
    }
   ],
   "source": [
    "y_train.value_counts()"
   ]
  },
  {
   "cell_type": "code",
   "execution_count": 4,
   "id": "a25ee2e8",
   "metadata": {},
   "outputs": [
    {
     "data": {
      "text/plain": [
       "0    786\n",
       "1    288\n",
       "Name: Risk, dtype: int64"
      ]
     },
     "execution_count": 4,
     "metadata": {},
     "output_type": "execute_result"
    }
   ],
   "source": [
    "y_test.value_counts()"
   ]
  },
  {
   "cell_type": "code",
   "execution_count": 5,
   "id": "ff3c28d7",
   "metadata": {},
   "outputs": [
    {
     "data": {
      "text/plain": [
       "2504"
      ]
     },
     "execution_count": 5,
     "metadata": {},
     "output_type": "execute_result"
    }
   ],
   "source": [
    "len(X_train)"
   ]
  },
  {
   "cell_type": "code",
   "execution_count": 6,
   "id": "957d1598",
   "metadata": {},
   "outputs": [],
   "source": [
    "from sklearn.svm import SVC\n",
    "from sklearn.tree import DecisionTreeClassifier\n",
    "from sklearn.neighbors import KNeighborsClassifier\n",
    "from sklearn.ensemble import RandomForestClassifier\n",
    "from sklearn.linear_model import LogisticRegression\n",
    "from sklearn.naive_bayes import GaussianNB,MultinomialNB\n",
    "\n",
    "from sklearn.metrics import accuracy_score, f1_score, precision_score, recall_score"
   ]
  },
  {
   "cell_type": "code",
   "execution_count": 7,
   "id": "cba76605",
   "metadata": {},
   "outputs": [],
   "source": [
    "def model(model,i):\n",
    "    print(i,'.',model,':\\n')\n",
    "    model = model.fit(X_train,y_train)\n",
    "\n",
    "    #train data\n",
    "    y_pred = model.predict(X_train)\n",
    "    print('\\tTraining Data:')\n",
    "    print('\\t\\t> Accuracy: ', round(accuracy_score(y_train,y_pred),2)*100,'%',end=\" \")\n",
    "    print('\\t> f1_score: ', round(f1_score(y_train,y_pred, average='micro'),2)*100,'%',end=\" \")\n",
    "    print('\\t> precision_score: ', round(precision_score(y_train,y_pred, average='micro'),2)*100,'%',end=\" \")\n",
    "    print('\\t> recall_score: ', round(recall_score(y_train,y_pred, average='micro'),2)*100,'%',end=\" \")\n",
    "\n",
    "    #test data\n",
    "    y_pred = model.predict(X_test)\n",
    "    print('\\n\\tTesting Data:')\n",
    "    print('\\t\\t> Accuracy: ', round(accuracy_score(y_test,y_pred),2)*100,'%',end=\" \")\n",
    "    print('\\t> f1_score: ', round(f1_score(y_test,y_pred, average='micro'),2)*100,'%',end=\" \")\n",
    "    print('\\t> precision_score: ', round(precision_score(y_test,y_pred, average='micro'),2)*100,'%',end=\" \")\n",
    "    print('\\t> recall_score: ', round(recall_score(y_test,y_pred, average='micro'),2)*100,'%','\\n')"
   ]
  },
  {
   "cell_type": "code",
   "execution_count": 8,
   "id": "6915cd3f",
   "metadata": {},
   "outputs": [
    {
     "name": "stdout",
     "output_type": "stream",
     "text": [
      "1 . LogisticRegression() :\n",
      "\n",
      "\tTraining Data:\n",
      "\t\t> Accuracy:  81.0 % \t> f1_score:  81.0 % \t> precision_score:  81.0 % \t> recall_score:  81.0 % \n",
      "\tTesting Data:\n",
      "\t\t> Accuracy:  81.0 % \t> f1_score:  81.0 % \t> precision_score:  81.0 % \t> recall_score:  81.0 % \n",
      "\n",
      "2 . SVC() :\n",
      "\n",
      "\tTraining Data:\n",
      "\t\t> Accuracy:  74.0 % \t> f1_score:  74.0 % \t> precision_score:  74.0 % \t> recall_score:  74.0 % \n",
      "\tTesting Data:\n",
      "\t\t> Accuracy:  74.0 % \t> f1_score:  74.0 % \t> precision_score:  74.0 % \t> recall_score:  74.0 % \n",
      "\n",
      "3 . DecisionTreeClassifier() :\n",
      "\n",
      "\tTraining Data:\n",
      "\t\t> Accuracy:  100.0 % \t> f1_score:  100.0 % \t> precision_score:  100.0 % \t> recall_score:  100.0 % \n",
      "\tTesting Data:\n",
      "\t\t> Accuracy:  86.0 % \t> f1_score:  86.0 % \t> precision_score:  86.0 % \t> recall_score:  86.0 % \n",
      "\n",
      "4 . RandomForestClassifier() :\n",
      "\n",
      "\tTraining Data:\n",
      "\t\t> Accuracy:  100.0 % \t> f1_score:  100.0 % \t> precision_score:  100.0 % \t> recall_score:  100.0 % \n",
      "\tTesting Data:\n",
      "\t\t> Accuracy:  92.0 % \t> f1_score:  92.0 % \t> precision_score:  92.0 % \t> recall_score:  92.0 % \n",
      "\n",
      "5 . KNeighborsClassifier() :\n",
      "\n",
      "\tTraining Data:\n",
      "\t\t> Accuracy:  87.0 % \t> f1_score:  87.0 % \t> precision_score:  87.0 % \t> recall_score:  87.0 % \n",
      "\tTesting Data:\n",
      "\t\t> Accuracy:  83.0 % \t> f1_score:  83.0 % \t> precision_score:  83.0 % \t> recall_score:  83.0 % \n",
      "\n",
      "6 . GaussianNB() :\n",
      "\n",
      "\tTraining Data:\n",
      "\t\t> Accuracy:  79.0 % \t> f1_score:  79.0 % \t> precision_score:  79.0 % \t> recall_score:  79.0 % \n",
      "\tTesting Data:\n",
      "\t\t> Accuracy:  78.0 % \t> f1_score:  78.0 % \t> precision_score:  78.0 % \t> recall_score:  78.0 % \n",
      "\n",
      "7 . MultinomialNB() :\n",
      "\n",
      "\tTraining Data:\n",
      "\t\t> Accuracy:  79.0 % \t> f1_score:  79.0 % \t> precision_score:  79.0 % \t> recall_score:  79.0 % \n",
      "\tTesting Data:\n",
      "\t\t> Accuracy:  79.0 % \t> f1_score:  79.0 % \t> precision_score:  79.0 % \t> recall_score:  79.0 % \n",
      "\n"
     ]
    }
   ],
   "source": [
    "model(LogisticRegression(),1)\n",
    "model(SVC(),2)\n",
    "model(DecisionTreeClassifier(),3)\n",
    "model(RandomForestClassifier(),4)\n",
    "model(KNeighborsClassifier(),5)\n",
    "model(GaussianNB(),6)\n",
    "model(MultinomialNB(),7)"
   ]
  },
  {
   "cell_type": "markdown",
   "id": "7c2aa8e9",
   "metadata": {},
   "source": [
    "# Other Test"
   ]
  },
  {
   "cell_type": "code",
   "execution_count": 63,
   "id": "fd93d701",
   "metadata": {},
   "outputs": [],
   "source": [
    "import warnings\n",
    "warnings.filterwarnings(\"ignore\")\n",
    "import pandas as pd\n",
    "import numpy as np\n",
    "d = pd.read_csv('final.csv')\n",
    "\n",
    "# df1 = df.drop(['Unnamed: 0'],axis=1)\n",
    "d1 = d.drop_duplicates().reset_index(drop=True)\n",
    "\n",
    "# from sklearn.preprocessing import LabelEncoder\n",
    "\n",
    "# encoder = LabelEncoder()\n",
    "# col = ['Blood Group ( is Negative?)','Jaundice','Diabetes','Risk','Delivery Type','Edema','Anemia']\n",
    "# for x in col:\n",
    "#     df1[x] = encoder.fit_transform(df1[x])"
   ]
  },
  {
   "cell_type": "code",
   "execution_count": 64,
   "id": "ed100591",
   "metadata": {},
   "outputs": [
    {
     "data": {
      "text/plain": [
       "array(['Normal', 'Low', 'Very-Low'], dtype=object)"
      ]
     },
     "execution_count": 64,
     "metadata": {},
     "output_type": "execute_result"
    }
   ],
   "source": [
    "d1['Anemia'].unique()"
   ]
  },
  {
   "cell_type": "code",
   "execution_count": 65,
   "id": "288a9c81",
   "metadata": {},
   "outputs": [],
   "source": [
    "d1['Blood Group ( is Negative?)'] = d1['Blood Group ( is Negative?)'].map({'Yes':1,'No':0})\n",
    "d1['Jaundice'] = d1['Jaundice'].map({'Yes':1,'No':0})\n",
    "d1['Diabetes'] = d1['Diabetes'].map({'Yes':1,'No':0})\n",
    "d1['Risk'] = d1['Risk'].map({'Yes':1,'No':0})\n",
    "d1['Delivery Type'] = d1['Delivery Type'].map({'No_delivary':0,'Normal':1,'C-section':2})\n",
    "d1['Edema'] = d1['Edema'].map({'Normal':0,'High':1,'Modarate':2})\n",
    "d1['Anemia'] = d1['Anemia'].map({'Normal':0,'Low':1,'Very-Low':2})"
   ]
  },
  {
   "cell_type": "code",
   "execution_count": 66,
   "id": "88d06478",
   "metadata": {},
   "outputs": [
    {
     "data": {
      "text/html": [
       "<div>\n",
       "<style scoped>\n",
       "    .dataframe tbody tr th:only-of-type {\n",
       "        vertical-align: middle;\n",
       "    }\n",
       "\n",
       "    .dataframe tbody tr th {\n",
       "        vertical-align: top;\n",
       "    }\n",
       "\n",
       "    .dataframe thead th {\n",
       "        text-align: right;\n",
       "    }\n",
       "</style>\n",
       "<table border=\"1\" class=\"dataframe\">\n",
       "  <thead>\n",
       "    <tr style=\"text-align: right;\">\n",
       "      <th></th>\n",
       "      <th>Age</th>\n",
       "      <th>Height</th>\n",
       "      <th>Weight</th>\n",
       "      <th>BMI</th>\n",
       "      <th>Blood Group ( is Negative?)</th>\n",
       "      <th>Delivery Type</th>\n",
       "      <th>Systolic Blood Pressure</th>\n",
       "      <th>Diastolic Blood Pressure</th>\n",
       "      <th>Edema</th>\n",
       "      <th>Anemia</th>\n",
       "      <th>Jaundice</th>\n",
       "      <th>Diabetes</th>\n",
       "      <th>Risk</th>\n",
       "      <th>Para</th>\n",
       "      <th>Gravida</th>\n",
       "    </tr>\n",
       "  </thead>\n",
       "  <tbody>\n",
       "    <tr>\n",
       "      <th>622</th>\n",
       "      <td>20</td>\n",
       "      <td>1.524</td>\n",
       "      <td>49.0</td>\n",
       "      <td>21.10</td>\n",
       "      <td>0</td>\n",
       "      <td>0</td>\n",
       "      <td>90</td>\n",
       "      <td>70</td>\n",
       "      <td>0</td>\n",
       "      <td>0</td>\n",
       "      <td>0</td>\n",
       "      <td>0</td>\n",
       "      <td>0</td>\n",
       "      <td>0</td>\n",
       "      <td>1</td>\n",
       "    </tr>\n",
       "    <tr>\n",
       "      <th>1141</th>\n",
       "      <td>27</td>\n",
       "      <td>1.575</td>\n",
       "      <td>56.3</td>\n",
       "      <td>22.70</td>\n",
       "      <td>0</td>\n",
       "      <td>0</td>\n",
       "      <td>110</td>\n",
       "      <td>80</td>\n",
       "      <td>0</td>\n",
       "      <td>0</td>\n",
       "      <td>0</td>\n",
       "      <td>0</td>\n",
       "      <td>0</td>\n",
       "      <td>0</td>\n",
       "      <td>2</td>\n",
       "    </tr>\n",
       "    <tr>\n",
       "      <th>3021</th>\n",
       "      <td>24</td>\n",
       "      <td>1.524</td>\n",
       "      <td>46.7</td>\n",
       "      <td>20.11</td>\n",
       "      <td>0</td>\n",
       "      <td>1</td>\n",
       "      <td>120</td>\n",
       "      <td>85</td>\n",
       "      <td>0</td>\n",
       "      <td>1</td>\n",
       "      <td>0</td>\n",
       "      <td>0</td>\n",
       "      <td>0</td>\n",
       "      <td>2</td>\n",
       "      <td>3</td>\n",
       "    </tr>\n",
       "    <tr>\n",
       "      <th>780</th>\n",
       "      <td>29</td>\n",
       "      <td>1.575</td>\n",
       "      <td>72.6</td>\n",
       "      <td>29.27</td>\n",
       "      <td>0</td>\n",
       "      <td>0</td>\n",
       "      <td>120</td>\n",
       "      <td>80</td>\n",
       "      <td>0</td>\n",
       "      <td>1</td>\n",
       "      <td>0</td>\n",
       "      <td>0</td>\n",
       "      <td>0</td>\n",
       "      <td>0</td>\n",
       "      <td>2</td>\n",
       "    </tr>\n",
       "    <tr>\n",
       "      <th>2195</th>\n",
       "      <td>20</td>\n",
       "      <td>1.524</td>\n",
       "      <td>45.5</td>\n",
       "      <td>19.59</td>\n",
       "      <td>0</td>\n",
       "      <td>1</td>\n",
       "      <td>110</td>\n",
       "      <td>70</td>\n",
       "      <td>0</td>\n",
       "      <td>1</td>\n",
       "      <td>0</td>\n",
       "      <td>0</td>\n",
       "      <td>0</td>\n",
       "      <td>1</td>\n",
       "      <td>2</td>\n",
       "    </tr>\n",
       "  </tbody>\n",
       "</table>\n",
       "</div>"
      ],
      "text/plain": [
       "      Age  Height  Weight    BMI  Blood Group ( is Negative?)  Delivery Type  \\\n",
       "622    20   1.524    49.0  21.10                            0              0   \n",
       "1141   27   1.575    56.3  22.70                            0              0   \n",
       "3021   24   1.524    46.7  20.11                            0              1   \n",
       "780    29   1.575    72.6  29.27                            0              0   \n",
       "2195   20   1.524    45.5  19.59                            0              1   \n",
       "\n",
       "      Systolic Blood Pressure  Diastolic Blood Pressure  Edema  Anemia  \\\n",
       "622                        90                        70      0       0   \n",
       "1141                      110                        80      0       0   \n",
       "3021                      120                        85      0       1   \n",
       "780                       120                        80      0       1   \n",
       "2195                      110                        70      0       1   \n",
       "\n",
       "      Jaundice  Diabetes  Risk  Para  Gravida  \n",
       "622          0         0     0     0        1  \n",
       "1141         0         0     0     0        2  \n",
       "3021         0         0     0     2        3  \n",
       "780          0         0     0     0        2  \n",
       "2195         0         0     0     1        2  "
      ]
     },
     "execution_count": 66,
     "metadata": {},
     "output_type": "execute_result"
    }
   ],
   "source": [
    "d1.sample(5)"
   ]
  },
  {
   "cell_type": "code",
   "execution_count": 67,
   "id": "3ec05cd0",
   "metadata": {},
   "outputs": [],
   "source": [
    "d1 = d1.sample(frac=1).reset_index(drop=True)"
   ]
  },
  {
   "cell_type": "code",
   "execution_count": 68,
   "id": "0d67db52",
   "metadata": {},
   "outputs": [],
   "source": [
    "length = int(len(df1)*0.70)"
   ]
  },
  {
   "cell_type": "code",
   "execution_count": 69,
   "id": "86c27676",
   "metadata": {},
   "outputs": [],
   "source": [
    "train = df1[:length]\n",
    "test = df1[length:]"
   ]
  },
  {
   "cell_type": "code",
   "execution_count": 70,
   "id": "67885bbd",
   "metadata": {},
   "outputs": [],
   "source": [
    "x_tt = train.drop(['Risk','Height','Weight'],axis=1)\n",
    "y_tt = train.Risk"
   ]
  },
  {
   "cell_type": "code",
   "execution_count": 71,
   "id": "941dfa76",
   "metadata": {},
   "outputs": [
    {
     "data": {
      "text/plain": [
       "(2504, 15)"
      ]
     },
     "execution_count": 71,
     "metadata": {},
     "output_type": "execute_result"
    }
   ],
   "source": [
    "train.shape"
   ]
  },
  {
   "cell_type": "code",
   "execution_count": 72,
   "id": "3358ab93",
   "metadata": {},
   "outputs": [],
   "source": [
    "x_te = test.drop(['Risk','Height','Weight'],axis=1)\n",
    "y_te = test.Risk"
   ]
  },
  {
   "cell_type": "code",
   "execution_count": 73,
   "id": "fc97f43c",
   "metadata": {},
   "outputs": [
    {
     "data": {
      "text/plain": [
       "No     794\n",
       "Yes    280\n",
       "Name: Risk, dtype: int64"
      ]
     },
     "execution_count": 73,
     "metadata": {},
     "output_type": "execute_result"
    }
   ],
   "source": [
    "y_te.value_counts()"
   ]
  },
  {
   "cell_type": "code",
   "execution_count": 74,
   "id": "9582be12",
   "metadata": {},
   "outputs": [
    {
     "data": {
      "text/plain": [
       "No     1833\n",
       "Yes     671\n",
       "Name: Risk, dtype: int64"
      ]
     },
     "execution_count": 74,
     "metadata": {},
     "output_type": "execute_result"
    }
   ],
   "source": [
    "y_tt.value_counts()"
   ]
  },
  {
   "cell_type": "code",
   "execution_count": 75,
   "id": "d4b52dfa",
   "metadata": {},
   "outputs": [],
   "source": [
    "def model(model,i):\n",
    "    print(i,'.',model,':\\n')\n",
    "    model = model.fit(x_tt,y_tt)\n",
    "\n",
    "    #train data\n",
    "    y_pred = model.predict(x_tt)\n",
    "    print('\\tTraining Data:')\n",
    "    print('\\t\\t> Accuracy: ', round(accuracy_score(y_tt,y_pred),2)*100,'%',end=\" \")\n",
    "    print('\\t> f1_score: ', round(f1_score(y_tt,y_pred, average='micro'),2)*100,'%',end=\" \")\n",
    "    print('\\t> precision_score: ', round(precision_score(y_tt,y_pred, average='micro'),2)*100,'%',end=\" \")\n",
    "    print('\\t> recall_score: ', round(recall_score(y_tt,y_pred, average='micro'),2)*100,'%',end=\" \")\n",
    "\n",
    "    #test data\n",
    "    y_pred = model.predict(x_te)\n",
    "    print('\\n\\tTesting Data:')\n",
    "    print('\\t\\t> Accuracy: ', round(accuracy_score(y_te,y_pred),2)*100,'%',end=\" \")\n",
    "    print('\\t> f1_score: ', round(f1_score(y_te,y_pred, average='micro'),2)*100,'%',end=\" \")\n",
    "    print('\\t> precision_score: ', round(precision_score(y_te,y_pred, average='micro'),2)*100,'%',end=\" \")\n",
    "    print('\\t> recall_score: ', round(recall_score(y_te,y_pred, average='micro'),2)*100,'%','\\n')"
   ]
  },
  {
   "cell_type": "code",
   "execution_count": 76,
   "id": "2ccd4ac6",
   "metadata": {},
   "outputs": [
    {
     "name": "stdout",
     "output_type": "stream",
     "text": [
      "1 . LogisticRegression() :\n",
      "\n"
     ]
    },
    {
     "ename": "ValueError",
     "evalue": "could not convert string to float: 'No'",
     "output_type": "error",
     "traceback": [
      "\u001b[1;31m---------------------------------------------------------------------------\u001b[0m",
      "\u001b[1;31mValueError\u001b[0m                                Traceback (most recent call last)",
      "Input \u001b[1;32mIn [76]\u001b[0m, in \u001b[0;36m<cell line: 1>\u001b[1;34m()\u001b[0m\n\u001b[1;32m----> 1\u001b[0m \u001b[43mmodel\u001b[49m\u001b[43m(\u001b[49m\u001b[43mLogisticRegression\u001b[49m\u001b[43m(\u001b[49m\u001b[43m)\u001b[49m\u001b[43m,\u001b[49m\u001b[38;5;241;43m1\u001b[39;49m\u001b[43m)\u001b[49m\n\u001b[0;32m      2\u001b[0m model(SVC(),\u001b[38;5;241m2\u001b[39m)\n\u001b[0;32m      3\u001b[0m model(DecisionTreeClassifier(),\u001b[38;5;241m3\u001b[39m)\n",
      "Input \u001b[1;32mIn [75]\u001b[0m, in \u001b[0;36mmodel\u001b[1;34m(model, i)\u001b[0m\n\u001b[0;32m      1\u001b[0m \u001b[38;5;28;01mdef\u001b[39;00m \u001b[38;5;21mmodel\u001b[39m(model,i):\n\u001b[0;32m      2\u001b[0m     \u001b[38;5;28mprint\u001b[39m(i,\u001b[38;5;124m'\u001b[39m\u001b[38;5;124m.\u001b[39m\u001b[38;5;124m'\u001b[39m,model,\u001b[38;5;124m'\u001b[39m\u001b[38;5;124m:\u001b[39m\u001b[38;5;130;01m\\n\u001b[39;00m\u001b[38;5;124m'\u001b[39m)\n\u001b[1;32m----> 3\u001b[0m     model \u001b[38;5;241m=\u001b[39m \u001b[43mmodel\u001b[49m\u001b[38;5;241;43m.\u001b[39;49m\u001b[43mfit\u001b[49m\u001b[43m(\u001b[49m\u001b[43mx_tt\u001b[49m\u001b[43m,\u001b[49m\u001b[43my_tt\u001b[49m\u001b[43m)\u001b[49m\n\u001b[0;32m      5\u001b[0m     \u001b[38;5;66;03m#train data\u001b[39;00m\n\u001b[0;32m      6\u001b[0m     y_pred \u001b[38;5;241m=\u001b[39m model\u001b[38;5;241m.\u001b[39mpredict(x_tt)\n",
      "File \u001b[1;32m~\\anaconda3\\lib\\site-packages\\sklearn\\linear_model\\_logistic.py:1508\u001b[0m, in \u001b[0;36mLogisticRegression.fit\u001b[1;34m(self, X, y, sample_weight)\u001b[0m\n\u001b[0;32m   1505\u001b[0m \u001b[38;5;28;01melse\u001b[39;00m:\n\u001b[0;32m   1506\u001b[0m     _dtype \u001b[38;5;241m=\u001b[39m [np\u001b[38;5;241m.\u001b[39mfloat64, np\u001b[38;5;241m.\u001b[39mfloat32]\n\u001b[1;32m-> 1508\u001b[0m X, y \u001b[38;5;241m=\u001b[39m \u001b[38;5;28;43mself\u001b[39;49m\u001b[38;5;241;43m.\u001b[39;49m\u001b[43m_validate_data\u001b[49m\u001b[43m(\u001b[49m\n\u001b[0;32m   1509\u001b[0m \u001b[43m    \u001b[49m\u001b[43mX\u001b[49m\u001b[43m,\u001b[49m\n\u001b[0;32m   1510\u001b[0m \u001b[43m    \u001b[49m\u001b[43my\u001b[49m\u001b[43m,\u001b[49m\n\u001b[0;32m   1511\u001b[0m \u001b[43m    \u001b[49m\u001b[43maccept_sparse\u001b[49m\u001b[38;5;241;43m=\u001b[39;49m\u001b[38;5;124;43m\"\u001b[39;49m\u001b[38;5;124;43mcsr\u001b[39;49m\u001b[38;5;124;43m\"\u001b[39;49m\u001b[43m,\u001b[49m\n\u001b[0;32m   1512\u001b[0m \u001b[43m    \u001b[49m\u001b[43mdtype\u001b[49m\u001b[38;5;241;43m=\u001b[39;49m\u001b[43m_dtype\u001b[49m\u001b[43m,\u001b[49m\n\u001b[0;32m   1513\u001b[0m \u001b[43m    \u001b[49m\u001b[43morder\u001b[49m\u001b[38;5;241;43m=\u001b[39;49m\u001b[38;5;124;43m\"\u001b[39;49m\u001b[38;5;124;43mC\u001b[39;49m\u001b[38;5;124;43m\"\u001b[39;49m\u001b[43m,\u001b[49m\n\u001b[0;32m   1514\u001b[0m \u001b[43m    \u001b[49m\u001b[43maccept_large_sparse\u001b[49m\u001b[38;5;241;43m=\u001b[39;49m\u001b[43msolver\u001b[49m\u001b[43m \u001b[49m\u001b[38;5;129;43;01mnot\u001b[39;49;00m\u001b[43m \u001b[49m\u001b[38;5;129;43;01min\u001b[39;49;00m\u001b[43m \u001b[49m\u001b[43m[\u001b[49m\u001b[38;5;124;43m\"\u001b[39;49m\u001b[38;5;124;43mliblinear\u001b[39;49m\u001b[38;5;124;43m\"\u001b[39;49m\u001b[43m,\u001b[49m\u001b[43m \u001b[49m\u001b[38;5;124;43m\"\u001b[39;49m\u001b[38;5;124;43msag\u001b[39;49m\u001b[38;5;124;43m\"\u001b[39;49m\u001b[43m,\u001b[49m\u001b[43m \u001b[49m\u001b[38;5;124;43m\"\u001b[39;49m\u001b[38;5;124;43msaga\u001b[39;49m\u001b[38;5;124;43m\"\u001b[39;49m\u001b[43m]\u001b[49m\u001b[43m,\u001b[49m\n\u001b[0;32m   1515\u001b[0m \u001b[43m\u001b[49m\u001b[43m)\u001b[49m\n\u001b[0;32m   1516\u001b[0m check_classification_targets(y)\n\u001b[0;32m   1517\u001b[0m \u001b[38;5;28mself\u001b[39m\u001b[38;5;241m.\u001b[39mclasses_ \u001b[38;5;241m=\u001b[39m np\u001b[38;5;241m.\u001b[39munique(y)\n",
      "File \u001b[1;32m~\\anaconda3\\lib\\site-packages\\sklearn\\base.py:581\u001b[0m, in \u001b[0;36mBaseEstimator._validate_data\u001b[1;34m(self, X, y, reset, validate_separately, **check_params)\u001b[0m\n\u001b[0;32m    579\u001b[0m         y \u001b[38;5;241m=\u001b[39m check_array(y, \u001b[38;5;241m*\u001b[39m\u001b[38;5;241m*\u001b[39mcheck_y_params)\n\u001b[0;32m    580\u001b[0m     \u001b[38;5;28;01melse\u001b[39;00m:\n\u001b[1;32m--> 581\u001b[0m         X, y \u001b[38;5;241m=\u001b[39m check_X_y(X, y, \u001b[38;5;241m*\u001b[39m\u001b[38;5;241m*\u001b[39mcheck_params)\n\u001b[0;32m    582\u001b[0m     out \u001b[38;5;241m=\u001b[39m X, y\n\u001b[0;32m    584\u001b[0m \u001b[38;5;28;01mif\u001b[39;00m \u001b[38;5;129;01mnot\u001b[39;00m no_val_X \u001b[38;5;129;01mand\u001b[39;00m check_params\u001b[38;5;241m.\u001b[39mget(\u001b[38;5;124m\"\u001b[39m\u001b[38;5;124mensure_2d\u001b[39m\u001b[38;5;124m\"\u001b[39m, \u001b[38;5;28;01mTrue\u001b[39;00m):\n",
      "File \u001b[1;32m~\\anaconda3\\lib\\site-packages\\sklearn\\utils\\validation.py:964\u001b[0m, in \u001b[0;36mcheck_X_y\u001b[1;34m(X, y, accept_sparse, accept_large_sparse, dtype, order, copy, force_all_finite, ensure_2d, allow_nd, multi_output, ensure_min_samples, ensure_min_features, y_numeric, estimator)\u001b[0m\n\u001b[0;32m    961\u001b[0m \u001b[38;5;28;01mif\u001b[39;00m y \u001b[38;5;129;01mis\u001b[39;00m \u001b[38;5;28;01mNone\u001b[39;00m:\n\u001b[0;32m    962\u001b[0m     \u001b[38;5;28;01mraise\u001b[39;00m \u001b[38;5;167;01mValueError\u001b[39;00m(\u001b[38;5;124m\"\u001b[39m\u001b[38;5;124my cannot be None\u001b[39m\u001b[38;5;124m\"\u001b[39m)\n\u001b[1;32m--> 964\u001b[0m X \u001b[38;5;241m=\u001b[39m \u001b[43mcheck_array\u001b[49m\u001b[43m(\u001b[49m\n\u001b[0;32m    965\u001b[0m \u001b[43m    \u001b[49m\u001b[43mX\u001b[49m\u001b[43m,\u001b[49m\n\u001b[0;32m    966\u001b[0m \u001b[43m    \u001b[49m\u001b[43maccept_sparse\u001b[49m\u001b[38;5;241;43m=\u001b[39;49m\u001b[43maccept_sparse\u001b[49m\u001b[43m,\u001b[49m\n\u001b[0;32m    967\u001b[0m \u001b[43m    \u001b[49m\u001b[43maccept_large_sparse\u001b[49m\u001b[38;5;241;43m=\u001b[39;49m\u001b[43maccept_large_sparse\u001b[49m\u001b[43m,\u001b[49m\n\u001b[0;32m    968\u001b[0m \u001b[43m    \u001b[49m\u001b[43mdtype\u001b[49m\u001b[38;5;241;43m=\u001b[39;49m\u001b[43mdtype\u001b[49m\u001b[43m,\u001b[49m\n\u001b[0;32m    969\u001b[0m \u001b[43m    \u001b[49m\u001b[43morder\u001b[49m\u001b[38;5;241;43m=\u001b[39;49m\u001b[43morder\u001b[49m\u001b[43m,\u001b[49m\n\u001b[0;32m    970\u001b[0m \u001b[43m    \u001b[49m\u001b[43mcopy\u001b[49m\u001b[38;5;241;43m=\u001b[39;49m\u001b[43mcopy\u001b[49m\u001b[43m,\u001b[49m\n\u001b[0;32m    971\u001b[0m \u001b[43m    \u001b[49m\u001b[43mforce_all_finite\u001b[49m\u001b[38;5;241;43m=\u001b[39;49m\u001b[43mforce_all_finite\u001b[49m\u001b[43m,\u001b[49m\n\u001b[0;32m    972\u001b[0m \u001b[43m    \u001b[49m\u001b[43mensure_2d\u001b[49m\u001b[38;5;241;43m=\u001b[39;49m\u001b[43mensure_2d\u001b[49m\u001b[43m,\u001b[49m\n\u001b[0;32m    973\u001b[0m \u001b[43m    \u001b[49m\u001b[43mallow_nd\u001b[49m\u001b[38;5;241;43m=\u001b[39;49m\u001b[43mallow_nd\u001b[49m\u001b[43m,\u001b[49m\n\u001b[0;32m    974\u001b[0m \u001b[43m    \u001b[49m\u001b[43mensure_min_samples\u001b[49m\u001b[38;5;241;43m=\u001b[39;49m\u001b[43mensure_min_samples\u001b[49m\u001b[43m,\u001b[49m\n\u001b[0;32m    975\u001b[0m \u001b[43m    \u001b[49m\u001b[43mensure_min_features\u001b[49m\u001b[38;5;241;43m=\u001b[39;49m\u001b[43mensure_min_features\u001b[49m\u001b[43m,\u001b[49m\n\u001b[0;32m    976\u001b[0m \u001b[43m    \u001b[49m\u001b[43mestimator\u001b[49m\u001b[38;5;241;43m=\u001b[39;49m\u001b[43mestimator\u001b[49m\u001b[43m,\u001b[49m\n\u001b[0;32m    977\u001b[0m \u001b[43m\u001b[49m\u001b[43m)\u001b[49m\n\u001b[0;32m    979\u001b[0m y \u001b[38;5;241m=\u001b[39m _check_y(y, multi_output\u001b[38;5;241m=\u001b[39mmulti_output, y_numeric\u001b[38;5;241m=\u001b[39my_numeric)\n\u001b[0;32m    981\u001b[0m check_consistent_length(X, y)\n",
      "File \u001b[1;32m~\\anaconda3\\lib\\site-packages\\sklearn\\utils\\validation.py:746\u001b[0m, in \u001b[0;36mcheck_array\u001b[1;34m(array, accept_sparse, accept_large_sparse, dtype, order, copy, force_all_finite, ensure_2d, allow_nd, ensure_min_samples, ensure_min_features, estimator)\u001b[0m\n\u001b[0;32m    744\u001b[0m         array \u001b[38;5;241m=\u001b[39m array\u001b[38;5;241m.\u001b[39mastype(dtype, casting\u001b[38;5;241m=\u001b[39m\u001b[38;5;124m\"\u001b[39m\u001b[38;5;124munsafe\u001b[39m\u001b[38;5;124m\"\u001b[39m, copy\u001b[38;5;241m=\u001b[39m\u001b[38;5;28;01mFalse\u001b[39;00m)\n\u001b[0;32m    745\u001b[0m     \u001b[38;5;28;01melse\u001b[39;00m:\n\u001b[1;32m--> 746\u001b[0m         array \u001b[38;5;241m=\u001b[39m \u001b[43mnp\u001b[49m\u001b[38;5;241;43m.\u001b[39;49m\u001b[43masarray\u001b[49m\u001b[43m(\u001b[49m\u001b[43marray\u001b[49m\u001b[43m,\u001b[49m\u001b[43m \u001b[49m\u001b[43morder\u001b[49m\u001b[38;5;241;43m=\u001b[39;49m\u001b[43morder\u001b[49m\u001b[43m,\u001b[49m\u001b[43m \u001b[49m\u001b[43mdtype\u001b[49m\u001b[38;5;241;43m=\u001b[39;49m\u001b[43mdtype\u001b[49m\u001b[43m)\u001b[49m\n\u001b[0;32m    747\u001b[0m \u001b[38;5;28;01mexcept\u001b[39;00m ComplexWarning \u001b[38;5;28;01mas\u001b[39;00m complex_warning:\n\u001b[0;32m    748\u001b[0m     \u001b[38;5;28;01mraise\u001b[39;00m \u001b[38;5;167;01mValueError\u001b[39;00m(\n\u001b[0;32m    749\u001b[0m         \u001b[38;5;124m\"\u001b[39m\u001b[38;5;124mComplex data not supported\u001b[39m\u001b[38;5;130;01m\\n\u001b[39;00m\u001b[38;5;132;01m{}\u001b[39;00m\u001b[38;5;130;01m\\n\u001b[39;00m\u001b[38;5;124m\"\u001b[39m\u001b[38;5;241m.\u001b[39mformat(array)\n\u001b[0;32m    750\u001b[0m     ) \u001b[38;5;28;01mfrom\u001b[39;00m \u001b[38;5;21;01mcomplex_warning\u001b[39;00m\n",
      "File \u001b[1;32m~\\anaconda3\\lib\\site-packages\\pandas\\core\\generic.py:2064\u001b[0m, in \u001b[0;36mNDFrame.__array__\u001b[1;34m(self, dtype)\u001b[0m\n\u001b[0;32m   2063\u001b[0m \u001b[38;5;28;01mdef\u001b[39;00m \u001b[38;5;21m__array__\u001b[39m(\u001b[38;5;28mself\u001b[39m, dtype: npt\u001b[38;5;241m.\u001b[39mDTypeLike \u001b[38;5;241m|\u001b[39m \u001b[38;5;28;01mNone\u001b[39;00m \u001b[38;5;241m=\u001b[39m \u001b[38;5;28;01mNone\u001b[39;00m) \u001b[38;5;241m-\u001b[39m\u001b[38;5;241m>\u001b[39m np\u001b[38;5;241m.\u001b[39mndarray:\n\u001b[1;32m-> 2064\u001b[0m     \u001b[38;5;28;01mreturn\u001b[39;00m \u001b[43mnp\u001b[49m\u001b[38;5;241;43m.\u001b[39;49m\u001b[43masarray\u001b[49m\u001b[43m(\u001b[49m\u001b[38;5;28;43mself\u001b[39;49m\u001b[38;5;241;43m.\u001b[39;49m\u001b[43m_values\u001b[49m\u001b[43m,\u001b[49m\u001b[43m \u001b[49m\u001b[43mdtype\u001b[49m\u001b[38;5;241;43m=\u001b[39;49m\u001b[43mdtype\u001b[49m\u001b[43m)\u001b[49m\n",
      "\u001b[1;31mValueError\u001b[0m: could not convert string to float: 'No'"
     ]
    }
   ],
   "source": [
    "model(LogisticRegression(),1)\n",
    "model(SVC(),2)\n",
    "model(DecisionTreeClassifier(),3)\n",
    "model(RandomForestClassifier(),4)\n",
    "model(KNeighborsClassifier(),5)\n",
    "model(GaussianNB(),6)\n",
    "model(MultinomialNB(),7)"
   ]
  },
  {
   "cell_type": "code",
   "execution_count": 28,
   "id": "cc16c8aa",
   "metadata": {},
   "outputs": [
    {
     "name": "stdout",
     "output_type": "stream",
     "text": [
      "Training Data:\n",
      "Accuracy:  1.0\n",
      "f1_score:  1.0\n",
      "precision_score:  1.0\n",
      "recall_score:  1.0\n",
      "\n",
      "Testing Data:\n",
      "Accuracy:  0.92\n",
      "f1_score:  0.92\n",
      "precision_score:  0.92\n",
      "recall_score:  0.92\n"
     ]
    }
   ],
   "source": [
    "rm_model = RandomForestClassifier()\n",
    "rm_model.fit(x_tt,y_tt)\n",
    "\n",
    "#train data\n",
    "yt_pred = rm_model.predict(x_tt)\n",
    "print('Training Data:')\n",
    "print('Accuracy: ', round(accuracy_score(y_tt,yt_pred),2))\n",
    "print('f1_score: ', round(f1_score(y_tt,yt_pred, average='micro'),2))\n",
    "print('precision_score: ', round(precision_score(y_tt,yt_pred, average='micro'),2))\n",
    "print('recall_score: ', round(recall_score(y_tt,yt_pred, average='micro'),2))\n",
    "\n",
    "#test data\n",
    "y_pred = rm_model.predict(x_te)\n",
    "print('\\nTesting Data:')\n",
    "print('Accuracy: ', round(accuracy_score(y_te,y_pred),2))\n",
    "print('f1_score: ', round(f1_score(y_te,y_pred, average='micro'),2))\n",
    "print('precision_score: ', round(precision_score(y_te,y_pred, average='micro'),2))\n",
    "print('recall_score: ', round(recall_score(y_te,y_pred, average='micro'),2))"
   ]
  },
  {
   "cell_type": "code",
   "execution_count": 29,
   "id": "767dc430",
   "metadata": {},
   "outputs": [
    {
     "name": "stdout",
     "output_type": "stream",
     "text": [
      "model test AUC score: 0.8676084896303969\n",
      "model train AUC score: 0.9969198067252526\n"
     ]
    },
    {
     "data": {
      "image/png": "[encoded data removed]",
      "text/plain": [
       "<Figure size 432x288 with 1 Axes>"
      ]
     },
     "metadata": {
      "needs_background": "light"
     },
     "output_type": "display_data"
    }
   ],
   "source": [
    "from sklearn.metrics import accuracy_score, confusion_matrix, roc_auc_score, roc_curve\n",
    "import matplotlib.pyplot as plt\n",
    "\n",
    "def plot_roc_curve(true_y, y_prob):\n",
    "    fpr, tpr, thresholds = roc_curve(true_y, y_prob)\n",
    "    plt.plot(fpr, tpr)\n",
    "#     plt.plot(thresholds)\n",
    "    plt.xlabel('False Positive Rate')\n",
    "    plt.ylabel('True Positive Rate')\n",
    "\n",
    "plot_roc_curve(y_te,y_pred)\n",
    "plot_roc_curve(y_tt,yt_pred)\n",
    "print(f'model test AUC score: {roc_auc_score(y_te,y_pred)}')\n",
    "print(f'model train AUC score: {roc_auc_score(y_tt,yt_pred)}')"
   ]
  },
  {
   "cell_type": "code",
   "execution_count": null,
   "id": "180b7157",
   "metadata": {},
   "outputs": [],
   "source": [
    "# from sklearn import tree\n",
    "# import sys\n",
    "# plt.figure(figsize=(100,100))\n",
    "# tree.plot_tree(dt_model,feature_names=X_train.columns)\n",
    "# plt.savefig(\"tree.png\")"
   ]
  },
  {
   "cell_type": "code",
   "execution_count": 30,
   "id": "055a48b1",
   "metadata": {},
   "outputs": [
    {
     "data": {
      "text/plain": [
       "Yes    60\n",
       "Name: Risk, dtype: int64"
      ]
     },
     "execution_count": 30,
     "metadata": {},
     "output_type": "execute_result"
    }
   ],
   "source": [
    "df[df.Age <18]['Risk'].value_counts()"
   ]
  },
  {
   "cell_type": "code",
   "execution_count": null,
   "id": "97079a9c",
   "metadata": {},
   "outputs": [],
   "source": []
  }
 ],
 "metadata": {
  "kernelspec": {
   "display_name": "Python 3 (ipykernel)",
   "language": "python",
   "name": "python3"
  },
  "language_info": {
   "codemirror_mode": {
    "name": "ipython",
    "version": 3
   },
   "file_extension": ".py",
   "mimetype": "text/x-python",
   "name": "python",
   "nbconvert_exporter": "python",
   "pygments_lexer": "ipython3",
   "version": "3.9.12"
  }
 },
 "nbformat": 4,
 "nbformat_minor": 5
}
