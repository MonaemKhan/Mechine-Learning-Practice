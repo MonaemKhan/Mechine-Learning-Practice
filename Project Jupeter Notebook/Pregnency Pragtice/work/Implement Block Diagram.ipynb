{
 "cells": [
  {
   "cell_type": "code",
   "execution_count": 1,
   "id": "a9ee27c4",
   "metadata": {},
   "outputs": [],
   "source": [
    "import warnings\n",
    "warnings.filterwarnings(\"ignore\")\n",
    "import pandas as pd\n",
    "import numpy as np\n",
    "df1 = pd.read_csv('final.csv')\n",
    "\n",
    "# df1 = df.drop(['Unnamed: 0'],axis=1)\n",
    "# df1 = df.drop_duplicates().reset_index(drop=True)\n",
    "\n",
    "from sklearn.preprocessing import LabelEncoder\n",
    "\n",
    "encoder = LabelEncoder()\n",
    "col = ['Blood Group ( is Negative?)','Jaundice','Diabetes','Risk']\n",
    "for x in col:\n",
    "    df1[x] = encoder.fit_transform(df1[x])\n",
    "    \n",
    "df2 = pd.get_dummies(df1,drop_first=True)\n",
    "\n",
    "X = df2.drop(['Risk','Height','Weight'],axis=1)\n",
    "y = df2.Risk\n",
    "\n",
    "from sklearn.model_selection import train_test_split\n",
    "X_train, X_test, y_train, y_test = train_test_split(X, y, test_size=0.3)"
   ]
  },
  {
   "cell_type": "code",
   "execution_count": 2,
   "id": "b3e66419",
   "metadata": {},
   "outputs": [
    {
     "data": {
      "text/html": [
       "<div>\n",
       "<style scoped>\n",
       "    .dataframe tbody tr th:only-of-type {\n",
       "        vertical-align: middle;\n",
       "    }\n",
       "\n",
       "    .dataframe tbody tr th {\n",
       "        vertical-align: top;\n",
       "    }\n",
       "\n",
       "    .dataframe thead th {\n",
       "        text-align: right;\n",
       "    }\n",
       "</style>\n",
       "<table border=\"1\" class=\"dataframe\">\n",
       "  <thead>\n",
       "    <tr style=\"text-align: right;\">\n",
       "      <th></th>\n",
       "      <th>Age</th>\n",
       "      <th>Height</th>\n",
       "      <th>Weight</th>\n",
       "      <th>BMI</th>\n",
       "      <th>Blood Group ( is Negative?)</th>\n",
       "      <th>Systolic Blood Pressure</th>\n",
       "      <th>Diastolic Blood Pressure</th>\n",
       "      <th>Jaundice</th>\n",
       "      <th>Diabetes</th>\n",
       "      <th>Risk</th>\n",
       "      <th>Para</th>\n",
       "      <th>Gravida</th>\n",
       "      <th>Delivery Type_No_delivary</th>\n",
       "      <th>Delivery Type_Normal</th>\n",
       "      <th>Edema_Modarate</th>\n",
       "      <th>Edema_Normal</th>\n",
       "      <th>Anemia_Normal</th>\n",
       "      <th>Anemia_Very-Low</th>\n",
       "    </tr>\n",
       "  </thead>\n",
       "  <tbody>\n",
       "    <tr>\n",
       "      <th>0</th>\n",
       "      <td>25</td>\n",
       "      <td>1.4732</td>\n",
       "      <td>53.3</td>\n",
       "      <td>23.73</td>\n",
       "      <td>0</td>\n",
       "      <td>120</td>\n",
       "      <td>70</td>\n",
       "      <td>0</td>\n",
       "      <td>0</td>\n",
       "      <td>0</td>\n",
       "      <td>2</td>\n",
       "      <td>3</td>\n",
       "      <td>0</td>\n",
       "      <td>1</td>\n",
       "      <td>0</td>\n",
       "      <td>1</td>\n",
       "      <td>0</td>\n",
       "      <td>0</td>\n",
       "    </tr>\n",
       "    <tr>\n",
       "      <th>1</th>\n",
       "      <td>30</td>\n",
       "      <td>1.5740</td>\n",
       "      <td>45.5</td>\n",
       "      <td>18.37</td>\n",
       "      <td>0</td>\n",
       "      <td>110</td>\n",
       "      <td>80</td>\n",
       "      <td>0</td>\n",
       "      <td>0</td>\n",
       "      <td>0</td>\n",
       "      <td>1</td>\n",
       "      <td>2</td>\n",
       "      <td>0</td>\n",
       "      <td>1</td>\n",
       "      <td>0</td>\n",
       "      <td>1</td>\n",
       "      <td>1</td>\n",
       "      <td>0</td>\n",
       "    </tr>\n",
       "    <tr>\n",
       "      <th>2</th>\n",
       "      <td>20</td>\n",
       "      <td>1.6250</td>\n",
       "      <td>52.2</td>\n",
       "      <td>19.77</td>\n",
       "      <td>0</td>\n",
       "      <td>120</td>\n",
       "      <td>70</td>\n",
       "      <td>0</td>\n",
       "      <td>0</td>\n",
       "      <td>0</td>\n",
       "      <td>0</td>\n",
       "      <td>1</td>\n",
       "      <td>1</td>\n",
       "      <td>0</td>\n",
       "      <td>0</td>\n",
       "      <td>1</td>\n",
       "      <td>0</td>\n",
       "      <td>0</td>\n",
       "    </tr>\n",
       "    <tr>\n",
       "      <th>3</th>\n",
       "      <td>22</td>\n",
       "      <td>1.4480</td>\n",
       "      <td>48.5</td>\n",
       "      <td>23.14</td>\n",
       "      <td>0</td>\n",
       "      <td>110</td>\n",
       "      <td>80</td>\n",
       "      <td>0</td>\n",
       "      <td>0</td>\n",
       "      <td>0</td>\n",
       "      <td>0</td>\n",
       "      <td>1</td>\n",
       "      <td>1</td>\n",
       "      <td>0</td>\n",
       "      <td>0</td>\n",
       "      <td>1</td>\n",
       "      <td>0</td>\n",
       "      <td>0</td>\n",
       "    </tr>\n",
       "    <tr>\n",
       "      <th>4</th>\n",
       "      <td>26</td>\n",
       "      <td>1.5240</td>\n",
       "      <td>50.0</td>\n",
       "      <td>21.53</td>\n",
       "      <td>0</td>\n",
       "      <td>110</td>\n",
       "      <td>70</td>\n",
       "      <td>0</td>\n",
       "      <td>0</td>\n",
       "      <td>0</td>\n",
       "      <td>0</td>\n",
       "      <td>1</td>\n",
       "      <td>1</td>\n",
       "      <td>0</td>\n",
       "      <td>0</td>\n",
       "      <td>1</td>\n",
       "      <td>1</td>\n",
       "      <td>0</td>\n",
       "    </tr>\n",
       "  </tbody>\n",
       "</table>\n",
       "</div>"
      ],
      "text/plain": [
       "   Age  Height  Weight    BMI  Blood Group ( is Negative?)  \\\n",
       "0   25  1.4732    53.3  23.73                            0   \n",
       "1   30  1.5740    45.5  18.37                            0   \n",
       "2   20  1.6250    52.2  19.77                            0   \n",
       "3   22  1.4480    48.5  23.14                            0   \n",
       "4   26  1.5240    50.0  21.53                            0   \n",
       "\n",
       "   Systolic Blood Pressure  Diastolic Blood Pressure  Jaundice  Diabetes  \\\n",
       "0                      120                        70         0         0   \n",
       "1                      110                        80         0         0   \n",
       "2                      120                        70         0         0   \n",
       "3                      110                        80         0         0   \n",
       "4                      110                        70         0         0   \n",
       "\n",
       "   Risk  Para  Gravida  Delivery Type_No_delivary  Delivery Type_Normal  \\\n",
       "0     0     2        3                          0                     1   \n",
       "1     0     1        2                          0                     1   \n",
       "2     0     0        1                          1                     0   \n",
       "3     0     0        1                          1                     0   \n",
       "4     0     0        1                          1                     0   \n",
       "\n",
       "   Edema_Modarate  Edema_Normal  Anemia_Normal  Anemia_Very-Low  \n",
       "0               0             1              0                0  \n",
       "1               0             1              1                0  \n",
       "2               0             1              0                0  \n",
       "3               0             1              0                0  \n",
       "4               0             1              1                0  "
      ]
     },
     "execution_count": 2,
     "metadata": {},
     "output_type": "execute_result"
    }
   ],
   "source": [
    "df2.head()"
   ]
  },
  {
   "cell_type": "code",
   "execution_count": 3,
   "id": "0407df20",
   "metadata": {},
   "outputs": [],
   "source": [
    "for i in range(len(X)):\n",
    "    X.loc[i,'parity'] = X.loc[i,'Gravida'] - X.loc[i,'Para']\n",
    "X['parity'] = X['parity'].astype(int)"
   ]
  },
  {
   "cell_type": "code",
   "execution_count": 4,
   "id": "64ec968a",
   "metadata": {},
   "outputs": [],
   "source": [
    "X = X.drop(['Para','Gravida'],axis=1)"
   ]
  },
  {
   "cell_type": "code",
   "execution_count": 5,
   "id": "01ff1428",
   "metadata": {},
   "outputs": [
    {
     "data": {
      "text/html": [
       "<div>\n",
       "<style scoped>\n",
       "    .dataframe tbody tr th:only-of-type {\n",
       "        vertical-align: middle;\n",
       "    }\n",
       "\n",
       "    .dataframe tbody tr th {\n",
       "        vertical-align: top;\n",
       "    }\n",
       "\n",
       "    .dataframe thead th {\n",
       "        text-align: right;\n",
       "    }\n",
       "</style>\n",
       "<table border=\"1\" class=\"dataframe\">\n",
       "  <thead>\n",
       "    <tr style=\"text-align: right;\">\n",
       "      <th></th>\n",
       "      <th>Age</th>\n",
       "      <th>BMI</th>\n",
       "      <th>Blood Group ( is Negative?)</th>\n",
       "      <th>Systolic Blood Pressure</th>\n",
       "      <th>Diastolic Blood Pressure</th>\n",
       "      <th>Jaundice</th>\n",
       "      <th>Diabetes</th>\n",
       "      <th>Delivery Type_No_delivary</th>\n",
       "      <th>Delivery Type_Normal</th>\n",
       "      <th>Edema_Modarate</th>\n",
       "      <th>Edema_Normal</th>\n",
       "      <th>Anemia_Normal</th>\n",
       "      <th>Anemia_Very-Low</th>\n",
       "      <th>parity</th>\n",
       "    </tr>\n",
       "  </thead>\n",
       "  <tbody>\n",
       "    <tr>\n",
       "      <th>0</th>\n",
       "      <td>25</td>\n",
       "      <td>23.73</td>\n",
       "      <td>0</td>\n",
       "      <td>120</td>\n",
       "      <td>70</td>\n",
       "      <td>0</td>\n",
       "      <td>0</td>\n",
       "      <td>0</td>\n",
       "      <td>1</td>\n",
       "      <td>0</td>\n",
       "      <td>1</td>\n",
       "      <td>0</td>\n",
       "      <td>0</td>\n",
       "      <td>1</td>\n",
       "    </tr>\n",
       "    <tr>\n",
       "      <th>1</th>\n",
       "      <td>30</td>\n",
       "      <td>18.37</td>\n",
       "      <td>0</td>\n",
       "      <td>110</td>\n",
       "      <td>80</td>\n",
       "      <td>0</td>\n",
       "      <td>0</td>\n",
       "      <td>0</td>\n",
       "      <td>1</td>\n",
       "      <td>0</td>\n",
       "      <td>1</td>\n",
       "      <td>1</td>\n",
       "      <td>0</td>\n",
       "      <td>1</td>\n",
       "    </tr>\n",
       "    <tr>\n",
       "      <th>2</th>\n",
       "      <td>20</td>\n",
       "      <td>19.77</td>\n",
       "      <td>0</td>\n",
       "      <td>120</td>\n",
       "      <td>70</td>\n",
       "      <td>0</td>\n",
       "      <td>0</td>\n",
       "      <td>1</td>\n",
       "      <td>0</td>\n",
       "      <td>0</td>\n",
       "      <td>1</td>\n",
       "      <td>0</td>\n",
       "      <td>0</td>\n",
       "      <td>1</td>\n",
       "    </tr>\n",
       "    <tr>\n",
       "      <th>3</th>\n",
       "      <td>22</td>\n",
       "      <td>23.14</td>\n",
       "      <td>0</td>\n",
       "      <td>110</td>\n",
       "      <td>80</td>\n",
       "      <td>0</td>\n",
       "      <td>0</td>\n",
       "      <td>1</td>\n",
       "      <td>0</td>\n",
       "      <td>0</td>\n",
       "      <td>1</td>\n",
       "      <td>0</td>\n",
       "      <td>0</td>\n",
       "      <td>1</td>\n",
       "    </tr>\n",
       "    <tr>\n",
       "      <th>4</th>\n",
       "      <td>26</td>\n",
       "      <td>21.53</td>\n",
       "      <td>0</td>\n",
       "      <td>110</td>\n",
       "      <td>70</td>\n",
       "      <td>0</td>\n",
       "      <td>0</td>\n",
       "      <td>1</td>\n",
       "      <td>0</td>\n",
       "      <td>0</td>\n",
       "      <td>1</td>\n",
       "      <td>1</td>\n",
       "      <td>0</td>\n",
       "      <td>1</td>\n",
       "    </tr>\n",
       "  </tbody>\n",
       "</table>\n",
       "</div>"
      ],
      "text/plain": [
       "   Age    BMI  Blood Group ( is Negative?)  Systolic Blood Pressure  \\\n",
       "0   25  23.73                            0                      120   \n",
       "1   30  18.37                            0                      110   \n",
       "2   20  19.77                            0                      120   \n",
       "3   22  23.14                            0                      110   \n",
       "4   26  21.53                            0                      110   \n",
       "\n",
       "   Diastolic Blood Pressure  Jaundice  Diabetes  Delivery Type_No_delivary  \\\n",
       "0                        70         0         0                          0   \n",
       "1                        80         0         0                          0   \n",
       "2                        70         0         0                          1   \n",
       "3                        80         0         0                          1   \n",
       "4                        70         0         0                          1   \n",
       "\n",
       "   Delivery Type_Normal  Edema_Modarate  Edema_Normal  Anemia_Normal  \\\n",
       "0                     1               0             1              0   \n",
       "1                     1               0             1              1   \n",
       "2                     0               0             1              0   \n",
       "3                     0               0             1              0   \n",
       "4                     0               0             1              1   \n",
       "\n",
       "   Anemia_Very-Low  parity  \n",
       "0                0       1  \n",
       "1                0       1  \n",
       "2                0       1  \n",
       "3                0       1  \n",
       "4                0       1  "
      ]
     },
     "execution_count": 5,
     "metadata": {},
     "output_type": "execute_result"
    }
   ],
   "source": [
    "X.head()"
   ]
  },
  {
   "cell_type": "code",
   "execution_count": 6,
   "id": "1b9e20c9",
   "metadata": {},
   "outputs": [
    {
     "data": {
      "text/plain": [
       "(3578, 18)"
      ]
     },
     "execution_count": 6,
     "metadata": {},
     "output_type": "execute_result"
    }
   ],
   "source": [
    "df2.shape"
   ]
  },
  {
   "cell_type": "code",
   "execution_count": 7,
   "id": "cdaa9ed1",
   "metadata": {},
   "outputs": [
    {
     "data": {
      "text/plain": [
       "0    1809\n",
       "1     695\n",
       "Name: Risk, dtype: int64"
      ]
     },
     "execution_count": 7,
     "metadata": {},
     "output_type": "execute_result"
    }
   ],
   "source": [
    "y_train.value_counts()"
   ]
  },
  {
   "cell_type": "code",
   "execution_count": 8,
   "id": "a25ee2e8",
   "metadata": {},
   "outputs": [
    {
     "data": {
      "text/plain": [
       "0    780\n",
       "1    294\n",
       "Name: Risk, dtype: int64"
      ]
     },
     "execution_count": 8,
     "metadata": {},
     "output_type": "execute_result"
    }
   ],
   "source": [
    "y_test.value_counts()"
   ]
  },
  {
   "cell_type": "code",
   "execution_count": 9,
   "id": "ff3c28d7",
   "metadata": {},
   "outputs": [
    {
     "data": {
      "text/plain": [
       "2504"
      ]
     },
     "execution_count": 9,
     "metadata": {},
     "output_type": "execute_result"
    }
   ],
   "source": [
    "len(X_train)"
   ]
  },
  {
   "cell_type": "code",
   "execution_count": 10,
   "id": "957d1598",
   "metadata": {},
   "outputs": [],
   "source": [
    "from sklearn.svm import SVC\n",
    "from sklearn.tree import DecisionTreeClassifier\n",
    "from sklearn.neighbors import KNeighborsClassifier\n",
    "from sklearn.ensemble import RandomForestClassifier\n",
    "from sklearn.linear_model import LogisticRegression\n",
    "from sklearn.naive_bayes import GaussianNB,MultinomialNB\n",
    "\n",
    "from sklearn.metrics import accuracy_score, f1_score, precision_score, recall_score"
   ]
  },
  {
   "cell_type": "code",
   "execution_count": 11,
   "id": "cba76605",
   "metadata": {},
   "outputs": [],
   "source": [
    "def model(model,i):\n",
    "    print(i,'.',model,':\\n')\n",
    "    model = model.fit(X_train,y_train)\n",
    "\n",
    "    #train data\n",
    "    y_pred = model.predict(X_train)\n",
    "    print('\\tTraining Data:')\n",
    "    print('\\t\\t> Accuracy: ', round(accuracy_score(y_train,y_pred),2)*100,'%',end=\" \")\n",
    "    print('\\t> f1_score: ', round(f1_score(y_train,y_pred, average='micro'),2)*100,'%',end=\" \")\n",
    "    print('\\t> precision_score: ', round(precision_score(y_train,y_pred, average='micro'),2)*100,'%',end=\" \")\n",
    "    print('\\t> recall_score: ', round(recall_score(y_train,y_pred, average='micro'),2)*100,'%',end=\" \")\n",
    "\n",
    "    #test data\n",
    "    y_pred = model.predict(X_test)\n",
    "    print('\\n\\tTesting Data:')\n",
    "    print('\\t\\t> Accuracy: ', round(accuracy_score(y_test,y_pred),2)*100,'%',end=\" \")\n",
    "    print('\\t> f1_score: ', round(f1_score(y_test,y_pred, average='micro'),2)*100,'%',end=\" \")\n",
    "    print('\\t> precision_score: ', round(precision_score(y_test,y_pred, average='micro'),2)*100,'%',end=\" \")\n",
    "    print('\\t> recall_score: ', round(recall_score(y_test,y_pred, average='micro'),2)*100,'%','\\n')"
   ]
  },
  {
   "cell_type": "code",
   "execution_count": 12,
   "id": "6915cd3f",
   "metadata": {},
   "outputs": [
    {
     "name": "stdout",
     "output_type": "stream",
     "text": [
      "1 . LogisticRegression() :\n",
      "\n",
      "\tTraining Data:\n",
      "\t\t> Accuracy:  81.0 % \t> f1_score:  81.0 % \t> precision_score:  81.0 % \t> recall_score:  81.0 % \n",
      "\tTesting Data:\n",
      "\t\t> Accuracy:  80.0 % \t> f1_score:  80.0 % \t> precision_score:  80.0 % \t> recall_score:  80.0 % \n",
      "\n",
      "2 . SVC() :\n",
      "\n",
      "\tTraining Data:\n",
      "\t\t> Accuracy:  73.0 % \t> f1_score:  73.0 % \t> precision_score:  73.0 % \t> recall_score:  73.0 % \n",
      "\tTesting Data:\n",
      "\t\t> Accuracy:  74.0 % \t> f1_score:  74.0 % \t> precision_score:  74.0 % \t> recall_score:  74.0 % \n",
      "\n",
      "3 . DecisionTreeClassifier() :\n",
      "\n",
      "\tTraining Data:\n",
      "\t\t> Accuracy:  100.0 % \t> f1_score:  100.0 % \t> precision_score:  100.0 % \t> recall_score:  100.0 % \n",
      "\tTesting Data:\n",
      "\t\t> Accuracy:  86.0 % \t> f1_score:  86.0 % \t> precision_score:  86.0 % \t> recall_score:  86.0 % \n",
      "\n",
      "4 . RandomForestClassifier() :\n",
      "\n",
      "\tTraining Data:\n",
      "\t\t> Accuracy:  100.0 % \t> f1_score:  100.0 % \t> precision_score:  100.0 % \t> recall_score:  100.0 % \n",
      "\tTesting Data:\n",
      "\t\t> Accuracy:  90.0 % \t> f1_score:  90.0 % \t> precision_score:  90.0 % \t> recall_score:  90.0 % \n",
      "\n",
      "5 . KNeighborsClassifier() :\n",
      "\n",
      "\tTraining Data:\n",
      "\t\t> Accuracy:  87.0 % \t> f1_score:  87.0 % \t> precision_score:  87.0 % \t> recall_score:  87.0 % \n",
      "\tTesting Data:\n",
      "\t\t> Accuracy:  83.0 % \t> f1_score:  83.0 % \t> precision_score:  83.0 % \t> recall_score:  83.0 % \n",
      "\n",
      "6 . GaussianNB() :\n",
      "\n",
      "\tTraining Data:\n",
      "\t\t> Accuracy:  78.0 % \t> f1_score:  78.0 % \t> precision_score:  78.0 % \t> recall_score:  78.0 % \n",
      "\tTesting Data:\n",
      "\t\t> Accuracy:  77.0 % \t> f1_score:  77.0 % \t> precision_score:  77.0 % \t> recall_score:  77.0 % \n",
      "\n",
      "7 . MultinomialNB() :\n",
      "\n",
      "\tTraining Data:\n",
      "\t\t> Accuracy:  78.0 % \t> f1_score:  78.0 % \t> precision_score:  78.0 % \t> recall_score:  78.0 % \n",
      "\tTesting Data:\n",
      "\t\t> Accuracy:  78.0 % \t> f1_score:  78.0 % \t> precision_score:  78.0 % \t> recall_score:  78.0 % \n",
      "\n"
     ]
    }
   ],
   "source": [
    "model(LogisticRegression(),1)\n",
    "model(SVC(),2)\n",
    "model(DecisionTreeClassifier(),3)\n",
    "model(RandomForestClassifier(),4)\n",
    "model(KNeighborsClassifier(),5)\n",
    "model(GaussianNB(),6)\n",
    "model(MultinomialNB(),7)"
   ]
  },
  {
   "cell_type": "markdown",
   "id": "7c2aa8e9",
   "metadata": {},
   "source": [
    "# Other Test"
   ]
  },
  {
   "cell_type": "code",
   "execution_count": 13,
   "id": "fd93d701",
   "metadata": {},
   "outputs": [],
   "source": [
    "import warnings\n",
    "warnings.filterwarnings(\"ignore\")\n",
    "import pandas as pd\n",
    "import numpy as np\n",
    "d = pd.read_csv('final.csv')\n",
    "\n",
    "# df1 = df.drop(['Unnamed: 0'],axis=1)\n",
    "d1 = d.drop_duplicates().reset_index(drop=True)\n",
    "\n",
    "# from sklearn.preprocessing import LabelEncoder\n",
    "\n",
    "# encoder = LabelEncoder()\n",
    "# col = ['Blood Group ( is Negative?)','Jaundice','Diabetes','Risk','Delivery Type','Edema','Anemia']\n",
    "# for x in col:\n",
    "#     df1[x] = encoder.fit_transform(df1[x])"
   ]
  },
  {
   "cell_type": "code",
   "execution_count": 14,
   "id": "ed100591",
   "metadata": {},
   "outputs": [
    {
     "data": {
      "text/plain": [
       "array(['Low', 'Normal', 'Very-Low'], dtype=object)"
      ]
     },
     "execution_count": 14,
     "metadata": {},
     "output_type": "execute_result"
    }
   ],
   "source": [
    "d1['Anemia'].unique()"
   ]
  },
  {
   "cell_type": "code",
   "execution_count": 15,
   "id": "288a9c81",
   "metadata": {},
   "outputs": [],
   "source": [
    "d1['Blood Group ( is Negative?)'] = d1['Blood Group ( is Negative?)'].map({'Yes':1,'No':0})\n",
    "d1['Jaundice'] = d1['Jaundice'].map({'Yes':1,'No':0})\n",
    "d1['Diabetes'] = d1['Diabetes'].map({'Yes':1,'No':0})\n",
    "d1['Risk'] = d1['Risk'].map({'Yes':1,'No':0})\n",
    "d1['Delivery Type'] = d1['Delivery Type'].map({'No_delivary':0,'Normal':1,'C-section':2})\n",
    "d1['Edema'] = d1['Edema'].map({'Normal':0,'High':1,'Modarate':2})\n",
    "d1['Anemia'] = d1['Anemia'].map({'Normal':0,'Low':1,'Very-Low':2})"
   ]
  },
  {
   "cell_type": "code",
   "execution_count": 16,
   "id": "88d06478",
   "metadata": {},
   "outputs": [
    {
     "data": {
      "text/html": [
       "<div>\n",
       "<style scoped>\n",
       "    .dataframe tbody tr th:only-of-type {\n",
       "        vertical-align: middle;\n",
       "    }\n",
       "\n",
       "    .dataframe tbody tr th {\n",
       "        vertical-align: top;\n",
       "    }\n",
       "\n",
       "    .dataframe thead th {\n",
       "        text-align: right;\n",
       "    }\n",
       "</style>\n",
       "<table border=\"1\" class=\"dataframe\">\n",
       "  <thead>\n",
       "    <tr style=\"text-align: right;\">\n",
       "      <th></th>\n",
       "      <th>Age</th>\n",
       "      <th>Height</th>\n",
       "      <th>Weight</th>\n",
       "      <th>BMI</th>\n",
       "      <th>Blood Group ( is Negative?)</th>\n",
       "      <th>Delivery Type</th>\n",
       "      <th>Systolic Blood Pressure</th>\n",
       "      <th>Diastolic Blood Pressure</th>\n",
       "      <th>Edema</th>\n",
       "      <th>Anemia</th>\n",
       "      <th>Jaundice</th>\n",
       "      <th>Diabetes</th>\n",
       "      <th>Risk</th>\n",
       "      <th>Para</th>\n",
       "      <th>Gravida</th>\n",
       "    </tr>\n",
       "  </thead>\n",
       "  <tbody>\n",
       "    <tr>\n",
       "      <th>3573</th>\n",
       "      <td>19</td>\n",
       "      <td>1.575</td>\n",
       "      <td>62.0</td>\n",
       "      <td>25.00</td>\n",
       "      <td>0</td>\n",
       "      <td>0</td>\n",
       "      <td>110</td>\n",
       "      <td>70</td>\n",
       "      <td>0</td>\n",
       "      <td>0</td>\n",
       "      <td>0</td>\n",
       "      <td>0</td>\n",
       "      <td>0</td>\n",
       "      <td>0</td>\n",
       "      <td>1</td>\n",
       "    </tr>\n",
       "    <tr>\n",
       "      <th>3034</th>\n",
       "      <td>18</td>\n",
       "      <td>1.651</td>\n",
       "      <td>64.0</td>\n",
       "      <td>23.48</td>\n",
       "      <td>0</td>\n",
       "      <td>0</td>\n",
       "      <td>130</td>\n",
       "      <td>80</td>\n",
       "      <td>0</td>\n",
       "      <td>1</td>\n",
       "      <td>0</td>\n",
       "      <td>0</td>\n",
       "      <td>0</td>\n",
       "      <td>0</td>\n",
       "      <td>1</td>\n",
       "    </tr>\n",
       "    <tr>\n",
       "      <th>83</th>\n",
       "      <td>17</td>\n",
       "      <td>1.524</td>\n",
       "      <td>60.2</td>\n",
       "      <td>25.92</td>\n",
       "      <td>0</td>\n",
       "      <td>0</td>\n",
       "      <td>110</td>\n",
       "      <td>70</td>\n",
       "      <td>0</td>\n",
       "      <td>0</td>\n",
       "      <td>0</td>\n",
       "      <td>0</td>\n",
       "      <td>1</td>\n",
       "      <td>0</td>\n",
       "      <td>1</td>\n",
       "    </tr>\n",
       "    <tr>\n",
       "      <th>949</th>\n",
       "      <td>22</td>\n",
       "      <td>1.524</td>\n",
       "      <td>71.0</td>\n",
       "      <td>30.57</td>\n",
       "      <td>0</td>\n",
       "      <td>0</td>\n",
       "      <td>120</td>\n",
       "      <td>80</td>\n",
       "      <td>0</td>\n",
       "      <td>1</td>\n",
       "      <td>0</td>\n",
       "      <td>0</td>\n",
       "      <td>0</td>\n",
       "      <td>0</td>\n",
       "      <td>1</td>\n",
       "    </tr>\n",
       "    <tr>\n",
       "      <th>327</th>\n",
       "      <td>27</td>\n",
       "      <td>1.448</td>\n",
       "      <td>61.0</td>\n",
       "      <td>29.10</td>\n",
       "      <td>0</td>\n",
       "      <td>1</td>\n",
       "      <td>120</td>\n",
       "      <td>70</td>\n",
       "      <td>0</td>\n",
       "      <td>1</td>\n",
       "      <td>0</td>\n",
       "      <td>0</td>\n",
       "      <td>0</td>\n",
       "      <td>2</td>\n",
       "      <td>4</td>\n",
       "    </tr>\n",
       "  </tbody>\n",
       "</table>\n",
       "</div>"
      ],
      "text/plain": [
       "      Age  Height  Weight    BMI  Blood Group ( is Negative?)  Delivery Type  \\\n",
       "3573   19   1.575    62.0  25.00                            0              0   \n",
       "3034   18   1.651    64.0  23.48                            0              0   \n",
       "83     17   1.524    60.2  25.92                            0              0   \n",
       "949    22   1.524    71.0  30.57                            0              0   \n",
       "327    27   1.448    61.0  29.10                            0              1   \n",
       "\n",
       "      Systolic Blood Pressure  Diastolic Blood Pressure  Edema  Anemia  \\\n",
       "3573                      110                        70      0       0   \n",
       "3034                      130                        80      0       1   \n",
       "83                        110                        70      0       0   \n",
       "949                       120                        80      0       1   \n",
       "327                       120                        70      0       1   \n",
       "\n",
       "      Jaundice  Diabetes  Risk  Para  Gravida  \n",
       "3573         0         0     0     0        1  \n",
       "3034         0         0     0     0        1  \n",
       "83           0         0     1     0        1  \n",
       "949          0         0     0     0        1  \n",
       "327          0         0     0     2        4  "
      ]
     },
     "execution_count": 16,
     "metadata": {},
     "output_type": "execute_result"
    }
   ],
   "source": [
    "d1.sample(5)"
   ]
  },
  {
   "cell_type": "code",
   "execution_count": 17,
   "id": "3ec05cd0",
   "metadata": {},
   "outputs": [],
   "source": [
    "d1 = d1.sample(frac=1).reset_index(drop=True)"
   ]
  },
  {
   "cell_type": "code",
   "execution_count": 18,
   "id": "0d67db52",
   "metadata": {},
   "outputs": [],
   "source": [
    "length = int(len(df1)*0.70)"
   ]
  },
  {
   "cell_type": "code",
   "execution_count": 19,
   "id": "86c27676",
   "metadata": {},
   "outputs": [],
   "source": [
    "train = df1[:length]\n",
    "test = df1[length:]"
   ]
  },
  {
   "cell_type": "code",
   "execution_count": 20,
   "id": "67885bbd",
   "metadata": {},
   "outputs": [],
   "source": [
    "x_tt = train.drop(['Risk','Height','Weight'],axis=1)\n",
    "y_tt = train.Risk"
   ]
  },
  {
   "cell_type": "code",
   "execution_count": 21,
   "id": "941dfa76",
   "metadata": {},
   "outputs": [
    {
     "data": {
      "text/plain": [
       "(2504, 15)"
      ]
     },
     "execution_count": 21,
     "metadata": {},
     "output_type": "execute_result"
    }
   ],
   "source": [
    "train.shape"
   ]
  },
  {
   "cell_type": "code",
   "execution_count": 22,
   "id": "3358ab93",
   "metadata": {},
   "outputs": [],
   "source": [
    "x_te = test.drop(['Risk','Height','Weight'],axis=1)\n",
    "y_te = test.Risk"
   ]
  },
  {
   "cell_type": "code",
   "execution_count": 23,
   "id": "fc97f43c",
   "metadata": {},
   "outputs": [
    {
     "data": {
      "text/plain": [
       "0    765\n",
       "1    309\n",
       "Name: Risk, dtype: int64"
      ]
     },
     "execution_count": 23,
     "metadata": {},
     "output_type": "execute_result"
    }
   ],
   "source": [
    "y_te.value_counts()"
   ]
  },
  {
   "cell_type": "code",
   "execution_count": 24,
   "id": "9582be12",
   "metadata": {},
   "outputs": [
    {
     "data": {
      "text/plain": [
       "0    1824\n",
       "1     680\n",
       "Name: Risk, dtype: int64"
      ]
     },
     "execution_count": 24,
     "metadata": {},
     "output_type": "execute_result"
    }
   ],
   "source": [
    "y_tt.value_counts()"
   ]
  },
  {
   "cell_type": "code",
   "execution_count": 25,
   "id": "d4b52dfa",
   "metadata": {},
   "outputs": [],
   "source": [
    "def model(model,i):\n",
    "    print(i,'.',model,':\\n')\n",
    "    model = model.fit(x_tt,y_tt)\n",
    "\n",
    "    #train data\n",
    "    y_pred = model.predict(x_tt)\n",
    "    print('\\tTraining Data:')\n",
    "    print('\\t\\t> Accuracy: ', round(accuracy_score(y_tt,y_pred),2)*100,'%',end=\" \")\n",
    "    print('\\t> f1_score: ', round(f1_score(y_tt,y_pred, average='micro'),2)*100,'%',end=\" \")\n",
    "    print('\\t> precision_score: ', round(precision_score(y_tt,y_pred, average='micro'),2)*100,'%',end=\" \")\n",
    "    print('\\t> recall_score: ', round(recall_score(y_tt,y_pred, average='micro'),2)*100,'%',end=\" \")\n",
    "\n",
    "    #test data\n",
    "    y_pred = model.predict(x_te)\n",
    "    print('\\n\\tTesting Data:')\n",
    "    print('\\t\\t> Accuracy: ', round(accuracy_score(y_te,y_pred),2)*100,'%',end=\" \")\n",
    "    print('\\t> f1_score: ', round(f1_score(y_te,y_pred, average='micro'),2)*100,'%',end=\" \")\n",
    "    print('\\t> precision_score: ', round(precision_score(y_te,y_pred, average='micro'),2)*100,'%',end=\" \")\n",
    "    print('\\t> recall_score: ', round(recall_score(y_te,y_pred, average='micro'),2)*100,'%','\\n')"
   ]
  },
  {
   "cell_type": "code",
   "execution_count": 27,
   "id": "2ccd4ac6",
   "metadata": {},
   "outputs": [
    {
     "name": "stdout",
     "output_type": "stream",
     "text": [
      "2 . SVC() :\n",
      "\n"
     ]
    },
    {
     "ename": "ValueError",
     "evalue": "could not convert string to float: 'Normal'",
     "output_type": "error",
     "traceback": [
      "\u001b[1;31m---------------------------------------------------------------------------\u001b[0m",
      "\u001b[1;31mValueError\u001b[0m                                Traceback (most recent call last)",
      "Input \u001b[1;32mIn [27]\u001b[0m, in \u001b[0;36m<cell line: 2>\u001b[1;34m()\u001b[0m\n\u001b[0;32m      1\u001b[0m \u001b[38;5;66;03m# model(LogisticRegression(),1)\u001b[39;00m\n\u001b[1;32m----> 2\u001b[0m \u001b[43mmodel\u001b[49m\u001b[43m(\u001b[49m\u001b[43mSVC\u001b[49m\u001b[43m(\u001b[49m\u001b[43m)\u001b[49m\u001b[43m,\u001b[49m\u001b[38;5;241;43m2\u001b[39;49m\u001b[43m)\u001b[49m\n\u001b[0;32m      3\u001b[0m model(DecisionTreeClassifier(),\u001b[38;5;241m3\u001b[39m)\n\u001b[0;32m      4\u001b[0m model(RandomForestClassifier(),\u001b[38;5;241m4\u001b[39m)\n",
      "Input \u001b[1;32mIn [25]\u001b[0m, in \u001b[0;36mmodel\u001b[1;34m(model, i)\u001b[0m\n\u001b[0;32m      1\u001b[0m \u001b[38;5;28;01mdef\u001b[39;00m \u001b[38;5;21mmodel\u001b[39m(model,i):\n\u001b[0;32m      2\u001b[0m     \u001b[38;5;28mprint\u001b[39m(i,\u001b[38;5;124m'\u001b[39m\u001b[38;5;124m.\u001b[39m\u001b[38;5;124m'\u001b[39m,model,\u001b[38;5;124m'\u001b[39m\u001b[38;5;124m:\u001b[39m\u001b[38;5;130;01m\\n\u001b[39;00m\u001b[38;5;124m'\u001b[39m)\n\u001b[1;32m----> 3\u001b[0m     model \u001b[38;5;241m=\u001b[39m \u001b[43mmodel\u001b[49m\u001b[38;5;241;43m.\u001b[39;49m\u001b[43mfit\u001b[49m\u001b[43m(\u001b[49m\u001b[43mx_tt\u001b[49m\u001b[43m,\u001b[49m\u001b[43my_tt\u001b[49m\u001b[43m)\u001b[49m\n\u001b[0;32m      5\u001b[0m     \u001b[38;5;66;03m#train data\u001b[39;00m\n\u001b[0;32m      6\u001b[0m     y_pred \u001b[38;5;241m=\u001b[39m model\u001b[38;5;241m.\u001b[39mpredict(x_tt)\n",
      "File \u001b[1;32m~\\anaconda3\\lib\\site-packages\\sklearn\\svm\\_base.py:190\u001b[0m, in \u001b[0;36mBaseLibSVM.fit\u001b[1;34m(self, X, y, sample_weight)\u001b[0m\n\u001b[0;32m    188\u001b[0m     check_consistent_length(X, y)\n\u001b[0;32m    189\u001b[0m \u001b[38;5;28;01melse\u001b[39;00m:\n\u001b[1;32m--> 190\u001b[0m     X, y \u001b[38;5;241m=\u001b[39m \u001b[38;5;28;43mself\u001b[39;49m\u001b[38;5;241;43m.\u001b[39;49m\u001b[43m_validate_data\u001b[49m\u001b[43m(\u001b[49m\n\u001b[0;32m    191\u001b[0m \u001b[43m        \u001b[49m\u001b[43mX\u001b[49m\u001b[43m,\u001b[49m\n\u001b[0;32m    192\u001b[0m \u001b[43m        \u001b[49m\u001b[43my\u001b[49m\u001b[43m,\u001b[49m\n\u001b[0;32m    193\u001b[0m \u001b[43m        \u001b[49m\u001b[43mdtype\u001b[49m\u001b[38;5;241;43m=\u001b[39;49m\u001b[43mnp\u001b[49m\u001b[38;5;241;43m.\u001b[39;49m\u001b[43mfloat64\u001b[49m\u001b[43m,\u001b[49m\n\u001b[0;32m    194\u001b[0m \u001b[43m        \u001b[49m\u001b[43morder\u001b[49m\u001b[38;5;241;43m=\u001b[39;49m\u001b[38;5;124;43m\"\u001b[39;49m\u001b[38;5;124;43mC\u001b[39;49m\u001b[38;5;124;43m\"\u001b[39;49m\u001b[43m,\u001b[49m\n\u001b[0;32m    195\u001b[0m \u001b[43m        \u001b[49m\u001b[43maccept_sparse\u001b[49m\u001b[38;5;241;43m=\u001b[39;49m\u001b[38;5;124;43m\"\u001b[39;49m\u001b[38;5;124;43mcsr\u001b[39;49m\u001b[38;5;124;43m\"\u001b[39;49m\u001b[43m,\u001b[49m\n\u001b[0;32m    196\u001b[0m \u001b[43m        \u001b[49m\u001b[43maccept_large_sparse\u001b[49m\u001b[38;5;241;43m=\u001b[39;49m\u001b[38;5;28;43;01mFalse\u001b[39;49;00m\u001b[43m,\u001b[49m\n\u001b[0;32m    197\u001b[0m \u001b[43m    \u001b[49m\u001b[43m)\u001b[49m\n\u001b[0;32m    199\u001b[0m y \u001b[38;5;241m=\u001b[39m \u001b[38;5;28mself\u001b[39m\u001b[38;5;241m.\u001b[39m_validate_targets(y)\n\u001b[0;32m    201\u001b[0m sample_weight \u001b[38;5;241m=\u001b[39m np\u001b[38;5;241m.\u001b[39masarray(\n\u001b[0;32m    202\u001b[0m     [] \u001b[38;5;28;01mif\u001b[39;00m sample_weight \u001b[38;5;129;01mis\u001b[39;00m \u001b[38;5;28;01mNone\u001b[39;00m \u001b[38;5;28;01melse\u001b[39;00m sample_weight, dtype\u001b[38;5;241m=\u001b[39mnp\u001b[38;5;241m.\u001b[39mfloat64\n\u001b[0;32m    203\u001b[0m )\n",
      "File \u001b[1;32m~\\anaconda3\\lib\\site-packages\\sklearn\\base.py:581\u001b[0m, in \u001b[0;36mBaseEstimator._validate_data\u001b[1;34m(self, X, y, reset, validate_separately, **check_params)\u001b[0m\n\u001b[0;32m    579\u001b[0m         y \u001b[38;5;241m=\u001b[39m check_array(y, \u001b[38;5;241m*\u001b[39m\u001b[38;5;241m*\u001b[39mcheck_y_params)\n\u001b[0;32m    580\u001b[0m     \u001b[38;5;28;01melse\u001b[39;00m:\n\u001b[1;32m--> 581\u001b[0m         X, y \u001b[38;5;241m=\u001b[39m check_X_y(X, y, \u001b[38;5;241m*\u001b[39m\u001b[38;5;241m*\u001b[39mcheck_params)\n\u001b[0;32m    582\u001b[0m     out \u001b[38;5;241m=\u001b[39m X, y\n\u001b[0;32m    584\u001b[0m \u001b[38;5;28;01mif\u001b[39;00m \u001b[38;5;129;01mnot\u001b[39;00m no_val_X \u001b[38;5;129;01mand\u001b[39;00m check_params\u001b[38;5;241m.\u001b[39mget(\u001b[38;5;124m\"\u001b[39m\u001b[38;5;124mensure_2d\u001b[39m\u001b[38;5;124m\"\u001b[39m, \u001b[38;5;28;01mTrue\u001b[39;00m):\n",
      "File \u001b[1;32m~\\anaconda3\\lib\\site-packages\\sklearn\\utils\\validation.py:964\u001b[0m, in \u001b[0;36mcheck_X_y\u001b[1;34m(X, y, accept_sparse, accept_large_sparse, dtype, order, copy, force_all_finite, ensure_2d, allow_nd, multi_output, ensure_min_samples, ensure_min_features, y_numeric, estimator)\u001b[0m\n\u001b[0;32m    961\u001b[0m \u001b[38;5;28;01mif\u001b[39;00m y \u001b[38;5;129;01mis\u001b[39;00m \u001b[38;5;28;01mNone\u001b[39;00m:\n\u001b[0;32m    962\u001b[0m     \u001b[38;5;28;01mraise\u001b[39;00m \u001b[38;5;167;01mValueError\u001b[39;00m(\u001b[38;5;124m\"\u001b[39m\u001b[38;5;124my cannot be None\u001b[39m\u001b[38;5;124m\"\u001b[39m)\n\u001b[1;32m--> 964\u001b[0m X \u001b[38;5;241m=\u001b[39m \u001b[43mcheck_array\u001b[49m\u001b[43m(\u001b[49m\n\u001b[0;32m    965\u001b[0m \u001b[43m    \u001b[49m\u001b[43mX\u001b[49m\u001b[43m,\u001b[49m\n\u001b[0;32m    966\u001b[0m \u001b[43m    \u001b[49m\u001b[43maccept_sparse\u001b[49m\u001b[38;5;241;43m=\u001b[39;49m\u001b[43maccept_sparse\u001b[49m\u001b[43m,\u001b[49m\n\u001b[0;32m    967\u001b[0m \u001b[43m    \u001b[49m\u001b[43maccept_large_sparse\u001b[49m\u001b[38;5;241;43m=\u001b[39;49m\u001b[43maccept_large_sparse\u001b[49m\u001b[43m,\u001b[49m\n\u001b[0;32m    968\u001b[0m \u001b[43m    \u001b[49m\u001b[43mdtype\u001b[49m\u001b[38;5;241;43m=\u001b[39;49m\u001b[43mdtype\u001b[49m\u001b[43m,\u001b[49m\n\u001b[0;32m    969\u001b[0m \u001b[43m    \u001b[49m\u001b[43morder\u001b[49m\u001b[38;5;241;43m=\u001b[39;49m\u001b[43morder\u001b[49m\u001b[43m,\u001b[49m\n\u001b[0;32m    970\u001b[0m \u001b[43m    \u001b[49m\u001b[43mcopy\u001b[49m\u001b[38;5;241;43m=\u001b[39;49m\u001b[43mcopy\u001b[49m\u001b[43m,\u001b[49m\n\u001b[0;32m    971\u001b[0m \u001b[43m    \u001b[49m\u001b[43mforce_all_finite\u001b[49m\u001b[38;5;241;43m=\u001b[39;49m\u001b[43mforce_all_finite\u001b[49m\u001b[43m,\u001b[49m\n\u001b[0;32m    972\u001b[0m \u001b[43m    \u001b[49m\u001b[43mensure_2d\u001b[49m\u001b[38;5;241;43m=\u001b[39;49m\u001b[43mensure_2d\u001b[49m\u001b[43m,\u001b[49m\n\u001b[0;32m    973\u001b[0m \u001b[43m    \u001b[49m\u001b[43mallow_nd\u001b[49m\u001b[38;5;241;43m=\u001b[39;49m\u001b[43mallow_nd\u001b[49m\u001b[43m,\u001b[49m\n\u001b[0;32m    974\u001b[0m \u001b[43m    \u001b[49m\u001b[43mensure_min_samples\u001b[49m\u001b[38;5;241;43m=\u001b[39;49m\u001b[43mensure_min_samples\u001b[49m\u001b[43m,\u001b[49m\n\u001b[0;32m    975\u001b[0m \u001b[43m    \u001b[49m\u001b[43mensure_min_features\u001b[49m\u001b[38;5;241;43m=\u001b[39;49m\u001b[43mensure_min_features\u001b[49m\u001b[43m,\u001b[49m\n\u001b[0;32m    976\u001b[0m \u001b[43m    \u001b[49m\u001b[43mestimator\u001b[49m\u001b[38;5;241;43m=\u001b[39;49m\u001b[43mestimator\u001b[49m\u001b[43m,\u001b[49m\n\u001b[0;32m    977\u001b[0m \u001b[43m\u001b[49m\u001b[43m)\u001b[49m\n\u001b[0;32m    979\u001b[0m y \u001b[38;5;241m=\u001b[39m _check_y(y, multi_output\u001b[38;5;241m=\u001b[39mmulti_output, y_numeric\u001b[38;5;241m=\u001b[39my_numeric)\n\u001b[0;32m    981\u001b[0m check_consistent_length(X, y)\n",
      "File \u001b[1;32m~\\anaconda3\\lib\\site-packages\\sklearn\\utils\\validation.py:746\u001b[0m, in \u001b[0;36mcheck_array\u001b[1;34m(array, accept_sparse, accept_large_sparse, dtype, order, copy, force_all_finite, ensure_2d, allow_nd, ensure_min_samples, ensure_min_features, estimator)\u001b[0m\n\u001b[0;32m    744\u001b[0m         array \u001b[38;5;241m=\u001b[39m array\u001b[38;5;241m.\u001b[39mastype(dtype, casting\u001b[38;5;241m=\u001b[39m\u001b[38;5;124m\"\u001b[39m\u001b[38;5;124munsafe\u001b[39m\u001b[38;5;124m\"\u001b[39m, copy\u001b[38;5;241m=\u001b[39m\u001b[38;5;28;01mFalse\u001b[39;00m)\n\u001b[0;32m    745\u001b[0m     \u001b[38;5;28;01melse\u001b[39;00m:\n\u001b[1;32m--> 746\u001b[0m         array \u001b[38;5;241m=\u001b[39m \u001b[43mnp\u001b[49m\u001b[38;5;241;43m.\u001b[39;49m\u001b[43masarray\u001b[49m\u001b[43m(\u001b[49m\u001b[43marray\u001b[49m\u001b[43m,\u001b[49m\u001b[43m \u001b[49m\u001b[43morder\u001b[49m\u001b[38;5;241;43m=\u001b[39;49m\u001b[43morder\u001b[49m\u001b[43m,\u001b[49m\u001b[43m \u001b[49m\u001b[43mdtype\u001b[49m\u001b[38;5;241;43m=\u001b[39;49m\u001b[43mdtype\u001b[49m\u001b[43m)\u001b[49m\n\u001b[0;32m    747\u001b[0m \u001b[38;5;28;01mexcept\u001b[39;00m ComplexWarning \u001b[38;5;28;01mas\u001b[39;00m complex_warning:\n\u001b[0;32m    748\u001b[0m     \u001b[38;5;28;01mraise\u001b[39;00m \u001b[38;5;167;01mValueError\u001b[39;00m(\n\u001b[0;32m    749\u001b[0m         \u001b[38;5;124m\"\u001b[39m\u001b[38;5;124mComplex data not supported\u001b[39m\u001b[38;5;130;01m\\n\u001b[39;00m\u001b[38;5;132;01m{}\u001b[39;00m\u001b[38;5;130;01m\\n\u001b[39;00m\u001b[38;5;124m\"\u001b[39m\u001b[38;5;241m.\u001b[39mformat(array)\n\u001b[0;32m    750\u001b[0m     ) \u001b[38;5;28;01mfrom\u001b[39;00m \u001b[38;5;21;01mcomplex_warning\u001b[39;00m\n",
      "File \u001b[1;32m~\\anaconda3\\lib\\site-packages\\pandas\\core\\generic.py:2064\u001b[0m, in \u001b[0;36mNDFrame.__array__\u001b[1;34m(self, dtype)\u001b[0m\n\u001b[0;32m   2063\u001b[0m \u001b[38;5;28;01mdef\u001b[39;00m \u001b[38;5;21m__array__\u001b[39m(\u001b[38;5;28mself\u001b[39m, dtype: npt\u001b[38;5;241m.\u001b[39mDTypeLike \u001b[38;5;241m|\u001b[39m \u001b[38;5;28;01mNone\u001b[39;00m \u001b[38;5;241m=\u001b[39m \u001b[38;5;28;01mNone\u001b[39;00m) \u001b[38;5;241m-\u001b[39m\u001b[38;5;241m>\u001b[39m np\u001b[38;5;241m.\u001b[39mndarray:\n\u001b[1;32m-> 2064\u001b[0m     \u001b[38;5;28;01mreturn\u001b[39;00m \u001b[43mnp\u001b[49m\u001b[38;5;241;43m.\u001b[39;49m\u001b[43masarray\u001b[49m\u001b[43m(\u001b[49m\u001b[38;5;28;43mself\u001b[39;49m\u001b[38;5;241;43m.\u001b[39;49m\u001b[43m_values\u001b[49m\u001b[43m,\u001b[49m\u001b[43m \u001b[49m\u001b[43mdtype\u001b[49m\u001b[38;5;241;43m=\u001b[39;49m\u001b[43mdtype\u001b[49m\u001b[43m)\u001b[49m\n",
      "\u001b[1;31mValueError\u001b[0m: could not convert string to float: 'Normal'"
     ]
    }
   ],
   "source": [
    "# model(LogisticRegression(),1)\n",
    "model(SVC(),2)\n",
    "model(DecisionTreeClassifier(),3)\n",
    "model(RandomForestClassifier(),4)\n",
    "model(KNeighborsClassifier(),5)\n",
    "model(GaussianNB(),6)\n",
    "model(MultinomialNB(),7)"
   ]
  },
  {
   "cell_type": "code",
   "execution_count": null,
   "id": "cc16c8aa",
   "metadata": {},
   "outputs": [],
   "source": [
    "rm_model = RandomForestClassifier()\n",
    "rm_model.fit(x_tt,y_tt)\n",
    "\n",
    "#train data\n",
    "yt_pred = rm_model.predict(x_tt)\n",
    "print('Training Data:')\n",
    "print('Accuracy: ', round(accuracy_score(y_tt,yt_pred),2))\n",
    "print('f1_score: ', round(f1_score(y_tt,yt_pred, average='micro'),2))\n",
    "print('precision_score: ', round(precision_score(y_tt,yt_pred, average='micro'),2))\n",
    "print('recall_score: ', round(recall_score(y_tt,yt_pred, average='micro'),2))\n",
    "\n",
    "#test data\n",
    "y_pred = rm_model.predict(x_te)\n",
    "print('\\nTesting Data:')\n",
    "print('Accuracy: ', round(accuracy_score(y_te,y_pred),2))\n",
    "print('f1_score: ', round(f1_score(y_te,y_pred, average='micro'),2))\n",
    "print('precision_score: ', round(precision_score(y_te,y_pred, average='micro'),2))\n",
    "print('recall_score: ', round(recall_score(y_te,y_pred, average='micro'),2))"
   ]
  },
  {
   "cell_type": "code",
   "execution_count": null,
   "id": "767dc430",
   "metadata": {},
   "outputs": [],
   "source": [
    "from sklearn.metrics import accuracy_score, confusion_matrix, roc_auc_score, roc_curve\n",
    "import matplotlib.pyplot as plt\n",
    "\n",
    "def plot_roc_curve(true_y, y_prob):\n",
    "    fpr, tpr, thresholds = roc_curve(true_y, y_prob)\n",
    "    plt.plot(fpr, tpr)\n",
    "#     plt.plot(thresholds)\n",
    "    plt.xlabel('False Positive Rate')\n",
    "    plt.ylabel('True Positive Rate')\n",
    "\n",
    "plot_roc_curve(y_te,y_pred)\n",
    "plot_roc_curve(y_tt,yt_pred)\n",
    "print(f'model test AUC score: {roc_auc_score(y_te,y_pred)}')\n",
    "print(f'model train AUC score: {roc_auc_score(y_tt,yt_pred)}')"
   ]
  },
  {
   "cell_type": "code",
   "execution_count": null,
   "id": "180b7157",
   "metadata": {},
   "outputs": [],
   "source": [
    "# from sklearn import tree\n",
    "# import sys\n",
    "# plt.figure(figsize=(100,100))\n",
    "# tree.plot_tree(dt_model,feature_names=X_train.columns)\n",
    "# plt.savefig(\"tree.png\")"
   ]
  },
  {
   "cell_type": "code",
   "execution_count": null,
   "id": "055a48b1",
   "metadata": {},
   "outputs": [],
   "source": [
    "df[df.Age <18]['Risk'].value_counts()"
   ]
  },
  {
   "cell_type": "code",
   "execution_count": null,
   "id": "97079a9c",
   "metadata": {},
   "outputs": [],
   "source": []
  }
 ],
 "metadata": {
  "kernelspec": {
   "display_name": "Python 3 (ipykernel)",
   "language": "python",
   "name": "python3"
  },
  "language_info": {
   "codemirror_mode": {
    "name": "ipython",
    "version": 3
   },
   "file_extension": ".py",
   "mimetype": "text/x-python",
   "name": "python",
   "nbconvert_exporter": "python",
   "pygments_lexer": "ipython3",
   "version": "3.9.12"
  }
 },
 "nbformat": 4,
 "nbformat_minor": 5
}
