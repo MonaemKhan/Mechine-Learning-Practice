{
 "cells": [
  {
   "cell_type": "code",
   "execution_count": 1,
   "id": "28f0cc11",
   "metadata": {},
   "outputs": [
    {
     "data": {
      "text/html": [
       "<div>\n",
       "<style scoped>\n",
       "    .dataframe tbody tr th:only-of-type {\n",
       "        vertical-align: middle;\n",
       "    }\n",
       "\n",
       "    .dataframe tbody tr th {\n",
       "        vertical-align: top;\n",
       "    }\n",
       "\n",
       "    .dataframe thead th {\n",
       "        text-align: right;\n",
       "    }\n",
       "</style>\n",
       "<table border=\"1\" class=\"dataframe\">\n",
       "  <thead>\n",
       "    <tr style=\"text-align: right;\">\n",
       "      <th></th>\n",
       "      <th>Age</th>\n",
       "      <th>Height</th>\n",
       "      <th>Weight</th>\n",
       "      <th>BMI</th>\n",
       "      <th>Blood Group ( is Negative?)</th>\n",
       "      <th>Delivery Type</th>\n",
       "      <th>Systolic Blood Pressure</th>\n",
       "      <th>Diastolic Blood Pressure</th>\n",
       "      <th>Edema</th>\n",
       "      <th>Anemia</th>\n",
       "      <th>Jaundice</th>\n",
       "      <th>Diabetes</th>\n",
       "      <th>Risk</th>\n",
       "      <th>Para</th>\n",
       "      <th>Gravida</th>\n",
       "    </tr>\n",
       "  </thead>\n",
       "  <tbody>\n",
       "    <tr>\n",
       "      <th>2363</th>\n",
       "      <td>20</td>\n",
       "      <td>1.524</td>\n",
       "      <td>56.0</td>\n",
       "      <td>24.11</td>\n",
       "      <td>No</td>\n",
       "      <td>Normal</td>\n",
       "      <td>110</td>\n",
       "      <td>90</td>\n",
       "      <td>Normal</td>\n",
       "      <td>Low</td>\n",
       "      <td>No</td>\n",
       "      <td>No</td>\n",
       "      <td>No</td>\n",
       "      <td>1</td>\n",
       "      <td>3</td>\n",
       "    </tr>\n",
       "    <tr>\n",
       "      <th>2310</th>\n",
       "      <td>22</td>\n",
       "      <td>1.473</td>\n",
       "      <td>43.0</td>\n",
       "      <td>19.82</td>\n",
       "      <td>No</td>\n",
       "      <td>No_delivary</td>\n",
       "      <td>110</td>\n",
       "      <td>70</td>\n",
       "      <td>Normal</td>\n",
       "      <td>Normal</td>\n",
       "      <td>No</td>\n",
       "      <td>No</td>\n",
       "      <td>No</td>\n",
       "      <td>0</td>\n",
       "      <td>2</td>\n",
       "    </tr>\n",
       "    <tr>\n",
       "      <th>1735</th>\n",
       "      <td>26</td>\n",
       "      <td>1.499</td>\n",
       "      <td>47.0</td>\n",
       "      <td>20.93</td>\n",
       "      <td>Yes</td>\n",
       "      <td>Normal</td>\n",
       "      <td>80</td>\n",
       "      <td>65</td>\n",
       "      <td>Modarate</td>\n",
       "      <td>Low</td>\n",
       "      <td>No</td>\n",
       "      <td>No</td>\n",
       "      <td>Yes</td>\n",
       "      <td>1</td>\n",
       "      <td>3</td>\n",
       "    </tr>\n",
       "    <tr>\n",
       "      <th>2750</th>\n",
       "      <td>27</td>\n",
       "      <td>1.524</td>\n",
       "      <td>50.0</td>\n",
       "      <td>21.53</td>\n",
       "      <td>No</td>\n",
       "      <td>Normal</td>\n",
       "      <td>120</td>\n",
       "      <td>70</td>\n",
       "      <td>Normal</td>\n",
       "      <td>Normal</td>\n",
       "      <td>No</td>\n",
       "      <td>No</td>\n",
       "      <td>No</td>\n",
       "      <td>2</td>\n",
       "      <td>3</td>\n",
       "    </tr>\n",
       "    <tr>\n",
       "      <th>71</th>\n",
       "      <td>22</td>\n",
       "      <td>1.448</td>\n",
       "      <td>47.5</td>\n",
       "      <td>22.66</td>\n",
       "      <td>No</td>\n",
       "      <td>Normal</td>\n",
       "      <td>110</td>\n",
       "      <td>95</td>\n",
       "      <td>Normal</td>\n",
       "      <td>Low</td>\n",
       "      <td>No</td>\n",
       "      <td>No</td>\n",
       "      <td>Yes</td>\n",
       "      <td>1</td>\n",
       "      <td>2</td>\n",
       "    </tr>\n",
       "  </tbody>\n",
       "</table>\n",
       "</div>"
      ],
      "text/plain": [
       "      Age  Height  Weight    BMI Blood Group ( is Negative?) Delivery Type  \\\n",
       "2363   20   1.524    56.0  24.11                          No        Normal   \n",
       "2310   22   1.473    43.0  19.82                          No   No_delivary   \n",
       "1735   26   1.499    47.0  20.93                         Yes        Normal   \n",
       "2750   27   1.524    50.0  21.53                          No        Normal   \n",
       "71     22   1.448    47.5  22.66                          No        Normal   \n",
       "\n",
       "      Systolic Blood Pressure  Diastolic Blood Pressure     Edema  Anemia  \\\n",
       "2363                      110                        90    Normal     Low   \n",
       "2310                      110                        70    Normal  Normal   \n",
       "1735                       80                        65  Modarate     Low   \n",
       "2750                      120                        70    Normal  Normal   \n",
       "71                        110                        95    Normal     Low   \n",
       "\n",
       "     Jaundice Diabetes Risk  Para  Gravida  \n",
       "2363       No       No   No     1        3  \n",
       "2310       No       No   No     0        2  \n",
       "1735       No       No  Yes     1        3  \n",
       "2750       No       No   No     2        3  \n",
       "71         No       No  Yes     1        2  "
      ]
     },
     "execution_count": 1,
     "metadata": {},
     "output_type": "execute_result"
    }
   ],
   "source": [
    "import warnings\n",
    "warnings.filterwarnings(\"ignore\")\n",
    "import pandas as pd\n",
    "import numpy as np\n",
    "df = pd.read_csv('final.csv')\n",
    "df.sample(5)"
   ]
  },
  {
   "cell_type": "code",
   "execution_count": 2,
   "id": "80786c07",
   "metadata": {},
   "outputs": [],
   "source": [
    "import seaborn as sn\n",
    "import matplotlib.pyplot as plt\n",
    "%matplotlib inline\n",
    "# plt.figure(figsize=(12,8))\n",
    "# sn.histplot(df.Age[df.Risk == 'Yes'])\n",
    "# sn.histplot(df.Age[df.Risk == 'No'],color='red')\n",
    "# plt.show()"
   ]
  },
  {
   "cell_type": "code",
   "execution_count": 3,
   "id": "34298ecc",
   "metadata": {},
   "outputs": [],
   "source": [
    "# df['Blood Group ( is Negative?)'] = df['Blood Group ( is Negative?)'].map({'Yes':1,'No':0})\n",
    "# df['Jaundice'] = df['Jaundice'].map({'Yes':1,'No':0})\n",
    "# df['Diabetes'] = df['Diabetes'].map({'Yes':1,'No':0})\n",
    "# df['Risk'] = df['Risk'].map({'Yes':1,'No':0})\n",
    "# df['Delivery Type'] = df['Delivery Type'].map({'No_delivary':0,'Normal':1,'C-section':2})\n",
    "# df['Edema'] = df['Edema'].map({'Normal':0,'High':1,'Modarate':2})\n",
    "# df['Anemia'] = df['Anemia'].map({'Normal':0,'Low':1,'Very-Low':2})"
   ]
  },
  {
   "cell_type": "code",
   "execution_count": 4,
   "id": "322aa136",
   "metadata": {},
   "outputs": [
    {
     "data": {
      "text/html": [
       "<div>\n",
       "<style scoped>\n",
       "    .dataframe tbody tr th:only-of-type {\n",
       "        vertical-align: middle;\n",
       "    }\n",
       "\n",
       "    .dataframe tbody tr th {\n",
       "        vertical-align: top;\n",
       "    }\n",
       "\n",
       "    .dataframe thead th {\n",
       "        text-align: right;\n",
       "    }\n",
       "</style>\n",
       "<table border=\"1\" class=\"dataframe\">\n",
       "  <thead>\n",
       "    <tr style=\"text-align: right;\">\n",
       "      <th></th>\n",
       "      <th>Age</th>\n",
       "      <th>Height</th>\n",
       "      <th>Weight</th>\n",
       "      <th>BMI</th>\n",
       "      <th>Blood Group ( is Negative?)</th>\n",
       "      <th>Delivery Type</th>\n",
       "      <th>Systolic Blood Pressure</th>\n",
       "      <th>Diastolic Blood Pressure</th>\n",
       "      <th>Edema</th>\n",
       "      <th>Anemia</th>\n",
       "      <th>Jaundice</th>\n",
       "      <th>Diabetes</th>\n",
       "      <th>Risk</th>\n",
       "      <th>Para</th>\n",
       "      <th>Gravida</th>\n",
       "    </tr>\n",
       "  </thead>\n",
       "  <tbody>\n",
       "    <tr>\n",
       "      <th>1614</th>\n",
       "      <td>25</td>\n",
       "      <td>1.473</td>\n",
       "      <td>77.0</td>\n",
       "      <td>35.49</td>\n",
       "      <td>No</td>\n",
       "      <td>No_delivary</td>\n",
       "      <td>110</td>\n",
       "      <td>80</td>\n",
       "      <td>Normal</td>\n",
       "      <td>Normal</td>\n",
       "      <td>No</td>\n",
       "      <td>No</td>\n",
       "      <td>No</td>\n",
       "      <td>0</td>\n",
       "      <td>1</td>\n",
       "    </tr>\n",
       "    <tr>\n",
       "      <th>2603</th>\n",
       "      <td>33</td>\n",
       "      <td>1.549</td>\n",
       "      <td>64.0</td>\n",
       "      <td>26.66</td>\n",
       "      <td>No</td>\n",
       "      <td>Normal</td>\n",
       "      <td>110</td>\n",
       "      <td>80</td>\n",
       "      <td>Normal</td>\n",
       "      <td>Low</td>\n",
       "      <td>No</td>\n",
       "      <td>No</td>\n",
       "      <td>No</td>\n",
       "      <td>1</td>\n",
       "      <td>2</td>\n",
       "    </tr>\n",
       "    <tr>\n",
       "      <th>1912</th>\n",
       "      <td>26</td>\n",
       "      <td>1.524</td>\n",
       "      <td>72.0</td>\n",
       "      <td>31.00</td>\n",
       "      <td>No</td>\n",
       "      <td>Normal</td>\n",
       "      <td>120</td>\n",
       "      <td>70</td>\n",
       "      <td>High</td>\n",
       "      <td>Normal</td>\n",
       "      <td>No</td>\n",
       "      <td>No</td>\n",
       "      <td>Yes</td>\n",
       "      <td>2</td>\n",
       "      <td>3</td>\n",
       "    </tr>\n",
       "    <tr>\n",
       "      <th>3535</th>\n",
       "      <td>20</td>\n",
       "      <td>1.575</td>\n",
       "      <td>69.0</td>\n",
       "      <td>27.82</td>\n",
       "      <td>No</td>\n",
       "      <td>No_delivary</td>\n",
       "      <td>140</td>\n",
       "      <td>80</td>\n",
       "      <td>Normal</td>\n",
       "      <td>Low</td>\n",
       "      <td>No</td>\n",
       "      <td>No</td>\n",
       "      <td>No</td>\n",
       "      <td>0</td>\n",
       "      <td>1</td>\n",
       "    </tr>\n",
       "    <tr>\n",
       "      <th>1016</th>\n",
       "      <td>24</td>\n",
       "      <td>1.372</td>\n",
       "      <td>50.5</td>\n",
       "      <td>26.84</td>\n",
       "      <td>No</td>\n",
       "      <td>Normal</td>\n",
       "      <td>100</td>\n",
       "      <td>60</td>\n",
       "      <td>Normal</td>\n",
       "      <td>Normal</td>\n",
       "      <td>No</td>\n",
       "      <td>No</td>\n",
       "      <td>Yes</td>\n",
       "      <td>2</td>\n",
       "      <td>4</td>\n",
       "    </tr>\n",
       "  </tbody>\n",
       "</table>\n",
       "</div>"
      ],
      "text/plain": [
       "      Age  Height  Weight    BMI Blood Group ( is Negative?) Delivery Type  \\\n",
       "1614   25   1.473    77.0  35.49                          No   No_delivary   \n",
       "2603   33   1.549    64.0  26.66                          No        Normal   \n",
       "1912   26   1.524    72.0  31.00                          No        Normal   \n",
       "3535   20   1.575    69.0  27.82                          No   No_delivary   \n",
       "1016   24   1.372    50.5  26.84                          No        Normal   \n",
       "\n",
       "      Systolic Blood Pressure  Diastolic Blood Pressure   Edema  Anemia  \\\n",
       "1614                      110                        80  Normal  Normal   \n",
       "2603                      110                        80  Normal     Low   \n",
       "1912                      120                        70    High  Normal   \n",
       "3535                      140                        80  Normal     Low   \n",
       "1016                      100                        60  Normal  Normal   \n",
       "\n",
       "     Jaundice Diabetes Risk  Para  Gravida  \n",
       "1614       No       No   No     0        1  \n",
       "2603       No       No   No     1        2  \n",
       "1912       No       No  Yes     2        3  \n",
       "3535       No       No   No     0        1  \n",
       "1016       No       No  Yes     2        4  "
      ]
     },
     "execution_count": 4,
     "metadata": {},
     "output_type": "execute_result"
    }
   ],
   "source": [
    "df.sample(5)"
   ]
  },
  {
   "cell_type": "code",
   "execution_count": 5,
   "id": "b0060949",
   "metadata": {},
   "outputs": [
    {
     "data": {
      "text/plain": [
       "Index(['Age', 'Height', 'Weight', 'BMI', 'Blood Group ( is Negative?)',\n",
       "       'Delivery Type', 'Systolic Blood Pressure', 'Diastolic Blood Pressure',\n",
       "       'Edema', 'Anemia', 'Jaundice', 'Diabetes', 'Risk', 'Para', 'Gravida'],\n",
       "      dtype='object')"
      ]
     },
     "execution_count": 5,
     "metadata": {},
     "output_type": "execute_result"
    }
   ],
   "source": [
    "columns = df.columns[:]\n",
    "columns"
   ]
  },
  {
   "cell_type": "code",
   "execution_count": 6,
   "id": "f570ba8e",
   "metadata": {},
   "outputs": [],
   "source": [
    "# num_list=['Age', 'Height', 'Weight', 'BMI','Systolic Blood Pressure', 'Diastolic Blood Pressure']\n",
    "# # fig = plt.figure(figsize=(20,20))\n",
    "\n",
    "# for i in range(len(num_list)):\n",
    "#     plt.title(num_list[i])\n",
    "#     sn.histplot(df[df['Risk'] == 'No'][num_list[i]],kde=False,kde_kws={'multiple':'stack'},label='No Risk',color='limegreen',) \n",
    "#     sn.histplot(df[df['Risk'] == 'Yes'][num_list[i]],kde=False,kde_kws={'multiple':'stack','alpha':0.6},label='Risk',color='red')\n",
    "# #     plt.savefig('./Figure/'+num_list[i]+' bar plot of yes no.jpg')\n",
    "#     plt.legend()\n",
    "\n",
    "# plt.tight_layout()"
   ]
  },
  {
   "cell_type": "code",
   "execution_count": 7,
   "id": "a8f79174",
   "metadata": {},
   "outputs": [
    {
     "data": {
      "image/png": "[encoded data removed]",
      "text/plain": [
       "<Figure size 720x360 with 1 Axes>"
      ]
     },
     "metadata": {},
     "output_type": "display_data"
    }
   ],
   "source": [
    "plt.figure(figsize=(10,5))\n",
    "plt.pie(df['Risk'].value_counts(), labels=['No Risk','Risk'], autopct = \"%0.2f\",explode = [0.1,0])\n",
    "plt.legend()\n",
    "plt.show()"
   ]
  },
  {
   "cell_type": "code",
   "execution_count": 29,
   "id": "8f0f0f09",
   "metadata": {},
   "outputs": [
    {
     "data": {
      "text/plain": [
       "<AxesSubplot:title={'center':'BMI'}>"
      ]
     },
     "execution_count": 29,
     "metadata": {},
     "output_type": "execute_result"
    },
    {
     "data": {
      "image/png": "[encoded data removed]",
      "text/plain": [
       "<Figure size 432x288 with 1 Axes>"
      ]
     },
     "metadata": {
      "needs_background": "light"
     },
     "output_type": "display_data"
    }
   ],
   "source": [
    "num_list = 'BMI'\n",
    "plt.title(num_list)\n",
    "sn.histplot(df[df['Risk'] == 'No'][num_list],kde=False,kde_kws={'multiple':'stack'},label='No Risk',color='limegreen',) \n",
    "# sn.distplot(df[df['Risk'] == 'Yes'][num_list],kde=False,kde_kws={'multiple':'stack','alpha':0.6},label='Risk',color='red')\n",
    "# plt.savefig('./Figure/'+num_list+' bar plot of yes no.jpg')\n",
    "# plt.legend()"
   ]
  },
  {
   "cell_type": "code",
   "execution_count": 9,
   "id": "5115bafd",
   "metadata": {},
   "outputs": [
    {
     "data": {
      "text/plain": [
       "(42, 15)"
      ]
     },
     "execution_count": 9,
     "metadata": {},
     "output_type": "execute_result"
    }
   ],
   "source": [
    "df[df.Height < 1.3].shape"
   ]
  },
  {
   "cell_type": "code",
   "execution_count": 31,
   "id": "4f2946de",
   "metadata": {},
   "outputs": [
    {
     "data": {
      "image/png": "[encoded data removed]",
      "text/plain": [
       "<Figure size 432x288 with 1 Axes>"
      ]
     },
     "metadata": {
      "needs_background": "light"
     },
     "output_type": "display_data"
    }
   ],
   "source": [
    "# plt.figure(figsize=(8,5))\n",
    "plt.title('BMI')\n",
    "plt.xlabel(' ')\n",
    "sn.countplot(data=df, x='BMI', hue=\"Risk\",palette=['green','red'])\n",
    "# plt.savefig('./Figure/Blood Group bar plot of yes no.jpg')\n",
    "plt.show()"
   ]
  },
  {
   "cell_type": "code",
   "execution_count": 10,
   "id": "d8db738c",
   "metadata": {},
   "outputs": [
    {
     "data": {
      "image/png": "[encoded data removed]",
      "text/plain": [
       "<Figure size 576x360 with 1 Axes>"
      ]
     },
     "metadata": {
      "needs_background": "light"
     },
     "output_type": "display_data"
    }
   ],
   "source": [
    "plt.figure(figsize=(8,5))\n",
    "plt.title('Blood Group ( is Negative?)')\n",
    "plt.xlabel(' ')\n",
    "sn.countplot(data=df, x='Blood Group ( is Negative?)', hue=\"Risk\",palette=['green','red'])\n",
    "# plt.savefig('./Figure/Blood Group bar plot of yes no.jpg')\n",
    "plt.show()"
   ]
  },
  {
   "cell_type": "code",
   "execution_count": 11,
   "id": "26442c68",
   "metadata": {},
   "outputs": [
    {
     "data": {
      "image/png": "[encoded data removed]",
      "text/plain": [
       "<Figure size 576x360 with 1 Axes>"
      ]
     },
     "metadata": {
      "needs_background": "light"
     },
     "output_type": "display_data"
    }
   ],
   "source": [
    "plt.figure(figsize=(8,5))\n",
    "plt.title('Delivery Type')\n",
    "sn.countplot(data=df, x='Delivery Type', hue=\"Risk\",palette=['green','red'])\n",
    "# plt.savefig('./Figure/Delivery Type bar plot of yes no.jpg')\n",
    "plt.show()"
   ]
  },
  {
   "cell_type": "code",
   "execution_count": 12,
   "id": "e7153e36",
   "metadata": {},
   "outputs": [
    {
     "data": {
      "image/png": "[encoded data removed]",
      "text/plain": [
       "<Figure size 576x360 with 1 Axes>"
      ]
     },
     "metadata": {
      "needs_background": "light"
     },
     "output_type": "display_data"
    },
    {
     "data": {
      "image/png": "[encoded data removed]",
      "text/plain": [
       "<Figure size 576x360 with 1 Axes>"
      ]
     },
     "metadata": {
      "needs_background": "light"
     },
     "output_type": "display_data"
    },
    {
     "data": {
      "image/png": "[encoded data removed]",
      "text/plain": [
       "<Figure size 576x360 with 1 Axes>"
      ]
     },
     "metadata": {
      "needs_background": "light"
     },
     "output_type": "display_data"
    },
    {
     "data": {
      "image/png": "[encoded data removed]",
      "text/plain": [
       "<Figure size 576x360 with 1 Axes>"
      ]
     },
     "metadata": {
      "needs_background": "light"
     },
     "output_type": "display_data"
    },
    {
     "data": {
      "image/png": "[encoded data removed]",
      "text/plain": [
       "<Figure size 576x360 with 1 Axes>"
      ]
     },
     "metadata": {
      "needs_background": "light"
     },
     "output_type": "display_data"
    }
   ],
   "source": [
    "columns = ['Delivery Type','Edema', 'Anemia', 'Jaundice', 'Diabetes']\n",
    "for col in columns:\n",
    "    plt.figure(figsize=(8,5))\n",
    "    plt.title(col)\n",
    "    sn.countplot(data=df, x=col, hue=\"Risk\",palette=['green','red'])\n",
    "    plt.savefig('./Figure/'+col+' bar plot of yes no.jpg')\n",
    "    plt.show()"
   ]
  },
  {
   "cell_type": "code",
   "execution_count": 13,
   "id": "c942f879",
   "metadata": {},
   "outputs": [],
   "source": [
    "newdf = df.drop(['Age', 'Height', 'Weight', 'BMI', 'Blood Group ( is Negative?)',\n",
    "       'Delivery Type', 'Systolic Blood Pressure', 'Diastolic Blood Pressure',\n",
    "       'Edema', 'Anemia', 'Jaundice', 'Diabetes'],axis=1)"
   ]
  },
  {
   "cell_type": "code",
   "execution_count": 14,
   "id": "173055cd",
   "metadata": {},
   "outputs": [],
   "source": [
    "for i in range(len(newdf)):\n",
    "    newdf.loc[i,'diff'] = newdf.loc[i,'Gravida'] - newdf.loc[i,'Para']\n",
    "newdf['diff'] = newdf['diff'].astype(int)"
   ]
  },
  {
   "cell_type": "code",
   "execution_count": 15,
   "id": "0ad25869",
   "metadata": {},
   "outputs": [
    {
     "data": {
      "text/html": [
       "<div>\n",
       "<style scoped>\n",
       "    .dataframe tbody tr th:only-of-type {\n",
       "        vertical-align: middle;\n",
       "    }\n",
       "\n",
       "    .dataframe tbody tr th {\n",
       "        vertical-align: top;\n",
       "    }\n",
       "\n",
       "    .dataframe thead th {\n",
       "        text-align: right;\n",
       "    }\n",
       "</style>\n",
       "<table border=\"1\" class=\"dataframe\">\n",
       "  <thead>\n",
       "    <tr style=\"text-align: right;\">\n",
       "      <th></th>\n",
       "      <th>Risk</th>\n",
       "      <th>Para</th>\n",
       "      <th>Gravida</th>\n",
       "      <th>diff</th>\n",
       "    </tr>\n",
       "  </thead>\n",
       "  <tbody>\n",
       "    <tr>\n",
       "      <th>0</th>\n",
       "      <td>No</td>\n",
       "      <td>2</td>\n",
       "      <td>3</td>\n",
       "      <td>1</td>\n",
       "    </tr>\n",
       "    <tr>\n",
       "      <th>1</th>\n",
       "      <td>No</td>\n",
       "      <td>1</td>\n",
       "      <td>2</td>\n",
       "      <td>1</td>\n",
       "    </tr>\n",
       "    <tr>\n",
       "      <th>2</th>\n",
       "      <td>No</td>\n",
       "      <td>0</td>\n",
       "      <td>1</td>\n",
       "      <td>1</td>\n",
       "    </tr>\n",
       "    <tr>\n",
       "      <th>3</th>\n",
       "      <td>No</td>\n",
       "      <td>0</td>\n",
       "      <td>1</td>\n",
       "      <td>1</td>\n",
       "    </tr>\n",
       "    <tr>\n",
       "      <th>4</th>\n",
       "      <td>No</td>\n",
       "      <td>0</td>\n",
       "      <td>1</td>\n",
       "      <td>1</td>\n",
       "    </tr>\n",
       "  </tbody>\n",
       "</table>\n",
       "</div>"
      ],
      "text/plain": [
       "  Risk  Para  Gravida  diff\n",
       "0   No     2        3     1\n",
       "1   No     1        2     1\n",
       "2   No     0        1     1\n",
       "3   No     0        1     1\n",
       "4   No     0        1     1"
      ]
     },
     "execution_count": 15,
     "metadata": {},
     "output_type": "execute_result"
    }
   ],
   "source": [
    "newdf.head()"
   ]
  },
  {
   "cell_type": "code",
   "execution_count": 16,
   "id": "7a1e41bf",
   "metadata": {},
   "outputs": [
    {
     "data": {
      "image/png": "[encoded data removed]",
      "text/plain": [
       "<Figure size 576x360 with 1 Axes>"
      ]
     },
     "metadata": {
      "needs_background": "light"
     },
     "output_type": "display_data"
    }
   ],
   "source": [
    "plt.figure(figsize=(8,5))\n",
    "plt.title('Para & Gravida Difference')\n",
    "sn.countplot(data=newdf, x='diff', hue=\"Risk\",palette=['green','red'])\n",
    "# plt.savefig('./Figure/Para & Gravida Difference bar plot of yes no.jpg')\n",
    "plt.show()"
   ]
  },
  {
   "cell_type": "code",
   "execution_count": 17,
   "id": "4a8efb19",
   "metadata": {},
   "outputs": [
    {
     "data": {
      "text/plain": [
       "(3578, 15)"
      ]
     },
     "execution_count": 17,
     "metadata": {},
     "output_type": "execute_result"
    }
   ],
   "source": [
    "df.shape"
   ]
  },
  {
   "cell_type": "code",
   "execution_count": 18,
   "id": "1db68609",
   "metadata": {},
   "outputs": [
    {
     "data": {
      "text/plain": [
       "No     2589\n",
       "Yes     989\n",
       "Name: Risk, dtype: int64"
      ]
     },
     "execution_count": 18,
     "metadata": {},
     "output_type": "execute_result"
    }
   ],
   "source": [
    "df.Risk.value_counts()"
   ]
  },
  {
   "cell_type": "code",
   "execution_count": 19,
   "id": "bf73c11a",
   "metadata": {},
   "outputs": [
    {
     "data": {
      "text/plain": [
       "No     901\n",
       "Yes    328\n",
       "Name: Risk, dtype: int64"
      ]
     },
     "execution_count": 19,
     "metadata": {},
     "output_type": "execute_result"
    }
   ],
   "source": [
    "Rangamati = df[:1229]\n",
    "Rangamati.Risk.value_counts()"
   ]
  },
  {
   "cell_type": "code",
   "execution_count": 20,
   "id": "6a324191",
   "metadata": {},
   "outputs": [
    {
     "data": {
      "text/plain": [
       "No     833\n",
       "Yes    324\n",
       "Name: Risk, dtype: int64"
      ]
     },
     "execution_count": 20,
     "metadata": {},
     "output_type": "execute_result"
    }
   ],
   "source": [
    "Bandarban = df[1229:2386]\n",
    "Bandarban.Risk.value_counts()"
   ]
  },
  {
   "cell_type": "code",
   "execution_count": 21,
   "id": "0f0069d0",
   "metadata": {},
   "outputs": [
    {
     "data": {
      "text/plain": [
       "No     855\n",
       "Yes    337\n",
       "Name: Risk, dtype: int64"
      ]
     },
     "execution_count": 21,
     "metadata": {},
     "output_type": "execute_result"
    }
   ],
   "source": [
    "khagrachori = df[2386:]\n",
    "khagrachori.Risk.value_counts()"
   ]
  },
  {
   "cell_type": "code",
   "execution_count": 22,
   "id": "f33318f2",
   "metadata": {},
   "outputs": [
    {
     "data": {
      "text/html": [
       "<div>\n",
       "<style scoped>\n",
       "    .dataframe tbody tr th:only-of-type {\n",
       "        vertical-align: middle;\n",
       "    }\n",
       "\n",
       "    .dataframe tbody tr th {\n",
       "        vertical-align: top;\n",
       "    }\n",
       "\n",
       "    .dataframe thead th {\n",
       "        text-align: right;\n",
       "    }\n",
       "</style>\n",
       "<table border=\"1\" class=\"dataframe\">\n",
       "  <thead>\n",
       "    <tr style=\"text-align: right;\">\n",
       "      <th></th>\n",
       "      <th>Age</th>\n",
       "      <th>Height</th>\n",
       "      <th>Weight</th>\n",
       "      <th>BMI</th>\n",
       "      <th>Systolic Blood Pressure</th>\n",
       "      <th>Diastolic Blood Pressure</th>\n",
       "      <th>Para</th>\n",
       "      <th>Gravida</th>\n",
       "    </tr>\n",
       "  </thead>\n",
       "  <tbody>\n",
       "    <tr>\n",
       "      <th>count</th>\n",
       "      <td>3578.000000</td>\n",
       "      <td>3578.000000</td>\n",
       "      <td>3578.000000</td>\n",
       "      <td>3578.000000</td>\n",
       "      <td>3578.000000</td>\n",
       "      <td>3578.000000</td>\n",
       "      <td>3578.000000</td>\n",
       "      <td>3578.000000</td>\n",
       "    </tr>\n",
       "    <tr>\n",
       "      <th>mean</th>\n",
       "      <td>24.283958</td>\n",
       "      <td>1.512298</td>\n",
       "      <td>57.721688</td>\n",
       "      <td>25.300875</td>\n",
       "      <td>114.223030</td>\n",
       "      <td>75.245947</td>\n",
       "      <td>0.681107</td>\n",
       "      <td>1.889603</td>\n",
       "    </tr>\n",
       "    <tr>\n",
       "      <th>std</th>\n",
       "      <td>5.224496</td>\n",
       "      <td>0.062982</td>\n",
       "      <td>10.222044</td>\n",
       "      <td>4.700071</td>\n",
       "      <td>11.915273</td>\n",
       "      <td>8.476044</td>\n",
       "      <td>0.763133</td>\n",
       "      <td>0.910504</td>\n",
       "    </tr>\n",
       "    <tr>\n",
       "      <th>min</th>\n",
       "      <td>13.000000</td>\n",
       "      <td>1.244000</td>\n",
       "      <td>33.500000</td>\n",
       "      <td>13.950000</td>\n",
       "      <td>80.000000</td>\n",
       "      <td>40.000000</td>\n",
       "      <td>0.000000</td>\n",
       "      <td>0.000000</td>\n",
       "    </tr>\n",
       "    <tr>\n",
       "      <th>25%</th>\n",
       "      <td>20.000000</td>\n",
       "      <td>1.473000</td>\n",
       "      <td>50.000000</td>\n",
       "      <td>21.950000</td>\n",
       "      <td>110.000000</td>\n",
       "      <td>70.000000</td>\n",
       "      <td>0.000000</td>\n",
       "      <td>1.000000</td>\n",
       "    </tr>\n",
       "    <tr>\n",
       "      <th>50%</th>\n",
       "      <td>24.000000</td>\n",
       "      <td>1.524000</td>\n",
       "      <td>57.000000</td>\n",
       "      <td>24.840000</td>\n",
       "      <td>110.000000</td>\n",
       "      <td>75.000000</td>\n",
       "      <td>1.000000</td>\n",
       "      <td>2.000000</td>\n",
       "    </tr>\n",
       "    <tr>\n",
       "      <th>75%</th>\n",
       "      <td>27.000000</td>\n",
       "      <td>1.549000</td>\n",
       "      <td>65.000000</td>\n",
       "      <td>27.990000</td>\n",
       "      <td>120.000000</td>\n",
       "      <td>80.000000</td>\n",
       "      <td>1.000000</td>\n",
       "      <td>3.000000</td>\n",
       "    </tr>\n",
       "    <tr>\n",
       "      <th>max</th>\n",
       "      <td>60.000000</td>\n",
       "      <td>1.803000</td>\n",
       "      <td>120.000000</td>\n",
       "      <td>52.420000</td>\n",
       "      <td>200.000000</td>\n",
       "      <td>120.000000</td>\n",
       "      <td>4.000000</td>\n",
       "      <td>5.000000</td>\n",
       "    </tr>\n",
       "  </tbody>\n",
       "</table>\n",
       "</div>"
      ],
      "text/plain": [
       "               Age       Height       Weight          BMI  \\\n",
       "count  3578.000000  3578.000000  3578.000000  3578.000000   \n",
       "mean     24.283958     1.512298    57.721688    25.300875   \n",
       "std       5.224496     0.062982    10.222044     4.700071   \n",
       "min      13.000000     1.244000    33.500000    13.950000   \n",
       "25%      20.000000     1.473000    50.000000    21.950000   \n",
       "50%      24.000000     1.524000    57.000000    24.840000   \n",
       "75%      27.000000     1.549000    65.000000    27.990000   \n",
       "max      60.000000     1.803000   120.000000    52.420000   \n",
       "\n",
       "       Systolic Blood Pressure  Diastolic Blood Pressure         Para  \\\n",
       "count              3578.000000               3578.000000  3578.000000   \n",
       "mean                114.223030                 75.245947     0.681107   \n",
       "std                  11.915273                  8.476044     0.763133   \n",
       "min                  80.000000                 40.000000     0.000000   \n",
       "25%                 110.000000                 70.000000     0.000000   \n",
       "50%                 110.000000                 75.000000     1.000000   \n",
       "75%                 120.000000                 80.000000     1.000000   \n",
       "max                 200.000000                120.000000     4.000000   \n",
       "\n",
       "           Gravida  \n",
       "count  3578.000000  \n",
       "mean      1.889603  \n",
       "std       0.910504  \n",
       "min       0.000000  \n",
       "25%       1.000000  \n",
       "50%       2.000000  \n",
       "75%       3.000000  \n",
       "max       5.000000  "
      ]
     },
     "execution_count": 22,
     "metadata": {},
     "output_type": "execute_result"
    }
   ],
   "source": [
    "df.describe()"
   ]
  },
  {
   "cell_type": "code",
   "execution_count": 23,
   "id": "8aa13646",
   "metadata": {},
   "outputs": [
    {
     "data": {
      "text/html": [
       "<div>\n",
       "<style scoped>\n",
       "    .dataframe tbody tr th:only-of-type {\n",
       "        vertical-align: middle;\n",
       "    }\n",
       "\n",
       "    .dataframe tbody tr th {\n",
       "        vertical-align: top;\n",
       "    }\n",
       "\n",
       "    .dataframe thead th {\n",
       "        text-align: right;\n",
       "    }\n",
       "</style>\n",
       "<table border=\"1\" class=\"dataframe\">\n",
       "  <thead>\n",
       "    <tr style=\"text-align: right;\">\n",
       "      <th></th>\n",
       "      <th>Age</th>\n",
       "      <th>Height</th>\n",
       "      <th>Weight</th>\n",
       "      <th>BMI</th>\n",
       "      <th>Blood Group ( is Negative?)</th>\n",
       "      <th>Delivery Type</th>\n",
       "      <th>Systolic Blood Pressure</th>\n",
       "      <th>Diastolic Blood Pressure</th>\n",
       "      <th>Edema</th>\n",
       "      <th>Anemia</th>\n",
       "      <th>Jaundice</th>\n",
       "      <th>Diabetes</th>\n",
       "      <th>Risk</th>\n",
       "      <th>Para</th>\n",
       "      <th>Gravida</th>\n",
       "    </tr>\n",
       "  </thead>\n",
       "  <tbody>\n",
       "    <tr>\n",
       "      <th>0</th>\n",
       "      <td>25</td>\n",
       "      <td>1.4732</td>\n",
       "      <td>53.3</td>\n",
       "      <td>23.73</td>\n",
       "      <td>No</td>\n",
       "      <td>Normal</td>\n",
       "      <td>120</td>\n",
       "      <td>70</td>\n",
       "      <td>Normal</td>\n",
       "      <td>Low</td>\n",
       "      <td>No</td>\n",
       "      <td>No</td>\n",
       "      <td>No</td>\n",
       "      <td>2</td>\n",
       "      <td>3</td>\n",
       "    </tr>\n",
       "    <tr>\n",
       "      <th>1</th>\n",
       "      <td>30</td>\n",
       "      <td>1.5740</td>\n",
       "      <td>45.5</td>\n",
       "      <td>18.37</td>\n",
       "      <td>No</td>\n",
       "      <td>Normal</td>\n",
       "      <td>110</td>\n",
       "      <td>80</td>\n",
       "      <td>Normal</td>\n",
       "      <td>Normal</td>\n",
       "      <td>No</td>\n",
       "      <td>No</td>\n",
       "      <td>No</td>\n",
       "      <td>1</td>\n",
       "      <td>2</td>\n",
       "    </tr>\n",
       "    <tr>\n",
       "      <th>2</th>\n",
       "      <td>20</td>\n",
       "      <td>1.6250</td>\n",
       "      <td>52.2</td>\n",
       "      <td>19.77</td>\n",
       "      <td>No</td>\n",
       "      <td>No_delivary</td>\n",
       "      <td>120</td>\n",
       "      <td>70</td>\n",
       "      <td>Normal</td>\n",
       "      <td>Low</td>\n",
       "      <td>No</td>\n",
       "      <td>No</td>\n",
       "      <td>No</td>\n",
       "      <td>0</td>\n",
       "      <td>1</td>\n",
       "    </tr>\n",
       "    <tr>\n",
       "      <th>3</th>\n",
       "      <td>22</td>\n",
       "      <td>1.4480</td>\n",
       "      <td>48.5</td>\n",
       "      <td>23.14</td>\n",
       "      <td>No</td>\n",
       "      <td>No_delivary</td>\n",
       "      <td>110</td>\n",
       "      <td>80</td>\n",
       "      <td>Normal</td>\n",
       "      <td>Low</td>\n",
       "      <td>No</td>\n",
       "      <td>No</td>\n",
       "      <td>No</td>\n",
       "      <td>0</td>\n",
       "      <td>1</td>\n",
       "    </tr>\n",
       "    <tr>\n",
       "      <th>4</th>\n",
       "      <td>26</td>\n",
       "      <td>1.5240</td>\n",
       "      <td>50.0</td>\n",
       "      <td>21.53</td>\n",
       "      <td>No</td>\n",
       "      <td>No_delivary</td>\n",
       "      <td>110</td>\n",
       "      <td>70</td>\n",
       "      <td>Normal</td>\n",
       "      <td>Normal</td>\n",
       "      <td>No</td>\n",
       "      <td>No</td>\n",
       "      <td>No</td>\n",
       "      <td>0</td>\n",
       "      <td>1</td>\n",
       "    </tr>\n",
       "  </tbody>\n",
       "</table>\n",
       "</div>"
      ],
      "text/plain": [
       "   Age  Height  Weight    BMI Blood Group ( is Negative?) Delivery Type  \\\n",
       "0   25  1.4732    53.3  23.73                          No        Normal   \n",
       "1   30  1.5740    45.5  18.37                          No        Normal   \n",
       "2   20  1.6250    52.2  19.77                          No   No_delivary   \n",
       "3   22  1.4480    48.5  23.14                          No   No_delivary   \n",
       "4   26  1.5240    50.0  21.53                          No   No_delivary   \n",
       "\n",
       "   Systolic Blood Pressure  Diastolic Blood Pressure   Edema  Anemia Jaundice  \\\n",
       "0                      120                        70  Normal     Low       No   \n",
       "1                      110                        80  Normal  Normal       No   \n",
       "2                      120                        70  Normal     Low       No   \n",
       "3                      110                        80  Normal     Low       No   \n",
       "4                      110                        70  Normal  Normal       No   \n",
       "\n",
       "  Diabetes Risk  Para  Gravida  \n",
       "0       No   No     2        3  \n",
       "1       No   No     1        2  \n",
       "2       No   No     0        1  \n",
       "3       No   No     0        1  \n",
       "4       No   No     0        1  "
      ]
     },
     "execution_count": 23,
     "metadata": {},
     "output_type": "execute_result"
    }
   ],
   "source": [
    "df.head()"
   ]
  },
  {
   "cell_type": "code",
   "execution_count": 24,
   "id": "251341de",
   "metadata": {},
   "outputs": [
    {
     "data": {
      "text/plain": [
       "<AxesSubplot:>"
      ]
     },
     "execution_count": 24,
     "metadata": {},
     "output_type": "execute_result"
    },
    {
     "data": {
      "image/png": "[encoded data removed]",
      "text/plain": [
       "<Figure size 864x864 with 2 Axes>"
      ]
     },
     "metadata": {
      "needs_background": "light"
     },
     "output_type": "display_data"
    }
   ],
   "source": [
    "import seaborn as sn\n",
    "plt.figure(figsize=(12,12))\n",
    "sn.heatmap(df.corr(),annot=True)"
   ]
  },
  {
   "cell_type": "code",
   "execution_count": 25,
   "id": "44e588a0",
   "metadata": {},
   "outputs": [],
   "source": [
    "df['Blood Group ( is Negative?)'] = df['Blood Group ( is Negative?)'].map({'Yes':1,'No':0})\n",
    "df['Jaundice'] = df['Jaundice'].map({'Yes':1,'No':0})\n",
    "df['Diabetes'] = df['Diabetes'].map({'Yes':1,'No':0})\n",
    "df['Risk'] = df['Risk'].map({'Yes':1,'No':0})\n",
    "df['Delivery Type'] = df['Delivery Type'].map({'No_delivary':0,'Normal':1,'C-section':2})\n",
    "df['Edema'] = df['Edema'].map({'Normal':0,'High':2,'Modarate':1})\n",
    "df['Anemia'] = df['Anemia'].map({'Normal':0,'Low':1,'Very-Low':2})"
   ]
  },
  {
   "cell_type": "code",
   "execution_count": 26,
   "id": "89c5d723",
   "metadata": {},
   "outputs": [
    {
     "data": {
      "text/plain": [
       "Index(['Age', 'Height', 'Weight', 'BMI', 'Blood Group ( is Negative?)',\n",
       "       'Delivery Type', 'Systolic Blood Pressure', 'Diastolic Blood Pressure',\n",
       "       'Edema', 'Anemia', 'Jaundice', 'Diabetes', 'Risk', 'Para', 'Gravida'],\n",
       "      dtype='object')"
      ]
     },
     "execution_count": 26,
     "metadata": {},
     "output_type": "execute_result"
    }
   ],
   "source": [
    "x = df.drop(['Risk'],axis=1)\n",
    "y = df.Risk\n",
    "df.columns"
   ]
  },
  {
   "cell_type": "code",
   "execution_count": 27,
   "id": "bd768e97",
   "metadata": {},
   "outputs": [
    {
     "data": {
      "image/png": "[encoded data removed]",
      "text/plain": [
       "<Figure size 432x288 with 1 Axes>"
      ]
     },
     "metadata": {
      "needs_background": "light"
     },
     "output_type": "display_data"
    }
   ],
   "source": [
    "from sklearn.feature_selection import mutual_info_classif\n",
    "\n",
    "im = mutual_info_classif(x,y)\n",
    "fe_im= pd.Series(im,['Age', 'Height', 'Weight', 'BMI', 'Blood Group ( is Negative?)',\n",
    "       'Delivery Type', 'Systolic Blood Pressure', 'Diastolic Blood Pressure',\n",
    "       'Edema', 'Anemia', 'Jaundice', 'Diabetes', 'Para', 'Gravida'])\n",
    "fe_im.plot(kind='barh')\n",
    "plt.show()"
   ]
  },
  {
   "cell_type": "code",
   "execution_count": null,
   "id": "7ab086d2",
   "metadata": {},
   "outputs": [],
   "source": []
  }
 ],
 "metadata": {
  "kernelspec": {
   "display_name": "Python 3 (ipykernel)",
   "language": "python",
   "name": "python3"
  },
  "language_info": {
   "codemirror_mode": {
    "name": "ipython",
    "version": 3
   },
   "file_extension": ".py",
   "mimetype": "text/x-python",
   "name": "python",
   "nbconvert_exporter": "python",
   "pygments_lexer": "ipython3",
   "version": "3.9.12"
  }
 },
 "nbformat": 4,
 "nbformat_minor": 5
}
