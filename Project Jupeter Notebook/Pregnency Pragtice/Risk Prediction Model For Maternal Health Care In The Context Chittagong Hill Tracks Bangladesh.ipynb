{
 "cells": [
  {
   "cell_type": "code",
   "execution_count": 1,
   "id": "376bbc14",
   "metadata": {},
   "outputs": [],
   "source": [
    "import warnings\n",
    "warnings.filterwarnings(\"ignore\")\n",
    "import pandas as pd\n",
    "import numpy as np\n",
    "from sklearn.metrics import make_scorer,accuracy_score\n",
    "from sklearn.model_selection import cross_val_score\n",
    "from sklearn.metrics import classification_report"
   ]
  },
  {
   "cell_type": "code",
   "execution_count": 2,
   "id": "cf79a835",
   "metadata": {},
   "outputs": [
    {
     "data": {
      "text/plain": [
       "(528, 16)"
      ]
     },
     "execution_count": 2,
     "metadata": {},
     "output_type": "execute_result"
    }
   ],
   "source": [
    "df = pd.read_csv('Pregnancy Risk.csv')\n",
    "df.shape"
   ]
  },
  {
   "cell_type": "code",
   "execution_count": 3,
   "id": "44724fbb",
   "metadata": {},
   "outputs": [
    {
     "data": {
      "text/html": [
       "<div>\n",
       "<style scoped>\n",
       "    .dataframe tbody tr th:only-of-type {\n",
       "        vertical-align: middle;\n",
       "    }\n",
       "\n",
       "    .dataframe tbody tr th {\n",
       "        vertical-align: top;\n",
       "    }\n",
       "\n",
       "    .dataframe thead th {\n",
       "        text-align: right;\n",
       "    }\n",
       "</style>\n",
       "<table border=\"1\" class=\"dataframe\">\n",
       "  <thead>\n",
       "    <tr style=\"text-align: right;\">\n",
       "      <th></th>\n",
       "      <th>Unnamed: 0</th>\n",
       "      <th>Age</th>\n",
       "      <th>Height</th>\n",
       "      <th>Weight</th>\n",
       "      <th>BMI</th>\n",
       "      <th>Blood Group ( is Negative?)</th>\n",
       "      <th>Delivery Type</th>\n",
       "      <th>Systolic Blood Pressure</th>\n",
       "      <th>Diastolic Blood Pressure</th>\n",
       "      <th>Edema</th>\n",
       "      <th>Anemia</th>\n",
       "      <th>Jaundice</th>\n",
       "      <th>Diabetes</th>\n",
       "      <th>Risk</th>\n",
       "      <th>Para</th>\n",
       "      <th>Gravida</th>\n",
       "    </tr>\n",
       "  </thead>\n",
       "  <tbody>\n",
       "    <tr>\n",
       "      <th>284</th>\n",
       "      <td>284</td>\n",
       "      <td>30</td>\n",
       "      <td>4.11</td>\n",
       "      <td>65.5</td>\n",
       "      <td>29.17</td>\n",
       "      <td>No</td>\n",
       "      <td>Normal</td>\n",
       "      <td>120.0</td>\n",
       "      <td>80.0</td>\n",
       "      <td>Normal</td>\n",
       "      <td>Modarate</td>\n",
       "      <td>No</td>\n",
       "      <td>No</td>\n",
       "      <td>No</td>\n",
       "      <td>1</td>\n",
       "      <td>3</td>\n",
       "    </tr>\n",
       "    <tr>\n",
       "      <th>15</th>\n",
       "      <td>15</td>\n",
       "      <td>28</td>\n",
       "      <td>5.10</td>\n",
       "      <td>54.1</td>\n",
       "      <td>22.54</td>\n",
       "      <td>No</td>\n",
       "      <td>No_delivary</td>\n",
       "      <td>120.0</td>\n",
       "      <td>80.0</td>\n",
       "      <td>Normal</td>\n",
       "      <td>Normal</td>\n",
       "      <td>No</td>\n",
       "      <td>No</td>\n",
       "      <td>No</td>\n",
       "      <td>0</td>\n",
       "      <td>1</td>\n",
       "    </tr>\n",
       "    <tr>\n",
       "      <th>138</th>\n",
       "      <td>138</td>\n",
       "      <td>18</td>\n",
       "      <td>5.00</td>\n",
       "      <td>63.0</td>\n",
       "      <td>27.13</td>\n",
       "      <td>No</td>\n",
       "      <td>No_delivary</td>\n",
       "      <td>120.0</td>\n",
       "      <td>60.0</td>\n",
       "      <td>Normal</td>\n",
       "      <td>Normal</td>\n",
       "      <td>No</td>\n",
       "      <td>No</td>\n",
       "      <td>Yes</td>\n",
       "      <td>0</td>\n",
       "      <td>1</td>\n",
       "    </tr>\n",
       "    <tr>\n",
       "      <th>35</th>\n",
       "      <td>35</td>\n",
       "      <td>24</td>\n",
       "      <td>NaN</td>\n",
       "      <td>43.6</td>\n",
       "      <td>NaN</td>\n",
       "      <td>No</td>\n",
       "      <td>Normal</td>\n",
       "      <td>110.0</td>\n",
       "      <td>80.0</td>\n",
       "      <td>Modarate</td>\n",
       "      <td>Modarate</td>\n",
       "      <td>No</td>\n",
       "      <td>No</td>\n",
       "      <td>Yes</td>\n",
       "      <td>1</td>\n",
       "      <td>2</td>\n",
       "    </tr>\n",
       "    <tr>\n",
       "      <th>49</th>\n",
       "      <td>49</td>\n",
       "      <td>18</td>\n",
       "      <td>4.80</td>\n",
       "      <td>40.0</td>\n",
       "      <td>19.77</td>\n",
       "      <td>No</td>\n",
       "      <td>No_delivary</td>\n",
       "      <td>110.0</td>\n",
       "      <td>70.0</td>\n",
       "      <td>Normal</td>\n",
       "      <td>Normal</td>\n",
       "      <td>No</td>\n",
       "      <td>No</td>\n",
       "      <td>Yes</td>\n",
       "      <td>0</td>\n",
       "      <td>1</td>\n",
       "    </tr>\n",
       "  </tbody>\n",
       "</table>\n",
       "</div>"
      ],
      "text/plain": [
       "     Unnamed: 0  Age  Height  Weight    BMI Blood Group ( is Negative?)  \\\n",
       "284         284   30    4.11    65.5  29.17                          No   \n",
       "15           15   28    5.10    54.1  22.54                          No   \n",
       "138         138   18    5.00    63.0  27.13                          No   \n",
       "35           35   24     NaN    43.6    NaN                          No   \n",
       "49           49   18    4.80    40.0  19.77                          No   \n",
       "\n",
       "    Delivery Type  Systolic Blood Pressure  Diastolic Blood Pressure  \\\n",
       "284        Normal                    120.0                      80.0   \n",
       "15    No_delivary                    120.0                      80.0   \n",
       "138   No_delivary                    120.0                      60.0   \n",
       "35         Normal                    110.0                      80.0   \n",
       "49    No_delivary                    110.0                      70.0   \n",
       "\n",
       "        Edema    Anemia Jaundice Diabetes Risk  Para  Gravida  \n",
       "284    Normal  Modarate       No       No   No     1        3  \n",
       "15     Normal    Normal       No       No   No     0        1  \n",
       "138    Normal    Normal       No       No  Yes     0        1  \n",
       "35   Modarate  Modarate       No       No  Yes     1        2  \n",
       "49     Normal    Normal       No       No  Yes     0        1  "
      ]
     },
     "execution_count": 3,
     "metadata": {},
     "output_type": "execute_result"
    }
   ],
   "source": [
    "df.sample(5)"
   ]
  },
  {
   "cell_type": "code",
   "execution_count": 4,
   "id": "bad464c4",
   "metadata": {},
   "outputs": [
    {
     "data": {
      "text/html": [
       "<div>\n",
       "<style scoped>\n",
       "    .dataframe tbody tr th:only-of-type {\n",
       "        vertical-align: middle;\n",
       "    }\n",
       "\n",
       "    .dataframe tbody tr th {\n",
       "        vertical-align: top;\n",
       "    }\n",
       "\n",
       "    .dataframe thead th {\n",
       "        text-align: right;\n",
       "    }\n",
       "</style>\n",
       "<table border=\"1\" class=\"dataframe\">\n",
       "  <thead>\n",
       "    <tr style=\"text-align: right;\">\n",
       "      <th></th>\n",
       "      <th>Age</th>\n",
       "      <th>Height</th>\n",
       "      <th>Weight</th>\n",
       "      <th>BMI</th>\n",
       "      <th>Blood Group ( is Negative?)</th>\n",
       "      <th>Delivery Type</th>\n",
       "      <th>Systolic Blood Pressure</th>\n",
       "      <th>Diastolic Blood Pressure</th>\n",
       "      <th>Edema</th>\n",
       "      <th>Anemia</th>\n",
       "      <th>Jaundice</th>\n",
       "      <th>Diabetes</th>\n",
       "      <th>Risk</th>\n",
       "      <th>Para</th>\n",
       "      <th>Gravida</th>\n",
       "    </tr>\n",
       "  </thead>\n",
       "  <tbody>\n",
       "    <tr>\n",
       "      <th>0</th>\n",
       "      <td>25</td>\n",
       "      <td>5.3</td>\n",
       "      <td>50.7</td>\n",
       "      <td>19.80</td>\n",
       "      <td>No</td>\n",
       "      <td>No_delivary</td>\n",
       "      <td>110.0</td>\n",
       "      <td>90.0</td>\n",
       "      <td>Normal</td>\n",
       "      <td>Normal</td>\n",
       "      <td>No</td>\n",
       "      <td>No</td>\n",
       "      <td>No</td>\n",
       "      <td>0</td>\n",
       "      <td>1</td>\n",
       "    </tr>\n",
       "    <tr>\n",
       "      <th>1</th>\n",
       "      <td>30</td>\n",
       "      <td>5.0</td>\n",
       "      <td>86.3</td>\n",
       "      <td>37.16</td>\n",
       "      <td>No</td>\n",
       "      <td>Normal</td>\n",
       "      <td>110.0</td>\n",
       "      <td>80.0</td>\n",
       "      <td>Normal</td>\n",
       "      <td>Normal</td>\n",
       "      <td>No</td>\n",
       "      <td>No</td>\n",
       "      <td>No</td>\n",
       "      <td>2</td>\n",
       "      <td>3</td>\n",
       "    </tr>\n",
       "    <tr>\n",
       "      <th>2</th>\n",
       "      <td>26</td>\n",
       "      <td>5.1</td>\n",
       "      <td>58.8</td>\n",
       "      <td>24.49</td>\n",
       "      <td>No</td>\n",
       "      <td>Normal</td>\n",
       "      <td>120.0</td>\n",
       "      <td>80.0</td>\n",
       "      <td>Normal</td>\n",
       "      <td>Normal</td>\n",
       "      <td>No</td>\n",
       "      <td>No</td>\n",
       "      <td>No</td>\n",
       "      <td>2</td>\n",
       "      <td>3</td>\n",
       "    </tr>\n",
       "    <tr>\n",
       "      <th>3</th>\n",
       "      <td>26</td>\n",
       "      <td>5.1</td>\n",
       "      <td>86.8</td>\n",
       "      <td>36.16</td>\n",
       "      <td>No</td>\n",
       "      <td>Normal</td>\n",
       "      <td>120.0</td>\n",
       "      <td>80.0</td>\n",
       "      <td>Normal</td>\n",
       "      <td>Normal</td>\n",
       "      <td>No</td>\n",
       "      <td>Yes</td>\n",
       "      <td>Yes</td>\n",
       "      <td>1</td>\n",
       "      <td>2</td>\n",
       "    </tr>\n",
       "    <tr>\n",
       "      <th>4</th>\n",
       "      <td>36</td>\n",
       "      <td>4.8</td>\n",
       "      <td>85.8</td>\n",
       "      <td>42.90</td>\n",
       "      <td>No</td>\n",
       "      <td>Normal</td>\n",
       "      <td>110.0</td>\n",
       "      <td>80.0</td>\n",
       "      <td>Normal</td>\n",
       "      <td>Normal</td>\n",
       "      <td>No</td>\n",
       "      <td>No</td>\n",
       "      <td>Yes</td>\n",
       "      <td>1</td>\n",
       "      <td>2</td>\n",
       "    </tr>\n",
       "  </tbody>\n",
       "</table>\n",
       "</div>"
      ],
      "text/plain": [
       "   Age  Height  Weight    BMI Blood Group ( is Negative?) Delivery Type  \\\n",
       "0   25     5.3    50.7  19.80                          No   No_delivary   \n",
       "1   30     5.0    86.3  37.16                          No        Normal   \n",
       "2   26     5.1    58.8  24.49                          No        Normal   \n",
       "3   26     5.1    86.8  36.16                          No        Normal   \n",
       "4   36     4.8    85.8  42.90                          No        Normal   \n",
       "\n",
       "   Systolic Blood Pressure  Diastolic Blood Pressure   Edema  Anemia Jaundice  \\\n",
       "0                    110.0                      90.0  Normal  Normal       No   \n",
       "1                    110.0                      80.0  Normal  Normal       No   \n",
       "2                    120.0                      80.0  Normal  Normal       No   \n",
       "3                    120.0                      80.0  Normal  Normal       No   \n",
       "4                    110.0                      80.0  Normal  Normal       No   \n",
       "\n",
       "  Diabetes Risk  Para  Gravida  \n",
       "0       No   No     0        1  \n",
       "1       No   No     2        3  \n",
       "2       No   No     2        3  \n",
       "3      Yes  Yes     1        2  \n",
       "4       No  Yes     1        2  "
      ]
     },
     "execution_count": 4,
     "metadata": {},
     "output_type": "execute_result"
    }
   ],
   "source": [
    "df1 = df.drop(['Unnamed: 0'],axis=1)\n",
    "df1.head(5)"
   ]
  },
  {
   "cell_type": "markdown",
   "id": "ed662988",
   "metadata": {},
   "source": [
    "# Data Analysis"
   ]
  },
  {
   "cell_type": "code",
   "execution_count": 5,
   "id": "1abe107c",
   "metadata": {},
   "outputs": [],
   "source": [
    "import seaborn as sns\n",
    "import matplotlib.pyplot as plt\n",
    "%matplotlib inline"
   ]
  },
  {
   "cell_type": "code",
   "execution_count": 6,
   "id": "b0e95954",
   "metadata": {},
   "outputs": [
    {
     "data": {
      "text/plain": [
       "['Age',\n",
       " 'Height',\n",
       " 'Blood Group ( is Negative?)',\n",
       " 'Delivery Type',\n",
       " 'Systolic Blood Pressure',\n",
       " 'Diastolic Blood Pressure',\n",
       " 'Edema',\n",
       " 'Anemia',\n",
       " 'Jaundice',\n",
       " 'Diabetes',\n",
       " 'Para',\n",
       " 'Gravida']"
      ]
     },
     "execution_count": 6,
     "metadata": {},
     "output_type": "execute_result"
    }
   ],
   "source": [
    "columns = ['Age', 'Height', 'Blood Group ( is Negative?)',\n",
    "       'Delivery Type', 'Systolic Blood Pressure', 'Diastolic Blood Pressure',\n",
    "       'Edema', 'Anemia', 'Jaundice', 'Diabetes','Para','Gravida']\n",
    "columns"
   ]
  },
  {
   "cell_type": "code",
   "execution_count": 7,
   "id": "ec5fa7a9",
   "metadata": {},
   "outputs": [
    {
     "data": {
      "text/plain": [
       "No     330\n",
       "Yes    198\n",
       "Name: Risk, dtype: int64"
      ]
     },
     "execution_count": 7,
     "metadata": {},
     "output_type": "execute_result"
    }
   ],
   "source": [
    "df1['Risk'].value_counts()"
   ]
  },
  {
   "cell_type": "code",
   "execution_count": 8,
   "id": "e56cf825",
   "metadata": {},
   "outputs": [
    {
     "data": {
      "image/png": "[encoded data removed]",
      "text/plain": [
       "<Figure size 720x360 with 1 Axes>"
      ]
     },
     "metadata": {},
     "output_type": "display_data"
    }
   ],
   "source": [
    "plt.figure(figsize=(10,5))\n",
    "plt.pie(df1['Risk'].value_counts(), labels=['No Risk','Risk'], autopct = \"%0.2f\",explode = [0.1,0],colors = ['#c9ee82','#8293ee'])\n",
    "plt.legend(title = \"Pragnency Risk Prediction\")\n",
    "plt.show()"
   ]
  },
  {
   "cell_type": "code",
   "execution_count": 9,
   "id": "c010263b",
   "metadata": {},
   "outputs": [],
   "source": [
    "# for x in columns:\n",
    "#     plt.figure(figsize=(15,5))\n",
    "#     plt.title(x)\n",
    "#     sns.countplot(data=df1, x=x, hue=\"Risk\")\n",
    "# plt.tight_layout()"
   ]
  },
  {
   "cell_type": "code",
   "execution_count": 10,
   "id": "03427960",
   "metadata": {},
   "outputs": [
    {
     "data": {
      "image/png": "[encoded data removed]",
      "text/plain": [
       "<Figure size 864x432 with 2 Axes>"
      ]
     },
     "metadata": {
      "needs_background": "light"
     },
     "output_type": "display_data"
    }
   ],
   "source": [
    "plt.figure(figsize=(12,6))\n",
    "plt.title(\"Co-relation between independent variable\")\n",
    "sns.heatmap(df1.corr(),annot=True)\n",
    "plt.show()"
   ]
  },
  {
   "cell_type": "markdown",
   "id": "8654f576",
   "metadata": {},
   "source": [
    "# Data Preprocessing"
   ]
  },
  {
   "cell_type": "code",
   "execution_count": 11,
   "id": "144600d8",
   "metadata": {},
   "outputs": [
    {
     "data": {
      "text/plain": [
       "Age                              int64\n",
       "Height                         float64\n",
       "Weight                         float64\n",
       "BMI                            float64\n",
       "Blood Group ( is Negative?)     object\n",
       "Delivery Type                   object\n",
       "Systolic Blood Pressure        float64\n",
       "Diastolic Blood Pressure       float64\n",
       "Edema                           object\n",
       "Anemia                          object\n",
       "Jaundice                        object\n",
       "Diabetes                        object\n",
       "Risk                            object\n",
       "Para                             int64\n",
       "Gravida                          int64\n",
       "dtype: object"
      ]
     },
     "execution_count": 11,
     "metadata": {},
     "output_type": "execute_result"
    }
   ],
   "source": [
    "df1.dtypes"
   ]
  },
  {
   "cell_type": "code",
   "execution_count": 12,
   "id": "274885d0",
   "metadata": {},
   "outputs": [
    {
     "data": {
      "text/plain": [
       "Age                             0\n",
       "Height                         12\n",
       "Weight                          0\n",
       "BMI                            12\n",
       "Blood Group ( is Negative?)     0\n",
       "Delivery Type                   0\n",
       "Systolic Blood Pressure        11\n",
       "Diastolic Blood Pressure       11\n",
       "Edema                           0\n",
       "Anemia                          0\n",
       "Jaundice                        0\n",
       "Diabetes                        0\n",
       "Risk                            0\n",
       "Para                            0\n",
       "Gravida                         0\n",
       "dtype: int64"
      ]
     },
     "execution_count": 12,
     "metadata": {},
     "output_type": "execute_result"
    }
   ],
   "source": [
    "df1.isna().sum()"
   ]
  },
  {
   "cell_type": "code",
   "execution_count": 13,
   "id": "ef88dc2f",
   "metadata": {},
   "outputs": [
    {
     "data": {
      "text/html": [
       "<div>\n",
       "<style scoped>\n",
       "    .dataframe tbody tr th:only-of-type {\n",
       "        vertical-align: middle;\n",
       "    }\n",
       "\n",
       "    .dataframe tbody tr th {\n",
       "        vertical-align: top;\n",
       "    }\n",
       "\n",
       "    .dataframe thead th {\n",
       "        text-align: right;\n",
       "    }\n",
       "</style>\n",
       "<table border=\"1\" class=\"dataframe\">\n",
       "  <thead>\n",
       "    <tr style=\"text-align: right;\">\n",
       "      <th></th>\n",
       "      <th>Age</th>\n",
       "      <th>Height</th>\n",
       "      <th>Weight</th>\n",
       "      <th>BMI</th>\n",
       "      <th>Blood Group ( is Negative?)</th>\n",
       "      <th>Delivery Type</th>\n",
       "      <th>Systolic Blood Pressure</th>\n",
       "      <th>Diastolic Blood Pressure</th>\n",
       "      <th>Edema</th>\n",
       "      <th>Anemia</th>\n",
       "      <th>Jaundice</th>\n",
       "      <th>Diabetes</th>\n",
       "      <th>Risk</th>\n",
       "      <th>Para</th>\n",
       "      <th>Gravida</th>\n",
       "    </tr>\n",
       "  </thead>\n",
       "  <tbody>\n",
       "    <tr>\n",
       "      <th>35</th>\n",
       "      <td>24</td>\n",
       "      <td>NaN</td>\n",
       "      <td>43.6</td>\n",
       "      <td>NaN</td>\n",
       "      <td>No</td>\n",
       "      <td>Normal</td>\n",
       "      <td>110.0</td>\n",
       "      <td>80.0</td>\n",
       "      <td>Modarate</td>\n",
       "      <td>Modarate</td>\n",
       "      <td>No</td>\n",
       "      <td>No</td>\n",
       "      <td>Yes</td>\n",
       "      <td>1</td>\n",
       "      <td>2</td>\n",
       "    </tr>\n",
       "    <tr>\n",
       "      <th>52</th>\n",
       "      <td>30</td>\n",
       "      <td>NaN</td>\n",
       "      <td>84.0</td>\n",
       "      <td>NaN</td>\n",
       "      <td>No</td>\n",
       "      <td>Normal</td>\n",
       "      <td>120.0</td>\n",
       "      <td>70.0</td>\n",
       "      <td>Normal</td>\n",
       "      <td>Normal</td>\n",
       "      <td>No</td>\n",
       "      <td>No</td>\n",
       "      <td>Yes</td>\n",
       "      <td>2</td>\n",
       "      <td>3</td>\n",
       "    </tr>\n",
       "    <tr>\n",
       "      <th>102</th>\n",
       "      <td>25</td>\n",
       "      <td>NaN</td>\n",
       "      <td>57.0</td>\n",
       "      <td>NaN</td>\n",
       "      <td>No</td>\n",
       "      <td>Normal</td>\n",
       "      <td>100.0</td>\n",
       "      <td>70.0</td>\n",
       "      <td>Modarate</td>\n",
       "      <td>Normal</td>\n",
       "      <td>No</td>\n",
       "      <td>No</td>\n",
       "      <td>No</td>\n",
       "      <td>1</td>\n",
       "      <td>2</td>\n",
       "    </tr>\n",
       "    <tr>\n",
       "      <th>157</th>\n",
       "      <td>29</td>\n",
       "      <td>NaN</td>\n",
       "      <td>71.0</td>\n",
       "      <td>NaN</td>\n",
       "      <td>No</td>\n",
       "      <td>No_delivary</td>\n",
       "      <td>120.0</td>\n",
       "      <td>80.0</td>\n",
       "      <td>Normal</td>\n",
       "      <td>Normal</td>\n",
       "      <td>No</td>\n",
       "      <td>No</td>\n",
       "      <td>No</td>\n",
       "      <td>0</td>\n",
       "      <td>1</td>\n",
       "    </tr>\n",
       "    <tr>\n",
       "      <th>231</th>\n",
       "      <td>18</td>\n",
       "      <td>NaN</td>\n",
       "      <td>41.5</td>\n",
       "      <td>NaN</td>\n",
       "      <td>No</td>\n",
       "      <td>No_delivary</td>\n",
       "      <td>110.0</td>\n",
       "      <td>80.0</td>\n",
       "      <td>Normal</td>\n",
       "      <td>Normal</td>\n",
       "      <td>No</td>\n",
       "      <td>No</td>\n",
       "      <td>No</td>\n",
       "      <td>0</td>\n",
       "      <td>1</td>\n",
       "    </tr>\n",
       "    <tr>\n",
       "      <th>294</th>\n",
       "      <td>25</td>\n",
       "      <td>NaN</td>\n",
       "      <td>59.0</td>\n",
       "      <td>NaN</td>\n",
       "      <td>No</td>\n",
       "      <td>No_delivary</td>\n",
       "      <td>130.0</td>\n",
       "      <td>70.0</td>\n",
       "      <td>Normal</td>\n",
       "      <td>Normal</td>\n",
       "      <td>No</td>\n",
       "      <td>No</td>\n",
       "      <td>No</td>\n",
       "      <td>1</td>\n",
       "      <td>3</td>\n",
       "    </tr>\n",
       "    <tr>\n",
       "      <th>328</th>\n",
       "      <td>30</td>\n",
       "      <td>NaN</td>\n",
       "      <td>68.0</td>\n",
       "      <td>NaN</td>\n",
       "      <td>No</td>\n",
       "      <td>Normal</td>\n",
       "      <td>140.0</td>\n",
       "      <td>90.0</td>\n",
       "      <td>Normal</td>\n",
       "      <td>Normal</td>\n",
       "      <td>No</td>\n",
       "      <td>No</td>\n",
       "      <td>Yes</td>\n",
       "      <td>2</td>\n",
       "      <td>3</td>\n",
       "    </tr>\n",
       "    <tr>\n",
       "      <th>337</th>\n",
       "      <td>18</td>\n",
       "      <td>NaN</td>\n",
       "      <td>58.0</td>\n",
       "      <td>NaN</td>\n",
       "      <td>No</td>\n",
       "      <td>No_delivary</td>\n",
       "      <td>110.0</td>\n",
       "      <td>70.0</td>\n",
       "      <td>Normal</td>\n",
       "      <td>Normal</td>\n",
       "      <td>No</td>\n",
       "      <td>No</td>\n",
       "      <td>Yes</td>\n",
       "      <td>0</td>\n",
       "      <td>1</td>\n",
       "    </tr>\n",
       "    <tr>\n",
       "      <th>359</th>\n",
       "      <td>26</td>\n",
       "      <td>NaN</td>\n",
       "      <td>57.0</td>\n",
       "      <td>NaN</td>\n",
       "      <td>No</td>\n",
       "      <td>No_delivary</td>\n",
       "      <td>120.0</td>\n",
       "      <td>80.0</td>\n",
       "      <td>Normal</td>\n",
       "      <td>Normal</td>\n",
       "      <td>No</td>\n",
       "      <td>No</td>\n",
       "      <td>Yes</td>\n",
       "      <td>0</td>\n",
       "      <td>4</td>\n",
       "    </tr>\n",
       "    <tr>\n",
       "      <th>427</th>\n",
       "      <td>33</td>\n",
       "      <td>NaN</td>\n",
       "      <td>51.0</td>\n",
       "      <td>NaN</td>\n",
       "      <td>No</td>\n",
       "      <td>No_delivary</td>\n",
       "      <td>130.0</td>\n",
       "      <td>90.0</td>\n",
       "      <td>Normal</td>\n",
       "      <td>Normal</td>\n",
       "      <td>No</td>\n",
       "      <td>No</td>\n",
       "      <td>No</td>\n",
       "      <td>0</td>\n",
       "      <td>1</td>\n",
       "    </tr>\n",
       "    <tr>\n",
       "      <th>474</th>\n",
       "      <td>21</td>\n",
       "      <td>NaN</td>\n",
       "      <td>51.0</td>\n",
       "      <td>NaN</td>\n",
       "      <td>No</td>\n",
       "      <td>Normal</td>\n",
       "      <td>120.0</td>\n",
       "      <td>70.0</td>\n",
       "      <td>Normal</td>\n",
       "      <td>Modarate</td>\n",
       "      <td>No</td>\n",
       "      <td>No</td>\n",
       "      <td>No</td>\n",
       "      <td>1</td>\n",
       "      <td>2</td>\n",
       "    </tr>\n",
       "    <tr>\n",
       "      <th>496</th>\n",
       "      <td>21</td>\n",
       "      <td>NaN</td>\n",
       "      <td>52.6</td>\n",
       "      <td>NaN</td>\n",
       "      <td>No</td>\n",
       "      <td>No_delivary</td>\n",
       "      <td>90.0</td>\n",
       "      <td>60.0</td>\n",
       "      <td>Normal</td>\n",
       "      <td>Normal</td>\n",
       "      <td>No</td>\n",
       "      <td>No</td>\n",
       "      <td>Yes</td>\n",
       "      <td>0</td>\n",
       "      <td>2</td>\n",
       "    </tr>\n",
       "  </tbody>\n",
       "</table>\n",
       "</div>"
      ],
      "text/plain": [
       "     Age  Height  Weight  BMI Blood Group ( is Negative?) Delivery Type  \\\n",
       "35    24     NaN    43.6  NaN                          No        Normal   \n",
       "52    30     NaN    84.0  NaN                          No        Normal   \n",
       "102   25     NaN    57.0  NaN                          No        Normal   \n",
       "157   29     NaN    71.0  NaN                          No   No_delivary   \n",
       "231   18     NaN    41.5  NaN                          No   No_delivary   \n",
       "294   25     NaN    59.0  NaN                          No   No_delivary   \n",
       "328   30     NaN    68.0  NaN                          No        Normal   \n",
       "337   18     NaN    58.0  NaN                          No   No_delivary   \n",
       "359   26     NaN    57.0  NaN                          No   No_delivary   \n",
       "427   33     NaN    51.0  NaN                          No   No_delivary   \n",
       "474   21     NaN    51.0  NaN                          No        Normal   \n",
       "496   21     NaN    52.6  NaN                          No   No_delivary   \n",
       "\n",
       "     Systolic Blood Pressure  Diastolic Blood Pressure     Edema    Anemia  \\\n",
       "35                     110.0                      80.0  Modarate  Modarate   \n",
       "52                     120.0                      70.0    Normal    Normal   \n",
       "102                    100.0                      70.0  Modarate    Normal   \n",
       "157                    120.0                      80.0    Normal    Normal   \n",
       "231                    110.0                      80.0    Normal    Normal   \n",
       "294                    130.0                      70.0    Normal    Normal   \n",
       "328                    140.0                      90.0    Normal    Normal   \n",
       "337                    110.0                      70.0    Normal    Normal   \n",
       "359                    120.0                      80.0    Normal    Normal   \n",
       "427                    130.0                      90.0    Normal    Normal   \n",
       "474                    120.0                      70.0    Normal  Modarate   \n",
       "496                     90.0                      60.0    Normal    Normal   \n",
       "\n",
       "    Jaundice Diabetes Risk  Para  Gravida  \n",
       "35        No       No  Yes     1        2  \n",
       "52        No       No  Yes     2        3  \n",
       "102       No       No   No     1        2  \n",
       "157       No       No   No     0        1  \n",
       "231       No       No   No     0        1  \n",
       "294       No       No   No     1        3  \n",
       "328       No       No  Yes     2        3  \n",
       "337       No       No  Yes     0        1  \n",
       "359       No       No  Yes     0        4  \n",
       "427       No       No   No     0        1  \n",
       "474       No       No   No     1        2  \n",
       "496       No       No  Yes     0        2  "
      ]
     },
     "execution_count": 13,
     "metadata": {},
     "output_type": "execute_result"
    }
   ],
   "source": [
    "df1.loc[df1.Height.isna()]"
   ]
  },
  {
   "cell_type": "code",
   "execution_count": 14,
   "id": "1beca459",
   "metadata": {},
   "outputs": [
    {
     "data": {
      "text/plain": [
       "Int64Index([35, 52, 102, 157, 231, 294, 328, 337, 359, 427, 474, 496], dtype='int64')"
      ]
     },
     "execution_count": 14,
     "metadata": {},
     "output_type": "execute_result"
    }
   ],
   "source": [
    "height_nan_index = df1['Height'].index[df1['Height'].apply(np.isnan)]\n",
    "height_nan_index"
   ]
  },
  {
   "cell_type": "code",
   "execution_count": 15,
   "id": "b16c2ed8",
   "metadata": {},
   "outputs": [],
   "source": [
    "df1.Height = df1.Height.fillna(df1.Height.mean())"
   ]
  },
  {
   "cell_type": "code",
   "execution_count": 16,
   "id": "6f2962f4",
   "metadata": {},
   "outputs": [
    {
     "data": {
      "text/plain": [
       "0"
      ]
     },
     "execution_count": 16,
     "metadata": {},
     "output_type": "execute_result"
    }
   ],
   "source": [
    "df1.Height.isna().sum()"
   ]
  },
  {
   "cell_type": "code",
   "execution_count": 17,
   "id": "5677a805",
   "metadata": {},
   "outputs": [],
   "source": [
    "for i in height_nan_index:\n",
    "    df1.BMI[i] = (round((float(df1.Weight[i]) / df1.Height[i] ** 2), 2))"
   ]
  },
  {
   "cell_type": "code",
   "execution_count": 18,
   "id": "a166926a",
   "metadata": {},
   "outputs": [
    {
     "data": {
      "text/plain": [
       "Age                             0\n",
       "Height                          0\n",
       "Weight                          0\n",
       "BMI                             0\n",
       "Blood Group ( is Negative?)     0\n",
       "Delivery Type                   0\n",
       "Systolic Blood Pressure        11\n",
       "Diastolic Blood Pressure       11\n",
       "Edema                           0\n",
       "Anemia                          0\n",
       "Jaundice                        0\n",
       "Diabetes                        0\n",
       "Risk                            0\n",
       "Para                            0\n",
       "Gravida                         0\n",
       "dtype: int64"
      ]
     },
     "execution_count": 18,
     "metadata": {},
     "output_type": "execute_result"
    }
   ],
   "source": [
    "df1.isna().sum()"
   ]
  },
  {
   "cell_type": "code",
   "execution_count": 20,
   "id": "b0633be0",
   "metadata": {},
   "outputs": [
    {
     "data": {
      "text/plain": [
       "Int64Index([], dtype='int64')"
      ]
     },
     "execution_count": 20,
     "metadata": {},
     "output_type": "execute_result"
    }
   ],
   "source": [
    "bmi_nan_index = df1['BMI'].index[df1['BMI'].apply(np.isnan)]\n",
    "bmi_nan_index"
   ]
  },
  {
   "cell_type": "code",
   "execution_count": 21,
   "id": "895997dd",
   "metadata": {},
   "outputs": [],
   "source": [
    "for i in bmi_nan_index:\n",
    "    df1.BMI[i] = (round((float(df1.Weight[i]) / df1.Height[i] ** 2), 2))"
   ]
  },
  {
   "cell_type": "code",
   "execution_count": 22,
   "id": "3f74dd17",
   "metadata": {},
   "outputs": [
    {
     "data": {
      "text/plain": [
       "Age                             0\n",
       "Height                          0\n",
       "Weight                          0\n",
       "BMI                             0\n",
       "Blood Group ( is Negative?)     0\n",
       "Delivery Type                   0\n",
       "Systolic Blood Pressure        11\n",
       "Diastolic Blood Pressure       11\n",
       "Edema                           0\n",
       "Anemia                          0\n",
       "Jaundice                        0\n",
       "Diabetes                        0\n",
       "Risk                            0\n",
       "Para                            0\n",
       "Gravida                         0\n",
       "dtype: int64"
      ]
     },
     "execution_count": 22,
     "metadata": {},
     "output_type": "execute_result"
    }
   ],
   "source": [
    "df1.isna().sum()"
   ]
  },
  {
   "cell_type": "code",
   "execution_count": 23,
   "id": "81f96ca5",
   "metadata": {},
   "outputs": [],
   "source": [
    "df1['Systolic Blood Pressure'] = df1['Systolic Blood Pressure'].fillna(120)"
   ]
  },
  {
   "cell_type": "code",
   "execution_count": 24,
   "id": "1ce55182",
   "metadata": {},
   "outputs": [],
   "source": [
    "df1['Diastolic Blood Pressure'] = df1['Diastolic Blood Pressure'].fillna(80)"
   ]
  },
  {
   "cell_type": "code",
   "execution_count": 25,
   "id": "36980c32",
   "metadata": {},
   "outputs": [
    {
     "data": {
      "text/plain": [
       "Age                            0\n",
       "Height                         0\n",
       "Weight                         0\n",
       "BMI                            0\n",
       "Blood Group ( is Negative?)    0\n",
       "Delivery Type                  0\n",
       "Systolic Blood Pressure        0\n",
       "Diastolic Blood Pressure       0\n",
       "Edema                          0\n",
       "Anemia                         0\n",
       "Jaundice                       0\n",
       "Diabetes                       0\n",
       "Risk                           0\n",
       "Para                           0\n",
       "Gravida                        0\n",
       "dtype: int64"
      ]
     },
     "execution_count": 25,
     "metadata": {},
     "output_type": "execute_result"
    }
   ],
   "source": [
    "df1.isna().sum()"
   ]
  },
  {
   "cell_type": "markdown",
   "id": "e94ba8d3",
   "metadata": {},
   "source": [
    "# Model Building"
   ]
  },
  {
   "cell_type": "code",
   "execution_count": 26,
   "id": "45b377b3",
   "metadata": {},
   "outputs": [
    {
     "data": {
      "text/html": [
       "<div>\n",
       "<style scoped>\n",
       "    .dataframe tbody tr th:only-of-type {\n",
       "        vertical-align: middle;\n",
       "    }\n",
       "\n",
       "    .dataframe tbody tr th {\n",
       "        vertical-align: top;\n",
       "    }\n",
       "\n",
       "    .dataframe thead th {\n",
       "        text-align: right;\n",
       "    }\n",
       "</style>\n",
       "<table border=\"1\" class=\"dataframe\">\n",
       "  <thead>\n",
       "    <tr style=\"text-align: right;\">\n",
       "      <th></th>\n",
       "      <th>Age</th>\n",
       "      <th>Height</th>\n",
       "      <th>Weight</th>\n",
       "      <th>BMI</th>\n",
       "      <th>Blood Group ( is Negative?)</th>\n",
       "      <th>Delivery Type</th>\n",
       "      <th>Systolic Blood Pressure</th>\n",
       "      <th>Diastolic Blood Pressure</th>\n",
       "      <th>Edema</th>\n",
       "      <th>Anemia</th>\n",
       "      <th>Jaundice</th>\n",
       "      <th>Diabetes</th>\n",
       "      <th>Risk</th>\n",
       "      <th>Para</th>\n",
       "      <th>Gravida</th>\n",
       "    </tr>\n",
       "  </thead>\n",
       "  <tbody>\n",
       "    <tr>\n",
       "      <th>0</th>\n",
       "      <td>25</td>\n",
       "      <td>5.3</td>\n",
       "      <td>50.7</td>\n",
       "      <td>19.80</td>\n",
       "      <td>0</td>\n",
       "      <td>No_delivary</td>\n",
       "      <td>110.0</td>\n",
       "      <td>90.0</td>\n",
       "      <td>Normal</td>\n",
       "      <td>Normal</td>\n",
       "      <td>0</td>\n",
       "      <td>0</td>\n",
       "      <td>0</td>\n",
       "      <td>0</td>\n",
       "      <td>1</td>\n",
       "    </tr>\n",
       "    <tr>\n",
       "      <th>1</th>\n",
       "      <td>30</td>\n",
       "      <td>5.0</td>\n",
       "      <td>86.3</td>\n",
       "      <td>37.16</td>\n",
       "      <td>0</td>\n",
       "      <td>Normal</td>\n",
       "      <td>110.0</td>\n",
       "      <td>80.0</td>\n",
       "      <td>Normal</td>\n",
       "      <td>Normal</td>\n",
       "      <td>0</td>\n",
       "      <td>0</td>\n",
       "      <td>0</td>\n",
       "      <td>2</td>\n",
       "      <td>3</td>\n",
       "    </tr>\n",
       "    <tr>\n",
       "      <th>2</th>\n",
       "      <td>26</td>\n",
       "      <td>5.1</td>\n",
       "      <td>58.8</td>\n",
       "      <td>24.49</td>\n",
       "      <td>0</td>\n",
       "      <td>Normal</td>\n",
       "      <td>120.0</td>\n",
       "      <td>80.0</td>\n",
       "      <td>Normal</td>\n",
       "      <td>Normal</td>\n",
       "      <td>0</td>\n",
       "      <td>0</td>\n",
       "      <td>0</td>\n",
       "      <td>2</td>\n",
       "      <td>3</td>\n",
       "    </tr>\n",
       "    <tr>\n",
       "      <th>3</th>\n",
       "      <td>26</td>\n",
       "      <td>5.1</td>\n",
       "      <td>86.8</td>\n",
       "      <td>36.16</td>\n",
       "      <td>0</td>\n",
       "      <td>Normal</td>\n",
       "      <td>120.0</td>\n",
       "      <td>80.0</td>\n",
       "      <td>Normal</td>\n",
       "      <td>Normal</td>\n",
       "      <td>0</td>\n",
       "      <td>1</td>\n",
       "      <td>1</td>\n",
       "      <td>1</td>\n",
       "      <td>2</td>\n",
       "    </tr>\n",
       "    <tr>\n",
       "      <th>4</th>\n",
       "      <td>36</td>\n",
       "      <td>4.8</td>\n",
       "      <td>85.8</td>\n",
       "      <td>42.90</td>\n",
       "      <td>0</td>\n",
       "      <td>Normal</td>\n",
       "      <td>110.0</td>\n",
       "      <td>80.0</td>\n",
       "      <td>Normal</td>\n",
       "      <td>Normal</td>\n",
       "      <td>0</td>\n",
       "      <td>0</td>\n",
       "      <td>1</td>\n",
       "      <td>1</td>\n",
       "      <td>2</td>\n",
       "    </tr>\n",
       "  </tbody>\n",
       "</table>\n",
       "</div>"
      ],
      "text/plain": [
       "   Age  Height  Weight    BMI  Blood Group ( is Negative?) Delivery Type  \\\n",
       "0   25     5.3    50.7  19.80                            0   No_delivary   \n",
       "1   30     5.0    86.3  37.16                            0        Normal   \n",
       "2   26     5.1    58.8  24.49                            0        Normal   \n",
       "3   26     5.1    86.8  36.16                            0        Normal   \n",
       "4   36     4.8    85.8  42.90                            0        Normal   \n",
       "\n",
       "   Systolic Blood Pressure  Diastolic Blood Pressure   Edema  Anemia  \\\n",
       "0                    110.0                      90.0  Normal  Normal   \n",
       "1                    110.0                      80.0  Normal  Normal   \n",
       "2                    120.0                      80.0  Normal  Normal   \n",
       "3                    120.0                      80.0  Normal  Normal   \n",
       "4                    110.0                      80.0  Normal  Normal   \n",
       "\n",
       "   Jaundice  Diabetes  Risk  Para  Gravida  \n",
       "0         0         0     0     0        1  \n",
       "1         0         0     0     2        3  \n",
       "2         0         0     0     2        3  \n",
       "3         0         1     1     1        2  \n",
       "4         0         0     1     1        2  "
      ]
     },
     "execution_count": 26,
     "metadata": {},
     "output_type": "execute_result"
    }
   ],
   "source": [
    "from sklearn.preprocessing import LabelEncoder\n",
    "encoder = LabelEncoder()\n",
    "col = ['Blood Group ( is Negative?)','Jaundice','Diabetes','Risk']\n",
    "for x in col:\n",
    "    df1[x] = encoder.fit_transform(df[x])\n",
    "df1.head(5)"
   ]
  },
  {
   "cell_type": "code",
   "execution_count": 27,
   "id": "9c0573be",
   "metadata": {},
   "outputs": [
    {
     "data": {
      "text/html": [
       "<div>\n",
       "<style scoped>\n",
       "    .dataframe tbody tr th:only-of-type {\n",
       "        vertical-align: middle;\n",
       "    }\n",
       "\n",
       "    .dataframe tbody tr th {\n",
       "        vertical-align: top;\n",
       "    }\n",
       "\n",
       "    .dataframe thead th {\n",
       "        text-align: right;\n",
       "    }\n",
       "</style>\n",
       "<table border=\"1\" class=\"dataframe\">\n",
       "  <thead>\n",
       "    <tr style=\"text-align: right;\">\n",
       "      <th></th>\n",
       "      <th>Age</th>\n",
       "      <th>Height</th>\n",
       "      <th>Weight</th>\n",
       "      <th>BMI</th>\n",
       "      <th>Blood Group ( is Negative?)</th>\n",
       "      <th>Systolic Blood Pressure</th>\n",
       "      <th>Diastolic Blood Pressure</th>\n",
       "      <th>Jaundice</th>\n",
       "      <th>Diabetes</th>\n",
       "      <th>Risk</th>\n",
       "      <th>Para</th>\n",
       "      <th>Gravida</th>\n",
       "      <th>Delivery Type_No_delivary</th>\n",
       "      <th>Delivery Type_Normal</th>\n",
       "      <th>Edema_Modarate</th>\n",
       "      <th>Edema_Normal</th>\n",
       "      <th>Anemia_Modarate</th>\n",
       "      <th>Anemia_Normal</th>\n",
       "    </tr>\n",
       "  </thead>\n",
       "  <tbody>\n",
       "    <tr>\n",
       "      <th>78</th>\n",
       "      <td>27</td>\n",
       "      <td>4.11</td>\n",
       "      <td>71.7</td>\n",
       "      <td>31.93</td>\n",
       "      <td>0</td>\n",
       "      <td>120.0</td>\n",
       "      <td>80.0</td>\n",
       "      <td>0</td>\n",
       "      <td>0</td>\n",
       "      <td>0</td>\n",
       "      <td>2</td>\n",
       "      <td>3</td>\n",
       "      <td>0</td>\n",
       "      <td>1</td>\n",
       "      <td>0</td>\n",
       "      <td>1</td>\n",
       "      <td>0</td>\n",
       "      <td>1</td>\n",
       "    </tr>\n",
       "    <tr>\n",
       "      <th>22</th>\n",
       "      <td>26</td>\n",
       "      <td>5.40</td>\n",
       "      <td>68.0</td>\n",
       "      <td>25.73</td>\n",
       "      <td>0</td>\n",
       "      <td>110.0</td>\n",
       "      <td>90.0</td>\n",
       "      <td>0</td>\n",
       "      <td>0</td>\n",
       "      <td>0</td>\n",
       "      <td>0</td>\n",
       "      <td>1</td>\n",
       "      <td>1</td>\n",
       "      <td>0</td>\n",
       "      <td>0</td>\n",
       "      <td>1</td>\n",
       "      <td>0</td>\n",
       "      <td>1</td>\n",
       "    </tr>\n",
       "  </tbody>\n",
       "</table>\n",
       "</div>"
      ],
      "text/plain": [
       "    Age  Height  Weight    BMI  Blood Group ( is Negative?)  \\\n",
       "78   27    4.11    71.7  31.93                            0   \n",
       "22   26    5.40    68.0  25.73                            0   \n",
       "\n",
       "    Systolic Blood Pressure  Diastolic Blood Pressure  Jaundice  Diabetes  \\\n",
       "78                    120.0                      80.0         0         0   \n",
       "22                    110.0                      90.0         0         0   \n",
       "\n",
       "    Risk  Para  Gravida  Delivery Type_No_delivary  Delivery Type_Normal  \\\n",
       "78     0     2        3                          0                     1   \n",
       "22     0     0        1                          1                     0   \n",
       "\n",
       "    Edema_Modarate  Edema_Normal  Anemia_Modarate  Anemia_Normal  \n",
       "78               0             1                0              1  \n",
       "22               0             1                0              1  "
      ]
     },
     "execution_count": 27,
     "metadata": {},
     "output_type": "execute_result"
    }
   ],
   "source": [
    "df2 = pd.get_dummies(df1,drop_first=True)\n",
    "df2.sample(2)"
   ]
  },
  {
   "cell_type": "code",
   "execution_count": 28,
   "id": "9bc52e43",
   "metadata": {},
   "outputs": [],
   "source": [
    "from sklearn.model_selection import train_test_split\n",
    "X = df2.drop(['Risk'],axis=1)"
   ]
  },
  {
   "cell_type": "code",
   "execution_count": 29,
   "id": "22f0f6a7",
   "metadata": {},
   "outputs": [],
   "source": [
    "y = df2.Risk"
   ]
  },
  {
   "cell_type": "code",
   "execution_count": 30,
   "id": "65dc097c",
   "metadata": {},
   "outputs": [
    {
     "name": "stdout",
     "output_type": "stream",
     "text": [
      "cross_val_score :  0.63\n",
      "\n",
      "Classification Report : \n",
      "              precision    recall  f1-score   support\n",
      "\n",
      "           0       0.63      1.00      0.77       330\n",
      "           1       1.00      0.02      0.03       198\n",
      "\n",
      "    accuracy                           0.63       528\n",
      "   macro avg       0.81      0.51      0.40       528\n",
      "weighted avg       0.77      0.63      0.49       528\n",
      "\n"
     ]
    }
   ],
   "source": [
    "from sklearn.svm import SVC\n",
    "\n",
    "originalclass = []\n",
    "predictedclass = []\n",
    "\n",
    "def classification_report_with_accuracy_score(y_true, y_pred):\n",
    "    originalclass.extend(y_true)\n",
    "    predictedclass.extend(y_pred)\n",
    "    return accuracy_score(y_true, y_pred) # return accuracy score\n",
    "\n",
    "\n",
    "nested_score = cross_val_score(SVC(),X,y, cv=10, scoring=make_scorer(classification_report_with_accuracy_score))\n",
    "\n",
    "print('cross_val_score : ',round(nested_score.mean(),2))\n",
    "print('\\nClassification Report : ')\n",
    "print(classification_report(originalclass, predictedclass))"
   ]
  },
  {
   "cell_type": "code",
   "execution_count": 31,
   "id": "21bdbc7e",
   "metadata": {},
   "outputs": [
    {
     "name": "stdout",
     "output_type": "stream",
     "text": [
      "cross_val_score :  0.88\n",
      "\n",
      "Classification Report : \n",
      "              precision    recall  f1-score   support\n",
      "\n",
      "           0       0.88      0.94      0.91       330\n",
      "           1       0.89      0.78      0.83       198\n",
      "\n",
      "    accuracy                           0.88       528\n",
      "   macro avg       0.88      0.86      0.87       528\n",
      "weighted avg       0.88      0.88      0.88       528\n",
      "\n"
     ]
    }
   ],
   "source": [
    "from sklearn.ensemble import RandomForestClassifier\n",
    "\n",
    "originalclass = []\n",
    "predictedclass = []\n",
    "\n",
    "def classification_report_with_accuracy_score(y_true, y_pred):\n",
    "    originalclass.extend(y_true)\n",
    "    predictedclass.extend(y_pred)\n",
    "    return accuracy_score(y_true, y_pred) # return accuracy score\n",
    "\n",
    "\n",
    "nested_score = cross_val_score(RandomForestClassifier(),X,y, cv=10, scoring=make_scorer(classification_report_with_accuracy_score))\n",
    "\n",
    "print('cross_val_score : ',round(nested_score.mean(),2))\n",
    "print('\\nClassification Report : ')\n",
    "print(classification_report(originalclass, predictedclass))"
   ]
  },
  {
   "cell_type": "code",
   "execution_count": 32,
   "id": "7006c29c",
   "metadata": {},
   "outputs": [
    {
     "name": "stdout",
     "output_type": "stream",
     "text": [
      "cross_val_score :  0.85\n",
      "\n",
      "Classification Report : \n",
      "              precision    recall  f1-score   support\n",
      "\n",
      "           0       0.86      0.90      0.88       330\n",
      "           1       0.82      0.76      0.79       198\n",
      "\n",
      "    accuracy                           0.85       528\n",
      "   macro avg       0.84      0.83      0.84       528\n",
      "weighted avg       0.85      0.85      0.85       528\n",
      "\n"
     ]
    }
   ],
   "source": [
    "from sklearn.tree import DecisionTreeClassifier\n",
    "\n",
    "originalclass = []\n",
    "predictedclass = []\n",
    "\n",
    "def classification_report_with_accuracy_score(y_true, y_pred):\n",
    "    originalclass.extend(y_true)\n",
    "    predictedclass.extend(y_pred)\n",
    "    return accuracy_score(y_true, y_pred) # return accuracy score\n",
    "\n",
    "\n",
    "nested_score = cross_val_score(DecisionTreeClassifier(),X,y, cv=10, scoring=make_scorer(classification_report_with_accuracy_score))\n",
    "\n",
    "print('cross_val_score : ',round(nested_score.mean(),2))\n",
    "print('\\nClassification Report : ')\n",
    "print(classification_report(originalclass, predictedclass))"
   ]
  },
  {
   "cell_type": "code",
   "execution_count": 33,
   "id": "8def56c2",
   "metadata": {},
   "outputs": [
    {
     "name": "stdout",
     "output_type": "stream",
     "text": [
      "cross_val_score :  0.7\n",
      "\n",
      "Classification Report : \n",
      "              precision    recall  f1-score   support\n",
      "\n",
      "           0       0.71      0.88      0.79       330\n",
      "           1       0.67      0.40      0.50       198\n",
      "\n",
      "    accuracy                           0.70       528\n",
      "   macro avg       0.69      0.64      0.64       528\n",
      "weighted avg       0.69      0.70      0.68       528\n",
      "\n"
     ]
    }
   ],
   "source": [
    "from sklearn.linear_model import LogisticRegression\n",
    "\n",
    "originalclass = []\n",
    "predictedclass = []\n",
    "\n",
    "def classification_report_with_accuracy_score(y_true, y_pred):\n",
    "    originalclass.extend(y_true)\n",
    "    predictedclass.extend(y_pred)\n",
    "    return accuracy_score(y_true, y_pred) # return accuracy score\n",
    "\n",
    "\n",
    "nested_score = cross_val_score(LogisticRegression(),X,y, cv=10, scoring=make_scorer(classification_report_with_accuracy_score))\n",
    "\n",
    "print('cross_val_score : ',round(nested_score.mean(),2))\n",
    "print('\\nClassification Report : ')\n",
    "print(classification_report(originalclass, predictedclass))"
   ]
  },
  {
   "cell_type": "code",
   "execution_count": 34,
   "id": "add69645",
   "metadata": {},
   "outputs": [
    {
     "name": "stdout",
     "output_type": "stream",
     "text": [
      "cross_val_score :  0.74\n",
      "\n",
      "Classification Report : \n",
      "              precision    recall  f1-score   support\n",
      "\n",
      "           0       0.75      0.88      0.81       330\n",
      "           1       0.71      0.51      0.59       198\n",
      "\n",
      "    accuracy                           0.74       528\n",
      "   macro avg       0.73      0.69      0.70       528\n",
      "weighted avg       0.73      0.74      0.73       528\n",
      "\n"
     ]
    }
   ],
   "source": [
    "from sklearn.neighbors import KNeighborsClassifier\n",
    "\n",
    "originalclass = []\n",
    "predictedclass = []\n",
    "\n",
    "def classification_report_with_accuracy_score(y_true, y_pred):\n",
    "    originalclass.extend(y_true)\n",
    "    predictedclass.extend(y_pred)\n",
    "    return accuracy_score(y_true, y_pred) # return accuracy score\n",
    "\n",
    "\n",
    "nested_score = cross_val_score(KNeighborsClassifier(n_neighbors=3),X,y, cv=10, scoring=make_scorer(classification_report_with_accuracy_score))\n",
    "\n",
    "print('cross_val_score : ',round(nested_score.mean(),2))\n",
    "print('\\nClassification Report : ')\n",
    "print(classification_report(originalclass, predictedclass))"
   ]
  },
  {
   "cell_type": "code",
   "execution_count": 35,
   "id": "a4dbe813",
   "metadata": {},
   "outputs": [
    {
     "name": "stdout",
     "output_type": "stream",
     "text": [
      "cross_val_score :  0.68\n",
      "\n",
      "Classification Report : \n",
      "              precision    recall  f1-score   support\n",
      "\n",
      "           0       0.70      0.85      0.77       330\n",
      "           1       0.61      0.38      0.47       198\n",
      "\n",
      "    accuracy                           0.68       528\n",
      "   macro avg       0.65      0.62      0.62       528\n",
      "weighted avg       0.66      0.68      0.66       528\n",
      "\n"
     ]
    }
   ],
   "source": [
    "from sklearn.neural_network import MLPClassifier\n",
    "\n",
    "originalclass = []\n",
    "predictedclass = []\n",
    "\n",
    "def classification_report_with_accuracy_score(y_true, y_pred):\n",
    "    originalclass.extend(y_true)\n",
    "    predictedclass.extend(y_pred)\n",
    "    return accuracy_score(y_true, y_pred) # return accuracy score\n",
    "\n",
    "\n",
    "nested_score = cross_val_score(MLPClassifier(solver='lbfgs',hidden_layer_sizes=(20,)),\n",
    "                               X,y, cv=10, scoring=make_scorer(classification_report_with_accuracy_score))\n",
    "\n",
    "print('cross_val_score : ',round(nested_score.mean(),2))\n",
    "print('\\nClassification Report : ')\n",
    "print(classification_report(originalclass, predictedclass))"
   ]
  },
  {
   "cell_type": "code",
   "execution_count": null,
   "id": "94eeb83b",
   "metadata": {},
   "outputs": [],
   "source": []
  }
 ],
 "metadata": {
  "kernelspec": {
   "display_name": "Python 3 (ipykernel)",
   "language": "python",
   "name": "python3"
  },
  "language_info": {
   "codemirror_mode": {
    "name": "ipython",
    "version": 3
   },
   "file_extension": ".py",
   "mimetype": "text/x-python",
   "name": "python",
   "nbconvert_exporter": "python",
   "pygments_lexer": "ipython3",
   "version": "3.9.12"
  }
 },
 "nbformat": 4,
 "nbformat_minor": 5
}
