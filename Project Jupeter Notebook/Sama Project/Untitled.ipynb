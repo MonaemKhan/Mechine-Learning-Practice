{
 "cells": [
  {
   "cell_type": "code",
   "execution_count": 4,
   "id": "eb6d3a27",
   "metadata": {},
   "outputs": [],
   "source": [
    "data = {\n",
    "    'Location':[],\n",
    "    'Type':[],\n",
    "    'Floor':[],\n",
    "    'Size':[],\n",
    "    'Bedroom':[],\n",
    "    'Kitchen':[],\n",
    "    'Bathroom':[],\n",
    "    'Drawingroom':[],\n",
    "    'Dining_Space':[],\n",
    "    'Balcony':[],\n",
    "    'Lift':[],\n",
    "    'Price':[]\n",
    "}"
   ]
  },
  {
   "cell_type": "code",
   "execution_count": 5,
   "id": "3f6e6bcc",
   "metadata": {},
   "outputs": [],
   "source": [
    "import pandas as pd\n",
    "pd.DataFrame(data).to_csv('House Price in Rangamati.csv')"
   ]
  },
  {
   "cell_type": "code",
   "execution_count": null,
   "id": "56dfb9a3",
   "metadata": {},
   "outputs": [],
   "source": []
  }
 ],
 "metadata": {
  "kernelspec": {
   "display_name": "Python 3 (ipykernel)",
   "language": "python",
   "name": "python3"
  },
  "language_info": {
   "codemirror_mode": {
    "name": "ipython",
    "version": 3
   },
   "file_extension": ".py",
   "mimetype": "text/x-python",
   "name": "python",
   "nbconvert_exporter": "python",
   "pygments_lexer": "ipython3",
   "version": "3.9.12"
  }
 },
 "nbformat": 4,
 "nbformat_minor": 5
}
