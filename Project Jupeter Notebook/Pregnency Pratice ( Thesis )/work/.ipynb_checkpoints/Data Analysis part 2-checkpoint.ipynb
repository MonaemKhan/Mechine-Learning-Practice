{
 "cells": [
  {
   "cell_type": "code",
   "execution_count": 1,
   "id": "28f0cc11",
   "metadata": {},
   "outputs": [
    {
     "data": {
      "text/html": [
       "<div>\n",
       "<style scoped>\n",
       "    .dataframe tbody tr th:only-of-type {\n",
       "        vertical-align: middle;\n",
       "    }\n",
       "\n",
       "    .dataframe tbody tr th {\n",
       "        vertical-align: top;\n",
       "    }\n",
       "\n",
       "    .dataframe thead th {\n",
       "        text-align: right;\n",
       "    }\n",
       "</style>\n",
       "<table border=\"1\" class=\"dataframe\">\n",
       "  <thead>\n",
       "    <tr style=\"text-align: right;\">\n",
       "      <th></th>\n",
       "      <th>Age</th>\n",
       "      <th>Height</th>\n",
       "      <th>Weight</th>\n",
       "      <th>BMI</th>\n",
       "      <th>Blood Group ( is Negative?)</th>\n",
       "      <th>Delivery Type</th>\n",
       "      <th>Systolic Blood Pressure</th>\n",
       "      <th>Diastolic Blood Pressure</th>\n",
       "      <th>Edema</th>\n",
       "      <th>Anemia</th>\n",
       "      <th>Jaundice</th>\n",
       "      <th>Diabetes</th>\n",
       "      <th>Risk</th>\n",
       "      <th>Para</th>\n",
       "      <th>Gravida</th>\n",
       "    </tr>\n",
       "  </thead>\n",
       "  <tbody>\n",
       "    <tr>\n",
       "      <th>1906</th>\n",
       "      <td>23</td>\n",
       "      <td>1.549</td>\n",
       "      <td>66.5</td>\n",
       "      <td>27.70</td>\n",
       "      <td>No</td>\n",
       "      <td>Normal</td>\n",
       "      <td>100</td>\n",
       "      <td>70</td>\n",
       "      <td>Normal</td>\n",
       "      <td>Normal</td>\n",
       "      <td>No</td>\n",
       "      <td>No</td>\n",
       "      <td>No</td>\n",
       "      <td>1</td>\n",
       "      <td>3</td>\n",
       "    </tr>\n",
       "    <tr>\n",
       "      <th>2489</th>\n",
       "      <td>22</td>\n",
       "      <td>1.447</td>\n",
       "      <td>57.5</td>\n",
       "      <td>27.43</td>\n",
       "      <td>No</td>\n",
       "      <td>Normal</td>\n",
       "      <td>100</td>\n",
       "      <td>80</td>\n",
       "      <td>Normal</td>\n",
       "      <td>Normal</td>\n",
       "      <td>No</td>\n",
       "      <td>No</td>\n",
       "      <td>No</td>\n",
       "      <td>1</td>\n",
       "      <td>2</td>\n",
       "    </tr>\n",
       "    <tr>\n",
       "      <th>1613</th>\n",
       "      <td>20</td>\n",
       "      <td>1.549</td>\n",
       "      <td>49.6</td>\n",
       "      <td>20.66</td>\n",
       "      <td>No</td>\n",
       "      <td>No_delivary</td>\n",
       "      <td>110</td>\n",
       "      <td>60</td>\n",
       "      <td>Normal</td>\n",
       "      <td>Normal</td>\n",
       "      <td>No</td>\n",
       "      <td>No</td>\n",
       "      <td>Yes</td>\n",
       "      <td>0</td>\n",
       "      <td>1</td>\n",
       "    </tr>\n",
       "    <tr>\n",
       "      <th>2492</th>\n",
       "      <td>27</td>\n",
       "      <td>1.524</td>\n",
       "      <td>57.0</td>\n",
       "      <td>24.54</td>\n",
       "      <td>No</td>\n",
       "      <td>No_delivary</td>\n",
       "      <td>100</td>\n",
       "      <td>80</td>\n",
       "      <td>Normal</td>\n",
       "      <td>Normal</td>\n",
       "      <td>No</td>\n",
       "      <td>No</td>\n",
       "      <td>No</td>\n",
       "      <td>1</td>\n",
       "      <td>3</td>\n",
       "    </tr>\n",
       "    <tr>\n",
       "      <th>3478</th>\n",
       "      <td>30</td>\n",
       "      <td>1.447</td>\n",
       "      <td>61.3</td>\n",
       "      <td>29.24</td>\n",
       "      <td>No</td>\n",
       "      <td>No_delivary</td>\n",
       "      <td>130</td>\n",
       "      <td>70</td>\n",
       "      <td>Normal</td>\n",
       "      <td>Normal</td>\n",
       "      <td>No</td>\n",
       "      <td>No</td>\n",
       "      <td>Yes</td>\n",
       "      <td>0</td>\n",
       "      <td>1</td>\n",
       "    </tr>\n",
       "  </tbody>\n",
       "</table>\n",
       "</div>"
      ],
      "text/plain": [
       "      Age  Height  Weight    BMI Blood Group ( is Negative?) Delivery Type  \\\n",
       "1906   23   1.549    66.5  27.70                          No        Normal   \n",
       "2489   22   1.447    57.5  27.43                          No        Normal   \n",
       "1613   20   1.549    49.6  20.66                          No   No_delivary   \n",
       "2492   27   1.524    57.0  24.54                          No   No_delivary   \n",
       "3478   30   1.447    61.3  29.24                          No   No_delivary   \n",
       "\n",
       "      Systolic Blood Pressure  Diastolic Blood Pressure   Edema  Anemia  \\\n",
       "1906                      100                        70  Normal  Normal   \n",
       "2489                      100                        80  Normal  Normal   \n",
       "1613                      110                        60  Normal  Normal   \n",
       "2492                      100                        80  Normal  Normal   \n",
       "3478                      130                        70  Normal  Normal   \n",
       "\n",
       "     Jaundice Diabetes Risk  Para  Gravida  \n",
       "1906       No       No   No     1        3  \n",
       "2489       No       No   No     1        2  \n",
       "1613       No       No  Yes     0        1  \n",
       "2492       No       No   No     1        3  \n",
       "3478       No       No  Yes     0        1  "
      ]
     },
     "execution_count": 1,
     "metadata": {},
     "output_type": "execute_result"
    }
   ],
   "source": [
    "import warnings\n",
    "warnings.filterwarnings(\"ignore\")\n",
    "import pandas as pd\n",
    "import numpy as np\n",
    "df = pd.read_csv('final.csv')\n",
    "df.sample(5)"
   ]
  },
  {
   "cell_type": "code",
   "execution_count": 2,
   "id": "1f9cb26d",
   "metadata": {},
   "outputs": [],
   "source": [
    "df['Blood Group ( is Negative?)'] = df['Blood Group ( is Negative?)'].map({'Yes':1,'No':0})\n",
    "df['Jaundice'] = df['Jaundice'].map({'Yes':1,'No':0})\n",
    "df['Diabetes'] = df['Diabetes'].map({'Yes':1,'No':0})\n",
    "df['Risk'] = df['Risk'].map({'Yes':1,'No':0})\n",
    "df['Delivery Type'] = df['Delivery Type'].map({'No_delivary':0,'Normal':1,'C-section':2})\n",
    "df['Edema'] = df['Edema'].map({'Normal':0,'High':2,'Modarate':1})\n",
    "df['Anemia'] = df['Anemia'].map({'Normal':0,'Low':1,'Very-Low':2})"
   ]
  },
  {
   "cell_type": "code",
   "execution_count": 3,
   "id": "a8f79174",
   "metadata": {},
   "outputs": [
    {
     "data": {
      "image/png": "[encoded data removed]",
      "text/plain": [
       "<Figure size 720x360 with 1 Axes>"
      ]
     },
     "metadata": {},
     "output_type": "display_data"
    }
   ],
   "source": [
    "import matplotlib.pyplot as plt\n",
    "plt.figure(figsize=(10,5))\n",
    "plt.pie(df['Risk'].value_counts(), labels=['No Risk','Risk'], autopct = \"%0.2f\",explode = [0.1,0])\n",
    "plt.legend()\n",
    "plt.show()"
   ]
  },
  {
   "cell_type": "code",
   "execution_count": 4,
   "id": "173055cd",
   "metadata": {},
   "outputs": [
    {
     "data": {
      "text/plain": [
       "Index(['Age', 'BMI', 'Blood Group ( is Negative?)', 'Delivery Type',\n",
       "       'Systolic Blood Pressure', 'Diastolic Blood Pressure', 'Edema',\n",
       "       'Anemia', 'Jaundice', 'Diabetes', 'Risk', 'parity'],\n",
       "      dtype='object')"
      ]
     },
     "execution_count": 4,
     "metadata": {},
     "output_type": "execute_result"
    }
   ],
   "source": [
    "for i in range(len(df)):\n",
    "    df.loc[i,'parity'] = df.loc[i,'Gravida'] - df.loc[i,'Para']\n",
    "df['parity'] = df['parity'].astype(int)\n",
    "df = df.drop(['Height', 'Weight','Para','Gravida'],axis=1)\n",
    "df.columns[:]"
   ]
  },
  {
   "cell_type": "code",
   "execution_count": null,
   "id": "0008c84a",
   "metadata": {},
   "outputs": [],
   "source": []
  },
  {
   "cell_type": "code",
   "execution_count": 5,
   "id": "086ea0fe",
   "metadata": {},
   "outputs": [],
   "source": [
    "x = df.drop(['Risk'],axis=1)\n",
    "y = df.Risk"
   ]
  },
  {
   "cell_type": "code",
   "execution_count": 7,
   "id": "bd768e97",
   "metadata": {},
   "outputs": [
    {
     "data": {
      "image/png": "[encoded data removed]",
      "text/plain": [
       "<Figure size 432x288 with 1 Axes>"
      ]
     },
     "metadata": {
      "needs_background": "light"
     },
     "output_type": "display_data"
    }
   ],
   "source": [
    "from sklearn.feature_selection import mutual_info_classif\n",
    "\n",
    "im = mutual_info_classif(x,y)\n",
    "fe_im= pd.Series(im,['Age','BMI', 'Blood Group ( is Negative?)',\n",
    "       'Delivery Type', 'Systolic Blood Pressure', 'Diastolic Blood Pressure',\n",
    "       'Edema', 'Anemia', 'Jaundice', 'Diabetes','parity'])\n",
    "fe_im.plot(kind='barh')\n",
    "plt.show()"
   ]
  },
  {
   "cell_type": "code",
   "execution_count": null,
   "id": "54b177ca",
   "metadata": {},
   "outputs": [],
   "source": []
  },
  {
   "cell_type": "code",
   "execution_count": 10,
   "id": "7ab086d2",
   "metadata": {},
   "outputs": [
    {
     "data": {
      "image/png": "[encoded data removed]",
      "text/plain": [
       "<Figure size 1440x576 with 1 Axes>"
      ]
     },
     "metadata": {
      "needs_background": "light"
     },
     "output_type": "display_data"
    }
   ],
   "source": [
    "df.drop('Risk', axis=1).corrwith(df.Risk).plot(kind='bar', grid=True, figsize=(20, 8)\n",
    ", title=\"Correlation with Pregnancy Risk\",color=\"Purple\");"
   ]
  },
  {
   "cell_type": "code",
   "execution_count": 16,
   "id": "81f85db2",
   "metadata": {},
   "outputs": [
    {
     "data": {
      "text/plain": [
       "120    1003\n",
       "110     882\n",
       "100     370\n",
       "130     229\n",
       "140      64\n",
       "125      17\n",
       "90       10\n",
       "115       4\n",
       "150       3\n",
       "105       2\n",
       "Name: Systolic Blood Pressure, dtype: int64"
      ]
     },
     "execution_count": 16,
     "metadata": {},
     "output_type": "execute_result"
    }
   ],
   "source": [
    "df['Systolic Blood Pressure'][df['Risk']==0].value_counts()"
   ]
  },
  {
   "cell_type": "code",
   "execution_count": 12,
   "id": "ff7ad674",
   "metadata": {},
   "outputs": [
    {
     "data": {
      "text/plain": [
       "120    1003\n",
       "110     882\n",
       "100     370\n",
       "130     229\n",
       "140      64\n",
       "125      17\n",
       "90       10\n",
       "115       4\n",
       "150       3\n",
       "105       2\n",
       "Name: Systolic Blood Pressure, dtype: int64"
      ]
     },
     "execution_count": 12,
     "metadata": {},
     "output_type": "execute_result"
    }
   ],
   "source": [
    "df['Systolic Blood Pressure'][df['Risk']==0].value_counts()"
   ]
  },
  {
   "cell_type": "code",
   "execution_count": 14,
   "id": "a0ec0c83",
   "metadata": {},
   "outputs": [
    {
     "data": {
      "text/plain": [
       "<pandas.core.groupby.generic.DataFrameGroupBy object at 0x0000021185F14BE0>"
      ]
     },
     "execution_count": 14,
     "metadata": {},
     "output_type": "execute_result"
    }
   ],
   "source": [
    "newdf.groupby(['Risk'])"
   ]
  },
  {
   "cell_type": "code",
   "execution_count": null,
   "id": "09200ca0",
   "metadata": {},
   "outputs": [],
   "source": []
  }
 ],
 "metadata": {
  "kernelspec": {
   "display_name": "Python 3 (ipykernel)",
   "language": "python",
   "name": "python3"
  },
  "language_info": {
   "codemirror_mode": {
    "name": "ipython",
    "version": 3
   },
   "file_extension": ".py",
   "mimetype": "text/x-python",
   "name": "python",
   "nbconvert_exporter": "python",
   "pygments_lexer": "ipython3",
   "version": "3.9.12"
  }
 },
 "nbformat": 4,
 "nbformat_minor": 5
}
