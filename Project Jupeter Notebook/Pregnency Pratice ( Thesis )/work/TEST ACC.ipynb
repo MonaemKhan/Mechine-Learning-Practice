{
 "cells": [
  {
   "cell_type": "code",
   "execution_count": 1,
   "id": "cd55e0ae",
   "metadata": {},
   "outputs": [],
   "source": [
    "import warnings\n",
    "warnings.filterwarnings(\"ignore\")\n",
    "import pandas as pd\n",
    "import numpy as np\n",
    "\n",
    "from sklearn.svm import SVC\n",
    "from sklearn.tree import DecisionTreeClassifier\n",
    "from sklearn.neighbors import KNeighborsClassifier\n",
    "from sklearn.ensemble import RandomForestClassifier\n",
    "from sklearn.linear_model import LogisticRegression\n",
    "from sklearn.naive_bayes import GaussianNB,MultinomialNB\n",
    "\n",
    "from sklearn.metrics import accuracy_score, f1_score, precision_score, recall_score\n",
    "from sklearn.metrics import ConfusionMatrixDisplay,confusion_matrix,roc_auc_score,roc_curve,auc\n",
    "import matplotlib.pyplot as plt\n",
    "%matplotlib inline\n",
    "import seaborn as sns"
   ]
  },
  {
   "cell_type": "code",
   "execution_count": 2,
   "id": "ed942b87",
   "metadata": {},
   "outputs": [
    {
     "data": {
      "text/html": [
       "<div>\n",
       "<style scoped>\n",
       "    .dataframe tbody tr th:only-of-type {\n",
       "        vertical-align: middle;\n",
       "    }\n",
       "\n",
       "    .dataframe tbody tr th {\n",
       "        vertical-align: top;\n",
       "    }\n",
       "\n",
       "    .dataframe thead th {\n",
       "        text-align: right;\n",
       "    }\n",
       "</style>\n",
       "<table border=\"1\" class=\"dataframe\">\n",
       "  <thead>\n",
       "    <tr style=\"text-align: right;\">\n",
       "      <th></th>\n",
       "      <th>Age</th>\n",
       "      <th>Height</th>\n",
       "      <th>Weight</th>\n",
       "      <th>BMI</th>\n",
       "      <th>Blood Group ( is Negative?)</th>\n",
       "      <th>Delivery Type</th>\n",
       "      <th>Systolic Blood Pressure</th>\n",
       "      <th>Diastolic Blood Pressure</th>\n",
       "      <th>Edema</th>\n",
       "      <th>Anemia</th>\n",
       "      <th>Jaundice</th>\n",
       "      <th>Diabetes</th>\n",
       "      <th>Risk</th>\n",
       "      <th>Para</th>\n",
       "      <th>Gravida</th>\n",
       "    </tr>\n",
       "  </thead>\n",
       "  <tbody>\n",
       "    <tr>\n",
       "      <th>0</th>\n",
       "      <td>25</td>\n",
       "      <td>1.4732</td>\n",
       "      <td>53.3</td>\n",
       "      <td>23.73</td>\n",
       "      <td>No</td>\n",
       "      <td>Normal</td>\n",
       "      <td>120</td>\n",
       "      <td>70</td>\n",
       "      <td>Normal</td>\n",
       "      <td>Low</td>\n",
       "      <td>No</td>\n",
       "      <td>No</td>\n",
       "      <td>No</td>\n",
       "      <td>2</td>\n",
       "      <td>3</td>\n",
       "    </tr>\n",
       "    <tr>\n",
       "      <th>1</th>\n",
       "      <td>30</td>\n",
       "      <td>1.5740</td>\n",
       "      <td>45.5</td>\n",
       "      <td>18.37</td>\n",
       "      <td>No</td>\n",
       "      <td>Normal</td>\n",
       "      <td>110</td>\n",
       "      <td>80</td>\n",
       "      <td>Normal</td>\n",
       "      <td>Normal</td>\n",
       "      <td>No</td>\n",
       "      <td>No</td>\n",
       "      <td>No</td>\n",
       "      <td>1</td>\n",
       "      <td>2</td>\n",
       "    </tr>\n",
       "    <tr>\n",
       "      <th>2</th>\n",
       "      <td>20</td>\n",
       "      <td>1.6250</td>\n",
       "      <td>52.2</td>\n",
       "      <td>19.77</td>\n",
       "      <td>No</td>\n",
       "      <td>No_delivary</td>\n",
       "      <td>120</td>\n",
       "      <td>70</td>\n",
       "      <td>Normal</td>\n",
       "      <td>Low</td>\n",
       "      <td>No</td>\n",
       "      <td>No</td>\n",
       "      <td>No</td>\n",
       "      <td>0</td>\n",
       "      <td>1</td>\n",
       "    </tr>\n",
       "    <tr>\n",
       "      <th>3</th>\n",
       "      <td>22</td>\n",
       "      <td>1.4480</td>\n",
       "      <td>48.5</td>\n",
       "      <td>23.14</td>\n",
       "      <td>No</td>\n",
       "      <td>No_delivary</td>\n",
       "      <td>110</td>\n",
       "      <td>80</td>\n",
       "      <td>Normal</td>\n",
       "      <td>Low</td>\n",
       "      <td>No</td>\n",
       "      <td>No</td>\n",
       "      <td>No</td>\n",
       "      <td>0</td>\n",
       "      <td>1</td>\n",
       "    </tr>\n",
       "    <tr>\n",
       "      <th>4</th>\n",
       "      <td>26</td>\n",
       "      <td>1.5240</td>\n",
       "      <td>50.0</td>\n",
       "      <td>21.53</td>\n",
       "      <td>No</td>\n",
       "      <td>No_delivary</td>\n",
       "      <td>110</td>\n",
       "      <td>70</td>\n",
       "      <td>Normal</td>\n",
       "      <td>Normal</td>\n",
       "      <td>No</td>\n",
       "      <td>No</td>\n",
       "      <td>No</td>\n",
       "      <td>0</td>\n",
       "      <td>1</td>\n",
       "    </tr>\n",
       "  </tbody>\n",
       "</table>\n",
       "</div>"
      ],
      "text/plain": [
       "   Age  Height  Weight    BMI Blood Group ( is Negative?) Delivery Type  \\\n",
       "0   25  1.4732    53.3  23.73                          No        Normal   \n",
       "1   30  1.5740    45.5  18.37                          No        Normal   \n",
       "2   20  1.6250    52.2  19.77                          No   No_delivary   \n",
       "3   22  1.4480    48.5  23.14                          No   No_delivary   \n",
       "4   26  1.5240    50.0  21.53                          No   No_delivary   \n",
       "\n",
       "   Systolic Blood Pressure  Diastolic Blood Pressure   Edema  Anemia Jaundice  \\\n",
       "0                      120                        70  Normal     Low       No   \n",
       "1                      110                        80  Normal  Normal       No   \n",
       "2                      120                        70  Normal     Low       No   \n",
       "3                      110                        80  Normal     Low       No   \n",
       "4                      110                        70  Normal  Normal       No   \n",
       "\n",
       "  Diabetes Risk  Para  Gravida  \n",
       "0       No   No     2        3  \n",
       "1       No   No     1        2  \n",
       "2       No   No     0        1  \n",
       "3       No   No     0        1  \n",
       "4       No   No     0        1  "
      ]
     },
     "execution_count": 2,
     "metadata": {},
     "output_type": "execute_result"
    }
   ],
   "source": [
    "df1 = pd.read_csv('final.csv')\n",
    "result = []\n",
    "df1.head(5)"
   ]
  },
  {
   "cell_type": "code",
   "execution_count": 3,
   "id": "de6ed591",
   "metadata": {},
   "outputs": [],
   "source": [
    "for i in range(len(df1)):\n",
    "    df1.loc[i,'parity'] = df1.loc[i,'Gravida'] - df1.loc[i,'Para']\n",
    "df1['parity'] = df1['parity'].astype(int)"
   ]
  },
  {
   "cell_type": "code",
   "execution_count": 4,
   "id": "088cf3b4",
   "metadata": {},
   "outputs": [
    {
     "data": {
      "text/html": [
       "<div>\n",
       "<style scoped>\n",
       "    .dataframe tbody tr th:only-of-type {\n",
       "        vertical-align: middle;\n",
       "    }\n",
       "\n",
       "    .dataframe tbody tr th {\n",
       "        vertical-align: top;\n",
       "    }\n",
       "\n",
       "    .dataframe thead th {\n",
       "        text-align: right;\n",
       "    }\n",
       "</style>\n",
       "<table border=\"1\" class=\"dataframe\">\n",
       "  <thead>\n",
       "    <tr style=\"text-align: right;\">\n",
       "      <th></th>\n",
       "      <th>Age</th>\n",
       "      <th>Height</th>\n",
       "      <th>Weight</th>\n",
       "      <th>BMI</th>\n",
       "      <th>Blood Group ( is Negative?)</th>\n",
       "      <th>Delivery Type</th>\n",
       "      <th>Systolic Blood Pressure</th>\n",
       "      <th>Diastolic Blood Pressure</th>\n",
       "      <th>Edema</th>\n",
       "      <th>Anemia</th>\n",
       "      <th>Jaundice</th>\n",
       "      <th>Diabetes</th>\n",
       "      <th>Risk</th>\n",
       "      <th>parity</th>\n",
       "    </tr>\n",
       "  </thead>\n",
       "  <tbody>\n",
       "    <tr>\n",
       "      <th>0</th>\n",
       "      <td>25</td>\n",
       "      <td>1.4732</td>\n",
       "      <td>53.3</td>\n",
       "      <td>23.73</td>\n",
       "      <td>No</td>\n",
       "      <td>Normal</td>\n",
       "      <td>120</td>\n",
       "      <td>70</td>\n",
       "      <td>Normal</td>\n",
       "      <td>Low</td>\n",
       "      <td>No</td>\n",
       "      <td>No</td>\n",
       "      <td>No</td>\n",
       "      <td>1</td>\n",
       "    </tr>\n",
       "    <tr>\n",
       "      <th>1</th>\n",
       "      <td>30</td>\n",
       "      <td>1.5740</td>\n",
       "      <td>45.5</td>\n",
       "      <td>18.37</td>\n",
       "      <td>No</td>\n",
       "      <td>Normal</td>\n",
       "      <td>110</td>\n",
       "      <td>80</td>\n",
       "      <td>Normal</td>\n",
       "      <td>Normal</td>\n",
       "      <td>No</td>\n",
       "      <td>No</td>\n",
       "      <td>No</td>\n",
       "      <td>1</td>\n",
       "    </tr>\n",
       "    <tr>\n",
       "      <th>2</th>\n",
       "      <td>20</td>\n",
       "      <td>1.6250</td>\n",
       "      <td>52.2</td>\n",
       "      <td>19.77</td>\n",
       "      <td>No</td>\n",
       "      <td>No_delivary</td>\n",
       "      <td>120</td>\n",
       "      <td>70</td>\n",
       "      <td>Normal</td>\n",
       "      <td>Low</td>\n",
       "      <td>No</td>\n",
       "      <td>No</td>\n",
       "      <td>No</td>\n",
       "      <td>1</td>\n",
       "    </tr>\n",
       "    <tr>\n",
       "      <th>3</th>\n",
       "      <td>22</td>\n",
       "      <td>1.4480</td>\n",
       "      <td>48.5</td>\n",
       "      <td>23.14</td>\n",
       "      <td>No</td>\n",
       "      <td>No_delivary</td>\n",
       "      <td>110</td>\n",
       "      <td>80</td>\n",
       "      <td>Normal</td>\n",
       "      <td>Low</td>\n",
       "      <td>No</td>\n",
       "      <td>No</td>\n",
       "      <td>No</td>\n",
       "      <td>1</td>\n",
       "    </tr>\n",
       "    <tr>\n",
       "      <th>4</th>\n",
       "      <td>26</td>\n",
       "      <td>1.5240</td>\n",
       "      <td>50.0</td>\n",
       "      <td>21.53</td>\n",
       "      <td>No</td>\n",
       "      <td>No_delivary</td>\n",
       "      <td>110</td>\n",
       "      <td>70</td>\n",
       "      <td>Normal</td>\n",
       "      <td>Normal</td>\n",
       "      <td>No</td>\n",
       "      <td>No</td>\n",
       "      <td>No</td>\n",
       "      <td>1</td>\n",
       "    </tr>\n",
       "  </tbody>\n",
       "</table>\n",
       "</div>"
      ],
      "text/plain": [
       "   Age  Height  Weight    BMI Blood Group ( is Negative?) Delivery Type  \\\n",
       "0   25  1.4732    53.3  23.73                          No        Normal   \n",
       "1   30  1.5740    45.5  18.37                          No        Normal   \n",
       "2   20  1.6250    52.2  19.77                          No   No_delivary   \n",
       "3   22  1.4480    48.5  23.14                          No   No_delivary   \n",
       "4   26  1.5240    50.0  21.53                          No   No_delivary   \n",
       "\n",
       "   Systolic Blood Pressure  Diastolic Blood Pressure   Edema  Anemia Jaundice  \\\n",
       "0                      120                        70  Normal     Low       No   \n",
       "1                      110                        80  Normal  Normal       No   \n",
       "2                      120                        70  Normal     Low       No   \n",
       "3                      110                        80  Normal     Low       No   \n",
       "4                      110                        70  Normal  Normal       No   \n",
       "\n",
       "  Diabetes Risk  parity  \n",
       "0       No   No       1  \n",
       "1       No   No       1  \n",
       "2       No   No       1  \n",
       "3       No   No       1  \n",
       "4       No   No       1  "
      ]
     },
     "execution_count": 4,
     "metadata": {},
     "output_type": "execute_result"
    }
   ],
   "source": [
    "df1 = df1.drop(['Para','Gravida'],axis=1)\n",
    "df1.head(5)"
   ]
  },
  {
   "cell_type": "code",
   "execution_count": null,
   "id": "25081ff8",
   "metadata": {},
   "outputs": [],
   "source": []
  },
  {
   "cell_type": "code",
   "execution_count": null,
   "id": "842b85bc",
   "metadata": {},
   "outputs": [],
   "source": []
  },
  {
   "cell_type": "code",
   "execution_count": null,
   "id": "b8e2e0fa",
   "metadata": {},
   "outputs": [],
   "source": []
  },
  {
   "cell_type": "code",
   "execution_count": 5,
   "id": "31e4f4f1",
   "metadata": {},
   "outputs": [
    {
     "data": {
      "text/plain": [
       "(3578, 14)"
      ]
     },
     "execution_count": 5,
     "metadata": {},
     "output_type": "execute_result"
    }
   ],
   "source": [
    "df1.shape"
   ]
  },
  {
   "cell_type": "code",
   "execution_count": 6,
   "id": "d0424629",
   "metadata": {},
   "outputs": [],
   "source": [
    "df1['Blood Group ( is Negative?)'] = df1['Blood Group ( is Negative?)'].map({'Yes':1,'No':0})\n",
    "df1['Jaundice'] = df1['Jaundice'].map({'Yes':1,'No':0})\n",
    "df1['Diabetes'] = df1['Diabetes'].map({'Yes':1,'No':0})\n",
    "df1['Risk'] = df1['Risk'].map({'Yes':1,'No':0})\n",
    "df1['Delivery Type'] = df1['Delivery Type'].map({'No_delivary':0,'Normal':1,'C-section':2})\n",
    "df1['Edema'] = df1['Edema'].map({'Normal':0,'High':2,'Modarate':1})\n",
    "df1['Anemia'] = df1['Anemia'].map({'Normal':0,'Low':1,'Very-Low':2})"
   ]
  },
  {
   "cell_type": "code",
   "execution_count": 7,
   "id": "fcd955b3",
   "metadata": {},
   "outputs": [
    {
     "data": {
      "text/html": [
       "<div>\n",
       "<style scoped>\n",
       "    .dataframe tbody tr th:only-of-type {\n",
       "        vertical-align: middle;\n",
       "    }\n",
       "\n",
       "    .dataframe tbody tr th {\n",
       "        vertical-align: top;\n",
       "    }\n",
       "\n",
       "    .dataframe thead th {\n",
       "        text-align: right;\n",
       "    }\n",
       "</style>\n",
       "<table border=\"1\" class=\"dataframe\">\n",
       "  <thead>\n",
       "    <tr style=\"text-align: right;\">\n",
       "      <th></th>\n",
       "      <th>Age</th>\n",
       "      <th>Height</th>\n",
       "      <th>Weight</th>\n",
       "      <th>BMI</th>\n",
       "      <th>Blood Group ( is Negative?)</th>\n",
       "      <th>Delivery Type</th>\n",
       "      <th>Systolic Blood Pressure</th>\n",
       "      <th>Diastolic Blood Pressure</th>\n",
       "      <th>Edema</th>\n",
       "      <th>Anemia</th>\n",
       "      <th>Jaundice</th>\n",
       "      <th>Diabetes</th>\n",
       "      <th>Risk</th>\n",
       "      <th>parity</th>\n",
       "    </tr>\n",
       "  </thead>\n",
       "  <tbody>\n",
       "    <tr>\n",
       "      <th>5</th>\n",
       "      <td>26</td>\n",
       "      <td>1.473</td>\n",
       "      <td>52.0</td>\n",
       "      <td>23.96</td>\n",
       "      <td>0</td>\n",
       "      <td>0</td>\n",
       "      <td>120</td>\n",
       "      <td>90</td>\n",
       "      <td>0</td>\n",
       "      <td>0</td>\n",
       "      <td>0</td>\n",
       "      <td>0</td>\n",
       "      <td>0</td>\n",
       "      <td>2</td>\n",
       "    </tr>\n",
       "    <tr>\n",
       "      <th>1046</th>\n",
       "      <td>38</td>\n",
       "      <td>1.574</td>\n",
       "      <td>62.3</td>\n",
       "      <td>25.12</td>\n",
       "      <td>0</td>\n",
       "      <td>0</td>\n",
       "      <td>120</td>\n",
       "      <td>70</td>\n",
       "      <td>0</td>\n",
       "      <td>0</td>\n",
       "      <td>0</td>\n",
       "      <td>0</td>\n",
       "      <td>1</td>\n",
       "      <td>2</td>\n",
       "    </tr>\n",
       "    <tr>\n",
       "      <th>3027</th>\n",
       "      <td>30</td>\n",
       "      <td>1.524</td>\n",
       "      <td>71.0</td>\n",
       "      <td>30.57</td>\n",
       "      <td>0</td>\n",
       "      <td>1</td>\n",
       "      <td>100</td>\n",
       "      <td>70</td>\n",
       "      <td>0</td>\n",
       "      <td>0</td>\n",
       "      <td>0</td>\n",
       "      <td>0</td>\n",
       "      <td>0</td>\n",
       "      <td>2</td>\n",
       "    </tr>\n",
       "    <tr>\n",
       "      <th>2162</th>\n",
       "      <td>19</td>\n",
       "      <td>1.549</td>\n",
       "      <td>61.0</td>\n",
       "      <td>25.42</td>\n",
       "      <td>0</td>\n",
       "      <td>0</td>\n",
       "      <td>120</td>\n",
       "      <td>70</td>\n",
       "      <td>0</td>\n",
       "      <td>0</td>\n",
       "      <td>0</td>\n",
       "      <td>0</td>\n",
       "      <td>0</td>\n",
       "      <td>1</td>\n",
       "    </tr>\n",
       "    <tr>\n",
       "      <th>2488</th>\n",
       "      <td>28</td>\n",
       "      <td>1.499</td>\n",
       "      <td>57.5</td>\n",
       "      <td>25.59</td>\n",
       "      <td>0</td>\n",
       "      <td>0</td>\n",
       "      <td>125</td>\n",
       "      <td>80</td>\n",
       "      <td>0</td>\n",
       "      <td>1</td>\n",
       "      <td>0</td>\n",
       "      <td>0</td>\n",
       "      <td>0</td>\n",
       "      <td>1</td>\n",
       "    </tr>\n",
       "    <tr>\n",
       "      <th>2617</th>\n",
       "      <td>23</td>\n",
       "      <td>1.575</td>\n",
       "      <td>55.0</td>\n",
       "      <td>22.17</td>\n",
       "      <td>0</td>\n",
       "      <td>1</td>\n",
       "      <td>120</td>\n",
       "      <td>80</td>\n",
       "      <td>0</td>\n",
       "      <td>0</td>\n",
       "      <td>0</td>\n",
       "      <td>0</td>\n",
       "      <td>0</td>\n",
       "      <td>1</td>\n",
       "    </tr>\n",
       "    <tr>\n",
       "      <th>2148</th>\n",
       "      <td>19</td>\n",
       "      <td>1.524</td>\n",
       "      <td>53.0</td>\n",
       "      <td>22.82</td>\n",
       "      <td>0</td>\n",
       "      <td>1</td>\n",
       "      <td>120</td>\n",
       "      <td>70</td>\n",
       "      <td>0</td>\n",
       "      <td>0</td>\n",
       "      <td>0</td>\n",
       "      <td>0</td>\n",
       "      <td>0</td>\n",
       "      <td>2</td>\n",
       "    </tr>\n",
       "    <tr>\n",
       "      <th>965</th>\n",
       "      <td>24</td>\n",
       "      <td>1.397</td>\n",
       "      <td>66.0</td>\n",
       "      <td>33.82</td>\n",
       "      <td>0</td>\n",
       "      <td>1</td>\n",
       "      <td>90</td>\n",
       "      <td>60</td>\n",
       "      <td>2</td>\n",
       "      <td>2</td>\n",
       "      <td>1</td>\n",
       "      <td>1</td>\n",
       "      <td>1</td>\n",
       "      <td>1</td>\n",
       "    </tr>\n",
       "    <tr>\n",
       "      <th>253</th>\n",
       "      <td>19</td>\n",
       "      <td>1.549</td>\n",
       "      <td>58.2</td>\n",
       "      <td>24.24</td>\n",
       "      <td>0</td>\n",
       "      <td>0</td>\n",
       "      <td>140</td>\n",
       "      <td>90</td>\n",
       "      <td>0</td>\n",
       "      <td>1</td>\n",
       "      <td>0</td>\n",
       "      <td>0</td>\n",
       "      <td>0</td>\n",
       "      <td>1</td>\n",
       "    </tr>\n",
       "    <tr>\n",
       "      <th>3429</th>\n",
       "      <td>21</td>\n",
       "      <td>1.575</td>\n",
       "      <td>47.0</td>\n",
       "      <td>18.95</td>\n",
       "      <td>0</td>\n",
       "      <td>0</td>\n",
       "      <td>120</td>\n",
       "      <td>70</td>\n",
       "      <td>0</td>\n",
       "      <td>1</td>\n",
       "      <td>0</td>\n",
       "      <td>0</td>\n",
       "      <td>0</td>\n",
       "      <td>2</td>\n",
       "    </tr>\n",
       "    <tr>\n",
       "      <th>3200</th>\n",
       "      <td>23</td>\n",
       "      <td>1.600</td>\n",
       "      <td>76.5</td>\n",
       "      <td>29.88</td>\n",
       "      <td>0</td>\n",
       "      <td>0</td>\n",
       "      <td>160</td>\n",
       "      <td>100</td>\n",
       "      <td>0</td>\n",
       "      <td>0</td>\n",
       "      <td>0</td>\n",
       "      <td>0</td>\n",
       "      <td>1</td>\n",
       "      <td>1</td>\n",
       "    </tr>\n",
       "    <tr>\n",
       "      <th>1636</th>\n",
       "      <td>35</td>\n",
       "      <td>1.575</td>\n",
       "      <td>71.0</td>\n",
       "      <td>28.62</td>\n",
       "      <td>0</td>\n",
       "      <td>1</td>\n",
       "      <td>110</td>\n",
       "      <td>70</td>\n",
       "      <td>0</td>\n",
       "      <td>1</td>\n",
       "      <td>0</td>\n",
       "      <td>0</td>\n",
       "      <td>0</td>\n",
       "      <td>2</td>\n",
       "    </tr>\n",
       "    <tr>\n",
       "      <th>231</th>\n",
       "      <td>21</td>\n",
       "      <td>1.524</td>\n",
       "      <td>47.0</td>\n",
       "      <td>20.24</td>\n",
       "      <td>0</td>\n",
       "      <td>1</td>\n",
       "      <td>100</td>\n",
       "      <td>70</td>\n",
       "      <td>0</td>\n",
       "      <td>0</td>\n",
       "      <td>0</td>\n",
       "      <td>0</td>\n",
       "      <td>0</td>\n",
       "      <td>1</td>\n",
       "    </tr>\n",
       "    <tr>\n",
       "      <th>1096</th>\n",
       "      <td>18</td>\n",
       "      <td>1.549</td>\n",
       "      <td>78.0</td>\n",
       "      <td>32.51</td>\n",
       "      <td>0</td>\n",
       "      <td>1</td>\n",
       "      <td>120</td>\n",
       "      <td>70</td>\n",
       "      <td>0</td>\n",
       "      <td>0</td>\n",
       "      <td>0</td>\n",
       "      <td>0</td>\n",
       "      <td>0</td>\n",
       "      <td>2</td>\n",
       "    </tr>\n",
       "    <tr>\n",
       "      <th>338</th>\n",
       "      <td>20</td>\n",
       "      <td>1.447</td>\n",
       "      <td>54.5</td>\n",
       "      <td>26.03</td>\n",
       "      <td>0</td>\n",
       "      <td>1</td>\n",
       "      <td>110</td>\n",
       "      <td>80</td>\n",
       "      <td>0</td>\n",
       "      <td>0</td>\n",
       "      <td>0</td>\n",
       "      <td>0</td>\n",
       "      <td>0</td>\n",
       "      <td>1</td>\n",
       "    </tr>\n",
       "  </tbody>\n",
       "</table>\n",
       "</div>"
      ],
      "text/plain": [
       "      Age  Height  Weight    BMI  Blood Group ( is Negative?)  Delivery Type  \\\n",
       "5      26   1.473    52.0  23.96                            0              0   \n",
       "1046   38   1.574    62.3  25.12                            0              0   \n",
       "3027   30   1.524    71.0  30.57                            0              1   \n",
       "2162   19   1.549    61.0  25.42                            0              0   \n",
       "2488   28   1.499    57.5  25.59                            0              0   \n",
       "2617   23   1.575    55.0  22.17                            0              1   \n",
       "2148   19   1.524    53.0  22.82                            0              1   \n",
       "965    24   1.397    66.0  33.82                            0              1   \n",
       "253    19   1.549    58.2  24.24                            0              0   \n",
       "3429   21   1.575    47.0  18.95                            0              0   \n",
       "3200   23   1.600    76.5  29.88                            0              0   \n",
       "1636   35   1.575    71.0  28.62                            0              1   \n",
       "231    21   1.524    47.0  20.24                            0              1   \n",
       "1096   18   1.549    78.0  32.51                            0              1   \n",
       "338    20   1.447    54.5  26.03                            0              1   \n",
       "\n",
       "      Systolic Blood Pressure  Diastolic Blood Pressure  Edema  Anemia  \\\n",
       "5                         120                        90      0       0   \n",
       "1046                      120                        70      0       0   \n",
       "3027                      100                        70      0       0   \n",
       "2162                      120                        70      0       0   \n",
       "2488                      125                        80      0       1   \n",
       "2617                      120                        80      0       0   \n",
       "2148                      120                        70      0       0   \n",
       "965                        90                        60      2       2   \n",
       "253                       140                        90      0       1   \n",
       "3429                      120                        70      0       1   \n",
       "3200                      160                       100      0       0   \n",
       "1636                      110                        70      0       1   \n",
       "231                       100                        70      0       0   \n",
       "1096                      120                        70      0       0   \n",
       "338                       110                        80      0       0   \n",
       "\n",
       "      Jaundice  Diabetes  Risk  parity  \n",
       "5            0         0     0       2  \n",
       "1046         0         0     1       2  \n",
       "3027         0         0     0       2  \n",
       "2162         0         0     0       1  \n",
       "2488         0         0     0       1  \n",
       "2617         0         0     0       1  \n",
       "2148         0         0     0       2  \n",
       "965          1         1     1       1  \n",
       "253          0         0     0       1  \n",
       "3429         0         0     0       2  \n",
       "3200         0         0     1       1  \n",
       "1636         0         0     0       2  \n",
       "231          0         0     0       1  \n",
       "1096         0         0     0       2  \n",
       "338          0         0     0       1  "
      ]
     },
     "execution_count": 7,
     "metadata": {},
     "output_type": "execute_result"
    }
   ],
   "source": [
    "ss = df1.sample(15)\n",
    "ss"
   ]
  },
  {
   "cell_type": "code",
   "execution_count": 8,
   "id": "5b4f2cc3",
   "metadata": {},
   "outputs": [],
   "source": [
    "# from sklearn.model_selection import train_test_split\n",
    "\n",
    "# X = df1.drop(['Risk','Height','Weight'],axis=1)\n",
    "# y = df1.Risk\n",
    "\n",
    "# x_train, x_test, y_train, y_test = train_test_split(X,y,test_size=0.3)"
   ]
  },
  {
   "cell_type": "code",
   "execution_count": 9,
   "id": "41d7019c",
   "metadata": {},
   "outputs": [],
   "source": [
    "length = int(len(df1)*0.70)\n",
    "\n",
    "train = df1[:length]\n",
    "test = df1[length:]\n",
    "\n",
    "x_train = train.drop(['Risk','Height','Weight'],axis=1)\n",
    "y_train = train.Risk\n",
    "\n",
    "x_test = test.drop(['Risk','Height','Weight'],axis=1)\n",
    "y_test = test.Risk"
   ]
  },
  {
   "cell_type": "code",
   "execution_count": 10,
   "id": "dda17e09",
   "metadata": {},
   "outputs": [
    {
     "data": {
      "text/plain": [
       "(2504, 14)"
      ]
     },
     "execution_count": 10,
     "metadata": {},
     "output_type": "execute_result"
    }
   ],
   "source": [
    "train.shape"
   ]
  },
  {
   "cell_type": "code",
   "execution_count": 11,
   "id": "57714ce4",
   "metadata": {},
   "outputs": [
    {
     "data": {
      "text/plain": [
       "(1074, 14)"
      ]
     },
     "execution_count": 11,
     "metadata": {},
     "output_type": "execute_result"
    }
   ],
   "source": [
    "test.shape"
   ]
  },
  {
   "cell_type": "code",
   "execution_count": 12,
   "id": "84da0e7a",
   "metadata": {},
   "outputs": [],
   "source": [
    "# def model(model,i):\n",
    "#     print(i,'.',model,':\\n')\n",
    "#     model = model.fit(x_train,y_train)\n",
    "\n",
    "#     #train data\n",
    "#     y_pred = model.predict(x_train)\n",
    "#     print('\\tTraining Data:')\n",
    "#     print('\\t\\t> Accuracy: ', round(accuracy_score(y_train,y_pred),2)*100,'%',end=\" \")\n",
    "#     print('\\t> f1_score: ', round(f1_score(y_train,y_pred),2)*100,'%',end=\" \")\n",
    "#     print('\\t> precision_score: ', round(precision_score(y_train,y_pred),2)*100,'%',end=\" \")\n",
    "#     print('\\t> recall_score: ', round(recall_score(y_train,y_pred),2)*100,'%',end=\" \")\n",
    "\n",
    "#     #test data\n",
    "#     y_pred = model.predict(x_test)\n",
    "#     print('\\n\\tTesting Data:')\n",
    "#     print('\\t\\t> Accuracy: ', round(accuracy_score(y_test,y_pred),2)*100,'%',end=\" \")\n",
    "#     print('\\t> f1_score: ', round(f1_score(y_test,y_pred),2)*100,'%',end=\" \")\n",
    "#     print('\\t> precision_score: ', round(precision_score(y_test,y_pred),2)*100,'%',end=\" \")\n",
    "#     print('\\t> recall_score: ', round(recall_score(y_test,y_pred),2)*100,'%','\\n')"
   ]
  },
  {
   "cell_type": "code",
   "execution_count": 13,
   "id": "b3ab0153",
   "metadata": {},
   "outputs": [],
   "source": [
    "# model(LogisticRegression(),1)\n",
    "# model(SVC(),2)\n",
    "# model(DecisionTreeClassifier(),3)\n",
    "# model(RandomForestClassifier(),4)\n",
    "# model(KNeighborsClassifier(),5)\n",
    "# model(GaussianNB(),6)\n",
    "# model(MultinomialNB(),7)"
   ]
  },
  {
   "cell_type": "code",
   "execution_count": 14,
   "id": "1d140fc3",
   "metadata": {},
   "outputs": [],
   "source": [
    "# #best model\n",
    "# model = RandomForestClassifier().fit(x_train,y_train)\n",
    "# #train data\n",
    "# y_train_pred = model.predict(x_train)\n",
    "# print('Training Data:')\n",
    "# print('\\t> Accuracy:', round(accuracy_score(y_train,y_train_pred),2)*100,'%')\n",
    "# print('\\t> f1_score:', round(f1_score(y_train,y_train_pred),2)*100,'%')\n",
    "# print('\\t> precision_score:', round(precision_score(y_train,y_train_pred),2)*100,'%')\n",
    "# print('\\t> recall_score:', round(recall_score(y_train,y_train_pred),2)*100,'%')\n",
    "\n",
    "# #test data\n",
    "# y_test_pred = model.predict(x_test)\n",
    "# print('\\nTesting Data:')\n",
    "# print('\\t> Accuracy:', round(accuracy_score(y_test,y_test_pred),2)*100,'%')\n",
    "# print('\\t> f1_score:', round(f1_score(y_test,y_test_pred),2)*100,'%')\n",
    "# print('\\t> precision_score:', round(precision_score(y_test,y_test_pred),2)*100,'%')\n",
    "# print('\\t> recall_score:', round(recall_score(y_test,y_test_pred),2)*100,'%')"
   ]
  },
  {
   "cell_type": "code",
   "execution_count": 15,
   "id": "4ff38c12",
   "metadata": {},
   "outputs": [],
   "source": [
    "# tn, fp, fn, tp = confusion_matrix(y_test,y_test_pred).ravel()\n",
    "# print(tn,fp,fn,tp)"
   ]
  },
  {
   "cell_type": "code",
   "execution_count": 16,
   "id": "6494bbcf",
   "metadata": {},
   "outputs": [],
   "source": [
    "# accuracy = (tp+tn)/(len(test))\n",
    "# accuracy"
   ]
  },
  {
   "cell_type": "code",
   "execution_count": 17,
   "id": "db0568b0",
   "metadata": {},
   "outputs": [],
   "source": [
    "# f_score = (2*tp)/((2*tp)+fp+fn)\n",
    "# f_score"
   ]
  },
  {
   "cell_type": "code",
   "execution_count": 18,
   "id": "bf4055b6",
   "metadata": {},
   "outputs": [],
   "source": [
    "# precision = tp/(tp+fp)\n",
    "# precision"
   ]
  },
  {
   "cell_type": "code",
   "execution_count": 19,
   "id": "cf8b0085",
   "metadata": {},
   "outputs": [],
   "source": [
    "# recall = tp/(tp+fn)\n",
    "# recall"
   ]
  },
  {
   "cell_type": "code",
   "execution_count": 20,
   "id": "2c41909b",
   "metadata": {},
   "outputs": [],
   "source": [
    "# print(y_test.value_counts())\n",
    "# # plt.figure(figsize=(10,8))\n",
    "# ConfusionMatrixDisplay.from_predictions(y_test,y_test_pred,display_labels=['No Risk','Risk'])\n",
    "# # print(cm)\n",
    "# # sns.heatmap(cm,annot=True)\n",
    "# # plt.savefig('Random Forest Confusion Matries.jpg')\n",
    "# plt.show()"
   ]
  },
  {
   "cell_type": "code",
   "execution_count": 21,
   "id": "b3dea136",
   "metadata": {
    "scrolled": false
   },
   "outputs": [
    {
     "name": "stdout",
     "output_type": "stream",
     "text": [
      "precision :  0.92\n",
      "recall :  0.78\n",
      "f1_masure :  0.84\n",
      "se :  0.78\n",
      "sp :  0.97\n",
      "acc :  0.92\n",
      "auc :  0.92\n"
     ]
    },
    {
     "data": {
      "text/plain": [
       "<Figure size 144x216 with 0 Axes>"
      ]
     },
     "metadata": {},
     "output_type": "display_data"
    },
    {
     "data": {
      "image/png": "[encoded data removed]",
      "text/plain": [
       "<Figure size 432x288 with 1 Axes>"
      ]
     },
     "metadata": {
      "needs_background": "light"
     },
     "output_type": "display_data"
    },
    {
     "name": "stdout",
     "output_type": "stream",
     "text": [
      "Yes as Yes (TP):  241\n",
      "No as No   (TN):  745\n",
      "No as Yes  (FP):  20\n",
      "yes as No  (FN):  68\n"
     ]
    }
   ],
   "source": [
    "clf = RandomForestClassifier().fit(x_train,y_train)\n",
    "RF_pred = clf.predict(x_test)\n",
    "RF_proba = clf.predict_proba(x_test)\n",
    "tn, fp, fn, tp = confusion_matrix(y_test,RF_pred).ravel()\n",
    "\n",
    "precision = round((tp/(tp+fp)),2)\n",
    "recall = round((tp/(tp+fn)),2)\n",
    "f1_masure = round((2*precision*recall)/(precision+recall),2)\n",
    "se = round((tp/(tp+fn)),2)\n",
    "sp = round((tn/(tn+fp)),2)\n",
    "acc = round(((tp+tn)/len(x_test)),2)\n",
    "auc_ = round((roc_auc_score(y_test,RF_proba[:,1])),2)\n",
    "\n",
    "print(\"precision : \",precision)\n",
    "print(\"recall : \",recall)\n",
    "print(\"f1_masure : \",f1_masure)\n",
    "print(\"se : \",se)\n",
    "print(\"sp : \",sp)\n",
    "print(\"acc : \",acc)\n",
    "print(\"auc : \",auc_)\n",
    "\n",
    "result.append({\n",
    "    'Classifier': 'Random Forest',\n",
    "    'Precision': precision,\n",
    "    'Se/Recall':recall,\n",
    "    'Sp':sp,\n",
    "    'F1-Measure':f1_masure,\n",
    "    'Accuracy':acc,\n",
    "    'AUC':auc_\n",
    "})\n",
    "plt.figure(figsize=(2, 3))\n",
    "ConfusionMatrixDisplay.from_predictions(y_test,RF_pred,display_labels=['No','Yes'],colorbar = False)\n",
    "plt.title('Random Forest Test Data Confusion Matrix')\n",
    "plt.show()\n",
    "print('Yes as Yes (TP): ',tp)\n",
    "print('No as No   (TN): ',tn)\n",
    "print('No as Yes  (FP): ',fp)\n",
    "print('yes as No  (FN): ',fn)"
   ]
  },
  {
   "cell_type": "code",
   "execution_count": 22,
   "id": "60fe810d",
   "metadata": {},
   "outputs": [
    {
     "name": "stdout",
     "output_type": "stream",
     "text": [
      "precision :  0.97\n",
      "recall :  0.69\n",
      "f1_masure :  0.81\n",
      "se :  0.69\n",
      "sp :  0.99\n",
      "acc :  0.9\n",
      "auc :  0.83\n"
     ]
    },
    {
     "data": {
      "text/plain": [
       "<Figure size 144x216 with 0 Axes>"
      ]
     },
     "metadata": {},
     "output_type": "display_data"
    },
    {
     "data": {
      "image/png": "[encoded data removed]",
      "text/plain": [
       "<Figure size 432x288 with 1 Axes>"
      ]
     },
     "metadata": {
      "needs_background": "light"
     },
     "output_type": "display_data"
    },
    {
     "name": "stdout",
     "output_type": "stream",
     "text": [
      "Yes as Yes (TP):  213\n",
      "No as No   (TN):  758\n",
      "No as Yes  (FP):  7\n",
      "yes as No  (FN):  96\n"
     ]
    }
   ],
   "source": [
    "clf = DecisionTreeClassifier(max_depth=15).fit(x_train,y_train)\n",
    "DT_pred = clf.predict(x_test)\n",
    "DT_proba = clf.predict_proba(x_test)\n",
    "tn, fp, fn, tp = confusion_matrix(y_test,DT_pred).ravel()\n",
    "\n",
    "precision = round((tp/(tp+fp)),2)\n",
    "recall = round((tp/(tp+fn)),2)\n",
    "f1_masure = round((2*precision*recall)/(precision+recall),2)\n",
    "se = round((tp/(tp+fn)),2)\n",
    "sp = round((tn/(tn+fp)),2)\n",
    "acc = round(((tp+tn)/len(x_test)),2)\n",
    "auc_ = round((roc_auc_score(y_test,DT_proba[:,1])),2)\n",
    "\n",
    "print(\"precision : \",precision)\n",
    "print(\"recall : \",recall)\n",
    "print(\"f1_masure : \",f1_masure)\n",
    "print(\"se : \",se)\n",
    "print(\"sp : \",sp)\n",
    "print(\"acc : \",acc)\n",
    "print(\"auc : \",auc_)\n",
    "\n",
    "\n",
    "result.append({\n",
    "    'Classifier': 'Decision Tree',\n",
    "    'Precision': precision,\n",
    "    'Se/Recall':recall,\n",
    "    'Sp':sp,\n",
    "    'F1-Measure':f1_masure,\n",
    "    'Accuracy':acc,\n",
    "    'AUC':auc_\n",
    "})\n",
    "plt.figure(figsize=(2, 3))\n",
    "ConfusionMatrixDisplay.from_predictions(y_test,DT_pred,display_labels=['No','Yes'],colorbar = False)\n",
    "plt.title('Decision Tree Test Data Confusion Matrix')\n",
    "plt.show()\n",
    "print('Yes as Yes (TP): ',tp)\n",
    "print('No as No   (TN): ',tn)\n",
    "print('No as Yes  (FP): ',fp)\n",
    "print('yes as No  (FN): ',fn)"
   ]
  },
  {
   "cell_type": "code",
   "execution_count": 23,
   "id": "34578c96",
   "metadata": {},
   "outputs": [
    {
     "name": "stdout",
     "output_type": "stream",
     "text": [
      "precision :  0.87\n",
      "recall :  0.27\n",
      "f1_masure :  0.41\n",
      "se :  0.27\n",
      "sp :  0.98\n",
      "acc :  0.78\n",
      "auc :  0.75\n"
     ]
    },
    {
     "data": {
      "text/plain": [
       "<Figure size 144x216 with 0 Axes>"
      ]
     },
     "metadata": {},
     "output_type": "display_data"
    },
    {
     "data": {
      "image/png": "[encoded data removed]",
      "text/plain": [
       "<Figure size 432x288 with 1 Axes>"
      ]
     },
     "metadata": {
      "needs_background": "light"
     },
     "output_type": "display_data"
    },
    {
     "name": "stdout",
     "output_type": "stream",
     "text": [
      "Yes as Yes (TP):  84\n",
      "No as No   (TN):  752\n",
      "No as Yes  (FP):  13\n",
      "yes as No  (FN):  225\n"
     ]
    }
   ],
   "source": [
    "clf = LogisticRegression().fit(x_train,y_train)\n",
    "Los_pred = clf.predict(x_test)\n",
    "Los_proba = clf.predict_proba(x_test)\n",
    "tn, fp, fn, tp = confusion_matrix(y_test,Los_pred).ravel()\n",
    "\n",
    "precision = round((tp/(tp+fp)),2)\n",
    "recall = round((tp/(tp+fn)),2)\n",
    "f1_masure = round((2*precision*recall)/(precision+recall),2)\n",
    "se = round((tp/(tp+fn)),2)\n",
    "sp = round((tn/(tn+fp)),2)\n",
    "acc = round(((tp+tn)/len(x_test)),2)\n",
    "auc_ = round((roc_auc_score(y_test,Los_proba[:,1])),2)\n",
    "\n",
    "print(\"precision : \",precision)\n",
    "print(\"recall : \",recall)\n",
    "print(\"f1_masure : \",f1_masure)\n",
    "print(\"se : \",se)\n",
    "print(\"sp : \",sp)\n",
    "print(\"acc : \",acc)\n",
    "print(\"auc : \",auc_)\n",
    "\n",
    "\n",
    "result.append({\n",
    "    'Classifier': 'Logistic Regression',\n",
    "    'Precision': precision,\n",
    "    'Se/Recall':recall,\n",
    "    'Sp':sp,\n",
    "    'F1-Measure':f1_masure,\n",
    "    'Accuracy':acc,\n",
    "    'AUC':auc_\n",
    "})\n",
    "plt.figure(figsize=(2, 3))\n",
    "ConfusionMatrixDisplay.from_predictions(y_test,Los_pred,display_labels=['No','Yes'],colorbar = False)\n",
    "plt.title('Logistic Regression Test Data Confusion Matrix')\n",
    "plt.show()\n",
    "print('Yes as Yes (TP): ',tp)\n",
    "print('No as No   (TN): ',tn)\n",
    "print('No as Yes  (FP): ',fp)\n",
    "print('yes as No  (FN): ',fn)"
   ]
  },
  {
   "cell_type": "code",
   "execution_count": 24,
   "id": "a2eb9aee",
   "metadata": {},
   "outputs": [
    {
     "name": "stdout",
     "output_type": "stream",
     "text": [
      "precision :  0.92\n",
      "recall :  0.43\n",
      "f1_masure :  0.59\n",
      "se :  0.43\n",
      "sp :  0.98\n",
      "acc :  0.82\n",
      "auc :  0.8\n"
     ]
    },
    {
     "data": {
      "text/plain": [
       "<Figure size 144x216 with 0 Axes>"
      ]
     },
     "metadata": {},
     "output_type": "display_data"
    },
    {
     "data": {
      "image/png": "[encoded data removed]",
      "text/plain": [
       "<Figure size 432x288 with 1 Axes>"
      ]
     },
     "metadata": {
      "needs_background": "light"
     },
     "output_type": "display_data"
    },
    {
     "name": "stdout",
     "output_type": "stream",
     "text": [
      "Yes as Yes (TP):  132\n",
      "No as No   (TN):  753\n",
      "No as Yes  (FP):  12\n",
      "yes as No  (FN):  177\n"
     ]
    }
   ],
   "source": [
    "clf = KNeighborsClassifier(n_neighbors=15).fit(x_train,y_train)\n",
    "Knn_pred = clf.predict(x_test)\n",
    "Knn_proba = clf.predict_proba(x_test)\n",
    "tn, fp, fn, tp = confusion_matrix(y_test,Knn_pred).ravel()\n",
    "\n",
    "precision = round((tp/(tp+fp)),2)\n",
    "recall = round((tp/(tp+fn)),2)\n",
    "f1_masure = round((2*precision*recall)/(precision+recall),2)\n",
    "se = round((tp/(tp+fn)),2)\n",
    "sp = round((tn/(tn+fp)),2)\n",
    "acc = round(((tp+tn)/len(x_test)),2)\n",
    "auc_ = round((roc_auc_score(y_test,Knn_proba[:,1])),2)\n",
    "\n",
    "print(\"precision : \",precision)\n",
    "print(\"recall : \",recall)\n",
    "print(\"f1_masure : \",f1_masure)\n",
    "print(\"se : \",se)\n",
    "print(\"sp : \",sp)\n",
    "print(\"acc : \",acc)\n",
    "print(\"auc : \",auc_)\n",
    "\n",
    "\n",
    "result.append({\n",
    "    'Classifier': 'K-Nearest Neighbors',\n",
    "    'Precision': precision,\n",
    "    'Se/Recall':recall,\n",
    "    'Sp':sp,\n",
    "    'F1-Measure':f1_masure,\n",
    "    'Accuracy':acc,\n",
    "    'AUC':auc_\n",
    "})\n",
    "plt.figure(figsize=(2, 3))\n",
    "ConfusionMatrixDisplay.from_predictions(y_test,Knn_pred,display_labels=['No','Yes'],colorbar = False)\n",
    "plt.title('K-Nearest Neighbors Test Data Confusion Matrix')\n",
    "plt.show()\n",
    "print('Yes as Yes (TP): ',tp)\n",
    "print('No as No   (TN): ',tn)\n",
    "print('No as Yes  (FP): ',fp)\n",
    "print('yes as No  (FN): ',fn)"
   ]
  },
  {
   "cell_type": "code",
   "execution_count": 25,
   "id": "25bd6159",
   "metadata": {},
   "outputs": [
    {
     "name": "stdout",
     "output_type": "stream",
     "text": [
      "precision :  1.0\n",
      "recall :  0.06\n",
      "f1_masure :  0.11\n",
      "se :  0.06\n",
      "sp :  1.0\n",
      "acc :  0.73\n",
      "auc :  0.77\n"
     ]
    },
    {
     "data": {
      "text/plain": [
       "<Figure size 144x216 with 0 Axes>"
      ]
     },
     "metadata": {},
     "output_type": "display_data"
    },
    {
     "data": {
      "image/png": "[encoded data removed]",
      "text/plain": [
       "<Figure size 432x288 with 1 Axes>"
      ]
     },
     "metadata": {
      "needs_background": "light"
     },
     "output_type": "display_data"
    },
    {
     "name": "stdout",
     "output_type": "stream",
     "text": [
      "Yes as Yes (TP):  17\n",
      "No as No   (TN):  765\n",
      "No as Yes  (FP):  0\n",
      "yes as No  (FN):  292\n"
     ]
    }
   ],
   "source": [
    "clf = SVC(probability=True).fit(x_train,y_train)\n",
    "svm_pred = clf.predict(x_test)\n",
    "svm_proba = clf.predict_proba(x_test)\n",
    "tn, fp, fn, tp = confusion_matrix(y_test,svm_pred).ravel()\n",
    "\n",
    "precision = round((tp/(tp+fp)),2)\n",
    "recall = round((tp/(tp+fn)),2)\n",
    "f1_masure = round((2*precision*recall)/(precision+recall),2)\n",
    "se = round((tp/(tp+fn)),2)\n",
    "sp = round((tn/(tn+fp)),2)\n",
    "acc = round(((tp+tn)/len(x_test)),2)\n",
    "auc_ = round((roc_auc_score(y_test,svm_proba[:,1])),2)\n",
    "\n",
    "print(\"precision : \",precision)\n",
    "print(\"recall : \",recall)\n",
    "print(\"f1_masure : \",f1_masure)\n",
    "print(\"se : \",se)\n",
    "print(\"sp : \",sp)\n",
    "print(\"acc : \",acc)\n",
    "print(\"auc : \",auc_)\n",
    "\n",
    "\n",
    "result.append({\n",
    "    'Classifier': 'SVM',\n",
    "    'Precision': precision,\n",
    "    'Se/Recall':recall,\n",
    "    'Sp':sp,\n",
    "    'F1-Measure':f1_masure,\n",
    "    'Accuracy':acc,\n",
    "    'AUC':auc_\n",
    "})\n",
    "plt.figure(figsize=(2, 3))\n",
    "ConfusionMatrixDisplay.from_predictions(y_test,svm_pred,display_labels=['No','Yes'],colorbar = False)\n",
    "plt.title('SVM Confusion Test Data Matrix')\n",
    "plt.show()\n",
    "print('Yes as Yes (TP): ',tp)\n",
    "print('No as No   (TN): ',tn)\n",
    "print('No as Yes  (FP): ',fp)\n",
    "print('yes as No  (FN): ',fn)"
   ]
  },
  {
   "cell_type": "code",
   "execution_count": 26,
   "id": "ca624a8f",
   "metadata": {},
   "outputs": [
    {
     "name": "stdout",
     "output_type": "stream",
     "text": [
      "precision :  1.0\n",
      "recall :  0.2\n",
      "f1_masure :  0.33\n",
      "se :  0.2\n",
      "sp :  1.0\n",
      "acc :  0.77\n",
      "auc :  0.6\n"
     ]
    },
    {
     "data": {
      "text/plain": [
       "<Figure size 144x216 with 0 Axes>"
      ]
     },
     "metadata": {},
     "output_type": "display_data"
    },
    {
     "data": {
      "image/png": "[encoded data removed]",
      "text/plain": [
       "<Figure size 432x288 with 1 Axes>"
      ]
     },
     "metadata": {
      "needs_background": "light"
     },
     "output_type": "display_data"
    },
    {
     "name": "stdout",
     "output_type": "stream",
     "text": [
      "Yes as Yes (TP):  63\n",
      "No as No   (TN):  765\n",
      "No as Yes  (FP):  0\n",
      "yes as No  (FN):  246\n"
     ]
    }
   ],
   "source": [
    "clf = GaussianNB().fit(x_train,y_train)\n",
    "gnb_pred = clf.predict(x_test)\n",
    "gnb_proba = clf.predict_proba(x_test)\n",
    "tn, fp, fn, tp = confusion_matrix(y_test,gnb_pred).ravel()\n",
    "\n",
    "precision = round((tp/(tp+fp)),2)\n",
    "recall = round((tp/(tp+fn)),2)\n",
    "f1_masure = round((2*precision*recall)/(precision+recall),2)\n",
    "se = round((tp/(tp+fn)),2)\n",
    "sp = round((tn/(tn+fp)),2)\n",
    "acc = round(((tp+tn)/len(x_test)),2)\n",
    "auc_ = round((roc_auc_score(y_test,gnb_pred)),2)\n",
    "\n",
    "print(\"precision : \",precision)\n",
    "print(\"recall : \",recall)\n",
    "print(\"f1_masure : \",f1_masure)\n",
    "print(\"se : \",se)\n",
    "print(\"sp : \",sp)\n",
    "print(\"acc : \",acc)\n",
    "print(\"auc : \",auc_)\n",
    "\n",
    "\n",
    "result.append({\n",
    "    'Classifier': 'Naive Baye\\'s',\n",
    "    'Precision': precision,\n",
    "    'Se/Recall':recall,\n",
    "    'Sp':sp,\n",
    "    'F1-Measure':f1_masure,\n",
    "    'Accuracy':acc,\n",
    "    'AUC':auc_\n",
    "})\n",
    "plt.figure(figsize=(2, 3))\n",
    "ConfusionMatrixDisplay.from_predictions(y_test,gnb_pred,display_labels=['No','Yes'],colorbar = False)\n",
    "plt.title('Naive Baye\\'s Test Data Confusion Matrix')\n",
    "plt.show()\n",
    "print('Yes as Yes (TP): ',tp)\n",
    "print('No as No   (TN): ',tn)\n",
    "print('No as Yes  (FP): ',fp)\n",
    "print('yes as No  (FN): ',fn)"
   ]
  },
  {
   "cell_type": "code",
   "execution_count": 27,
   "id": "ffd6b3f9",
   "metadata": {},
   "outputs": [
    {
     "data": {
      "text/html": [
       "<div>\n",
       "<style scoped>\n",
       "    .dataframe tbody tr th:only-of-type {\n",
       "        vertical-align: middle;\n",
       "    }\n",
       "\n",
       "    .dataframe tbody tr th {\n",
       "        vertical-align: top;\n",
       "    }\n",
       "\n",
       "    .dataframe thead th {\n",
       "        text-align: right;\n",
       "    }\n",
       "</style>\n",
       "<table border=\"1\" class=\"dataframe\">\n",
       "  <thead>\n",
       "    <tr style=\"text-align: right;\">\n",
       "      <th></th>\n",
       "      <th>Classifier</th>\n",
       "      <th>Precision</th>\n",
       "      <th>Se/Recall</th>\n",
       "      <th>Sp</th>\n",
       "      <th>F1-Measure</th>\n",
       "      <th>Accuracy</th>\n",
       "      <th>AUC</th>\n",
       "    </tr>\n",
       "  </thead>\n",
       "  <tbody>\n",
       "    <tr>\n",
       "      <th>0</th>\n",
       "      <td>Random Forest</td>\n",
       "      <td>0.92</td>\n",
       "      <td>0.78</td>\n",
       "      <td>0.97</td>\n",
       "      <td>0.84</td>\n",
       "      <td>0.92</td>\n",
       "      <td>0.92</td>\n",
       "    </tr>\n",
       "    <tr>\n",
       "      <th>1</th>\n",
       "      <td>Decision Tree</td>\n",
       "      <td>0.97</td>\n",
       "      <td>0.69</td>\n",
       "      <td>0.99</td>\n",
       "      <td>0.81</td>\n",
       "      <td>0.90</td>\n",
       "      <td>0.83</td>\n",
       "    </tr>\n",
       "    <tr>\n",
       "      <th>2</th>\n",
       "      <td>Logistic Regression</td>\n",
       "      <td>0.87</td>\n",
       "      <td>0.27</td>\n",
       "      <td>0.98</td>\n",
       "      <td>0.41</td>\n",
       "      <td>0.78</td>\n",
       "      <td>0.75</td>\n",
       "    </tr>\n",
       "    <tr>\n",
       "      <th>3</th>\n",
       "      <td>K-Nearest Neighbors</td>\n",
       "      <td>0.92</td>\n",
       "      <td>0.43</td>\n",
       "      <td>0.98</td>\n",
       "      <td>0.59</td>\n",
       "      <td>0.82</td>\n",
       "      <td>0.80</td>\n",
       "    </tr>\n",
       "    <tr>\n",
       "      <th>4</th>\n",
       "      <td>SVM</td>\n",
       "      <td>1.00</td>\n",
       "      <td>0.06</td>\n",
       "      <td>1.00</td>\n",
       "      <td>0.11</td>\n",
       "      <td>0.73</td>\n",
       "      <td>0.77</td>\n",
       "    </tr>\n",
       "    <tr>\n",
       "      <th>5</th>\n",
       "      <td>Naive Baye's</td>\n",
       "      <td>1.00</td>\n",
       "      <td>0.20</td>\n",
       "      <td>1.00</td>\n",
       "      <td>0.33</td>\n",
       "      <td>0.77</td>\n",
       "      <td>0.60</td>\n",
       "    </tr>\n",
       "  </tbody>\n",
       "</table>\n",
       "</div>"
      ],
      "text/plain": [
       "            Classifier  Precision  Se/Recall    Sp  F1-Measure  Accuracy   AUC\n",
       "0        Random Forest       0.92       0.78  0.97        0.84      0.92  0.92\n",
       "1        Decision Tree       0.97       0.69  0.99        0.81      0.90  0.83\n",
       "2  Logistic Regression       0.87       0.27  0.98        0.41      0.78  0.75\n",
       "3  K-Nearest Neighbors       0.92       0.43  0.98        0.59      0.82  0.80\n",
       "4                  SVM       1.00       0.06  1.00        0.11      0.73  0.77\n",
       "5         Naive Baye's       1.00       0.20  1.00        0.33      0.77  0.60"
      ]
     },
     "execution_count": 27,
     "metadata": {},
     "output_type": "execute_result"
    }
   ],
   "source": [
    "pd.DataFrame(result)"
   ]
  },
  {
   "cell_type": "code",
   "execution_count": null,
   "id": "d3b72a39",
   "metadata": {},
   "outputs": [],
   "source": []
  },
  {
   "cell_type": "code",
   "execution_count": 28,
   "id": "654f75c4",
   "metadata": {},
   "outputs": [],
   "source": [
    "# pd.DataFrame(result).reset_index(drop=True).to_csv('./con_mat/result evaluation.csv')"
   ]
  },
  {
   "cell_type": "code",
   "execution_count": 29,
   "id": "8d9c3248",
   "metadata": {},
   "outputs": [],
   "source": [
    "# plt.figure(figsize=(10, 7), dpi=100)\n",
    "\n",
    "# def plot_roc(name,pred,i):\n",
    "#     fpr, tpr, threshold = roc_curve(y_test, pred)\n",
    "#     auc_ = auc(fpr,tpr)\n",
    "    \n",
    "#     if i%2==0:\n",
    "#         plt.plot(fpr,tpr, linestyle='--', label = name+' (auc = %0.2f)' % auc_)\n",
    "#     else:\n",
    "#         plt.plot(fpr,tpr, linestyle='-', label = name+' (auc = %0.2f)' % auc_)\n",
    "    \n",
    "\n",
    "# plot_roc('Random Forest',RF_pred,1)\n",
    "# plot_roc('SVM',svm_pred,5)\n",
    "# plot_roc('K-Nearest Neighbors',Knn_pred,4)\n",
    "# plot_roc('Decision Tree',DT_pred,2)\n",
    "# plot_roc('Naive Baye\\'s',gnb_pred,6)\n",
    "# plot_roc('Logistic Regression',Los_pred,3)\n",
    "\n",
    "# plt.plot([0,1],[0,1],'k--',label = 'Reference Line')\n",
    "# plt.xlim([0,1])\n",
    "# plt.ylim([0,1.05])\n",
    "# plt.title('“Receiver Operating Characteristic(ROC) Curve” of test data')\n",
    "# plt.xlabel('False Positive Rate (FPR) -->')\n",
    "# plt.ylabel('True Positive Rate (TPR) -->')\n",
    "\n",
    "# plt.legend()\n",
    "\n",
    "# # plt.savefig('./con_mat/all testing result ROC-AUC.jpg')\n",
    "# plt.show()"
   ]
  },
  {
   "cell_type": "code",
   "execution_count": 30,
   "id": "dc2794f7",
   "metadata": {},
   "outputs": [
    {
     "data": {
      "image/png": "[encoded data removed]",
      "text/plain": [
       "<Figure size 700x500 with 1 Axes>"
      ]
     },
     "metadata": {
      "needs_background": "light"
     },
     "output_type": "display_data"
    }
   ],
   "source": [
    "plt.figure(figsize=(7, 5), dpi=100)\n",
    "\n",
    "def plot_roc(name,pred,i):\n",
    "    fpr, tpr, threshold = roc_curve(y_test, pred)\n",
    "    auc_ = auc(fpr,tpr)\n",
    "    \n",
    "    if i%2==0:\n",
    "        plt.plot(fpr,tpr, linestyle='--', label = name+' (auc = %0.2f)' % auc_)\n",
    "    else:\n",
    "        plt.plot(fpr,tpr, linestyle='-', label = name+' (auc = %0.2f)' % auc_)\n",
    "    \n",
    "\n",
    "plot_roc('Random Forest',RF_proba[:,1],1)\n",
    "plot_roc('Decision Tree',DT_proba[:,1],2)\n",
    "plot_roc('Logistic Regression',Los_proba[:,1],3)\n",
    "plot_roc('K-Nearest Neighbors',Knn_proba[:,1],4)\n",
    "plot_roc('SVM',svm_proba[:,1],5)\n",
    "plot_roc('Naive Baye\\'s',gnb_proba[:,1],6)\n",
    "\n",
    "\n",
    "plt.plot([0,1],[0,1],'k--',label = 'Reference Line')\n",
    "plt.xlim([0,1])\n",
    "plt.ylim([0,1.05])\n",
    "plt.title('“Receiver Operating Characteristic(ROC) Curve” of test data')\n",
    "plt.xlabel('False Positive Rate (FPR) -->')\n",
    "plt.ylabel('True Positive Rate (TPR) -->')\n",
    "\n",
    "plt.legend()\n",
    "\n",
    "plt.savefig('./con_mat/all testing result ROC-AUC.jpg')\n",
    "plt.show()"
   ]
  },
  {
   "cell_type": "code",
   "execution_count": 31,
   "id": "bc2c5786",
   "metadata": {},
   "outputs": [],
   "source": [
    "#prediction"
   ]
  },
  {
   "cell_type": "code",
   "execution_count": 32,
   "id": "af6a21fa",
   "metadata": {},
   "outputs": [],
   "source": [
    "model = DecisionTreeClassifier(max_depth=15).fit(x_train,y_train)"
   ]
  },
  {
   "cell_type": "code",
   "execution_count": 37,
   "id": "da955df6",
   "metadata": {},
   "outputs": [
    {
     "data": {
      "text/plain": [
       "0"
      ]
     },
     "execution_count": 37,
     "metadata": {},
     "output_type": "execute_result"
    }
   ],
   "source": [
    "model.predict([[26,23.96,0,0,120,90,0,0,0,0,2]])[0]"
   ]
  },
  {
   "cell_type": "code",
   "execution_count": 38,
   "id": "dfb280f4",
   "metadata": {},
   "outputs": [
    {
     "data": {
      "text/plain": [
       "array([[0.9209529, 0.0790471]])"
      ]
     },
     "execution_count": 38,
     "metadata": {},
     "output_type": "execute_result"
    }
   ],
   "source": [
    "model.predict_proba([[26,23.96,0,0,120,90,0,0,0,0,2]])"
   ]
  },
  {
   "cell_type": "code",
   "execution_count": 56,
   "id": "02cf66d8",
   "metadata": {},
   "outputs": [
    {
     "data": {
      "text/plain": [
       "array([0], dtype=int64)"
      ]
     },
     "execution_count": 56,
     "metadata": {},
     "output_type": "execute_result"
    }
   ],
   "source": [
    "model.predict([[26,23.96,0,0,100,70,0,0,0,0,2]])"
   ]
  },
  {
   "cell_type": "code",
   "execution_count": 60,
   "id": "58bc85c5",
   "metadata": {},
   "outputs": [
    {
     "data": {
      "text/plain": [
       "array([0.9209529, 0.0790471])"
      ]
     },
     "execution_count": 60,
     "metadata": {},
     "output_type": "execute_result"
    }
   ],
   "source": [
    "model.predict_proba([[26,23.96,0,0,150,70,0,0,0,0,2]])[0]"
   ]
  },
  {
   "cell_type": "code",
   "execution_count": null,
   "id": "c827fc1d",
   "metadata": {},
   "outputs": [],
   "source": []
  }
 ],
 "metadata": {
  "kernelspec": {
   "display_name": "Python 3 (ipykernel)",
   "language": "python",
   "name": "python3"
  },
  "language_info": {
   "codemirror_mode": {
    "name": "ipython",
    "version": 3
   },
   "file_extension": ".py",
   "mimetype": "text/x-python",
   "name": "python",
   "nbconvert_exporter": "python",
   "pygments_lexer": "ipython3",
   "version": "3.9.12"
  }
 },
 "nbformat": 4,
 "nbformat_minor": 5
}
