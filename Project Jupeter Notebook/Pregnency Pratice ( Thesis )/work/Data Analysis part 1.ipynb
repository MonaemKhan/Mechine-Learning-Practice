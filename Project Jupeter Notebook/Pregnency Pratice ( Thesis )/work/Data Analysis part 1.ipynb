{
 "cells": [
  {
   "cell_type": "code",
   "execution_count": 1,
   "id": "28f0cc11",
   "metadata": {},
   "outputs": [
    {
     "data": {
      "text/html": [
       "<div>\n",
       "<style scoped>\n",
       "    .dataframe tbody tr th:only-of-type {\n",
       "        vertical-align: middle;\n",
       "    }\n",
       "\n",
       "    .dataframe tbody tr th {\n",
       "        vertical-align: top;\n",
       "    }\n",
       "\n",
       "    .dataframe thead th {\n",
       "        text-align: right;\n",
       "    }\n",
       "</style>\n",
       "<table border=\"1\" class=\"dataframe\">\n",
       "  <thead>\n",
       "    <tr style=\"text-align: right;\">\n",
       "      <th></th>\n",
       "      <th>Age</th>\n",
       "      <th>Height</th>\n",
       "      <th>Weight</th>\n",
       "      <th>BMI</th>\n",
       "      <th>Blood Group ( is Negative?)</th>\n",
       "      <th>Delivery Type</th>\n",
       "      <th>Systolic Blood Pressure</th>\n",
       "      <th>Diastolic Blood Pressure</th>\n",
       "      <th>Edema</th>\n",
       "      <th>Anemia</th>\n",
       "      <th>Jaundice</th>\n",
       "      <th>Diabetes</th>\n",
       "      <th>Risk</th>\n",
       "      <th>Para</th>\n",
       "      <th>Gravida</th>\n",
       "    </tr>\n",
       "  </thead>\n",
       "  <tbody>\n",
       "    <tr>\n",
       "      <th>1455</th>\n",
       "      <td>24</td>\n",
       "      <td>1.549</td>\n",
       "      <td>66.0</td>\n",
       "      <td>27.49</td>\n",
       "      <td>No</td>\n",
       "      <td>No_delivary</td>\n",
       "      <td>100</td>\n",
       "      <td>80</td>\n",
       "      <td>Normal</td>\n",
       "      <td>Normal</td>\n",
       "      <td>No</td>\n",
       "      <td>No</td>\n",
       "      <td>No</td>\n",
       "      <td>0</td>\n",
       "      <td>1</td>\n",
       "    </tr>\n",
       "    <tr>\n",
       "      <th>771</th>\n",
       "      <td>18</td>\n",
       "      <td>1.524</td>\n",
       "      <td>71.0</td>\n",
       "      <td>30.57</td>\n",
       "      <td>No</td>\n",
       "      <td>No_delivary</td>\n",
       "      <td>110</td>\n",
       "      <td>70</td>\n",
       "      <td>Modarate</td>\n",
       "      <td>Normal</td>\n",
       "      <td>No</td>\n",
       "      <td>No</td>\n",
       "      <td>No</td>\n",
       "      <td>0</td>\n",
       "      <td>1</td>\n",
       "    </tr>\n",
       "    <tr>\n",
       "      <th>2220</th>\n",
       "      <td>33</td>\n",
       "      <td>1.549</td>\n",
       "      <td>54.8</td>\n",
       "      <td>22.84</td>\n",
       "      <td>No</td>\n",
       "      <td>No_delivary</td>\n",
       "      <td>110</td>\n",
       "      <td>80</td>\n",
       "      <td>Modarate</td>\n",
       "      <td>Normal</td>\n",
       "      <td>No</td>\n",
       "      <td>No</td>\n",
       "      <td>No</td>\n",
       "      <td>0</td>\n",
       "      <td>1</td>\n",
       "    </tr>\n",
       "    <tr>\n",
       "      <th>2517</th>\n",
       "      <td>20</td>\n",
       "      <td>1.499</td>\n",
       "      <td>83.0</td>\n",
       "      <td>36.96</td>\n",
       "      <td>No</td>\n",
       "      <td>No_delivary</td>\n",
       "      <td>100</td>\n",
       "      <td>70</td>\n",
       "      <td>Normal</td>\n",
       "      <td>Normal</td>\n",
       "      <td>No</td>\n",
       "      <td>No</td>\n",
       "      <td>Yes</td>\n",
       "      <td>0</td>\n",
       "      <td>1</td>\n",
       "    </tr>\n",
       "    <tr>\n",
       "      <th>1832</th>\n",
       "      <td>18</td>\n",
       "      <td>1.549</td>\n",
       "      <td>49.0</td>\n",
       "      <td>20.41</td>\n",
       "      <td>No</td>\n",
       "      <td>No_delivary</td>\n",
       "      <td>120</td>\n",
       "      <td>80</td>\n",
       "      <td>Normal</td>\n",
       "      <td>Normal</td>\n",
       "      <td>No</td>\n",
       "      <td>No</td>\n",
       "      <td>No</td>\n",
       "      <td>0</td>\n",
       "      <td>1</td>\n",
       "    </tr>\n",
       "  </tbody>\n",
       "</table>\n",
       "</div>"
      ],
      "text/plain": [
       "      Age  Height  Weight    BMI Blood Group ( is Negative?) Delivery Type  \\\n",
       "1455   24   1.549    66.0  27.49                          No   No_delivary   \n",
       "771    18   1.524    71.0  30.57                          No   No_delivary   \n",
       "2220   33   1.549    54.8  22.84                          No   No_delivary   \n",
       "2517   20   1.499    83.0  36.96                          No   No_delivary   \n",
       "1832   18   1.549    49.0  20.41                          No   No_delivary   \n",
       "\n",
       "      Systolic Blood Pressure  Diastolic Blood Pressure     Edema  Anemia  \\\n",
       "1455                      100                        80    Normal  Normal   \n",
       "771                       110                        70  Modarate  Normal   \n",
       "2220                      110                        80  Modarate  Normal   \n",
       "2517                      100                        70    Normal  Normal   \n",
       "1832                      120                        80    Normal  Normal   \n",
       "\n",
       "     Jaundice Diabetes Risk  Para  Gravida  \n",
       "1455       No       No   No     0        1  \n",
       "771        No       No   No     0        1  \n",
       "2220       No       No   No     0        1  \n",
       "2517       No       No  Yes     0        1  \n",
       "1832       No       No   No     0        1  "
      ]
     },
     "execution_count": 1,
     "metadata": {},
     "output_type": "execute_result"
    }
   ],
   "source": [
    "import warnings\n",
    "warnings.filterwarnings(\"ignore\")\n",
    "import pandas as pd\n",
    "import numpy as np\n",
    "df = pd.read_csv('final.csv')\n",
    "df.sample(5)"
   ]
  },
  {
   "cell_type": "code",
   "execution_count": 2,
   "id": "80786c07",
   "metadata": {},
   "outputs": [],
   "source": [
    "import seaborn as sn\n",
    "import matplotlib.pyplot as plt\n",
    "%matplotlib inline\n",
    "# plt.figure(figsize=(12,8))\n",
    "# sn.histplot(df.Age[df.Risk == 'Yes'])\n",
    "# sn.histplot(df.Age[df.Risk == 'No'],color='red')\n",
    "# plt.show()"
   ]
  },
  {
   "cell_type": "code",
   "execution_count": 3,
   "id": "34298ecc",
   "metadata": {},
   "outputs": [],
   "source": [
    "# df['Blood Group ( is Negative?)'] = df['Blood Group ( is Negative?)'].map({'Yes':1,'No':0})\n",
    "# df['Jaundice'] = df['Jaundice'].map({'Yes':1,'No':0})\n",
    "# df['Diabetes'] = df['Diabetes'].map({'Yes':1,'No':0})\n",
    "# df['Risk'] = df['Risk'].map({'Yes':1,'No':0})\n",
    "# df['Delivery Type'] = df['Delivery Type'].map({'No_delivary':0,'Normal':1,'C-section':2})\n",
    "# df['Edema'] = df['Edema'].map({'Normal':0,'High':1,'Modarate':2})\n",
    "# df['Anemia'] = df['Anemia'].map({'Normal':0,'Low':1,'Very-Low':2})"
   ]
  },
  {
   "cell_type": "code",
   "execution_count": 4,
   "id": "322aa136",
   "metadata": {},
   "outputs": [
    {
     "data": {
      "text/html": [
       "<div>\n",
       "<style scoped>\n",
       "    .dataframe tbody tr th:only-of-type {\n",
       "        vertical-align: middle;\n",
       "    }\n",
       "\n",
       "    .dataframe tbody tr th {\n",
       "        vertical-align: top;\n",
       "    }\n",
       "\n",
       "    .dataframe thead th {\n",
       "        text-align: right;\n",
       "    }\n",
       "</style>\n",
       "<table border=\"1\" class=\"dataframe\">\n",
       "  <thead>\n",
       "    <tr style=\"text-align: right;\">\n",
       "      <th></th>\n",
       "      <th>Age</th>\n",
       "      <th>Height</th>\n",
       "      <th>Weight</th>\n",
       "      <th>BMI</th>\n",
       "      <th>Blood Group ( is Negative?)</th>\n",
       "      <th>Delivery Type</th>\n",
       "      <th>Systolic Blood Pressure</th>\n",
       "      <th>Diastolic Blood Pressure</th>\n",
       "      <th>Edema</th>\n",
       "      <th>Anemia</th>\n",
       "      <th>Jaundice</th>\n",
       "      <th>Diabetes</th>\n",
       "      <th>Risk</th>\n",
       "      <th>Para</th>\n",
       "      <th>Gravida</th>\n",
       "    </tr>\n",
       "  </thead>\n",
       "  <tbody>\n",
       "    <tr>\n",
       "      <th>1206</th>\n",
       "      <td>23</td>\n",
       "      <td>1.448</td>\n",
       "      <td>49.0</td>\n",
       "      <td>23.38</td>\n",
       "      <td>No</td>\n",
       "      <td>No_delivary</td>\n",
       "      <td>90</td>\n",
       "      <td>70</td>\n",
       "      <td>Normal</td>\n",
       "      <td>Normal</td>\n",
       "      <td>No</td>\n",
       "      <td>No</td>\n",
       "      <td>Yes</td>\n",
       "      <td>0</td>\n",
       "      <td>1</td>\n",
       "    </tr>\n",
       "    <tr>\n",
       "      <th>879</th>\n",
       "      <td>21</td>\n",
       "      <td>1.321</td>\n",
       "      <td>45.7</td>\n",
       "      <td>26.20</td>\n",
       "      <td>No</td>\n",
       "      <td>No_delivary</td>\n",
       "      <td>90</td>\n",
       "      <td>70</td>\n",
       "      <td>Normal</td>\n",
       "      <td>Low</td>\n",
       "      <td>No</td>\n",
       "      <td>No</td>\n",
       "      <td>Yes</td>\n",
       "      <td>0</td>\n",
       "      <td>1</td>\n",
       "    </tr>\n",
       "    <tr>\n",
       "      <th>3233</th>\n",
       "      <td>24</td>\n",
       "      <td>1.524</td>\n",
       "      <td>60.0</td>\n",
       "      <td>25.83</td>\n",
       "      <td>No</td>\n",
       "      <td>Normal</td>\n",
       "      <td>120</td>\n",
       "      <td>80</td>\n",
       "      <td>Normal</td>\n",
       "      <td>Normal</td>\n",
       "      <td>No</td>\n",
       "      <td>No</td>\n",
       "      <td>No</td>\n",
       "      <td>1</td>\n",
       "      <td>2</td>\n",
       "    </tr>\n",
       "    <tr>\n",
       "      <th>590</th>\n",
       "      <td>31</td>\n",
       "      <td>1.600</td>\n",
       "      <td>59.2</td>\n",
       "      <td>23.12</td>\n",
       "      <td>No</td>\n",
       "      <td>Normal</td>\n",
       "      <td>130</td>\n",
       "      <td>70</td>\n",
       "      <td>Normal</td>\n",
       "      <td>Normal</td>\n",
       "      <td>No</td>\n",
       "      <td>No</td>\n",
       "      <td>No</td>\n",
       "      <td>2</td>\n",
       "      <td>4</td>\n",
       "    </tr>\n",
       "    <tr>\n",
       "      <th>2707</th>\n",
       "      <td>24</td>\n",
       "      <td>1.549</td>\n",
       "      <td>60.0</td>\n",
       "      <td>25.01</td>\n",
       "      <td>No</td>\n",
       "      <td>No_delivary</td>\n",
       "      <td>110</td>\n",
       "      <td>70</td>\n",
       "      <td>Normal</td>\n",
       "      <td>Low</td>\n",
       "      <td>No</td>\n",
       "      <td>No</td>\n",
       "      <td>No</td>\n",
       "      <td>0</td>\n",
       "      <td>1</td>\n",
       "    </tr>\n",
       "  </tbody>\n",
       "</table>\n",
       "</div>"
      ],
      "text/plain": [
       "      Age  Height  Weight    BMI Blood Group ( is Negative?) Delivery Type  \\\n",
       "1206   23   1.448    49.0  23.38                          No   No_delivary   \n",
       "879    21   1.321    45.7  26.20                          No   No_delivary   \n",
       "3233   24   1.524    60.0  25.83                          No        Normal   \n",
       "590    31   1.600    59.2  23.12                          No        Normal   \n",
       "2707   24   1.549    60.0  25.01                          No   No_delivary   \n",
       "\n",
       "      Systolic Blood Pressure  Diastolic Blood Pressure   Edema  Anemia  \\\n",
       "1206                       90                        70  Normal  Normal   \n",
       "879                        90                        70  Normal     Low   \n",
       "3233                      120                        80  Normal  Normal   \n",
       "590                       130                        70  Normal  Normal   \n",
       "2707                      110                        70  Normal     Low   \n",
       "\n",
       "     Jaundice Diabetes Risk  Para  Gravida  \n",
       "1206       No       No  Yes     0        1  \n",
       "879        No       No  Yes     0        1  \n",
       "3233       No       No   No     1        2  \n",
       "590        No       No   No     2        4  \n",
       "2707       No       No   No     0        1  "
      ]
     },
     "execution_count": 4,
     "metadata": {},
     "output_type": "execute_result"
    }
   ],
   "source": [
    "df.sample(5)"
   ]
  },
  {
   "cell_type": "code",
   "execution_count": 5,
   "id": "b0060949",
   "metadata": {},
   "outputs": [
    {
     "data": {
      "text/plain": [
       "Index(['Age', 'Height', 'Weight', 'BMI', 'Blood Group ( is Negative?)',\n",
       "       'Delivery Type', 'Systolic Blood Pressure', 'Diastolic Blood Pressure',\n",
       "       'Edema', 'Anemia', 'Jaundice', 'Diabetes', 'Risk', 'Para', 'Gravida'],\n",
       "      dtype='object')"
      ]
     },
     "execution_count": 5,
     "metadata": {},
     "output_type": "execute_result"
    }
   ],
   "source": [
    "columns = df.columns[:]\n",
    "columns"
   ]
  },
  {
   "cell_type": "code",
   "execution_count": 6,
   "id": "f570ba8e",
   "metadata": {},
   "outputs": [],
   "source": [
    "# num_list=['Age', 'Height', 'Weight', 'BMI','Systolic Blood Pressure', 'Diastolic Blood Pressure']\n",
    "# # fig = plt.figure(figsize=(20,20))\n",
    "\n",
    "# for i in range(len(num_list)):\n",
    "#     plt.title(num_list[i])\n",
    "#     sn.histplot(df[df['Risk'] == 'No'][num_list[i]],kde=False,kde_kws={'multiple':'stack'},label='No Risk',color='limegreen',) \n",
    "#     sn.histplot(df[df['Risk'] == 'Yes'][num_list[i]],kde=False,kde_kws={'multiple':'stack','alpha':0.6},label='Risk',color='red')\n",
    "# #     plt.savefig('./Figure/'+num_list[i]+' bar plot of yes no.jpg')\n",
    "#     plt.legend()\n",
    "\n",
    "# plt.tight_layout()"
   ]
  },
  {
   "cell_type": "code",
   "execution_count": 7,
   "id": "a8f79174",
   "metadata": {},
   "outputs": [
    {
     "data": {
      "image/png": "[encoded data removed]",
      "text/plain": [
       "<Figure size 720x360 with 1 Axes>"
      ]
     },
     "metadata": {},
     "output_type": "display_data"
    }
   ],
   "source": [
    "plt.figure(figsize=(10,5))\n",
    "plt.pie(df['Risk'].value_counts(), labels=['No Risk','Risk'], autopct = \"%0.2f\",explode = [0.1,0])\n",
    "plt.legend()\n",
    "plt.show()"
   ]
  },
  {
   "cell_type": "code",
   "execution_count": 8,
   "id": "8f0f0f09",
   "metadata": {},
   "outputs": [
    {
     "data": {
      "text/plain": [
       "<AxesSubplot:title={'center':'BMI'}, xlabel='BMI', ylabel='Count'>"
      ]
     },
     "execution_count": 8,
     "metadata": {},
     "output_type": "execute_result"
    },
    {
     "data": {
      "image/png": "[encoded data removed]",
      "text/plain": [
       "<Figure size 432x288 with 1 Axes>"
      ]
     },
     "metadata": {
      "needs_background": "light"
     },
     "output_type": "display_data"
    }
   ],
   "source": [
    "num_list = 'BMI'\n",
    "plt.title(num_list)\n",
    "sn.histplot(df[df['Risk'] == 'No'][num_list],kde=False,kde_kws={'multiple':'stack'},label='No Risk',color='limegreen',) \n",
    "# sn.distplot(df[df['Risk'] == 'Yes'][num_list],kde=False,kde_kws={'multiple':'stack','alpha':0.6},label='Risk',color='red')\n",
    "# plt.savefig('./Figure/'+num_list+' bar plot of yes no.jpg')\n",
    "# plt.legend()"
   ]
  },
  {
   "cell_type": "code",
   "execution_count": 9,
   "id": "5115bafd",
   "metadata": {},
   "outputs": [
    {
     "data": {
      "text/plain": [
       "(42, 15)"
      ]
     },
     "execution_count": 9,
     "metadata": {},
     "output_type": "execute_result"
    }
   ],
   "source": [
    "df[df.Height < 1.3].shape"
   ]
  },
  {
   "cell_type": "code",
   "execution_count": 10,
   "id": "4f2946de",
   "metadata": {},
   "outputs": [
    {
     "data": {
      "image/png": "[encoded data removed]",
      "text/plain": [
       "<Figure size 432x288 with 1 Axes>"
      ]
     },
     "metadata": {
      "needs_background": "light"
     },
     "output_type": "display_data"
    }
   ],
   "source": [
    "# plt.figure(figsize=(8,5))\n",
    "plt.title('BMI')\n",
    "plt.xlabel(' ')\n",
    "sn.countplot(data=df, x='BMI', hue=\"Risk\",palette=['green','red'])\n",
    "# plt.savefig('./Figure/Blood Group bar plot of yes no.jpg')\n",
    "plt.show()"
   ]
  },
  {
   "cell_type": "code",
   "execution_count": 11,
   "id": "d8db738c",
   "metadata": {},
   "outputs": [
    {
     "data": {
      "image/png": "[encoded data removed]",
      "text/plain": [
       "<Figure size 576x360 with 1 Axes>"
      ]
     },
     "metadata": {
      "needs_background": "light"
     },
     "output_type": "display_data"
    }
   ],
   "source": [
    "plt.figure(figsize=(8,5))\n",
    "plt.title('Blood Group ( is Negative?)')\n",
    "plt.xlabel(' ')\n",
    "sn.countplot(data=df, x='Blood Group ( is Negative?)', hue=\"Risk\",palette=['green','red'])\n",
    "# plt.savefig('./Figure/Blood Group bar plot of yes no.jpg')\n",
    "plt.show()"
   ]
  },
  {
   "cell_type": "code",
   "execution_count": 12,
   "id": "26442c68",
   "metadata": {},
   "outputs": [
    {
     "data": {
      "image/png": "[encoded data removed]",
      "text/plain": [
       "<Figure size 576x360 with 1 Axes>"
      ]
     },
     "metadata": {
      "needs_background": "light"
     },
     "output_type": "display_data"
    }
   ],
   "source": [
    "plt.figure(figsize=(8,5))\n",
    "plt.title('Delivery Type')\n",
    "sn.countplot(data=df, x='Delivery Type', hue=\"Risk\",palette=['green','red'])\n",
    "# plt.savefig('./Figure/Delivery Type bar plot of yes no.jpg')\n",
    "plt.show()"
   ]
  },
  {
   "cell_type": "code",
   "execution_count": 13,
   "id": "e7153e36",
   "metadata": {},
   "outputs": [
    {
     "data": {
      "image/png": "[encoded data removed]",
      "text/plain": [
       "<Figure size 576x360 with 1 Axes>"
      ]
     },
     "metadata": {
      "needs_background": "light"
     },
     "output_type": "display_data"
    },
    {
     "data": {
      "image/png": "[encoded data removed]",
      "text/plain": [
       "<Figure size 576x360 with 1 Axes>"
      ]
     },
     "metadata": {
      "needs_background": "light"
     },
     "output_type": "display_data"
    },
    {
     "data": {
      "image/png": "[encoded data removed]",
      "text/plain": [
       "<Figure size 576x360 with 1 Axes>"
      ]
     },
     "metadata": {
      "needs_background": "light"
     },
     "output_type": "display_data"
    },
    {
     "data": {
      "image/png": "[encoded data removed]",
      "text/plain": [
       "<Figure size 576x360 with 1 Axes>"
      ]
     },
     "metadata": {
      "needs_background": "light"
     },
     "output_type": "display_data"
    },
    {
     "data": {
      "image/png": "[encoded data removed]",
      "text/plain": [
       "<Figure size 576x360 with 1 Axes>"
      ]
     },
     "metadata": {
      "needs_background": "light"
     },
     "output_type": "display_data"
    }
   ],
   "source": [
    "columns = ['Delivery Type','Edema', 'Anemia', 'Jaundice', 'Diabetes']\n",
    "for col in columns:\n",
    "    plt.figure(figsize=(8,5))\n",
    "    plt.title(col)\n",
    "    sn.countplot(data=df, x=col, hue=\"Risk\",palette=['green','red'])\n",
    "    plt.savefig('./Figure/'+col+' bar plot of yes no.jpg')\n",
    "    plt.show()"
   ]
  },
  {
   "cell_type": "code",
   "execution_count": 14,
   "id": "c942f879",
   "metadata": {},
   "outputs": [],
   "source": [
    "newdf = df.drop(['Age', 'Height', 'Weight', 'BMI', 'Blood Group ( is Negative?)',\n",
    "       'Delivery Type', 'Systolic Blood Pressure', 'Diastolic Blood Pressure',\n",
    "       'Edema', 'Anemia', 'Jaundice', 'Diabetes'],axis=1)"
   ]
  },
  {
   "cell_type": "code",
   "execution_count": 15,
   "id": "173055cd",
   "metadata": {},
   "outputs": [],
   "source": [
    "for i in range(len(newdf)):\n",
    "    newdf.loc[i,'diff'] = newdf.loc[i,'Gravida'] - newdf.loc[i,'Para']\n",
    "newdf['diff'] = newdf['diff'].astype(int)"
   ]
  },
  {
   "cell_type": "code",
   "execution_count": 16,
   "id": "0ad25869",
   "metadata": {},
   "outputs": [
    {
     "data": {
      "text/html": [
       "<div>\n",
       "<style scoped>\n",
       "    .dataframe tbody tr th:only-of-type {\n",
       "        vertical-align: middle;\n",
       "    }\n",
       "\n",
       "    .dataframe tbody tr th {\n",
       "        vertical-align: top;\n",
       "    }\n",
       "\n",
       "    .dataframe thead th {\n",
       "        text-align: right;\n",
       "    }\n",
       "</style>\n",
       "<table border=\"1\" class=\"dataframe\">\n",
       "  <thead>\n",
       "    <tr style=\"text-align: right;\">\n",
       "      <th></th>\n",
       "      <th>Risk</th>\n",
       "      <th>Para</th>\n",
       "      <th>Gravida</th>\n",
       "      <th>diff</th>\n",
       "    </tr>\n",
       "  </thead>\n",
       "  <tbody>\n",
       "    <tr>\n",
       "      <th>0</th>\n",
       "      <td>No</td>\n",
       "      <td>2</td>\n",
       "      <td>3</td>\n",
       "      <td>1</td>\n",
       "    </tr>\n",
       "    <tr>\n",
       "      <th>1</th>\n",
       "      <td>No</td>\n",
       "      <td>1</td>\n",
       "      <td>2</td>\n",
       "      <td>1</td>\n",
       "    </tr>\n",
       "    <tr>\n",
       "      <th>2</th>\n",
       "      <td>No</td>\n",
       "      <td>0</td>\n",
       "      <td>1</td>\n",
       "      <td>1</td>\n",
       "    </tr>\n",
       "    <tr>\n",
       "      <th>3</th>\n",
       "      <td>No</td>\n",
       "      <td>0</td>\n",
       "      <td>1</td>\n",
       "      <td>1</td>\n",
       "    </tr>\n",
       "    <tr>\n",
       "      <th>4</th>\n",
       "      <td>No</td>\n",
       "      <td>0</td>\n",
       "      <td>1</td>\n",
       "      <td>1</td>\n",
       "    </tr>\n",
       "  </tbody>\n",
       "</table>\n",
       "</div>"
      ],
      "text/plain": [
       "  Risk  Para  Gravida  diff\n",
       "0   No     2        3     1\n",
       "1   No     1        2     1\n",
       "2   No     0        1     1\n",
       "3   No     0        1     1\n",
       "4   No     0        1     1"
      ]
     },
     "execution_count": 16,
     "metadata": {},
     "output_type": "execute_result"
    }
   ],
   "source": [
    "newdf.head()"
   ]
  },
  {
   "cell_type": "code",
   "execution_count": 17,
   "id": "7a1e41bf",
   "metadata": {},
   "outputs": [
    {
     "data": {
      "image/png": "[encoded data removed]",
      "text/plain": [
       "<Figure size 576x360 with 1 Axes>"
      ]
     },
     "metadata": {
      "needs_background": "light"
     },
     "output_type": "display_data"
    }
   ],
   "source": [
    "plt.figure(figsize=(8,5))\n",
    "plt.title('Para & Gravida Difference')\n",
    "sn.countplot(data=newdf, x='diff', hue=\"Risk\",palette=['green','red'])\n",
    "# plt.savefig('./Figure/Para & Gravida Difference bar plot of yes no.jpg')\n",
    "plt.show()"
   ]
  },
  {
   "cell_type": "code",
   "execution_count": 18,
   "id": "4a8efb19",
   "metadata": {},
   "outputs": [
    {
     "data": {
      "text/plain": [
       "(3578, 15)"
      ]
     },
     "execution_count": 18,
     "metadata": {},
     "output_type": "execute_result"
    }
   ],
   "source": [
    "df.shape"
   ]
  },
  {
   "cell_type": "code",
   "execution_count": 19,
   "id": "1db68609",
   "metadata": {},
   "outputs": [
    {
     "data": {
      "text/plain": [
       "No     2584\n",
       "Yes     994\n",
       "Name: Risk, dtype: int64"
      ]
     },
     "execution_count": 19,
     "metadata": {},
     "output_type": "execute_result"
    }
   ],
   "source": [
    "df.Risk.value_counts()"
   ]
  },
  {
   "cell_type": "code",
   "execution_count": 20,
   "id": "bf73c11a",
   "metadata": {},
   "outputs": [
    {
     "data": {
      "text/plain": [
       "No     900\n",
       "Yes    329\n",
       "Name: Risk, dtype: int64"
      ]
     },
     "execution_count": 20,
     "metadata": {},
     "output_type": "execute_result"
    }
   ],
   "source": [
    "Rangamati = df[:1229]\n",
    "Rangamati.Risk.value_counts()"
   ]
  },
  {
   "cell_type": "code",
   "execution_count": 21,
   "id": "6a324191",
   "metadata": {},
   "outputs": [
    {
     "data": {
      "text/plain": [
       "No     829\n",
       "Yes    328\n",
       "Name: Risk, dtype: int64"
      ]
     },
     "execution_count": 21,
     "metadata": {},
     "output_type": "execute_result"
    }
   ],
   "source": [
    "Bandarban = df[1229:2386]\n",
    "Bandarban.Risk.value_counts()"
   ]
  },
  {
   "cell_type": "code",
   "execution_count": 22,
   "id": "0f0069d0",
   "metadata": {},
   "outputs": [
    {
     "data": {
      "text/plain": [
       "No     855\n",
       "Yes    337\n",
       "Name: Risk, dtype: int64"
      ]
     },
     "execution_count": 22,
     "metadata": {},
     "output_type": "execute_result"
    }
   ],
   "source": [
    "khagrachori = df[2386:]\n",
    "khagrachori.Risk.value_counts()"
   ]
  },
  {
   "cell_type": "code",
   "execution_count": 23,
   "id": "f33318f2",
   "metadata": {},
   "outputs": [
    {
     "data": {
      "text/html": [
       "<div>\n",
       "<style scoped>\n",
       "    .dataframe tbody tr th:only-of-type {\n",
       "        vertical-align: middle;\n",
       "    }\n",
       "\n",
       "    .dataframe tbody tr th {\n",
       "        vertical-align: top;\n",
       "    }\n",
       "\n",
       "    .dataframe thead th {\n",
       "        text-align: right;\n",
       "    }\n",
       "</style>\n",
       "<table border=\"1\" class=\"dataframe\">\n",
       "  <thead>\n",
       "    <tr style=\"text-align: right;\">\n",
       "      <th></th>\n",
       "      <th>Age</th>\n",
       "      <th>Height</th>\n",
       "      <th>Weight</th>\n",
       "      <th>BMI</th>\n",
       "      <th>Systolic Blood Pressure</th>\n",
       "      <th>Diastolic Blood Pressure</th>\n",
       "      <th>Para</th>\n",
       "      <th>Gravida</th>\n",
       "    </tr>\n",
       "  </thead>\n",
       "  <tbody>\n",
       "    <tr>\n",
       "      <th>count</th>\n",
       "      <td>3578.000000</td>\n",
       "      <td>3578.000000</td>\n",
       "      <td>3578.000000</td>\n",
       "      <td>3578.000000</td>\n",
       "      <td>3578.000000</td>\n",
       "      <td>3578.000000</td>\n",
       "      <td>3578.000000</td>\n",
       "      <td>3578.000000</td>\n",
       "    </tr>\n",
       "    <tr>\n",
       "      <th>mean</th>\n",
       "      <td>24.283958</td>\n",
       "      <td>1.512298</td>\n",
       "      <td>57.721688</td>\n",
       "      <td>25.300875</td>\n",
       "      <td>114.223030</td>\n",
       "      <td>75.245947</td>\n",
       "      <td>0.681107</td>\n",
       "      <td>1.889603</td>\n",
       "    </tr>\n",
       "    <tr>\n",
       "      <th>std</th>\n",
       "      <td>5.224496</td>\n",
       "      <td>0.062982</td>\n",
       "      <td>10.222044</td>\n",
       "      <td>4.700071</td>\n",
       "      <td>11.915273</td>\n",
       "      <td>8.476044</td>\n",
       "      <td>0.763133</td>\n",
       "      <td>0.910504</td>\n",
       "    </tr>\n",
       "    <tr>\n",
       "      <th>min</th>\n",
       "      <td>13.000000</td>\n",
       "      <td>1.244000</td>\n",
       "      <td>33.500000</td>\n",
       "      <td>13.950000</td>\n",
       "      <td>80.000000</td>\n",
       "      <td>40.000000</td>\n",
       "      <td>0.000000</td>\n",
       "      <td>0.000000</td>\n",
       "    </tr>\n",
       "    <tr>\n",
       "      <th>25%</th>\n",
       "      <td>20.000000</td>\n",
       "      <td>1.473000</td>\n",
       "      <td>50.000000</td>\n",
       "      <td>21.950000</td>\n",
       "      <td>110.000000</td>\n",
       "      <td>70.000000</td>\n",
       "      <td>0.000000</td>\n",
       "      <td>1.000000</td>\n",
       "    </tr>\n",
       "    <tr>\n",
       "      <th>50%</th>\n",
       "      <td>24.000000</td>\n",
       "      <td>1.524000</td>\n",
       "      <td>57.000000</td>\n",
       "      <td>24.840000</td>\n",
       "      <td>110.000000</td>\n",
       "      <td>75.000000</td>\n",
       "      <td>1.000000</td>\n",
       "      <td>2.000000</td>\n",
       "    </tr>\n",
       "    <tr>\n",
       "      <th>75%</th>\n",
       "      <td>27.000000</td>\n",
       "      <td>1.549000</td>\n",
       "      <td>65.000000</td>\n",
       "      <td>27.990000</td>\n",
       "      <td>120.000000</td>\n",
       "      <td>80.000000</td>\n",
       "      <td>1.000000</td>\n",
       "      <td>3.000000</td>\n",
       "    </tr>\n",
       "    <tr>\n",
       "      <th>max</th>\n",
       "      <td>60.000000</td>\n",
       "      <td>1.803000</td>\n",
       "      <td>120.000000</td>\n",
       "      <td>52.420000</td>\n",
       "      <td>200.000000</td>\n",
       "      <td>120.000000</td>\n",
       "      <td>4.000000</td>\n",
       "      <td>5.000000</td>\n",
       "    </tr>\n",
       "  </tbody>\n",
       "</table>\n",
       "</div>"
      ],
      "text/plain": [
       "               Age       Height       Weight          BMI  \\\n",
       "count  3578.000000  3578.000000  3578.000000  3578.000000   \n",
       "mean     24.283958     1.512298    57.721688    25.300875   \n",
       "std       5.224496     0.062982    10.222044     4.700071   \n",
       "min      13.000000     1.244000    33.500000    13.950000   \n",
       "25%      20.000000     1.473000    50.000000    21.950000   \n",
       "50%      24.000000     1.524000    57.000000    24.840000   \n",
       "75%      27.000000     1.549000    65.000000    27.990000   \n",
       "max      60.000000     1.803000   120.000000    52.420000   \n",
       "\n",
       "       Systolic Blood Pressure  Diastolic Blood Pressure         Para  \\\n",
       "count              3578.000000               3578.000000  3578.000000   \n",
       "mean                114.223030                 75.245947     0.681107   \n",
       "std                  11.915273                  8.476044     0.763133   \n",
       "min                  80.000000                 40.000000     0.000000   \n",
       "25%                 110.000000                 70.000000     0.000000   \n",
       "50%                 110.000000                 75.000000     1.000000   \n",
       "75%                 120.000000                 80.000000     1.000000   \n",
       "max                 200.000000                120.000000     4.000000   \n",
       "\n",
       "           Gravida  \n",
       "count  3578.000000  \n",
       "mean      1.889603  \n",
       "std       0.910504  \n",
       "min       0.000000  \n",
       "25%       1.000000  \n",
       "50%       2.000000  \n",
       "75%       3.000000  \n",
       "max       5.000000  "
      ]
     },
     "execution_count": 23,
     "metadata": {},
     "output_type": "execute_result"
    }
   ],
   "source": [
    "df.describe()"
   ]
  },
  {
   "cell_type": "code",
   "execution_count": 24,
   "id": "8aa13646",
   "metadata": {},
   "outputs": [
    {
     "data": {
      "text/html": [
       "<div>\n",
       "<style scoped>\n",
       "    .dataframe tbody tr th:only-of-type {\n",
       "        vertical-align: middle;\n",
       "    }\n",
       "\n",
       "    .dataframe tbody tr th {\n",
       "        vertical-align: top;\n",
       "    }\n",
       "\n",
       "    .dataframe thead th {\n",
       "        text-align: right;\n",
       "    }\n",
       "</style>\n",
       "<table border=\"1\" class=\"dataframe\">\n",
       "  <thead>\n",
       "    <tr style=\"text-align: right;\">\n",
       "      <th></th>\n",
       "      <th>Age</th>\n",
       "      <th>Height</th>\n",
       "      <th>Weight</th>\n",
       "      <th>BMI</th>\n",
       "      <th>Blood Group ( is Negative?)</th>\n",
       "      <th>Delivery Type</th>\n",
       "      <th>Systolic Blood Pressure</th>\n",
       "      <th>Diastolic Blood Pressure</th>\n",
       "      <th>Edema</th>\n",
       "      <th>Anemia</th>\n",
       "      <th>Jaundice</th>\n",
       "      <th>Diabetes</th>\n",
       "      <th>Risk</th>\n",
       "      <th>Para</th>\n",
       "      <th>Gravida</th>\n",
       "    </tr>\n",
       "  </thead>\n",
       "  <tbody>\n",
       "    <tr>\n",
       "      <th>0</th>\n",
       "      <td>25</td>\n",
       "      <td>1.4732</td>\n",
       "      <td>53.3</td>\n",
       "      <td>23.73</td>\n",
       "      <td>No</td>\n",
       "      <td>Normal</td>\n",
       "      <td>120</td>\n",
       "      <td>70</td>\n",
       "      <td>Normal</td>\n",
       "      <td>Low</td>\n",
       "      <td>No</td>\n",
       "      <td>No</td>\n",
       "      <td>No</td>\n",
       "      <td>2</td>\n",
       "      <td>3</td>\n",
       "    </tr>\n",
       "    <tr>\n",
       "      <th>1</th>\n",
       "      <td>30</td>\n",
       "      <td>1.5740</td>\n",
       "      <td>45.5</td>\n",
       "      <td>18.37</td>\n",
       "      <td>No</td>\n",
       "      <td>Normal</td>\n",
       "      <td>110</td>\n",
       "      <td>80</td>\n",
       "      <td>Normal</td>\n",
       "      <td>Normal</td>\n",
       "      <td>No</td>\n",
       "      <td>No</td>\n",
       "      <td>No</td>\n",
       "      <td>1</td>\n",
       "      <td>2</td>\n",
       "    </tr>\n",
       "    <tr>\n",
       "      <th>2</th>\n",
       "      <td>20</td>\n",
       "      <td>1.6250</td>\n",
       "      <td>52.2</td>\n",
       "      <td>19.77</td>\n",
       "      <td>No</td>\n",
       "      <td>No_delivary</td>\n",
       "      <td>120</td>\n",
       "      <td>70</td>\n",
       "      <td>Normal</td>\n",
       "      <td>Low</td>\n",
       "      <td>No</td>\n",
       "      <td>No</td>\n",
       "      <td>No</td>\n",
       "      <td>0</td>\n",
       "      <td>1</td>\n",
       "    </tr>\n",
       "    <tr>\n",
       "      <th>3</th>\n",
       "      <td>22</td>\n",
       "      <td>1.4480</td>\n",
       "      <td>48.5</td>\n",
       "      <td>23.14</td>\n",
       "      <td>No</td>\n",
       "      <td>No_delivary</td>\n",
       "      <td>110</td>\n",
       "      <td>80</td>\n",
       "      <td>Normal</td>\n",
       "      <td>Low</td>\n",
       "      <td>No</td>\n",
       "      <td>No</td>\n",
       "      <td>No</td>\n",
       "      <td>0</td>\n",
       "      <td>1</td>\n",
       "    </tr>\n",
       "    <tr>\n",
       "      <th>4</th>\n",
       "      <td>26</td>\n",
       "      <td>1.5240</td>\n",
       "      <td>50.0</td>\n",
       "      <td>21.53</td>\n",
       "      <td>No</td>\n",
       "      <td>No_delivary</td>\n",
       "      <td>110</td>\n",
       "      <td>70</td>\n",
       "      <td>Normal</td>\n",
       "      <td>Normal</td>\n",
       "      <td>No</td>\n",
       "      <td>No</td>\n",
       "      <td>No</td>\n",
       "      <td>0</td>\n",
       "      <td>1</td>\n",
       "    </tr>\n",
       "  </tbody>\n",
       "</table>\n",
       "</div>"
      ],
      "text/plain": [
       "   Age  Height  Weight    BMI Blood Group ( is Negative?) Delivery Type  \\\n",
       "0   25  1.4732    53.3  23.73                          No        Normal   \n",
       "1   30  1.5740    45.5  18.37                          No        Normal   \n",
       "2   20  1.6250    52.2  19.77                          No   No_delivary   \n",
       "3   22  1.4480    48.5  23.14                          No   No_delivary   \n",
       "4   26  1.5240    50.0  21.53                          No   No_delivary   \n",
       "\n",
       "   Systolic Blood Pressure  Diastolic Blood Pressure   Edema  Anemia Jaundice  \\\n",
       "0                      120                        70  Normal     Low       No   \n",
       "1                      110                        80  Normal  Normal       No   \n",
       "2                      120                        70  Normal     Low       No   \n",
       "3                      110                        80  Normal     Low       No   \n",
       "4                      110                        70  Normal  Normal       No   \n",
       "\n",
       "  Diabetes Risk  Para  Gravida  \n",
       "0       No   No     2        3  \n",
       "1       No   No     1        2  \n",
       "2       No   No     0        1  \n",
       "3       No   No     0        1  \n",
       "4       No   No     0        1  "
      ]
     },
     "execution_count": 24,
     "metadata": {},
     "output_type": "execute_result"
    }
   ],
   "source": [
    "df.head()"
   ]
  },
  {
   "cell_type": "code",
   "execution_count": 25,
   "id": "251341de",
   "metadata": {},
   "outputs": [
    {
     "data": {
      "text/plain": [
       "<AxesSubplot:>"
      ]
     },
     "execution_count": 25,
     "metadata": {},
     "output_type": "execute_result"
    },
    {
     "data": {
      "image/png": "[encoded data removed]",
      "text/plain": [
       "<Figure size 864x864 with 2 Axes>"
      ]
     },
     "metadata": {
      "needs_background": "light"
     },
     "output_type": "display_data"
    }
   ],
   "source": [
    "import seaborn as sn\n",
    "plt.figure(figsize=(12,12))\n",
    "sn.heatmap(df.corr(),annot=True)"
   ]
  },
  {
   "cell_type": "code",
   "execution_count": 26,
   "id": "44e588a0",
   "metadata": {},
   "outputs": [],
   "source": [
    "df['Blood Group ( is Negative?)'] = df['Blood Group ( is Negative?)'].map({'Yes':1,'No':0})\n",
    "df['Jaundice'] = df['Jaundice'].map({'Yes':1,'No':0})\n",
    "df['Diabetes'] = df['Diabetes'].map({'Yes':1,'No':0})\n",
    "df['Risk'] = df['Risk'].map({'Yes':1,'No':0})\n",
    "df['Delivery Type'] = df['Delivery Type'].map({'No_delivary':0,'Normal':1,'C-section':2})\n",
    "df['Edema'] = df['Edema'].map({'Normal':0,'High':2,'Modarate':1})\n",
    "df['Anemia'] = df['Anemia'].map({'Normal':0,'Low':1,'Very-Low':2})"
   ]
  },
  {
   "cell_type": "code",
   "execution_count": 27,
   "id": "89c5d723",
   "metadata": {},
   "outputs": [
    {
     "data": {
      "text/plain": [
       "Index(['Age', 'Height', 'Weight', 'BMI', 'Blood Group ( is Negative?)',\n",
       "       'Delivery Type', 'Systolic Blood Pressure', 'Diastolic Blood Pressure',\n",
       "       'Edema', 'Anemia', 'Jaundice', 'Diabetes', 'Risk', 'Para', 'Gravida'],\n",
       "      dtype='object')"
      ]
     },
     "execution_count": 27,
     "metadata": {},
     "output_type": "execute_result"
    }
   ],
   "source": [
    "x = df.drop(['Risk'],axis=1)\n",
    "y = df.Risk\n",
    "df.columns"
   ]
  },
  {
   "cell_type": "code",
   "execution_count": 28,
   "id": "bd768e97",
   "metadata": {},
   "outputs": [
    {
     "data": {
      "image/png": "[encoded data removed]",
      "text/plain": [
       "<Figure size 432x288 with 1 Axes>"
      ]
     },
     "metadata": {
      "needs_background": "light"
     },
     "output_type": "display_data"
    }
   ],
   "source": [
    "from sklearn.feature_selection import mutual_info_classif\n",
    "\n",
    "im = mutual_info_classif(x,y)\n",
    "fe_im= pd.Series(im,['Age', 'Height', 'Weight', 'BMI', 'Blood Group ( is Negative?)',\n",
    "       'Delivery Type', 'Systolic Blood Pressure', 'Diastolic Blood Pressure',\n",
    "       'Edema', 'Anemia', 'Jaundice', 'Diabetes',])\n",
    "fe_im.plot(kind='barh')\n",
    "plt.show()"
   ]
  },
  {
   "cell_type": "code",
   "execution_count": null,
   "id": "54b177ca",
   "metadata": {},
   "outputs": [],
   "source": []
  },
  {
   "cell_type": "code",
   "execution_count": 29,
   "id": "6f4ec589",
   "metadata": {},
   "outputs": [],
   "source": [
    "for i in range(len(df)):\n",
    "    df.loc[i,'parity'] = df.loc[i,'Gravida'] - df.loc[i,'Para']\n",
    "df['parity'] = df['parity'].astype(int)"
   ]
  },
  {
   "cell_type": "code",
   "execution_count": 30,
   "id": "1a4b9f78",
   "metadata": {},
   "outputs": [],
   "source": [
    "df = df.drop(['Height','Weight','Para','Gravida'],axis=1)"
   ]
  },
  {
   "cell_type": "code",
   "execution_count": 31,
   "id": "7ab086d2",
   "metadata": {},
   "outputs": [
    {
     "data": {
      "image/png": "[encoded data removed]",
      "text/plain": [
       "<Figure size 1440x576 with 1 Axes>"
      ]
     },
     "metadata": {
      "needs_background": "light"
     },
     "output_type": "display_data"
    }
   ],
   "source": [
    "df.drop('Risk', axis=1).corrwith(df.Risk).plot(kind='bar', grid=True, figsize=(20, 8)\n",
    ", title=\"Correlation with Pregnancy Risk\",color=\"Purple\");"
   ]
  },
  {
   "cell_type": "code",
   "execution_count": 32,
   "id": "81f85db2",
   "metadata": {},
   "outputs": [
    {
     "data": {
      "text/plain": [
       "120    1003\n",
       "110     882\n",
       "100     370\n",
       "130     229\n",
       "140      64\n",
       "125      17\n",
       "90       10\n",
       "115       4\n",
       "150       3\n",
       "105       2\n",
       "Name: Systolic Blood Pressure, dtype: int64"
      ]
     },
     "execution_count": 32,
     "metadata": {},
     "output_type": "execute_result"
    }
   ],
   "source": [
    "df['Systolic Blood Pressure'][df['Risk']==0].value_counts()"
   ]
  },
  {
   "cell_type": "code",
   "execution_count": 33,
   "id": "ff7ad674",
   "metadata": {},
   "outputs": [
    {
     "data": {
      "text/plain": [
       "120    1003\n",
       "110     882\n",
       "100     370\n",
       "130     229\n",
       "140      64\n",
       "125      17\n",
       "90       10\n",
       "115       4\n",
       "150       3\n",
       "105       2\n",
       "Name: Systolic Blood Pressure, dtype: int64"
      ]
     },
     "execution_count": 33,
     "metadata": {},
     "output_type": "execute_result"
    }
   ],
   "source": [
    "df['Systolic Blood Pressure'][df['Risk']==0].value_counts()"
   ]
  },
  {
   "cell_type": "code",
   "execution_count": 34,
   "id": "e7a9b679",
   "metadata": {},
   "outputs": [
    {
     "data": {
      "text/html": [
       "<div>\n",
       "<style scoped>\n",
       "    .dataframe tbody tr th:only-of-type {\n",
       "        vertical-align: middle;\n",
       "    }\n",
       "\n",
       "    .dataframe tbody tr th {\n",
       "        vertical-align: top;\n",
       "    }\n",
       "\n",
       "    .dataframe thead th {\n",
       "        text-align: right;\n",
       "    }\n",
       "</style>\n",
       "<table border=\"1\" class=\"dataframe\">\n",
       "  <thead>\n",
       "    <tr style=\"text-align: right;\">\n",
       "      <th></th>\n",
       "      <th>Systolic Blood Pressure</th>\n",
       "      <th>Risk</th>\n",
       "    </tr>\n",
       "  </thead>\n",
       "  <tbody>\n",
       "    <tr>\n",
       "      <th>0</th>\n",
       "      <td>120</td>\n",
       "      <td>0</td>\n",
       "    </tr>\n",
       "    <tr>\n",
       "      <th>1</th>\n",
       "      <td>110</td>\n",
       "      <td>0</td>\n",
       "    </tr>\n",
       "    <tr>\n",
       "      <th>2</th>\n",
       "      <td>120</td>\n",
       "      <td>0</td>\n",
       "    </tr>\n",
       "    <tr>\n",
       "      <th>3</th>\n",
       "      <td>110</td>\n",
       "      <td>0</td>\n",
       "    </tr>\n",
       "    <tr>\n",
       "      <th>4</th>\n",
       "      <td>110</td>\n",
       "      <td>0</td>\n",
       "    </tr>\n",
       "    <tr>\n",
       "      <th>...</th>\n",
       "      <td>...</td>\n",
       "      <td>...</td>\n",
       "    </tr>\n",
       "    <tr>\n",
       "      <th>3573</th>\n",
       "      <td>110</td>\n",
       "      <td>0</td>\n",
       "    </tr>\n",
       "    <tr>\n",
       "      <th>3574</th>\n",
       "      <td>120</td>\n",
       "      <td>1</td>\n",
       "    </tr>\n",
       "    <tr>\n",
       "      <th>3575</th>\n",
       "      <td>120</td>\n",
       "      <td>1</td>\n",
       "    </tr>\n",
       "    <tr>\n",
       "      <th>3576</th>\n",
       "      <td>110</td>\n",
       "      <td>0</td>\n",
       "    </tr>\n",
       "    <tr>\n",
       "      <th>3577</th>\n",
       "      <td>120</td>\n",
       "      <td>0</td>\n",
       "    </tr>\n",
       "  </tbody>\n",
       "</table>\n",
       "<p>3578 rows × 2 columns</p>\n",
       "</div>"
      ],
      "text/plain": [
       "      Systolic Blood Pressure  Risk\n",
       "0                         120     0\n",
       "1                         110     0\n",
       "2                         120     0\n",
       "3                         110     0\n",
       "4                         110     0\n",
       "...                       ...   ...\n",
       "3573                      110     0\n",
       "3574                      120     1\n",
       "3575                      120     1\n",
       "3576                      110     0\n",
       "3577                      120     0\n",
       "\n",
       "[3578 rows x 2 columns]"
      ]
     },
     "execution_count": 34,
     "metadata": {},
     "output_type": "execute_result"
    }
   ],
   "source": [
    "newdf = df.drop(['Age','BMI', 'Blood Group ( is Negative?)',\n",
    "       'Delivery Type', 'Diastolic Blood Pressure',\n",
    "       'Edema', 'Anemia', 'Jaundice', 'Diabetes','parity'],axis=1)\n",
    "newdf"
   ]
  },
  {
   "cell_type": "code",
   "execution_count": 35,
   "id": "a0ec0c83",
   "metadata": {},
   "outputs": [
    {
     "data": {
      "text/plain": [
       "<pandas.core.groupby.generic.DataFrameGroupBy object at 0x0000029BA4A6F820>"
      ]
     },
     "execution_count": 35,
     "metadata": {},
     "output_type": "execute_result"
    }
   ],
   "source": [
    "newdf.groupby(['Risk'])"
   ]
  },
  {
   "cell_type": "code",
   "execution_count": null,
   "id": "09200ca0",
   "metadata": {},
   "outputs": [],
   "source": []
  }
 ],
 "metadata": {
  "kernelspec": {
   "display_name": "Python 3 (ipykernel)",
   "language": "python",
   "name": "python3"
  },
  "language_info": {
   "codemirror_mode": {
    "name": "ipython",
    "version": 3
   },
   "file_extension": ".py",
   "mimetype": "text/x-python",
   "name": "python",
   "nbconvert_exporter": "python",
   "pygments_lexer": "ipython3",
   "version": "3.9.12"
  }
 },
 "nbformat": 4,
 "nbformat_minor": 5
}
