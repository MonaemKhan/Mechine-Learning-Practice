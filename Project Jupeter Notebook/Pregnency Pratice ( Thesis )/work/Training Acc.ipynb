{
 "cells": [
  {
   "cell_type": "code",
   "execution_count": 1,
   "id": "0fb60d16",
   "metadata": {},
   "outputs": [],
   "source": [
    "import warnings\n",
    "warnings.filterwarnings(\"ignore\")\n",
    "import pandas as pd\n",
    "import numpy as np\n",
    "\n",
    "from sklearn.svm import SVC\n",
    "from sklearn.tree import DecisionTreeClassifier\n",
    "from sklearn.neighbors import KNeighborsClassifier\n",
    "from sklearn.ensemble import RandomForestClassifier\n",
    "from sklearn.linear_model import LogisticRegression\n",
    "from sklearn.naive_bayes import GaussianNB,MultinomialNB\n",
    "\n",
    "from sklearn.metrics import accuracy_score, f1_score, precision_score, recall_score\n",
    "from sklearn.metrics import ConfusionMatrixDisplay,confusion_matrix,roc_auc_score,roc_curve,auc\n",
    "import matplotlib.pyplot as plt\n",
    "%matplotlib inline\n",
    "import seaborn as sns"
   ]
  },
  {
   "cell_type": "code",
   "execution_count": 2,
   "id": "d20ed9a7",
   "metadata": {},
   "outputs": [
    {
     "data": {
      "text/html": [
       "<div>\n",
       "<style scoped>\n",
       "    .dataframe tbody tr th:only-of-type {\n",
       "        vertical-align: middle;\n",
       "    }\n",
       "\n",
       "    .dataframe tbody tr th {\n",
       "        vertical-align: top;\n",
       "    }\n",
       "\n",
       "    .dataframe thead th {\n",
       "        text-align: right;\n",
       "    }\n",
       "</style>\n",
       "<table border=\"1\" class=\"dataframe\">\n",
       "  <thead>\n",
       "    <tr style=\"text-align: right;\">\n",
       "      <th></th>\n",
       "      <th>Age</th>\n",
       "      <th>Height</th>\n",
       "      <th>Weight</th>\n",
       "      <th>BMI</th>\n",
       "      <th>Blood Group ( is Negative?)</th>\n",
       "      <th>Delivery Type</th>\n",
       "      <th>Systolic Blood Pressure</th>\n",
       "      <th>Diastolic Blood Pressure</th>\n",
       "      <th>Edema</th>\n",
       "      <th>Anemia</th>\n",
       "      <th>Jaundice</th>\n",
       "      <th>Diabetes</th>\n",
       "      <th>Risk</th>\n",
       "      <th>Para</th>\n",
       "      <th>Gravida</th>\n",
       "    </tr>\n",
       "  </thead>\n",
       "  <tbody>\n",
       "    <tr>\n",
       "      <th>2104</th>\n",
       "      <td>30</td>\n",
       "      <td>1.524</td>\n",
       "      <td>68.0</td>\n",
       "      <td>29.28</td>\n",
       "      <td>No</td>\n",
       "      <td>Normal</td>\n",
       "      <td>120</td>\n",
       "      <td>60</td>\n",
       "      <td>Normal</td>\n",
       "      <td>Normal</td>\n",
       "      <td>No</td>\n",
       "      <td>No</td>\n",
       "      <td>Yes</td>\n",
       "      <td>2</td>\n",
       "      <td>3</td>\n",
       "    </tr>\n",
       "    <tr>\n",
       "      <th>260</th>\n",
       "      <td>26</td>\n",
       "      <td>1.549</td>\n",
       "      <td>65.3</td>\n",
       "      <td>27.22</td>\n",
       "      <td>No</td>\n",
       "      <td>No_delivary</td>\n",
       "      <td>110</td>\n",
       "      <td>80</td>\n",
       "      <td>Normal</td>\n",
       "      <td>Low</td>\n",
       "      <td>No</td>\n",
       "      <td>No</td>\n",
       "      <td>No</td>\n",
       "      <td>0</td>\n",
       "      <td>1</td>\n",
       "    </tr>\n",
       "    <tr>\n",
       "      <th>1567</th>\n",
       "      <td>21</td>\n",
       "      <td>1.498</td>\n",
       "      <td>46.7</td>\n",
       "      <td>20.79</td>\n",
       "      <td>No</td>\n",
       "      <td>Normal</td>\n",
       "      <td>90</td>\n",
       "      <td>80</td>\n",
       "      <td>Normal</td>\n",
       "      <td>Low</td>\n",
       "      <td>No</td>\n",
       "      <td>No</td>\n",
       "      <td>Yes</td>\n",
       "      <td>1</td>\n",
       "      <td>3</td>\n",
       "    </tr>\n",
       "    <tr>\n",
       "      <th>2326</th>\n",
       "      <td>19</td>\n",
       "      <td>1.524</td>\n",
       "      <td>63.0</td>\n",
       "      <td>27.13</td>\n",
       "      <td>No</td>\n",
       "      <td>Normal</td>\n",
       "      <td>120</td>\n",
       "      <td>70</td>\n",
       "      <td>Normal</td>\n",
       "      <td>Normal</td>\n",
       "      <td>No</td>\n",
       "      <td>No</td>\n",
       "      <td>No</td>\n",
       "      <td>1</td>\n",
       "      <td>2</td>\n",
       "    </tr>\n",
       "    <tr>\n",
       "      <th>1772</th>\n",
       "      <td>32</td>\n",
       "      <td>1.499</td>\n",
       "      <td>65.5</td>\n",
       "      <td>29.17</td>\n",
       "      <td>No</td>\n",
       "      <td>Normal</td>\n",
       "      <td>100</td>\n",
       "      <td>60</td>\n",
       "      <td>Normal</td>\n",
       "      <td>Normal</td>\n",
       "      <td>No</td>\n",
       "      <td>No</td>\n",
       "      <td>No</td>\n",
       "      <td>1</td>\n",
       "      <td>2</td>\n",
       "    </tr>\n",
       "  </tbody>\n",
       "</table>\n",
       "</div>"
      ],
      "text/plain": [
       "      Age  Height  Weight    BMI Blood Group ( is Negative?) Delivery Type  \\\n",
       "2104   30   1.524    68.0  29.28                          No        Normal   \n",
       "260    26   1.549    65.3  27.22                          No   No_delivary   \n",
       "1567   21   1.498    46.7  20.79                          No        Normal   \n",
       "2326   19   1.524    63.0  27.13                          No        Normal   \n",
       "1772   32   1.499    65.5  29.17                          No        Normal   \n",
       "\n",
       "      Systolic Blood Pressure  Diastolic Blood Pressure   Edema  Anemia  \\\n",
       "2104                      120                        60  Normal  Normal   \n",
       "260                       110                        80  Normal     Low   \n",
       "1567                       90                        80  Normal     Low   \n",
       "2326                      120                        70  Normal  Normal   \n",
       "1772                      100                        60  Normal  Normal   \n",
       "\n",
       "     Jaundice Diabetes Risk  Para  Gravida  \n",
       "2104       No       No  Yes     2        3  \n",
       "260        No       No   No     0        1  \n",
       "1567       No       No  Yes     1        3  \n",
       "2326       No       No   No     1        2  \n",
       "1772       No       No   No     1        2  "
      ]
     },
     "execution_count": 2,
     "metadata": {},
     "output_type": "execute_result"
    }
   ],
   "source": [
    "df1 = pd.read_csv('final.csv')\n",
    "result = []\n",
    "df1.sample(5)"
   ]
  },
  {
   "cell_type": "code",
   "execution_count": 3,
   "id": "2f5b0255",
   "metadata": {},
   "outputs": [],
   "source": [
    "for i in range(len(df1)):\n",
    "    df1.loc[i,'parity'] = df1.loc[i,'Gravida'] - df1.loc[i,'Para']\n",
    "df1['parity'] = df1['parity'].astype(int)"
   ]
  },
  {
   "cell_type": "code",
   "execution_count": 4,
   "id": "256fcc6e",
   "metadata": {},
   "outputs": [
    {
     "data": {
      "text/html": [
       "<div>\n",
       "<style scoped>\n",
       "    .dataframe tbody tr th:only-of-type {\n",
       "        vertical-align: middle;\n",
       "    }\n",
       "\n",
       "    .dataframe tbody tr th {\n",
       "        vertical-align: top;\n",
       "    }\n",
       "\n",
       "    .dataframe thead th {\n",
       "        text-align: right;\n",
       "    }\n",
       "</style>\n",
       "<table border=\"1\" class=\"dataframe\">\n",
       "  <thead>\n",
       "    <tr style=\"text-align: right;\">\n",
       "      <th></th>\n",
       "      <th>Age</th>\n",
       "      <th>Height</th>\n",
       "      <th>Weight</th>\n",
       "      <th>BMI</th>\n",
       "      <th>Blood Group ( is Negative?)</th>\n",
       "      <th>Delivery Type</th>\n",
       "      <th>Systolic Blood Pressure</th>\n",
       "      <th>Diastolic Blood Pressure</th>\n",
       "      <th>Edema</th>\n",
       "      <th>Anemia</th>\n",
       "      <th>Jaundice</th>\n",
       "      <th>Diabetes</th>\n",
       "      <th>Risk</th>\n",
       "      <th>parity</th>\n",
       "    </tr>\n",
       "  </thead>\n",
       "  <tbody>\n",
       "    <tr>\n",
       "      <th>0</th>\n",
       "      <td>25</td>\n",
       "      <td>1.4732</td>\n",
       "      <td>53.3</td>\n",
       "      <td>23.73</td>\n",
       "      <td>No</td>\n",
       "      <td>Normal</td>\n",
       "      <td>120</td>\n",
       "      <td>70</td>\n",
       "      <td>Normal</td>\n",
       "      <td>Low</td>\n",
       "      <td>No</td>\n",
       "      <td>No</td>\n",
       "      <td>No</td>\n",
       "      <td>1</td>\n",
       "    </tr>\n",
       "    <tr>\n",
       "      <th>1</th>\n",
       "      <td>30</td>\n",
       "      <td>1.5740</td>\n",
       "      <td>45.5</td>\n",
       "      <td>18.37</td>\n",
       "      <td>No</td>\n",
       "      <td>Normal</td>\n",
       "      <td>110</td>\n",
       "      <td>80</td>\n",
       "      <td>Normal</td>\n",
       "      <td>Normal</td>\n",
       "      <td>No</td>\n",
       "      <td>No</td>\n",
       "      <td>No</td>\n",
       "      <td>1</td>\n",
       "    </tr>\n",
       "    <tr>\n",
       "      <th>2</th>\n",
       "      <td>20</td>\n",
       "      <td>1.6250</td>\n",
       "      <td>52.2</td>\n",
       "      <td>19.77</td>\n",
       "      <td>No</td>\n",
       "      <td>No_delivary</td>\n",
       "      <td>120</td>\n",
       "      <td>70</td>\n",
       "      <td>Normal</td>\n",
       "      <td>Low</td>\n",
       "      <td>No</td>\n",
       "      <td>No</td>\n",
       "      <td>No</td>\n",
       "      <td>1</td>\n",
       "    </tr>\n",
       "    <tr>\n",
       "      <th>3</th>\n",
       "      <td>22</td>\n",
       "      <td>1.4480</td>\n",
       "      <td>48.5</td>\n",
       "      <td>23.14</td>\n",
       "      <td>No</td>\n",
       "      <td>No_delivary</td>\n",
       "      <td>110</td>\n",
       "      <td>80</td>\n",
       "      <td>Normal</td>\n",
       "      <td>Low</td>\n",
       "      <td>No</td>\n",
       "      <td>No</td>\n",
       "      <td>No</td>\n",
       "      <td>1</td>\n",
       "    </tr>\n",
       "    <tr>\n",
       "      <th>4</th>\n",
       "      <td>26</td>\n",
       "      <td>1.5240</td>\n",
       "      <td>50.0</td>\n",
       "      <td>21.53</td>\n",
       "      <td>No</td>\n",
       "      <td>No_delivary</td>\n",
       "      <td>110</td>\n",
       "      <td>70</td>\n",
       "      <td>Normal</td>\n",
       "      <td>Normal</td>\n",
       "      <td>No</td>\n",
       "      <td>No</td>\n",
       "      <td>No</td>\n",
       "      <td>1</td>\n",
       "    </tr>\n",
       "  </tbody>\n",
       "</table>\n",
       "</div>"
      ],
      "text/plain": [
       "   Age  Height  Weight    BMI Blood Group ( is Negative?) Delivery Type  \\\n",
       "0   25  1.4732    53.3  23.73                          No        Normal   \n",
       "1   30  1.5740    45.5  18.37                          No        Normal   \n",
       "2   20  1.6250    52.2  19.77                          No   No_delivary   \n",
       "3   22  1.4480    48.5  23.14                          No   No_delivary   \n",
       "4   26  1.5240    50.0  21.53                          No   No_delivary   \n",
       "\n",
       "   Systolic Blood Pressure  Diastolic Blood Pressure   Edema  Anemia Jaundice  \\\n",
       "0                      120                        70  Normal     Low       No   \n",
       "1                      110                        80  Normal  Normal       No   \n",
       "2                      120                        70  Normal     Low       No   \n",
       "3                      110                        80  Normal     Low       No   \n",
       "4                      110                        70  Normal  Normal       No   \n",
       "\n",
       "  Diabetes Risk  parity  \n",
       "0       No   No       1  \n",
       "1       No   No       1  \n",
       "2       No   No       1  \n",
       "3       No   No       1  \n",
       "4       No   No       1  "
      ]
     },
     "execution_count": 4,
     "metadata": {},
     "output_type": "execute_result"
    }
   ],
   "source": [
    "df1 = df1.drop(['Para','Gravida'],axis=1)\n",
    "df1.head(5)"
   ]
  },
  {
   "cell_type": "code",
   "execution_count": 5,
   "id": "a3519518",
   "metadata": {},
   "outputs": [],
   "source": [
    "df1['Blood Group ( is Negative?)'] = df1['Blood Group ( is Negative?)'].map({'Yes':1,'No':0})\n",
    "df1['Jaundice'] = df1['Jaundice'].map({'Yes':1,'No':0})\n",
    "df1['Diabetes'] = df1['Diabetes'].map({'Yes':1,'No':0})\n",
    "df1['Risk'] = df1['Risk'].map({'Yes':1,'No':0})\n",
    "df1['Delivery Type'] = df1['Delivery Type'].map({'No_delivary':0,'Normal':1,'C-section':2})\n",
    "df1['Edema'] = df1['Edema'].map({'Normal':0,'High':1,'Modarate':2})\n",
    "df1['Anemia'] = df1['Anemia'].map({'Normal':0,'Low':1,'Very-Low':2})"
   ]
  },
  {
   "cell_type": "code",
   "execution_count": 6,
   "id": "fdae6090",
   "metadata": {},
   "outputs": [],
   "source": [
    "length = int(len(df1)*0.70)\n",
    "\n",
    "train = df1[:length]\n",
    "test = df1[length:]\n",
    "\n",
    "x_train = train.drop(['Risk'],axis=1)\n",
    "y_train = train.Risk\n",
    "\n",
    "x_test = test.drop(['Risk'],axis=1)\n",
    "y_test = test.Risk"
   ]
  },
  {
   "cell_type": "code",
   "execution_count": 7,
   "id": "396e3256",
   "metadata": {},
   "outputs": [
    {
     "name": "stdout",
     "output_type": "stream",
     "text": [
      "precision :  0.99\n",
      "recall :  1.0\n",
      "f1_masure :  0.99\n",
      "se :  1.0\n",
      "sp :  1.0\n",
      "acc :  1.0\n",
      "auc :  1.0\n"
     ]
    },
    {
     "data": {
      "text/plain": [
       "<Figure size 144x216 with 0 Axes>"
      ]
     },
     "metadata": {},
     "output_type": "display_data"
    },
    {
     "data": {
      "image/png": "[encoded data removed]",
      "text/plain": [
       "<Figure size 432x288 with 1 Axes>"
      ]
     },
     "metadata": {
      "needs_background": "light"
     },
     "output_type": "display_data"
    },
    {
     "name": "stdout",
     "output_type": "stream",
     "text": [
      "Yes as Yes (TP):  679\n",
      "No as No   (TN):  1820\n",
      "No as Yes  (FP):  4\n",
      "yes as No  (FN):  1\n"
     ]
    }
   ],
   "source": [
    "clf = RandomForestClassifier().fit(x_train,y_train)\n",
    "RF_pred = clf.predict(x_train)\n",
    "RF_proba = clf.predict_proba(x_train)\n",
    "tn, fp, fn, tp = confusion_matrix(y_train,RF_pred).ravel()\n",
    "\n",
    "precision = round((tp/(tp+fp)),2)\n",
    "recall = round((tp/(tp+fn)),2)\n",
    "f1_masure = round((2*precision*recall)/(precision+recall),2)\n",
    "se = round((tp/(tp+fn)),2)\n",
    "sp = round((tn/(tn+fp)),2)\n",
    "acc = round(((tp+tn)/len(y_train)),2)\n",
    "auc_ = round((roc_auc_score(y_train,RF_proba[:,1])),2)\n",
    "\n",
    "print(\"precision : \",precision)\n",
    "print(\"recall : \",recall)\n",
    "print(\"f1_masure : \",f1_masure)\n",
    "print(\"se : \",se)\n",
    "print(\"sp : \",sp)\n",
    "print(\"acc : \",acc)\n",
    "print(\"auc : \",auc_)\n",
    "\n",
    "result.append({\n",
    "    'Classifier': 'Random Forest',\n",
    "    'Precision': precision,\n",
    "    'Se/Recall':recall,\n",
    "    'Sp':sp,\n",
    "    'F1-Measure':f1_masure,\n",
    "    'Accuracy':acc,\n",
    "    'AUC':auc_\n",
    "})\n",
    "plt.figure(figsize=(2, 3))\n",
    "ConfusionMatrixDisplay.from_predictions(y_train,RF_pred,display_labels=['No','Yes'],colorbar = False)\n",
    "plt.title('Random Forest Training Data Confusion Matrix')\n",
    "plt.show()\n",
    "print('Yes as Yes (TP): ',tp)\n",
    "print('No as No   (TN): ',tn)\n",
    "print('No as Yes  (FP): ',fp)\n",
    "print('yes as No  (FN): ',fn)"
   ]
  },
  {
   "cell_type": "code",
   "execution_count": 8,
   "id": "0bb6079a",
   "metadata": {},
   "outputs": [
    {
     "name": "stdout",
     "output_type": "stream",
     "text": [
      "precision :  0.97\n",
      "recall :  0.88\n",
      "f1_masure :  0.92\n",
      "se :  0.88\n",
      "sp :  0.99\n",
      "acc :  0.96\n",
      "auc :  0.95\n"
     ]
    },
    {
     "data": {
      "text/plain": [
       "<Figure size 144x216 with 0 Axes>"
      ]
     },
     "metadata": {},
     "output_type": "display_data"
    },
    {
     "data": {
      "image/png": "[encoded data removed]",
      "text/plain": [
       "<Figure size 432x288 with 1 Axes>"
      ]
     },
     "metadata": {
      "needs_background": "light"
     },
     "output_type": "display_data"
    },
    {
     "name": "stdout",
     "output_type": "stream",
     "text": [
      "Yes as Yes (TP):  601\n",
      "No as No   (TN):  1808\n",
      "No as Yes  (FP):  16\n",
      "yes as No  (FN):  79\n"
     ]
    }
   ],
   "source": [
    "clf = DecisionTreeClassifier(max_depth=15).fit(x_train,y_train)\n",
    "DT_pred = clf.predict(x_train)\n",
    "DT_proba = clf.predict_proba(x_train)\n",
    "tn, fp, fn, tp = confusion_matrix(y_train,DT_pred).ravel()\n",
    "\n",
    "precision = round((tp/(tp+fp)),2)\n",
    "recall = round((tp/(tp+fn)),2)\n",
    "f1_masure = round((2*precision*recall)/(precision+recall),2)\n",
    "se = round((tp/(tp+fn)),2)\n",
    "sp = round((tn/(tn+fp)),2)\n",
    "acc = round(((tp+tn)/len(y_train)),2)\n",
    "auc_ = round((roc_auc_score(y_train,DT_proba[:,1])),2)\n",
    "\n",
    "print(\"precision : \",precision)\n",
    "print(\"recall : \",recall)\n",
    "print(\"f1_masure : \",f1_masure)\n",
    "print(\"se : \",se)\n",
    "print(\"sp : \",sp)\n",
    "print(\"acc : \",acc)\n",
    "print(\"auc : \",auc_)\n",
    "\n",
    "\n",
    "result.append({\n",
    "    'Classifier': 'Decision Tree',\n",
    "    'Precision': precision,\n",
    "    'Se/Recall':recall,\n",
    "    'Sp':sp,\n",
    "    'F1-Measure':f1_masure,\n",
    "    'Accuracy':acc,\n",
    "    'AUC':auc_\n",
    "})\n",
    "plt.figure(figsize=(2, 3))\n",
    "ConfusionMatrixDisplay.from_predictions(y_train,DT_pred,display_labels=['No','Yes'],colorbar = False)\n",
    "plt.title('Decision Tree Training Data Confusion Matrix')\n",
    "plt.show()\n",
    "print('Yes as Yes (TP): ',tp)\n",
    "print('No as No   (TN): ',tn)\n",
    "print('No as Yes  (FP): ',fp)\n",
    "print('yes as No  (FN): ',fn)"
   ]
  },
  {
   "cell_type": "code",
   "execution_count": 9,
   "id": "add9d200",
   "metadata": {},
   "outputs": [
    {
     "name": "stdout",
     "output_type": "stream",
     "text": [
      "precision :  0.85\n",
      "recall :  0.35\n",
      "f1_masure :  0.5\n",
      "se :  0.35\n",
      "sp :  0.98\n",
      "acc :  0.81\n",
      "auc :  0.77\n"
     ]
    },
    {
     "data": {
      "text/plain": [
       "<Figure size 144x216 with 0 Axes>"
      ]
     },
     "metadata": {},
     "output_type": "display_data"
    },
    {
     "data": {
      "image/png": "[encoded data removed]",
      "text/plain": [
       "<Figure size 432x288 with 1 Axes>"
      ]
     },
     "metadata": {
      "needs_background": "light"
     },
     "output_type": "display_data"
    },
    {
     "name": "stdout",
     "output_type": "stream",
     "text": [
      "Yes as Yes (TP):  235\n",
      "No as No   (TN):  1784\n",
      "No as Yes  (FP):  40\n",
      "yes as No  (FN):  445\n"
     ]
    }
   ],
   "source": [
    "clf = LogisticRegression().fit(x_train,y_train)\n",
    "Los_pred = clf.predict(x_train)\n",
    "Los_proba = clf.predict_proba(x_train)\n",
    "tn, fp, fn, tp = confusion_matrix(y_train,Los_pred).ravel()\n",
    "\n",
    "precision = round((tp/(tp+fp)),2)\n",
    "recall = round((tp/(tp+fn)),2)\n",
    "f1_masure = round((2*precision*recall)/(precision+recall),2)\n",
    "se = round((tp/(tp+fn)),2)\n",
    "sp = round((tn/(tn+fp)),2)\n",
    "acc = round(((tp+tn)/len(y_train)),2)\n",
    "auc_ = round((roc_auc_score(y_train,Los_proba[:,1])),2)\n",
    "\n",
    "print(\"precision : \",precision)\n",
    "print(\"recall : \",recall)\n",
    "print(\"f1_masure : \",f1_masure)\n",
    "print(\"se : \",se)\n",
    "print(\"sp : \",sp)\n",
    "print(\"acc : \",acc)\n",
    "print(\"auc : \",auc_)\n",
    "\n",
    "\n",
    "result.append({\n",
    "    'Classifier': 'Logistic Regression',\n",
    "    'Precision': precision,\n",
    "    'Se/Recall':recall,\n",
    "    'Sp':sp,\n",
    "    'F1-Measure':f1_masure,\n",
    "    'Accuracy':acc,\n",
    "    'AUC':auc_\n",
    "})\n",
    "plt.figure(figsize=(2, 3))\n",
    "ConfusionMatrixDisplay.from_predictions(y_train,Los_pred,display_labels=['No','Yes'],colorbar = False)\n",
    "plt.title('Logistic Regression Training Data Confusion Matrix')\n",
    "plt.show()\n",
    "print('Yes as Yes (TP): ',tp)\n",
    "print('No as No   (TN): ',tn)\n",
    "print('No as Yes  (FP): ',fp)\n",
    "print('yes as No  (FN): ',fn)"
   ]
  },
  {
   "cell_type": "code",
   "execution_count": 10,
   "id": "b86ce275",
   "metadata": {},
   "outputs": [
    {
     "name": "stdout",
     "output_type": "stream",
     "text": [
      "precision :  0.87\n",
      "recall :  0.46\n",
      "f1_masure :  0.6\n",
      "se :  0.46\n",
      "sp :  0.97\n",
      "acc :  0.84\n",
      "auc :  0.9\n"
     ]
    },
    {
     "data": {
      "text/plain": [
       "<Figure size 144x216 with 0 Axes>"
      ]
     },
     "metadata": {},
     "output_type": "display_data"
    },
    {
     "data": {
      "image/png": "[encoded data removed]",
      "text/plain": [
       "<Figure size 432x288 with 1 Axes>"
      ]
     },
     "metadata": {
      "needs_background": "light"
     },
     "output_type": "display_data"
    },
    {
     "name": "stdout",
     "output_type": "stream",
     "text": [
      "Yes as Yes (TP):  315\n",
      "No as No   (TN):  1778\n",
      "No as Yes  (FP):  46\n",
      "yes as No  (FN):  365\n"
     ]
    }
   ],
   "source": [
    "clf = KNeighborsClassifier(n_neighbors=15).fit(x_train,y_train)\n",
    "Knn_pred = clf.predict(x_train)\n",
    "Knn_proba = clf.predict_proba(x_train)\n",
    "tn, fp, fn, tp = confusion_matrix(y_train,Knn_pred).ravel()\n",
    "\n",
    "precision = round((tp/(tp+fp)),2)\n",
    "recall = round((tp/(tp+fn)),2)\n",
    "f1_masure = round((2*precision*recall)/(precision+recall),2)\n",
    "se = round((tp/(tp+fn)),2)\n",
    "sp = round((tn/(tn+fp)),2)\n",
    "acc = round(((tp+tn)/len(y_train)),2)\n",
    "auc_ = round((roc_auc_score(y_train,Knn_proba[:,1])),2)\n",
    "\n",
    "print(\"precision : \",precision)\n",
    "print(\"recall : \",recall)\n",
    "print(\"f1_masure : \",f1_masure)\n",
    "print(\"se : \",se)\n",
    "print(\"sp : \",sp)\n",
    "print(\"acc : \",acc)\n",
    "print(\"auc : \",auc_)\n",
    "\n",
    "\n",
    "result.append({\n",
    "    'Classifier': 'K-Nearest Neighbors',\n",
    "    'Precision': precision,\n",
    "    'Se/Recall':recall,\n",
    "    'Sp':sp,\n",
    "    'F1-Measure':f1_masure,\n",
    "    'Accuracy':acc,\n",
    "    'AUC':auc_\n",
    "})\n",
    "plt.figure(figsize=(2, 3))\n",
    "ConfusionMatrixDisplay.from_predictions(y_train,Knn_pred,display_labels=['No','Yes'],colorbar = False)\n",
    "plt.title('K-Nearest Neighbors Training Data Confusion Matrix')\n",
    "plt.show()\n",
    "print('Yes as Yes (TP): ',tp)\n",
    "print('No as No   (TN): ',tn)\n",
    "print('No as Yes  (FP): ',fp)\n",
    "print('yes as No  (FN): ',fn)"
   ]
  },
  {
   "cell_type": "code",
   "execution_count": 11,
   "id": "46216de4",
   "metadata": {},
   "outputs": [
    {
     "name": "stdout",
     "output_type": "stream",
     "text": [
      "precision :  0.94\n",
      "recall :  0.11\n",
      "f1_masure :  0.2\n",
      "se :  0.11\n",
      "sp :  1.0\n",
      "acc :  0.76\n",
      "auc :  0.82\n"
     ]
    },
    {
     "data": {
      "text/plain": [
       "<Figure size 144x216 with 0 Axes>"
      ]
     },
     "metadata": {},
     "output_type": "display_data"
    },
    {
     "data": {
      "image/png": "[encoded data removed]",
      "text/plain": [
       "<Figure size 432x288 with 1 Axes>"
      ]
     },
     "metadata": {
      "needs_background": "light"
     },
     "output_type": "display_data"
    },
    {
     "name": "stdout",
     "output_type": "stream",
     "text": [
      "Yes as Yes (TP):  74\n",
      "No as No   (TN):  1819\n",
      "No as Yes  (FP):  5\n",
      "yes as No  (FN):  606\n"
     ]
    }
   ],
   "source": [
    "clf = SVC(probability=True).fit(x_train,y_train)\n",
    "svm_pred = clf.predict(x_train)\n",
    "svm_proba = clf.predict_proba(x_train)\n",
    "tn, fp, fn, tp = confusion_matrix(y_train,svm_pred).ravel()\n",
    "\n",
    "precision = round((tp/(tp+fp)),2)\n",
    "recall = round((tp/(tp+fn)),2)\n",
    "f1_masure = round((2*precision*recall)/(precision+recall),2)\n",
    "se = round((tp/(tp+fn)),2)\n",
    "sp = round((tn/(tn+fp)),2)\n",
    "acc = round(((tp+tn)/len(y_train)),2)\n",
    "auc_ = round((roc_auc_score(y_train,svm_proba[:,1])),2)\n",
    "\n",
    "print(\"precision : \",precision)\n",
    "print(\"recall : \",recall)\n",
    "print(\"f1_masure : \",f1_masure)\n",
    "print(\"se : \",se)\n",
    "print(\"sp : \",sp)\n",
    "print(\"acc : \",acc)\n",
    "print(\"auc : \",auc_)\n",
    "\n",
    "\n",
    "result.append({\n",
    "    'Classifier': 'SVM',\n",
    "    'Precision': precision,\n",
    "    'Se/Recall':recall,\n",
    "    'Sp':sp,\n",
    "    'F1-Measure':f1_masure,\n",
    "    'Accuracy':acc,\n",
    "    'AUC':auc_\n",
    "})\n",
    "plt.figure(figsize=(2, 3))\n",
    "ConfusionMatrixDisplay.from_predictions(y_train,svm_pred,display_labels=['No','Yes'],colorbar = False)\n",
    "plt.title('SVM Confusion Training Data Matrix')\n",
    "plt.show()\n",
    "print('Yes as Yes (TP): ',tp)\n",
    "print('No as No   (TN): ',tn)\n",
    "print('No as Yes  (FP): ',fp)\n",
    "print('yes as No  (FN): ',fn)"
   ]
  },
  {
   "cell_type": "code",
   "execution_count": 12,
   "id": "67007828",
   "metadata": {},
   "outputs": [
    {
     "name": "stdout",
     "output_type": "stream",
     "text": [
      "precision :  0.96\n",
      "recall :  0.16\n",
      "f1_masure :  0.27\n",
      "se :  0.16\n",
      "sp :  1.0\n",
      "acc :  0.77\n",
      "auc :  0.58\n"
     ]
    },
    {
     "data": {
      "text/plain": [
       "<Figure size 144x216 with 0 Axes>"
      ]
     },
     "metadata": {},
     "output_type": "display_data"
    },
    {
     "data": {
      "image/png": "[encoded data removed]",
      "text/plain": [
       "<Figure size 432x288 with 1 Axes>"
      ]
     },
     "metadata": {
      "needs_background": "light"
     },
     "output_type": "display_data"
    },
    {
     "name": "stdout",
     "output_type": "stream",
     "text": [
      "Yes as Yes (TP):  110\n",
      "No as No   (TN):  1820\n",
      "No as Yes  (FP):  4\n",
      "yes as No  (FN):  570\n"
     ]
    }
   ],
   "source": [
    "clf = GaussianNB().fit(x_train,y_train)\n",
    "gnb_pred = clf.predict(x_train)\n",
    "gnb_proba = clf.predict_proba(x_train)\n",
    "tn, fp, fn, tp = confusion_matrix(y_train,gnb_pred).ravel()\n",
    "\n",
    "precision = round((tp/(tp+fp)),2)\n",
    "recall = round((tp/(tp+fn)),2)\n",
    "f1_masure = round((2*precision*recall)/(precision+recall),2)\n",
    "se = round((tp/(tp+fn)),2)\n",
    "sp = round((tn/(tn+fp)),2)\n",
    "acc = round(((tp+tn)/len(y_train)),2)\n",
    "auc_ = round((roc_auc_score(y_train,gnb_pred)),2)\n",
    "\n",
    "print(\"precision : \",precision)\n",
    "print(\"recall : \",recall)\n",
    "print(\"f1_masure : \",f1_masure)\n",
    "print(\"se : \",se)\n",
    "print(\"sp : \",sp)\n",
    "print(\"acc : \",acc)\n",
    "print(\"auc : \",auc_)\n",
    "\n",
    "\n",
    "result.append({\n",
    "    'Classifier': 'Naive Baye\\'s',\n",
    "    'Precision': precision,\n",
    "    'Se/Recall':recall,\n",
    "    'Sp':sp,\n",
    "    'F1-Measure':f1_masure,\n",
    "    'Accuracy':acc,\n",
    "    'AUC':auc_\n",
    "})\n",
    "plt.figure(figsize=(2, 3))\n",
    "ConfusionMatrixDisplay.from_predictions(y_train,gnb_pred,display_labels=['No','Yes'],colorbar = False)\n",
    "plt.title('Naive Baye\\'s Training Data Confusion Matrix')\n",
    "plt.show()\n",
    "print('Yes as Yes (TP): ',tp)\n",
    "print('No as No   (TN): ',tn)\n",
    "print('No as Yes  (FP): ',fp)\n",
    "print('yes as No  (FN): ',fn)"
   ]
  },
  {
   "cell_type": "code",
   "execution_count": 13,
   "id": "6c4a3238",
   "metadata": {},
   "outputs": [
    {
     "data": {
      "text/html": [
       "<div>\n",
       "<style scoped>\n",
       "    .dataframe tbody tr th:only-of-type {\n",
       "        vertical-align: middle;\n",
       "    }\n",
       "\n",
       "    .dataframe tbody tr th {\n",
       "        vertical-align: top;\n",
       "    }\n",
       "\n",
       "    .dataframe thead th {\n",
       "        text-align: right;\n",
       "    }\n",
       "</style>\n",
       "<table border=\"1\" class=\"dataframe\">\n",
       "  <thead>\n",
       "    <tr style=\"text-align: right;\">\n",
       "      <th></th>\n",
       "      <th>Classifier</th>\n",
       "      <th>Precision</th>\n",
       "      <th>Se/Recall</th>\n",
       "      <th>Sp</th>\n",
       "      <th>F1-Measure</th>\n",
       "      <th>Accuracy</th>\n",
       "      <th>AUC</th>\n",
       "    </tr>\n",
       "  </thead>\n",
       "  <tbody>\n",
       "    <tr>\n",
       "      <th>0</th>\n",
       "      <td>Random Forest</td>\n",
       "      <td>0.99</td>\n",
       "      <td>1.00</td>\n",
       "      <td>1.00</td>\n",
       "      <td>0.99</td>\n",
       "      <td>1.00</td>\n",
       "      <td>1.00</td>\n",
       "    </tr>\n",
       "    <tr>\n",
       "      <th>1</th>\n",
       "      <td>Decision Tree</td>\n",
       "      <td>0.97</td>\n",
       "      <td>0.88</td>\n",
       "      <td>0.99</td>\n",
       "      <td>0.92</td>\n",
       "      <td>0.96</td>\n",
       "      <td>0.95</td>\n",
       "    </tr>\n",
       "    <tr>\n",
       "      <th>2</th>\n",
       "      <td>Logistic Regression</td>\n",
       "      <td>0.85</td>\n",
       "      <td>0.35</td>\n",
       "      <td>0.98</td>\n",
       "      <td>0.50</td>\n",
       "      <td>0.81</td>\n",
       "      <td>0.77</td>\n",
       "    </tr>\n",
       "    <tr>\n",
       "      <th>3</th>\n",
       "      <td>K-Nearest Neighbors</td>\n",
       "      <td>0.87</td>\n",
       "      <td>0.46</td>\n",
       "      <td>0.97</td>\n",
       "      <td>0.60</td>\n",
       "      <td>0.84</td>\n",
       "      <td>0.90</td>\n",
       "    </tr>\n",
       "    <tr>\n",
       "      <th>4</th>\n",
       "      <td>SVM</td>\n",
       "      <td>0.94</td>\n",
       "      <td>0.11</td>\n",
       "      <td>1.00</td>\n",
       "      <td>0.20</td>\n",
       "      <td>0.76</td>\n",
       "      <td>0.82</td>\n",
       "    </tr>\n",
       "    <tr>\n",
       "      <th>5</th>\n",
       "      <td>Naive Baye's</td>\n",
       "      <td>0.96</td>\n",
       "      <td>0.16</td>\n",
       "      <td>1.00</td>\n",
       "      <td>0.27</td>\n",
       "      <td>0.77</td>\n",
       "      <td>0.58</td>\n",
       "    </tr>\n",
       "  </tbody>\n",
       "</table>\n",
       "</div>"
      ],
      "text/plain": [
       "            Classifier  Precision  Se/Recall    Sp  F1-Measure  Accuracy   AUC\n",
       "0        Random Forest       0.99       1.00  1.00        0.99      1.00  1.00\n",
       "1        Decision Tree       0.97       0.88  0.99        0.92      0.96  0.95\n",
       "2  Logistic Regression       0.85       0.35  0.98        0.50      0.81  0.77\n",
       "3  K-Nearest Neighbors       0.87       0.46  0.97        0.60      0.84  0.90\n",
       "4                  SVM       0.94       0.11  1.00        0.20      0.76  0.82\n",
       "5         Naive Baye's       0.96       0.16  1.00        0.27      0.77  0.58"
      ]
     },
     "execution_count": 13,
     "metadata": {},
     "output_type": "execute_result"
    }
   ],
   "source": [
    "pd.DataFrame(result)"
   ]
  },
  {
   "cell_type": "code",
   "execution_count": 14,
   "id": "1e97fd3a",
   "metadata": {},
   "outputs": [
    {
     "data": {
      "image/png": "[encoded data removed]",
      "text/plain": [
       "<Figure size 700x500 with 1 Axes>"
      ]
     },
     "metadata": {
      "needs_background": "light"
     },
     "output_type": "display_data"
    }
   ],
   "source": [
    "plt.figure(figsize=(7, 5), dpi=100)\n",
    "\n",
    "def plot_roc(name,pred,i):\n",
    "    fpr, tpr, threshold = roc_curve(y_train, pred)\n",
    "    auc_ = auc(fpr,tpr)\n",
    "    \n",
    "    if i%2==0:\n",
    "        plt.plot(fpr,tpr, linestyle='--', label = name+' (auc = %0.2f)' % auc_)\n",
    "    else:\n",
    "        plt.plot(fpr,tpr, linestyle='-', label = name+' (auc = %0.2f)' % auc_)\n",
    "\n",
    "plot_roc('Random Forest',RF_proba[:,1],1)\n",
    "plot_roc('Decision Tree',DT_proba[:,1],2)\n",
    "plot_roc('Logistic Regression',Los_proba[:,1],3)\n",
    "plot_roc('K-Nearest Neighbors',Knn_proba[:,1],4)\n",
    "plot_roc('SVM',svm_proba[:,1],5)\n",
    "plot_roc('Naive Baye\\'s',gnb_proba[:,1],6)\n",
    "\n",
    "\n",
    "plt.plot([0,1],[0,1],'k--',label = 'Reference Line')\n",
    "plt.xlim([0,1])\n",
    "plt.ylim([0,1.05])\n",
    "plt.title('“Receiver Operating Characteristic(ROC) Curve” of training data')\n",
    "plt.xlabel('False Positive Rate (FPR) -->')\n",
    "plt.ylabel('True Positive Rate (TPR) -->')\n",
    "\n",
    "plt.legend()\n",
    "\n",
    "plt.savefig('./con_mat/all trainng result ROC-AUC.jpg')\n",
    "plt.show()"
   ]
  },
  {
   "cell_type": "code",
   "execution_count": null,
   "id": "3b21d834",
   "metadata": {},
   "outputs": [],
   "source": []
  }
 ],
 "metadata": {
  "kernelspec": {
   "display_name": "Python 3 (ipykernel)",
   "language": "python",
   "name": "python3"
  },
  "language_info": {
   "codemirror_mode": {
    "name": "ipython",
    "version": 3
   },
   "file_extension": ".py",
   "mimetype": "text/x-python",
   "name": "python",
   "nbconvert_exporter": "python",
   "pygments_lexer": "ipython3",
   "version": "3.9.12"
  }
 },
 "nbformat": 4,
 "nbformat_minor": 5
}
