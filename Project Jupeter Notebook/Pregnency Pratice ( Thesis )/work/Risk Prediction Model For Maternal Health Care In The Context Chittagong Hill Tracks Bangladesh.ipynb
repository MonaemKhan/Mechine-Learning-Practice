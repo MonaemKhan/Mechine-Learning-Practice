{
 "cells": [
  {
   "cell_type": "code",
   "execution_count": 1,
   "id": "376bbc14",
   "metadata": {},
   "outputs": [],
   "source": [
    "import warnings\n",
    "warnings.filterwarnings(\"ignore\")\n",
    "import pandas as pd\n",
    "import numpy as np\n",
    "from sklearn.metrics import make_scorer,accuracy_score\n",
    "from sklearn.model_selection import cross_val_score\n",
    "from sklearn.metrics import classification_report"
   ]
  },
  {
   "cell_type": "code",
   "execution_count": 2,
   "id": "cf79a835",
   "metadata": {},
   "outputs": [
    {
     "data": {
      "text/plain": [
       "(3578, 15)"
      ]
     },
     "execution_count": 2,
     "metadata": {},
     "output_type": "execute_result"
    }
   ],
   "source": [
    "df = pd.read_csv('final.csv')\n",
    "df.shape"
   ]
  },
  {
   "cell_type": "code",
   "execution_count": 3,
   "id": "44724fbb",
   "metadata": {},
   "outputs": [
    {
     "data": {
      "text/html": [
       "<div>\n",
       "<style scoped>\n",
       "    .dataframe tbody tr th:only-of-type {\n",
       "        vertical-align: middle;\n",
       "    }\n",
       "\n",
       "    .dataframe tbody tr th {\n",
       "        vertical-align: top;\n",
       "    }\n",
       "\n",
       "    .dataframe thead th {\n",
       "        text-align: right;\n",
       "    }\n",
       "</style>\n",
       "<table border=\"1\" class=\"dataframe\">\n",
       "  <thead>\n",
       "    <tr style=\"text-align: right;\">\n",
       "      <th></th>\n",
       "      <th>Age</th>\n",
       "      <th>Height</th>\n",
       "      <th>Weight</th>\n",
       "      <th>BMI</th>\n",
       "      <th>Blood Group ( is Negative?)</th>\n",
       "      <th>Delivery Type</th>\n",
       "      <th>Systolic Blood Pressure</th>\n",
       "      <th>Diastolic Blood Pressure</th>\n",
       "      <th>Edema</th>\n",
       "      <th>Anemia</th>\n",
       "      <th>Jaundice</th>\n",
       "      <th>Diabetes</th>\n",
       "      <th>Risk</th>\n",
       "      <th>Para</th>\n",
       "      <th>Gravida</th>\n",
       "    </tr>\n",
       "  </thead>\n",
       "  <tbody>\n",
       "    <tr>\n",
       "      <th>2719</th>\n",
       "      <td>21</td>\n",
       "      <td>1.574</td>\n",
       "      <td>54.0</td>\n",
       "      <td>21.77</td>\n",
       "      <td>No</td>\n",
       "      <td>No_delivary</td>\n",
       "      <td>110</td>\n",
       "      <td>70</td>\n",
       "      <td>Normal</td>\n",
       "      <td>Normal</td>\n",
       "      <td>No</td>\n",
       "      <td>No</td>\n",
       "      <td>No</td>\n",
       "      <td>0</td>\n",
       "      <td>0</td>\n",
       "    </tr>\n",
       "    <tr>\n",
       "      <th>538</th>\n",
       "      <td>21</td>\n",
       "      <td>1.549</td>\n",
       "      <td>72.0</td>\n",
       "      <td>29.99</td>\n",
       "      <td>No</td>\n",
       "      <td>No_delivary</td>\n",
       "      <td>120</td>\n",
       "      <td>80</td>\n",
       "      <td>Modarate</td>\n",
       "      <td>Normal</td>\n",
       "      <td>No</td>\n",
       "      <td>No</td>\n",
       "      <td>No</td>\n",
       "      <td>0</td>\n",
       "      <td>1</td>\n",
       "    </tr>\n",
       "    <tr>\n",
       "      <th>1444</th>\n",
       "      <td>20</td>\n",
       "      <td>1.524</td>\n",
       "      <td>60.0</td>\n",
       "      <td>25.83</td>\n",
       "      <td>No</td>\n",
       "      <td>No_delivary</td>\n",
       "      <td>110</td>\n",
       "      <td>80</td>\n",
       "      <td>High</td>\n",
       "      <td>Normal</td>\n",
       "      <td>No</td>\n",
       "      <td>No</td>\n",
       "      <td>Yes</td>\n",
       "      <td>0</td>\n",
       "      <td>1</td>\n",
       "    </tr>\n",
       "    <tr>\n",
       "      <th>1028</th>\n",
       "      <td>23</td>\n",
       "      <td>1.549</td>\n",
       "      <td>66.0</td>\n",
       "      <td>27.49</td>\n",
       "      <td>No</td>\n",
       "      <td>No_delivary</td>\n",
       "      <td>120</td>\n",
       "      <td>80</td>\n",
       "      <td>Normal</td>\n",
       "      <td>Normal</td>\n",
       "      <td>No</td>\n",
       "      <td>No</td>\n",
       "      <td>No</td>\n",
       "      <td>0</td>\n",
       "      <td>1</td>\n",
       "    </tr>\n",
       "    <tr>\n",
       "      <th>2861</th>\n",
       "      <td>26</td>\n",
       "      <td>1.422</td>\n",
       "      <td>43.0</td>\n",
       "      <td>21.25</td>\n",
       "      <td>No</td>\n",
       "      <td>No_delivary</td>\n",
       "      <td>140</td>\n",
       "      <td>80</td>\n",
       "      <td>Normal</td>\n",
       "      <td>Normal</td>\n",
       "      <td>No</td>\n",
       "      <td>No</td>\n",
       "      <td>Yes</td>\n",
       "      <td>0</td>\n",
       "      <td>3</td>\n",
       "    </tr>\n",
       "  </tbody>\n",
       "</table>\n",
       "</div>"
      ],
      "text/plain": [
       "      Age  Height  Weight    BMI Blood Group ( is Negative?) Delivery Type  \\\n",
       "2719   21   1.574    54.0  21.77                          No   No_delivary   \n",
       "538    21   1.549    72.0  29.99                          No   No_delivary   \n",
       "1444   20   1.524    60.0  25.83                          No   No_delivary   \n",
       "1028   23   1.549    66.0  27.49                          No   No_delivary   \n",
       "2861   26   1.422    43.0  21.25                          No   No_delivary   \n",
       "\n",
       "      Systolic Blood Pressure  Diastolic Blood Pressure     Edema  Anemia  \\\n",
       "2719                      110                        70    Normal  Normal   \n",
       "538                       120                        80  Modarate  Normal   \n",
       "1444                      110                        80      High  Normal   \n",
       "1028                      120                        80    Normal  Normal   \n",
       "2861                      140                        80    Normal  Normal   \n",
       "\n",
       "     Jaundice Diabetes Risk  Para  Gravida  \n",
       "2719       No       No   No     0        0  \n",
       "538        No       No   No     0        1  \n",
       "1444       No       No  Yes     0        1  \n",
       "1028       No       No   No     0        1  \n",
       "2861       No       No  Yes     0        3  "
      ]
     },
     "execution_count": 3,
     "metadata": {},
     "output_type": "execute_result"
    }
   ],
   "source": [
    "df.sample(5)"
   ]
  },
  {
   "cell_type": "code",
   "execution_count": 4,
   "id": "bad464c4",
   "metadata": {},
   "outputs": [
    {
     "data": {
      "text/html": [
       "<div>\n",
       "<style scoped>\n",
       "    .dataframe tbody tr th:only-of-type {\n",
       "        vertical-align: middle;\n",
       "    }\n",
       "\n",
       "    .dataframe tbody tr th {\n",
       "        vertical-align: top;\n",
       "    }\n",
       "\n",
       "    .dataframe thead th {\n",
       "        text-align: right;\n",
       "    }\n",
       "</style>\n",
       "<table border=\"1\" class=\"dataframe\">\n",
       "  <thead>\n",
       "    <tr style=\"text-align: right;\">\n",
       "      <th></th>\n",
       "      <th>Age</th>\n",
       "      <th>Height</th>\n",
       "      <th>Weight</th>\n",
       "      <th>BMI</th>\n",
       "      <th>Blood Group ( is Negative?)</th>\n",
       "      <th>Delivery Type</th>\n",
       "      <th>Systolic Blood Pressure</th>\n",
       "      <th>Diastolic Blood Pressure</th>\n",
       "      <th>Edema</th>\n",
       "      <th>Anemia</th>\n",
       "      <th>Jaundice</th>\n",
       "      <th>Diabetes</th>\n",
       "      <th>Risk</th>\n",
       "      <th>Para</th>\n",
       "      <th>Gravida</th>\n",
       "    </tr>\n",
       "  </thead>\n",
       "  <tbody>\n",
       "    <tr>\n",
       "      <th>0</th>\n",
       "      <td>26</td>\n",
       "      <td>1.346</td>\n",
       "      <td>95.0</td>\n",
       "      <td>52.42</td>\n",
       "      <td>No</td>\n",
       "      <td>Normal</td>\n",
       "      <td>120</td>\n",
       "      <td>80</td>\n",
       "      <td>Normal</td>\n",
       "      <td>Normal</td>\n",
       "      <td>No</td>\n",
       "      <td>No</td>\n",
       "      <td>Yes</td>\n",
       "      <td>1</td>\n",
       "      <td>2</td>\n",
       "    </tr>\n",
       "    <tr>\n",
       "      <th>1</th>\n",
       "      <td>26</td>\n",
       "      <td>1.346</td>\n",
       "      <td>95.0</td>\n",
       "      <td>52.42</td>\n",
       "      <td>No</td>\n",
       "      <td>Normal</td>\n",
       "      <td>140</td>\n",
       "      <td>60</td>\n",
       "      <td>Normal</td>\n",
       "      <td>Normal</td>\n",
       "      <td>No</td>\n",
       "      <td>No</td>\n",
       "      <td>Yes</td>\n",
       "      <td>1</td>\n",
       "      <td>2</td>\n",
       "    </tr>\n",
       "    <tr>\n",
       "      <th>2</th>\n",
       "      <td>18</td>\n",
       "      <td>1.244</td>\n",
       "      <td>78.0</td>\n",
       "      <td>50.40</td>\n",
       "      <td>No</td>\n",
       "      <td>Normal</td>\n",
       "      <td>120</td>\n",
       "      <td>70</td>\n",
       "      <td>Normal</td>\n",
       "      <td>Normal</td>\n",
       "      <td>No</td>\n",
       "      <td>No</td>\n",
       "      <td>Yes</td>\n",
       "      <td>1</td>\n",
       "      <td>3</td>\n",
       "    </tr>\n",
       "    <tr>\n",
       "      <th>3</th>\n",
       "      <td>26</td>\n",
       "      <td>1.270</td>\n",
       "      <td>77.0</td>\n",
       "      <td>47.74</td>\n",
       "      <td>No</td>\n",
       "      <td>Normal</td>\n",
       "      <td>100</td>\n",
       "      <td>60</td>\n",
       "      <td>Normal</td>\n",
       "      <td>Normal</td>\n",
       "      <td>No</td>\n",
       "      <td>No</td>\n",
       "      <td>Yes</td>\n",
       "      <td>1</td>\n",
       "      <td>2</td>\n",
       "    </tr>\n",
       "    <tr>\n",
       "      <th>4</th>\n",
       "      <td>26</td>\n",
       "      <td>1.270</td>\n",
       "      <td>77.0</td>\n",
       "      <td>47.74</td>\n",
       "      <td>No</td>\n",
       "      <td>Normal</td>\n",
       "      <td>110</td>\n",
       "      <td>80</td>\n",
       "      <td>Normal</td>\n",
       "      <td>Normal</td>\n",
       "      <td>No</td>\n",
       "      <td>No</td>\n",
       "      <td>Yes</td>\n",
       "      <td>1</td>\n",
       "      <td>2</td>\n",
       "    </tr>\n",
       "  </tbody>\n",
       "</table>\n",
       "</div>"
      ],
      "text/plain": [
       "   Age  Height  Weight    BMI Blood Group ( is Negative?) Delivery Type  \\\n",
       "0   26   1.346    95.0  52.42                          No        Normal   \n",
       "1   26   1.346    95.0  52.42                          No        Normal   \n",
       "2   18   1.244    78.0  50.40                          No        Normal   \n",
       "3   26   1.270    77.0  47.74                          No        Normal   \n",
       "4   26   1.270    77.0  47.74                          No        Normal   \n",
       "\n",
       "   Systolic Blood Pressure  Diastolic Blood Pressure   Edema  Anemia Jaundice  \\\n",
       "0                      120                        80  Normal  Normal       No   \n",
       "1                      140                        60  Normal  Normal       No   \n",
       "2                      120                        70  Normal  Normal       No   \n",
       "3                      100                        60  Normal  Normal       No   \n",
       "4                      110                        80  Normal  Normal       No   \n",
       "\n",
       "  Diabetes Risk  Para  Gravida  \n",
       "0       No  Yes     1        2  \n",
       "1       No  Yes     1        2  \n",
       "2       No  Yes     1        3  \n",
       "3       No  Yes     1        2  \n",
       "4       No  Yes     1        2  "
      ]
     },
     "execution_count": 4,
     "metadata": {},
     "output_type": "execute_result"
    }
   ],
   "source": [
    "df1 = df.copy()\n",
    "df1.head(5)"
   ]
  },
  {
   "cell_type": "markdown",
   "id": "ed662988",
   "metadata": {},
   "source": [
    "# Data Analysis"
   ]
  },
  {
   "cell_type": "code",
   "execution_count": 5,
   "id": "1abe107c",
   "metadata": {},
   "outputs": [],
   "source": [
    "import seaborn as sns\n",
    "import matplotlib.pyplot as plt\n",
    "%matplotlib inline"
   ]
  },
  {
   "cell_type": "code",
   "execution_count": 6,
   "id": "b0e95954",
   "metadata": {},
   "outputs": [
    {
     "data": {
      "text/plain": [
       "['Age',\n",
       " 'Height',\n",
       " 'Blood Group ( is Negative?)',\n",
       " 'Delivery Type',\n",
       " 'Systolic Blood Pressure',\n",
       " 'Diastolic Blood Pressure',\n",
       " 'Edema',\n",
       " 'Anemia',\n",
       " 'Jaundice',\n",
       " 'Diabetes',\n",
       " 'Para',\n",
       " 'Gravida']"
      ]
     },
     "execution_count": 6,
     "metadata": {},
     "output_type": "execute_result"
    }
   ],
   "source": [
    "columns = ['Age', 'Height', 'Blood Group ( is Negative?)',\n",
    "       'Delivery Type', 'Systolic Blood Pressure', 'Diastolic Blood Pressure',\n",
    "       'Edema', 'Anemia', 'Jaundice', 'Diabetes','Para','Gravida']\n",
    "columns"
   ]
  },
  {
   "cell_type": "code",
   "execution_count": 7,
   "id": "ec5fa7a9",
   "metadata": {},
   "outputs": [
    {
     "data": {
      "text/plain": [
       "No     2589\n",
       "Yes     989\n",
       "Name: Risk, dtype: int64"
      ]
     },
     "execution_count": 7,
     "metadata": {},
     "output_type": "execute_result"
    }
   ],
   "source": [
    "df1['Risk'].value_counts()"
   ]
  },
  {
   "cell_type": "code",
   "execution_count": 8,
   "id": "e56cf825",
   "metadata": {},
   "outputs": [
    {
     "data": {
      "image/png": "[encoded data removed]",
      "text/plain": [
       "<Figure size 720x360 with 1 Axes>"
      ]
     },
     "metadata": {},
     "output_type": "display_data"
    }
   ],
   "source": [
    "plt.figure(figsize=(10,5))\n",
    "plt.pie(df1['Risk'].value_counts(), labels=['No Risk','Risk'], autopct = \"%0.2f\",explode = [0.1,0],colors = ['#c9ee82','#8293ee'])\n",
    "plt.legend(title = \"Pragnency Risk Prediction\")\n",
    "plt.show()"
   ]
  },
  {
   "cell_type": "code",
   "execution_count": 9,
   "id": "c010263b",
   "metadata": {},
   "outputs": [],
   "source": [
    "# for x in columns:\n",
    "#     plt.figure(figsize=(15,5))\n",
    "#     plt.title(x)\n",
    "#     sns.countplot(data=df1, x=x, hue=\"Risk\")\n",
    "# plt.tight_layout()"
   ]
  },
  {
   "cell_type": "code",
   "execution_count": 10,
   "id": "03427960",
   "metadata": {},
   "outputs": [
    {
     "data": {
      "image/png": "[encoded data removed]",
      "text/plain": [
       "<Figure size 864x432 with 2 Axes>"
      ]
     },
     "metadata": {
      "needs_background": "light"
     },
     "output_type": "display_data"
    }
   ],
   "source": [
    "plt.figure(figsize=(12,6))\n",
    "plt.title(\"Co-relation between independent variable\")\n",
    "sns.heatmap(df1.corr(),annot=True)\n",
    "plt.show()"
   ]
  },
  {
   "cell_type": "markdown",
   "id": "8654f576",
   "metadata": {},
   "source": [
    "# Data Preprocessing"
   ]
  },
  {
   "cell_type": "code",
   "execution_count": 11,
   "id": "144600d8",
   "metadata": {},
   "outputs": [
    {
     "data": {
      "text/plain": [
       "Age                              int64\n",
       "Height                         float64\n",
       "Weight                         float64\n",
       "BMI                            float64\n",
       "Blood Group ( is Negative?)     object\n",
       "Delivery Type                   object\n",
       "Systolic Blood Pressure          int64\n",
       "Diastolic Blood Pressure         int64\n",
       "Edema                           object\n",
       "Anemia                          object\n",
       "Jaundice                        object\n",
       "Diabetes                        object\n",
       "Risk                            object\n",
       "Para                             int64\n",
       "Gravida                          int64\n",
       "dtype: object"
      ]
     },
     "execution_count": 11,
     "metadata": {},
     "output_type": "execute_result"
    }
   ],
   "source": [
    "df1.dtypes"
   ]
  },
  {
   "cell_type": "code",
   "execution_count": 12,
   "id": "274885d0",
   "metadata": {},
   "outputs": [
    {
     "data": {
      "text/plain": [
       "Age                            0\n",
       "Height                         0\n",
       "Weight                         0\n",
       "BMI                            0\n",
       "Blood Group ( is Negative?)    0\n",
       "Delivery Type                  0\n",
       "Systolic Blood Pressure        0\n",
       "Diastolic Blood Pressure       0\n",
       "Edema                          0\n",
       "Anemia                         0\n",
       "Jaundice                       0\n",
       "Diabetes                       0\n",
       "Risk                           0\n",
       "Para                           0\n",
       "Gravida                        0\n",
       "dtype: int64"
      ]
     },
     "execution_count": 12,
     "metadata": {},
     "output_type": "execute_result"
    }
   ],
   "source": [
    "df1.isna().sum()"
   ]
  },
  {
   "cell_type": "code",
   "execution_count": 13,
   "id": "ef88dc2f",
   "metadata": {},
   "outputs": [],
   "source": [
    "# df1.loc[df1.Height.isna()]"
   ]
  },
  {
   "cell_type": "code",
   "execution_count": 14,
   "id": "1beca459",
   "metadata": {},
   "outputs": [
    {
     "data": {
      "text/plain": [
       "Int64Index([], dtype='int64')"
      ]
     },
     "execution_count": 14,
     "metadata": {},
     "output_type": "execute_result"
    }
   ],
   "source": [
    "height_nan_index = df1['Height'].index[df1['Height'].apply(np.isnan)]\n",
    "height_nan_index"
   ]
  },
  {
   "cell_type": "code",
   "execution_count": 15,
   "id": "b16c2ed8",
   "metadata": {},
   "outputs": [],
   "source": [
    "df1.Height = df1.Height.fillna(df1.Height.mean())"
   ]
  },
  {
   "cell_type": "code",
   "execution_count": 16,
   "id": "6f2962f4",
   "metadata": {},
   "outputs": [
    {
     "data": {
      "text/plain": [
       "0"
      ]
     },
     "execution_count": 16,
     "metadata": {},
     "output_type": "execute_result"
    }
   ],
   "source": [
    "df1.Height.isna().sum()"
   ]
  },
  {
   "cell_type": "code",
   "execution_count": 17,
   "id": "5677a805",
   "metadata": {},
   "outputs": [],
   "source": [
    "for i in height_nan_index:\n",
    "    df1.BMI[i] = (round((float(df1.Weight[i]) / df1.Height[i] ** 2), 2))"
   ]
  },
  {
   "cell_type": "code",
   "execution_count": 18,
   "id": "a166926a",
   "metadata": {},
   "outputs": [
    {
     "data": {
      "text/plain": [
       "Age                            0\n",
       "Height                         0\n",
       "Weight                         0\n",
       "BMI                            0\n",
       "Blood Group ( is Negative?)    0\n",
       "Delivery Type                  0\n",
       "Systolic Blood Pressure        0\n",
       "Diastolic Blood Pressure       0\n",
       "Edema                          0\n",
       "Anemia                         0\n",
       "Jaundice                       0\n",
       "Diabetes                       0\n",
       "Risk                           0\n",
       "Para                           0\n",
       "Gravida                        0\n",
       "dtype: int64"
      ]
     },
     "execution_count": 18,
     "metadata": {},
     "output_type": "execute_result"
    }
   ],
   "source": [
    "df1.isna().sum()"
   ]
  },
  {
   "cell_type": "code",
   "execution_count": 19,
   "id": "b0633be0",
   "metadata": {},
   "outputs": [
    {
     "data": {
      "text/plain": [
       "Int64Index([], dtype='int64')"
      ]
     },
     "execution_count": 19,
     "metadata": {},
     "output_type": "execute_result"
    }
   ],
   "source": [
    "bmi_nan_index = df1['BMI'].index[df1['BMI'].apply(np.isnan)]\n",
    "bmi_nan_index"
   ]
  },
  {
   "cell_type": "code",
   "execution_count": 20,
   "id": "895997dd",
   "metadata": {},
   "outputs": [],
   "source": [
    "for i in bmi_nan_index:\n",
    "    df1.BMI[i] = (round((float(df1.Weight[i]) / df1.Height[i] ** 2), 2))"
   ]
  },
  {
   "cell_type": "code",
   "execution_count": 21,
   "id": "3f74dd17",
   "metadata": {},
   "outputs": [
    {
     "data": {
      "text/plain": [
       "Age                            0\n",
       "Height                         0\n",
       "Weight                         0\n",
       "BMI                            0\n",
       "Blood Group ( is Negative?)    0\n",
       "Delivery Type                  0\n",
       "Systolic Blood Pressure        0\n",
       "Diastolic Blood Pressure       0\n",
       "Edema                          0\n",
       "Anemia                         0\n",
       "Jaundice                       0\n",
       "Diabetes                       0\n",
       "Risk                           0\n",
       "Para                           0\n",
       "Gravida                        0\n",
       "dtype: int64"
      ]
     },
     "execution_count": 21,
     "metadata": {},
     "output_type": "execute_result"
    }
   ],
   "source": [
    "df1.isna().sum()"
   ]
  },
  {
   "cell_type": "code",
   "execution_count": 22,
   "id": "81f96ca5",
   "metadata": {},
   "outputs": [],
   "source": [
    "df1['Systolic Blood Pressure'] = df1['Systolic Blood Pressure'].fillna(120)"
   ]
  },
  {
   "cell_type": "code",
   "execution_count": 23,
   "id": "1ce55182",
   "metadata": {},
   "outputs": [],
   "source": [
    "df1['Diastolic Blood Pressure'] = df1['Diastolic Blood Pressure'].fillna(80)"
   ]
  },
  {
   "cell_type": "code",
   "execution_count": 24,
   "id": "36980c32",
   "metadata": {},
   "outputs": [
    {
     "data": {
      "text/plain": [
       "Age                            0\n",
       "Height                         0\n",
       "Weight                         0\n",
       "BMI                            0\n",
       "Blood Group ( is Negative?)    0\n",
       "Delivery Type                  0\n",
       "Systolic Blood Pressure        0\n",
       "Diastolic Blood Pressure       0\n",
       "Edema                          0\n",
       "Anemia                         0\n",
       "Jaundice                       0\n",
       "Diabetes                       0\n",
       "Risk                           0\n",
       "Para                           0\n",
       "Gravida                        0\n",
       "dtype: int64"
      ]
     },
     "execution_count": 24,
     "metadata": {},
     "output_type": "execute_result"
    }
   ],
   "source": [
    "df1.isna().sum()"
   ]
  },
  {
   "cell_type": "markdown",
   "id": "e94ba8d3",
   "metadata": {},
   "source": [
    "# Model Building"
   ]
  },
  {
   "cell_type": "code",
   "execution_count": 25,
   "id": "45b377b3",
   "metadata": {},
   "outputs": [
    {
     "data": {
      "text/html": [
       "<div>\n",
       "<style scoped>\n",
       "    .dataframe tbody tr th:only-of-type {\n",
       "        vertical-align: middle;\n",
       "    }\n",
       "\n",
       "    .dataframe tbody tr th {\n",
       "        vertical-align: top;\n",
       "    }\n",
       "\n",
       "    .dataframe thead th {\n",
       "        text-align: right;\n",
       "    }\n",
       "</style>\n",
       "<table border=\"1\" class=\"dataframe\">\n",
       "  <thead>\n",
       "    <tr style=\"text-align: right;\">\n",
       "      <th></th>\n",
       "      <th>Age</th>\n",
       "      <th>Height</th>\n",
       "      <th>Weight</th>\n",
       "      <th>BMI</th>\n",
       "      <th>Blood Group ( is Negative?)</th>\n",
       "      <th>Delivery Type</th>\n",
       "      <th>Systolic Blood Pressure</th>\n",
       "      <th>Diastolic Blood Pressure</th>\n",
       "      <th>Edema</th>\n",
       "      <th>Anemia</th>\n",
       "      <th>Jaundice</th>\n",
       "      <th>Diabetes</th>\n",
       "      <th>Risk</th>\n",
       "      <th>Para</th>\n",
       "      <th>Gravida</th>\n",
       "    </tr>\n",
       "  </thead>\n",
       "  <tbody>\n",
       "    <tr>\n",
       "      <th>0</th>\n",
       "      <td>26</td>\n",
       "      <td>1.346</td>\n",
       "      <td>95.0</td>\n",
       "      <td>52.42</td>\n",
       "      <td>0</td>\n",
       "      <td>Normal</td>\n",
       "      <td>120</td>\n",
       "      <td>80</td>\n",
       "      <td>Normal</td>\n",
       "      <td>Normal</td>\n",
       "      <td>0</td>\n",
       "      <td>0</td>\n",
       "      <td>1</td>\n",
       "      <td>1</td>\n",
       "      <td>2</td>\n",
       "    </tr>\n",
       "    <tr>\n",
       "      <th>1</th>\n",
       "      <td>26</td>\n",
       "      <td>1.346</td>\n",
       "      <td>95.0</td>\n",
       "      <td>52.42</td>\n",
       "      <td>0</td>\n",
       "      <td>Normal</td>\n",
       "      <td>140</td>\n",
       "      <td>60</td>\n",
       "      <td>Normal</td>\n",
       "      <td>Normal</td>\n",
       "      <td>0</td>\n",
       "      <td>0</td>\n",
       "      <td>1</td>\n",
       "      <td>1</td>\n",
       "      <td>2</td>\n",
       "    </tr>\n",
       "    <tr>\n",
       "      <th>2</th>\n",
       "      <td>18</td>\n",
       "      <td>1.244</td>\n",
       "      <td>78.0</td>\n",
       "      <td>50.40</td>\n",
       "      <td>0</td>\n",
       "      <td>Normal</td>\n",
       "      <td>120</td>\n",
       "      <td>70</td>\n",
       "      <td>Normal</td>\n",
       "      <td>Normal</td>\n",
       "      <td>0</td>\n",
       "      <td>0</td>\n",
       "      <td>1</td>\n",
       "      <td>1</td>\n",
       "      <td>3</td>\n",
       "    </tr>\n",
       "    <tr>\n",
       "      <th>3</th>\n",
       "      <td>26</td>\n",
       "      <td>1.270</td>\n",
       "      <td>77.0</td>\n",
       "      <td>47.74</td>\n",
       "      <td>0</td>\n",
       "      <td>Normal</td>\n",
       "      <td>100</td>\n",
       "      <td>60</td>\n",
       "      <td>Normal</td>\n",
       "      <td>Normal</td>\n",
       "      <td>0</td>\n",
       "      <td>0</td>\n",
       "      <td>1</td>\n",
       "      <td>1</td>\n",
       "      <td>2</td>\n",
       "    </tr>\n",
       "    <tr>\n",
       "      <th>4</th>\n",
       "      <td>26</td>\n",
       "      <td>1.270</td>\n",
       "      <td>77.0</td>\n",
       "      <td>47.74</td>\n",
       "      <td>0</td>\n",
       "      <td>Normal</td>\n",
       "      <td>110</td>\n",
       "      <td>80</td>\n",
       "      <td>Normal</td>\n",
       "      <td>Normal</td>\n",
       "      <td>0</td>\n",
       "      <td>0</td>\n",
       "      <td>1</td>\n",
       "      <td>1</td>\n",
       "      <td>2</td>\n",
       "    </tr>\n",
       "  </tbody>\n",
       "</table>\n",
       "</div>"
      ],
      "text/plain": [
       "   Age  Height  Weight    BMI  Blood Group ( is Negative?) Delivery Type  \\\n",
       "0   26   1.346    95.0  52.42                            0        Normal   \n",
       "1   26   1.346    95.0  52.42                            0        Normal   \n",
       "2   18   1.244    78.0  50.40                            0        Normal   \n",
       "3   26   1.270    77.0  47.74                            0        Normal   \n",
       "4   26   1.270    77.0  47.74                            0        Normal   \n",
       "\n",
       "   Systolic Blood Pressure  Diastolic Blood Pressure   Edema  Anemia  \\\n",
       "0                      120                        80  Normal  Normal   \n",
       "1                      140                        60  Normal  Normal   \n",
       "2                      120                        70  Normal  Normal   \n",
       "3                      100                        60  Normal  Normal   \n",
       "4                      110                        80  Normal  Normal   \n",
       "\n",
       "   Jaundice  Diabetes  Risk  Para  Gravida  \n",
       "0         0         0     1     1        2  \n",
       "1         0         0     1     1        2  \n",
       "2         0         0     1     1        3  \n",
       "3         0         0     1     1        2  \n",
       "4         0         0     1     1        2  "
      ]
     },
     "execution_count": 25,
     "metadata": {},
     "output_type": "execute_result"
    }
   ],
   "source": [
    "from sklearn.preprocessing import LabelEncoder\n",
    "encoder = LabelEncoder()\n",
    "col = ['Blood Group ( is Negative?)','Jaundice','Diabetes','Risk']\n",
    "for x in col:\n",
    "    df1[x] = encoder.fit_transform(df[x])\n",
    "df1.head(5)"
   ]
  },
  {
   "cell_type": "code",
   "execution_count": 26,
   "id": "9c0573be",
   "metadata": {},
   "outputs": [
    {
     "data": {
      "text/html": [
       "<div>\n",
       "<style scoped>\n",
       "    .dataframe tbody tr th:only-of-type {\n",
       "        vertical-align: middle;\n",
       "    }\n",
       "\n",
       "    .dataframe tbody tr th {\n",
       "        vertical-align: top;\n",
       "    }\n",
       "\n",
       "    .dataframe thead th {\n",
       "        text-align: right;\n",
       "    }\n",
       "</style>\n",
       "<table border=\"1\" class=\"dataframe\">\n",
       "  <thead>\n",
       "    <tr style=\"text-align: right;\">\n",
       "      <th></th>\n",
       "      <th>Age</th>\n",
       "      <th>Height</th>\n",
       "      <th>Weight</th>\n",
       "      <th>BMI</th>\n",
       "      <th>Blood Group ( is Negative?)</th>\n",
       "      <th>Systolic Blood Pressure</th>\n",
       "      <th>Diastolic Blood Pressure</th>\n",
       "      <th>Jaundice</th>\n",
       "      <th>Diabetes</th>\n",
       "      <th>Risk</th>\n",
       "      <th>Para</th>\n",
       "      <th>Gravida</th>\n",
       "      <th>Delivery Type_No_delivary</th>\n",
       "      <th>Delivery Type_Normal</th>\n",
       "      <th>Edema_Modarate</th>\n",
       "      <th>Edema_Normal</th>\n",
       "      <th>Anemia_Normal</th>\n",
       "      <th>Anemia_Very-Low</th>\n",
       "    </tr>\n",
       "  </thead>\n",
       "  <tbody>\n",
       "    <tr>\n",
       "      <th>1636</th>\n",
       "      <td>27</td>\n",
       "      <td>1.473</td>\n",
       "      <td>55.0</td>\n",
       "      <td>25.34</td>\n",
       "      <td>0</td>\n",
       "      <td>120</td>\n",
       "      <td>70</td>\n",
       "      <td>1</td>\n",
       "      <td>0</td>\n",
       "      <td>1</td>\n",
       "      <td>1</td>\n",
       "      <td>3</td>\n",
       "      <td>0</td>\n",
       "      <td>1</td>\n",
       "      <td>0</td>\n",
       "      <td>1</td>\n",
       "      <td>1</td>\n",
       "      <td>0</td>\n",
       "    </tr>\n",
       "    <tr>\n",
       "      <th>317</th>\n",
       "      <td>23</td>\n",
       "      <td>1.524</td>\n",
       "      <td>73.5</td>\n",
       "      <td>31.65</td>\n",
       "      <td>1</td>\n",
       "      <td>145</td>\n",
       "      <td>60</td>\n",
       "      <td>0</td>\n",
       "      <td>0</td>\n",
       "      <td>1</td>\n",
       "      <td>1</td>\n",
       "      <td>2</td>\n",
       "      <td>0</td>\n",
       "      <td>1</td>\n",
       "      <td>0</td>\n",
       "      <td>1</td>\n",
       "      <td>0</td>\n",
       "      <td>0</td>\n",
       "    </tr>\n",
       "  </tbody>\n",
       "</table>\n",
       "</div>"
      ],
      "text/plain": [
       "      Age  Height  Weight    BMI  Blood Group ( is Negative?)  \\\n",
       "1636   27   1.473    55.0  25.34                            0   \n",
       "317    23   1.524    73.5  31.65                            1   \n",
       "\n",
       "      Systolic Blood Pressure  Diastolic Blood Pressure  Jaundice  Diabetes  \\\n",
       "1636                      120                        70         1         0   \n",
       "317                       145                        60         0         0   \n",
       "\n",
       "      Risk  Para  Gravida  Delivery Type_No_delivary  Delivery Type_Normal  \\\n",
       "1636     1     1        3                          0                     1   \n",
       "317      1     1        2                          0                     1   \n",
       "\n",
       "      Edema_Modarate  Edema_Normal  Anemia_Normal  Anemia_Very-Low  \n",
       "1636               0             1              1                0  \n",
       "317                0             1              0                0  "
      ]
     },
     "execution_count": 26,
     "metadata": {},
     "output_type": "execute_result"
    }
   ],
   "source": [
    "df2 = pd.get_dummies(df1,drop_first=True)\n",
    "df2.sample(2)"
   ]
  },
  {
   "cell_type": "code",
   "execution_count": 27,
   "id": "9bc52e43",
   "metadata": {},
   "outputs": [],
   "source": [
    "X = df2.drop(['Risk','Height','Weight'],axis=1)"
   ]
  },
  {
   "cell_type": "code",
   "execution_count": 28,
   "id": "22f0f6a7",
   "metadata": {},
   "outputs": [],
   "source": [
    "y = df2.Risk"
   ]
  },
  {
   "cell_type": "code",
   "execution_count": 36,
   "id": "65dc097c",
   "metadata": {},
   "outputs": [
    {
     "name": "stdout",
     "output_type": "stream",
     "text": [
      "cross_val_score :  0.75\n",
      "\n",
      "Classification Report : \n",
      "              precision    recall  f1-score   support\n",
      "\n",
      "           0       0.75      1.00      0.85      2589\n",
      "           1       0.94      0.11      0.20       989\n",
      "\n",
      "    accuracy                           0.75      3578\n",
      "   macro avg       0.84      0.55      0.52      3578\n",
      "weighted avg       0.80      0.75      0.67      3578\n",
      "\n"
     ]
    }
   ],
   "source": [
    "from sklearn.svm import SVC\n",
    "\n",
    "originalclass = []\n",
    "predictedclass = []\n",
    "\n",
    "def classification_report_with_accuracy_score(y_true, y_pred):\n",
    "    originalclass.extend(y_true)\n",
    "    predictedclass.extend(y_pred)\n",
    "    return accuracy_score(y_true, y_pred) # return accuracy score\n",
    "\n",
    "\n",
    "nested_score = cross_val_score(SVC(),X,y, cv=20, scoring=make_scorer(classification_report_with_accuracy_score))\n",
    "\n",
    "print('cross_val_score : ',round(nested_score.mean(),2))\n",
    "print('\\nClassification Report : ')\n",
    "print(classification_report(originalclass, predictedclass))"
   ]
  },
  {
   "cell_type": "code",
   "execution_count": 37,
   "id": "21bdbc7e",
   "metadata": {},
   "outputs": [
    {
     "name": "stdout",
     "output_type": "stream",
     "text": [
      "cross_val_score :  0.84\n",
      "\n",
      "Classification Report : \n",
      "              precision    recall  f1-score   support\n",
      "\n",
      "           0       0.90      0.88      0.89      2589\n",
      "           1       0.70      0.75      0.73       989\n",
      "\n",
      "    accuracy                           0.84      3578\n",
      "   macro avg       0.80      0.82      0.81      3578\n",
      "weighted avg       0.85      0.84      0.85      3578\n",
      "\n"
     ]
    }
   ],
   "source": [
    "from sklearn.ensemble import RandomForestClassifier\n",
    "\n",
    "originalclass = []\n",
    "predictedclass = []\n",
    "\n",
    "def classification_report_with_accuracy_score(y_true, y_pred):\n",
    "    originalclass.extend(y_true)\n",
    "    predictedclass.extend(y_pred)\n",
    "    return accuracy_score(y_true, y_pred) # return accuracy score\n",
    "\n",
    "\n",
    "nested_score = cross_val_score(RandomForestClassifier(),X,y, cv=20, scoring=make_scorer(classification_report_with_accuracy_score))\n",
    "\n",
    "print('cross_val_score : ',round(nested_score.mean(),2))\n",
    "print('\\nClassification Report : ')\n",
    "print(classification_report(originalclass, predictedclass))"
   ]
  },
  {
   "cell_type": "code",
   "execution_count": 38,
   "id": "7006c29c",
   "metadata": {},
   "outputs": [
    {
     "name": "stdout",
     "output_type": "stream",
     "text": [
      "cross_val_score :  0.67\n",
      "\n",
      "Classification Report : \n",
      "              precision    recall  f1-score   support\n",
      "\n",
      "           0       0.85      0.66      0.74      2589\n",
      "           1       0.44      0.70      0.54       989\n",
      "\n",
      "    accuracy                           0.67      3578\n",
      "   macro avg       0.64      0.68      0.64      3578\n",
      "weighted avg       0.74      0.67      0.68      3578\n",
      "\n"
     ]
    }
   ],
   "source": [
    "from sklearn.tree import DecisionTreeClassifier\n",
    "\n",
    "originalclass = []\n",
    "predictedclass = []\n",
    "\n",
    "def classification_report_with_accuracy_score(y_true, y_pred):\n",
    "    originalclass.extend(y_true)\n",
    "    predictedclass.extend(y_pred)\n",
    "    return accuracy_score(y_true, y_pred) # return accuracy score\n",
    "\n",
    "\n",
    "nested_score = cross_val_score(DecisionTreeClassifier(),X,y, cv=20, scoring=make_scorer(classification_report_with_accuracy_score))\n",
    "\n",
    "print('cross_val_score : ',round(nested_score.mean(),2))\n",
    "print('\\nClassification Report : ')\n",
    "print(classification_report(originalclass, predictedclass))"
   ]
  },
  {
   "cell_type": "code",
   "execution_count": 32,
   "id": "8def56c2",
   "metadata": {},
   "outputs": [
    {
     "name": "stdout",
     "output_type": "stream",
     "text": [
      "cross_val_score :  0.8\n",
      "\n",
      "Classification Report : \n",
      "              precision    recall  f1-score   support\n",
      "\n",
      "           0       0.78      0.99      0.88      2589\n",
      "           1       0.93      0.29      0.44       989\n",
      "\n",
      "    accuracy                           0.80      3578\n",
      "   macro avg       0.86      0.64      0.66      3578\n",
      "weighted avg       0.82      0.80      0.76      3578\n",
      "\n"
     ]
    }
   ],
   "source": [
    "from sklearn.linear_model import LogisticRegression\n",
    "\n",
    "originalclass = []\n",
    "predictedclass = []\n",
    "\n",
    "def classification_report_with_accuracy_score(y_true, y_pred):\n",
    "    originalclass.extend(y_true)\n",
    "    predictedclass.extend(y_pred)\n",
    "    return accuracy_score(y_true, y_pred) # return accuracy score\n",
    "\n",
    "\n",
    "nested_score = cross_val_score(LogisticRegression(),X,y, cv=10, scoring=make_scorer(classification_report_with_accuracy_score))\n",
    "\n",
    "print('cross_val_score : ',round(nested_score.mean(),2))\n",
    "print('\\nClassification Report : ')\n",
    "print(classification_report(originalclass, predictedclass))"
   ]
  },
  {
   "cell_type": "code",
   "execution_count": 39,
   "id": "add69645",
   "metadata": {},
   "outputs": [
    {
     "name": "stdout",
     "output_type": "stream",
     "text": [
      "cross_val_score :  0.82\n",
      "\n",
      "Classification Report : \n",
      "              precision    recall  f1-score   support\n",
      "\n",
      "           0       0.83      0.94      0.88      2589\n",
      "           1       0.76      0.50      0.60       989\n",
      "\n",
      "    accuracy                           0.82      3578\n",
      "   macro avg       0.80      0.72      0.74      3578\n",
      "weighted avg       0.81      0.82      0.80      3578\n",
      "\n"
     ]
    }
   ],
   "source": [
    "from sklearn.neighbors import KNeighborsClassifier\n",
    "\n",
    "originalclass = []\n",
    "predictedclass = []\n",
    "\n",
    "def classification_report_with_accuracy_score(y_true, y_pred):\n",
    "    originalclass.extend(y_true)\n",
    "    predictedclass.extend(y_pred)\n",
    "    return accuracy_score(y_true, y_pred) # return accuracy score\n",
    "\n",
    "\n",
    "nested_score = cross_val_score(KNeighborsClassifier(),X,y, cv=20, scoring=make_scorer(classification_report_with_accuracy_score))\n",
    "\n",
    "print('cross_val_score : ',round(nested_score.mean(),2))\n",
    "print('\\nClassification Report : ')\n",
    "print(classification_report(originalclass, predictedclass))"
   ]
  },
  {
   "cell_type": "code",
   "execution_count": 34,
   "id": "94eeb83b",
   "metadata": {
    "scrolled": true
   },
   "outputs": [
    {
     "name": "stdout",
     "output_type": "stream",
     "text": [
      "cross_val_score :  0.78\n",
      "\n",
      "Classification Report : \n",
      "              precision    recall  f1-score   support\n",
      "\n",
      "           0       0.76      1.00      0.87      2589\n",
      "           1       0.99      0.19      0.32       989\n",
      "\n",
      "    accuracy                           0.78      3578\n",
      "   macro avg       0.88      0.59      0.59      3578\n",
      "weighted avg       0.83      0.78      0.71      3578\n",
      "\n"
     ]
    }
   ],
   "source": [
    "from sklearn.naive_bayes import GaussianNB\n",
    "\n",
    "originalclass = []\n",
    "predictedclass = []\n",
    "\n",
    "def classification_report_with_accuracy_score(y_true, y_pred):\n",
    "    originalclass.extend(y_true)\n",
    "    predictedclass.extend(y_pred)\n",
    "    return accuracy_score(y_true, y_pred) # return accuracy score\n",
    "\n",
    "\n",
    "nested_score = cross_val_score(GaussianNB(),X,y, cv=10, scoring=make_scorer(classification_report_with_accuracy_score))\n",
    "\n",
    "print('cross_val_score : ',round(nested_score.mean(),2))\n",
    "print('\\nClassification Report : ')\n",
    "print(classification_report(originalclass, predictedclass))"
   ]
  },
  {
   "cell_type": "code",
   "execution_count": 35,
   "id": "8baf1fa7",
   "metadata": {},
   "outputs": [
    {
     "name": "stdout",
     "output_type": "stream",
     "text": [
      "cross_val_score :  0.78\n",
      "\n",
      "Classification Report : \n",
      "              precision    recall  f1-score   support\n",
      "\n",
      "           0       0.77      1.00      0.87      2589\n",
      "           1       0.98      0.20      0.33       989\n",
      "\n",
      "    accuracy                           0.78      3578\n",
      "   macro avg       0.87      0.60      0.60      3578\n",
      "weighted avg       0.82      0.78      0.72      3578\n",
      "\n"
     ]
    }
   ],
   "source": [
    "from sklearn.naive_bayes import MultinomialNB\n",
    "from sklearn.metrics import confusion_matrix,f1_score,recall_score\n",
    "import seaborn as sns\n",
    "\n",
    "originalclass = []\n",
    "predictedclass = []\n",
    "\n",
    "def classification_report_with_accuracy_score(y_true, y_pred):\n",
    "    originalclass.extend(y_true)\n",
    "    predictedclass.extend(y_pred)\n",
    "    return accuracy_score(y_true, y_pred) # return accuracy score\n",
    "\n",
    "\n",
    "nested_score = cross_val_score(MultinomialNB(),X,y, cv=10, scoring=make_scorer(classification_report_with_accuracy_score))\n",
    "\n",
    "print('cross_val_score : ',round(nested_score.mean(),2))\n",
    "print('\\nClassification Report : ')\n",
    "print(classification_report(originalclass, predictedclass))"
   ]
  }
 ],
 "metadata": {
  "kernelspec": {
   "display_name": "Python 3 (ipykernel)",
   "language": "python",
   "name": "python3"
  },
  "language_info": {
   "codemirror_mode": {
    "name": "ipython",
    "version": 3
   },
   "file_extension": ".py",
   "mimetype": "text/x-python",
   "name": "python",
   "nbconvert_exporter": "python",
   "pygments_lexer": "ipython3",
   "version": "3.9.12"
  }
 },
 "nbformat": 4,
 "nbformat_minor": 5
}
