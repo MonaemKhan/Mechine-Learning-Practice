{
 "cells": [
  {
   "cell_type": "code",
   "execution_count": 1,
   "id": "28f0cc11",
   "metadata": {},
   "outputs": [
    {
     "data": {
      "text/html": [
       "<div>\n",
       "<style scoped>\n",
       "    .dataframe tbody tr th:only-of-type {\n",
       "        vertical-align: middle;\n",
       "    }\n",
       "\n",
       "    .dataframe tbody tr th {\n",
       "        vertical-align: top;\n",
       "    }\n",
       "\n",
       "    .dataframe thead th {\n",
       "        text-align: right;\n",
       "    }\n",
       "</style>\n",
       "<table border=\"1\" class=\"dataframe\">\n",
       "  <thead>\n",
       "    <tr style=\"text-align: right;\">\n",
       "      <th></th>\n",
       "      <th>Age</th>\n",
       "      <th>Height</th>\n",
       "      <th>Weight</th>\n",
       "      <th>BMI</th>\n",
       "      <th>Blood Group ( is Negative?)</th>\n",
       "      <th>Delivery Type</th>\n",
       "      <th>Systolic Blood Pressure</th>\n",
       "      <th>Diastolic Blood Pressure</th>\n",
       "      <th>Edema</th>\n",
       "      <th>Anemia</th>\n",
       "      <th>Jaundice</th>\n",
       "      <th>Diabetes</th>\n",
       "      <th>Risk</th>\n",
       "      <th>Para</th>\n",
       "      <th>Gravida</th>\n",
       "    </tr>\n",
       "  </thead>\n",
       "  <tbody>\n",
       "    <tr>\n",
       "      <th>2949</th>\n",
       "      <td>25</td>\n",
       "      <td>1.549</td>\n",
       "      <td>57.0</td>\n",
       "      <td>23.74</td>\n",
       "      <td>No</td>\n",
       "      <td>Normal</td>\n",
       "      <td>100</td>\n",
       "      <td>70</td>\n",
       "      <td>Modarate</td>\n",
       "      <td>Normal</td>\n",
       "      <td>No</td>\n",
       "      <td>No</td>\n",
       "      <td>No</td>\n",
       "      <td>1</td>\n",
       "      <td>2</td>\n",
       "    </tr>\n",
       "    <tr>\n",
       "      <th>151</th>\n",
       "      <td>30</td>\n",
       "      <td>1.524</td>\n",
       "      <td>62.5</td>\n",
       "      <td>26.91</td>\n",
       "      <td>No</td>\n",
       "      <td>Normal</td>\n",
       "      <td>120</td>\n",
       "      <td>70</td>\n",
       "      <td>Normal</td>\n",
       "      <td>Normal</td>\n",
       "      <td>No</td>\n",
       "      <td>No</td>\n",
       "      <td>No</td>\n",
       "      <td>1</td>\n",
       "      <td>3</td>\n",
       "    </tr>\n",
       "    <tr>\n",
       "      <th>2051</th>\n",
       "      <td>21</td>\n",
       "      <td>1.473</td>\n",
       "      <td>63.6</td>\n",
       "      <td>29.31</td>\n",
       "      <td>No</td>\n",
       "      <td>Normal</td>\n",
       "      <td>120</td>\n",
       "      <td>90</td>\n",
       "      <td>Normal</td>\n",
       "      <td>Normal</td>\n",
       "      <td>No</td>\n",
       "      <td>No</td>\n",
       "      <td>No</td>\n",
       "      <td>2</td>\n",
       "      <td>4</td>\n",
       "    </tr>\n",
       "    <tr>\n",
       "      <th>1785</th>\n",
       "      <td>23</td>\n",
       "      <td>1.422</td>\n",
       "      <td>51.0</td>\n",
       "      <td>25.21</td>\n",
       "      <td>No</td>\n",
       "      <td>No_delivary</td>\n",
       "      <td>110</td>\n",
       "      <td>70</td>\n",
       "      <td>Normal</td>\n",
       "      <td>Low</td>\n",
       "      <td>No</td>\n",
       "      <td>No</td>\n",
       "      <td>Yes</td>\n",
       "      <td>0</td>\n",
       "      <td>2</td>\n",
       "    </tr>\n",
       "    <tr>\n",
       "      <th>1781</th>\n",
       "      <td>24</td>\n",
       "      <td>1.499</td>\n",
       "      <td>51.5</td>\n",
       "      <td>22.93</td>\n",
       "      <td>No</td>\n",
       "      <td>Normal</td>\n",
       "      <td>130</td>\n",
       "      <td>80</td>\n",
       "      <td>Normal</td>\n",
       "      <td>Normal</td>\n",
       "      <td>Yes</td>\n",
       "      <td>No</td>\n",
       "      <td>Yes</td>\n",
       "      <td>1</td>\n",
       "      <td>2</td>\n",
       "    </tr>\n",
       "  </tbody>\n",
       "</table>\n",
       "</div>"
      ],
      "text/plain": [
       "      Age  Height  Weight    BMI Blood Group ( is Negative?) Delivery Type  \\\n",
       "2949   25   1.549    57.0  23.74                          No        Normal   \n",
       "151    30   1.524    62.5  26.91                          No        Normal   \n",
       "2051   21   1.473    63.6  29.31                          No        Normal   \n",
       "1785   23   1.422    51.0  25.21                          No   No_delivary   \n",
       "1781   24   1.499    51.5  22.93                          No        Normal   \n",
       "\n",
       "      Systolic Blood Pressure  Diastolic Blood Pressure     Edema  Anemia  \\\n",
       "2949                      100                        70  Modarate  Normal   \n",
       "151                       120                        70    Normal  Normal   \n",
       "2051                      120                        90    Normal  Normal   \n",
       "1785                      110                        70    Normal     Low   \n",
       "1781                      130                        80    Normal  Normal   \n",
       "\n",
       "     Jaundice Diabetes Risk  Para  Gravida  \n",
       "2949       No       No   No     1        2  \n",
       "151        No       No   No     1        3  \n",
       "2051       No       No   No     2        4  \n",
       "1785       No       No  Yes     0        2  \n",
       "1781      Yes       No  Yes     1        2  "
      ]
     },
     "execution_count": 1,
     "metadata": {},
     "output_type": "execute_result"
    }
   ],
   "source": [
    "import warnings\n",
    "warnings.filterwarnings(\"ignore\")\n",
    "import pandas as pd\n",
    "import numpy as np\n",
    "df = pd.read_csv('final.csv')\n",
    "df.sample(5)"
   ]
  },
  {
   "cell_type": "code",
   "execution_count": 2,
   "id": "1f9cb26d",
   "metadata": {},
   "outputs": [],
   "source": [
    "df['Blood Group ( is Negative?)'] = df['Blood Group ( is Negative?)'].map({'Yes':1,'No':0})\n",
    "df['Jaundice'] = df['Jaundice'].map({'Yes':1,'No':0})\n",
    "df['Diabetes'] = df['Diabetes'].map({'Yes':1,'No':0})\n",
    "df['Risk'] = df['Risk'].map({'Yes':1,'No':0})\n",
    "df['Delivery Type'] = df['Delivery Type'].map({'No_delivary':0,'Normal':1,'C-section':2})\n",
    "df['Edema'] = df['Edema'].map({'Normal':0,'High':2,'Modarate':1})\n",
    "df['Anemia'] = df['Anemia'].map({'Normal':0,'Low':1,'Very-Low':2})"
   ]
  },
  {
   "cell_type": "code",
   "execution_count": 3,
   "id": "a8f79174",
   "metadata": {},
   "outputs": [
    {
     "data": {
      "image/png": "[encoded data removed]",
      "text/plain": [
       "<Figure size 720x360 with 1 Axes>"
      ]
     },
     "metadata": {},
     "output_type": "display_data"
    }
   ],
   "source": [
    "import matplotlib.pyplot as plt\n",
    "plt.figure(figsize=(10,5))\n",
    "plt.pie(df['Risk'].value_counts(), labels=['No Risk','Risk'], autopct = \"%0.2f\",explode = [0.1,0])\n",
    "plt.legend()\n",
    "plt.show()"
   ]
  },
  {
   "cell_type": "code",
   "execution_count": 4,
   "id": "173055cd",
   "metadata": {},
   "outputs": [
    {
     "data": {
      "text/plain": [
       "Index(['Age', 'BMI', 'Blood Group ( is Negative?)', 'Delivery Type',\n",
       "       'Systolic Blood Pressure', 'Diastolic Blood Pressure', 'Edema',\n",
       "       'Anemia', 'Jaundice', 'Diabetes', 'Risk', 'parity'],\n",
       "      dtype='object')"
      ]
     },
     "execution_count": 4,
     "metadata": {},
     "output_type": "execute_result"
    }
   ],
   "source": [
    "for i in range(len(df)):\n",
    "    df.loc[i,'parity'] = df.loc[i,'Gravida'] - df.loc[i,'Para']\n",
    "df['parity'] = df['parity'].astype(int)\n",
    "df = df.drop(['Height', 'Weight','Para','Gravida'],axis=1)\n",
    "df.columns[:]"
   ]
  },
  {
   "cell_type": "code",
   "execution_count": null,
   "id": "0008c84a",
   "metadata": {},
   "outputs": [],
   "source": []
  },
  {
   "cell_type": "code",
   "execution_count": 23,
   "id": "086ea0fe",
   "metadata": {},
   "outputs": [],
   "source": [
    "x = df.drop(['Risk'],axis=1)\n",
    "y = df.Risk"
   ]
  },
  {
   "cell_type": "code",
   "execution_count": 31,
   "id": "bd768e97",
   "metadata": {},
   "outputs": [
    {
     "data": {
      "image/png": "[encoded data removed]",
      "text/plain": [
       "<Figure size 432x288 with 1 Axes>"
      ]
     },
     "metadata": {
      "needs_background": "light"
     },
     "output_type": "display_data"
    }
   ],
   "source": [
    "from sklearn.feature_selection import mutual_info_classif\n",
    "\n",
    "im = mutual_info_classif(x,y)\n",
    "fe_im= pd.Series(im,x.columns)\n",
    "fe_im.plot(kind='barh', grid=True)\n",
    "plt.show()"
   ]
  },
  {
   "cell_type": "code",
   "execution_count": null,
   "id": "54b177ca",
   "metadata": {},
   "outputs": [],
   "source": []
  },
  {
   "cell_type": "code",
   "execution_count": 14,
   "id": "7ab086d2",
   "metadata": {},
   "outputs": [
    {
     "data": {
      "image/png": "[encoded data removed]",
      "text/plain": [
       "<Figure size 1440x576 with 1 Axes>"
      ]
     },
     "metadata": {
      "needs_background": "light"
     },
     "output_type": "display_data"
    }
   ],
   "source": [
    "df.drop('Risk', axis=1).corrwith(df.Risk).plot(kind='barh', grid=True, figsize=(20, 8)\n",
    ", title=\"Correlation with Pregnancy Risk\",color=\"Purple\");"
   ]
  },
  {
   "cell_type": "code",
   "execution_count": 8,
   "id": "81f85db2",
   "metadata": {},
   "outputs": [
    {
     "data": {
      "text/plain": [
       "120    1003\n",
       "110     882\n",
       "100     370\n",
       "130     229\n",
       "140      64\n",
       "125      17\n",
       "90       10\n",
       "115       4\n",
       "150       3\n",
       "105       2\n",
       "Name: Systolic Blood Pressure, dtype: int64"
      ]
     },
     "execution_count": 8,
     "metadata": {},
     "output_type": "execute_result"
    }
   ],
   "source": [
    "df['Systolic Blood Pressure'][df['Risk']==0].value_counts()"
   ]
  },
  {
   "cell_type": "code",
   "execution_count": 9,
   "id": "ff7ad674",
   "metadata": {},
   "outputs": [
    {
     "data": {
      "text/plain": [
       "120    1003\n",
       "110     882\n",
       "100     370\n",
       "130     229\n",
       "140      64\n",
       "125      17\n",
       "90       10\n",
       "115       4\n",
       "150       3\n",
       "105       2\n",
       "Name: Systolic Blood Pressure, dtype: int64"
      ]
     },
     "execution_count": 9,
     "metadata": {},
     "output_type": "execute_result"
    }
   ],
   "source": [
    "df['Systolic Blood Pressure'][df['Risk']==0].value_counts()"
   ]
  },
  {
   "cell_type": "code",
   "execution_count": null,
   "id": "09200ca0",
   "metadata": {},
   "outputs": [],
   "source": []
  }
 ],
 "metadata": {
  "kernelspec": {
   "display_name": "Python 3 (ipykernel)",
   "language": "python",
   "name": "python3"
  },
  "language_info": {
   "codemirror_mode": {
    "name": "ipython",
    "version": 3
   },
   "file_extension": ".py",
   "mimetype": "text/x-python",
   "name": "python",
   "nbconvert_exporter": "python",
   "pygments_lexer": "ipython3",
   "version": "3.9.12"
  }
 },
 "nbformat": 4,
 "nbformat_minor": 5
}
