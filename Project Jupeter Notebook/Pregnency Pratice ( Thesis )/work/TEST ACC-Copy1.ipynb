{
 "cells": [
  {
   "cell_type": "code",
   "execution_count": 1,
   "id": "cd55e0ae",
   "metadata": {},
   "outputs": [],
   "source": [
    "import warnings\n",
    "warnings.filterwarnings(\"ignore\")\n",
    "import pandas as pd\n",
    "import numpy as np\n",
    "\n",
    "from sklearn.svm import SVC\n",
    "from sklearn.tree import DecisionTreeClassifier\n",
    "from sklearn.neighbors import KNeighborsClassifier\n",
    "from sklearn.ensemble import RandomForestClassifier\n",
    "from sklearn.linear_model import LogisticRegression\n",
    "from sklearn.naive_bayes import GaussianNB,MultinomialNB\n",
    "\n",
    "from sklearn.metrics import accuracy_score, f1_score, precision_score, recall_score\n",
    "from sklearn.metrics import ConfusionMatrixDisplay,confusion_matrix,roc_auc_score,roc_curve,auc\n",
    "import matplotlib.pyplot as plt\n",
    "%matplotlib inline\n",
    "import seaborn as sns"
   ]
  },
  {
   "cell_type": "code",
   "execution_count": 2,
   "id": "ed942b87",
   "metadata": {},
   "outputs": [
    {
     "data": {
      "text/html": [
       "<div>\n",
       "<style scoped>\n",
       "    .dataframe tbody tr th:only-of-type {\n",
       "        vertical-align: middle;\n",
       "    }\n",
       "\n",
       "    .dataframe tbody tr th {\n",
       "        vertical-align: top;\n",
       "    }\n",
       "\n",
       "    .dataframe thead th {\n",
       "        text-align: right;\n",
       "    }\n",
       "</style>\n",
       "<table border=\"1\" class=\"dataframe\">\n",
       "  <thead>\n",
       "    <tr style=\"text-align: right;\">\n",
       "      <th></th>\n",
       "      <th>Age</th>\n",
       "      <th>Height</th>\n",
       "      <th>Weight</th>\n",
       "      <th>BMI</th>\n",
       "      <th>Blood Group ( is Negative?)</th>\n",
       "      <th>Delivery Type</th>\n",
       "      <th>Systolic Blood Pressure</th>\n",
       "      <th>Diastolic Blood Pressure</th>\n",
       "      <th>Edema</th>\n",
       "      <th>Anemia</th>\n",
       "      <th>Jaundice</th>\n",
       "      <th>Diabetes</th>\n",
       "      <th>Risk</th>\n",
       "      <th>Para</th>\n",
       "      <th>Gravida</th>\n",
       "    </tr>\n",
       "  </thead>\n",
       "  <tbody>\n",
       "    <tr>\n",
       "      <th>0</th>\n",
       "      <td>25</td>\n",
       "      <td>1.4732</td>\n",
       "      <td>53.3</td>\n",
       "      <td>23.73</td>\n",
       "      <td>No</td>\n",
       "      <td>Normal</td>\n",
       "      <td>120</td>\n",
       "      <td>70</td>\n",
       "      <td>Normal</td>\n",
       "      <td>Low</td>\n",
       "      <td>No</td>\n",
       "      <td>No</td>\n",
       "      <td>No</td>\n",
       "      <td>2</td>\n",
       "      <td>3</td>\n",
       "    </tr>\n",
       "    <tr>\n",
       "      <th>1</th>\n",
       "      <td>30</td>\n",
       "      <td>1.5740</td>\n",
       "      <td>45.5</td>\n",
       "      <td>18.37</td>\n",
       "      <td>No</td>\n",
       "      <td>Normal</td>\n",
       "      <td>110</td>\n",
       "      <td>80</td>\n",
       "      <td>Normal</td>\n",
       "      <td>Normal</td>\n",
       "      <td>No</td>\n",
       "      <td>No</td>\n",
       "      <td>No</td>\n",
       "      <td>1</td>\n",
       "      <td>2</td>\n",
       "    </tr>\n",
       "    <tr>\n",
       "      <th>2</th>\n",
       "      <td>20</td>\n",
       "      <td>1.6250</td>\n",
       "      <td>52.2</td>\n",
       "      <td>19.77</td>\n",
       "      <td>No</td>\n",
       "      <td>No_delivary</td>\n",
       "      <td>120</td>\n",
       "      <td>70</td>\n",
       "      <td>Normal</td>\n",
       "      <td>Low</td>\n",
       "      <td>No</td>\n",
       "      <td>No</td>\n",
       "      <td>No</td>\n",
       "      <td>0</td>\n",
       "      <td>1</td>\n",
       "    </tr>\n",
       "    <tr>\n",
       "      <th>3</th>\n",
       "      <td>22</td>\n",
       "      <td>1.4480</td>\n",
       "      <td>48.5</td>\n",
       "      <td>23.14</td>\n",
       "      <td>No</td>\n",
       "      <td>No_delivary</td>\n",
       "      <td>110</td>\n",
       "      <td>80</td>\n",
       "      <td>Normal</td>\n",
       "      <td>Low</td>\n",
       "      <td>No</td>\n",
       "      <td>No</td>\n",
       "      <td>No</td>\n",
       "      <td>0</td>\n",
       "      <td>1</td>\n",
       "    </tr>\n",
       "    <tr>\n",
       "      <th>4</th>\n",
       "      <td>26</td>\n",
       "      <td>1.5240</td>\n",
       "      <td>50.0</td>\n",
       "      <td>21.53</td>\n",
       "      <td>No</td>\n",
       "      <td>No_delivary</td>\n",
       "      <td>110</td>\n",
       "      <td>70</td>\n",
       "      <td>Normal</td>\n",
       "      <td>Normal</td>\n",
       "      <td>No</td>\n",
       "      <td>No</td>\n",
       "      <td>No</td>\n",
       "      <td>0</td>\n",
       "      <td>1</td>\n",
       "    </tr>\n",
       "  </tbody>\n",
       "</table>\n",
       "</div>"
      ],
      "text/plain": [
       "   Age  Height  Weight    BMI Blood Group ( is Negative?) Delivery Type  \\\n",
       "0   25  1.4732    53.3  23.73                          No        Normal   \n",
       "1   30  1.5740    45.5  18.37                          No        Normal   \n",
       "2   20  1.6250    52.2  19.77                          No   No_delivary   \n",
       "3   22  1.4480    48.5  23.14                          No   No_delivary   \n",
       "4   26  1.5240    50.0  21.53                          No   No_delivary   \n",
       "\n",
       "   Systolic Blood Pressure  Diastolic Blood Pressure   Edema  Anemia Jaundice  \\\n",
       "0                      120                        70  Normal     Low       No   \n",
       "1                      110                        80  Normal  Normal       No   \n",
       "2                      120                        70  Normal     Low       No   \n",
       "3                      110                        80  Normal     Low       No   \n",
       "4                      110                        70  Normal  Normal       No   \n",
       "\n",
       "  Diabetes Risk  Para  Gravida  \n",
       "0       No   No     2        3  \n",
       "1       No   No     1        2  \n",
       "2       No   No     0        1  \n",
       "3       No   No     0        1  \n",
       "4       No   No     0        1  "
      ]
     },
     "execution_count": 2,
     "metadata": {},
     "output_type": "execute_result"
    }
   ],
   "source": [
    "df1 = pd.read_csv('final.csv')\n",
    "result = []\n",
    "df1.head(5)"
   ]
  },
  {
   "cell_type": "code",
   "execution_count": 3,
   "id": "de6ed591",
   "metadata": {},
   "outputs": [],
   "source": [
    "for i in range(len(df1)):\n",
    "    df1.loc[i,'parity'] = df1.loc[i,'Gravida'] - df1.loc[i,'Para']\n",
    "df1['parity'] = df1['parity'].astype(int)"
   ]
  },
  {
   "cell_type": "code",
   "execution_count": 4,
   "id": "088cf3b4",
   "metadata": {},
   "outputs": [
    {
     "data": {
      "text/html": [
       "<div>\n",
       "<style scoped>\n",
       "    .dataframe tbody tr th:only-of-type {\n",
       "        vertical-align: middle;\n",
       "    }\n",
       "\n",
       "    .dataframe tbody tr th {\n",
       "        vertical-align: top;\n",
       "    }\n",
       "\n",
       "    .dataframe thead th {\n",
       "        text-align: right;\n",
       "    }\n",
       "</style>\n",
       "<table border=\"1\" class=\"dataframe\">\n",
       "  <thead>\n",
       "    <tr style=\"text-align: right;\">\n",
       "      <th></th>\n",
       "      <th>Age</th>\n",
       "      <th>Height</th>\n",
       "      <th>Weight</th>\n",
       "      <th>BMI</th>\n",
       "      <th>Blood Group ( is Negative?)</th>\n",
       "      <th>Delivery Type</th>\n",
       "      <th>Systolic Blood Pressure</th>\n",
       "      <th>Diastolic Blood Pressure</th>\n",
       "      <th>Edema</th>\n",
       "      <th>Anemia</th>\n",
       "      <th>Jaundice</th>\n",
       "      <th>Diabetes</th>\n",
       "      <th>Risk</th>\n",
       "      <th>parity</th>\n",
       "    </tr>\n",
       "  </thead>\n",
       "  <tbody>\n",
       "    <tr>\n",
       "      <th>0</th>\n",
       "      <td>25</td>\n",
       "      <td>1.4732</td>\n",
       "      <td>53.3</td>\n",
       "      <td>23.73</td>\n",
       "      <td>No</td>\n",
       "      <td>Normal</td>\n",
       "      <td>120</td>\n",
       "      <td>70</td>\n",
       "      <td>Normal</td>\n",
       "      <td>Low</td>\n",
       "      <td>No</td>\n",
       "      <td>No</td>\n",
       "      <td>No</td>\n",
       "      <td>1</td>\n",
       "    </tr>\n",
       "    <tr>\n",
       "      <th>1</th>\n",
       "      <td>30</td>\n",
       "      <td>1.5740</td>\n",
       "      <td>45.5</td>\n",
       "      <td>18.37</td>\n",
       "      <td>No</td>\n",
       "      <td>Normal</td>\n",
       "      <td>110</td>\n",
       "      <td>80</td>\n",
       "      <td>Normal</td>\n",
       "      <td>Normal</td>\n",
       "      <td>No</td>\n",
       "      <td>No</td>\n",
       "      <td>No</td>\n",
       "      <td>1</td>\n",
       "    </tr>\n",
       "    <tr>\n",
       "      <th>2</th>\n",
       "      <td>20</td>\n",
       "      <td>1.6250</td>\n",
       "      <td>52.2</td>\n",
       "      <td>19.77</td>\n",
       "      <td>No</td>\n",
       "      <td>No_delivary</td>\n",
       "      <td>120</td>\n",
       "      <td>70</td>\n",
       "      <td>Normal</td>\n",
       "      <td>Low</td>\n",
       "      <td>No</td>\n",
       "      <td>No</td>\n",
       "      <td>No</td>\n",
       "      <td>1</td>\n",
       "    </tr>\n",
       "    <tr>\n",
       "      <th>3</th>\n",
       "      <td>22</td>\n",
       "      <td>1.4480</td>\n",
       "      <td>48.5</td>\n",
       "      <td>23.14</td>\n",
       "      <td>No</td>\n",
       "      <td>No_delivary</td>\n",
       "      <td>110</td>\n",
       "      <td>80</td>\n",
       "      <td>Normal</td>\n",
       "      <td>Low</td>\n",
       "      <td>No</td>\n",
       "      <td>No</td>\n",
       "      <td>No</td>\n",
       "      <td>1</td>\n",
       "    </tr>\n",
       "    <tr>\n",
       "      <th>4</th>\n",
       "      <td>26</td>\n",
       "      <td>1.5240</td>\n",
       "      <td>50.0</td>\n",
       "      <td>21.53</td>\n",
       "      <td>No</td>\n",
       "      <td>No_delivary</td>\n",
       "      <td>110</td>\n",
       "      <td>70</td>\n",
       "      <td>Normal</td>\n",
       "      <td>Normal</td>\n",
       "      <td>No</td>\n",
       "      <td>No</td>\n",
       "      <td>No</td>\n",
       "      <td>1</td>\n",
       "    </tr>\n",
       "  </tbody>\n",
       "</table>\n",
       "</div>"
      ],
      "text/plain": [
       "   Age  Height  Weight    BMI Blood Group ( is Negative?) Delivery Type  \\\n",
       "0   25  1.4732    53.3  23.73                          No        Normal   \n",
       "1   30  1.5740    45.5  18.37                          No        Normal   \n",
       "2   20  1.6250    52.2  19.77                          No   No_delivary   \n",
       "3   22  1.4480    48.5  23.14                          No   No_delivary   \n",
       "4   26  1.5240    50.0  21.53                          No   No_delivary   \n",
       "\n",
       "   Systolic Blood Pressure  Diastolic Blood Pressure   Edema  Anemia Jaundice  \\\n",
       "0                      120                        70  Normal     Low       No   \n",
       "1                      110                        80  Normal  Normal       No   \n",
       "2                      120                        70  Normal     Low       No   \n",
       "3                      110                        80  Normal     Low       No   \n",
       "4                      110                        70  Normal  Normal       No   \n",
       "\n",
       "  Diabetes Risk  parity  \n",
       "0       No   No       1  \n",
       "1       No   No       1  \n",
       "2       No   No       1  \n",
       "3       No   No       1  \n",
       "4       No   No       1  "
      ]
     },
     "execution_count": 4,
     "metadata": {},
     "output_type": "execute_result"
    }
   ],
   "source": [
    "df1 = df1.drop(['Para','Gravida'],axis=1)\n",
    "df1.head(5)"
   ]
  },
  {
   "cell_type": "code",
   "execution_count": null,
   "id": "25081ff8",
   "metadata": {},
   "outputs": [],
   "source": []
  },
  {
   "cell_type": "code",
   "execution_count": null,
   "id": "842b85bc",
   "metadata": {},
   "outputs": [],
   "source": []
  },
  {
   "cell_type": "code",
   "execution_count": null,
   "id": "b8e2e0fa",
   "metadata": {},
   "outputs": [],
   "source": []
  },
  {
   "cell_type": "code",
   "execution_count": 5,
   "id": "31e4f4f1",
   "metadata": {},
   "outputs": [
    {
     "data": {
      "text/plain": [
       "(3578, 14)"
      ]
     },
     "execution_count": 5,
     "metadata": {},
     "output_type": "execute_result"
    }
   ],
   "source": [
    "df1.shape"
   ]
  },
  {
   "cell_type": "code",
   "execution_count": 6,
   "id": "d0424629",
   "metadata": {},
   "outputs": [],
   "source": [
    "df1['Blood Group ( is Negative?)'] = df1['Blood Group ( is Negative?)'].map({'Yes':1,'No':0})\n",
    "df1['Jaundice'] = df1['Jaundice'].map({'Yes':1,'No':0})\n",
    "df1['Diabetes'] = df1['Diabetes'].map({'Yes':1,'No':0})\n",
    "df1['Risk'] = df1['Risk'].map({'Yes':1,'No':0})\n",
    "df1['Delivery Type'] = df1['Delivery Type'].map({'No_delivary':0,'Normal':1,'C-section':2})\n",
    "df1['Edema'] = df1['Edema'].map({'Normal':0,'High':2,'Modarate':1})\n",
    "df1['Anemia'] = df1['Anemia'].map({'Normal':0,'Low':1,'Very-Low':2})"
   ]
  },
  {
   "cell_type": "code",
   "execution_count": 7,
   "id": "fcd955b3",
   "metadata": {},
   "outputs": [
    {
     "data": {
      "text/html": [
       "<div>\n",
       "<style scoped>\n",
       "    .dataframe tbody tr th:only-of-type {\n",
       "        vertical-align: middle;\n",
       "    }\n",
       "\n",
       "    .dataframe tbody tr th {\n",
       "        vertical-align: top;\n",
       "    }\n",
       "\n",
       "    .dataframe thead th {\n",
       "        text-align: right;\n",
       "    }\n",
       "</style>\n",
       "<table border=\"1\" class=\"dataframe\">\n",
       "  <thead>\n",
       "    <tr style=\"text-align: right;\">\n",
       "      <th></th>\n",
       "      <th>Age</th>\n",
       "      <th>Height</th>\n",
       "      <th>Weight</th>\n",
       "      <th>BMI</th>\n",
       "      <th>Blood Group ( is Negative?)</th>\n",
       "      <th>Delivery Type</th>\n",
       "      <th>Systolic Blood Pressure</th>\n",
       "      <th>Diastolic Blood Pressure</th>\n",
       "      <th>Edema</th>\n",
       "      <th>Anemia</th>\n",
       "      <th>Jaundice</th>\n",
       "      <th>Diabetes</th>\n",
       "      <th>Risk</th>\n",
       "      <th>parity</th>\n",
       "    </tr>\n",
       "  </thead>\n",
       "  <tbody>\n",
       "    <tr>\n",
       "      <th>1444</th>\n",
       "      <td>23</td>\n",
       "      <td>1.5490</td>\n",
       "      <td>41.0</td>\n",
       "      <td>17.08</td>\n",
       "      <td>0</td>\n",
       "      <td>1</td>\n",
       "      <td>120</td>\n",
       "      <td>90</td>\n",
       "      <td>0</td>\n",
       "      <td>1</td>\n",
       "      <td>0</td>\n",
       "      <td>0</td>\n",
       "      <td>1</td>\n",
       "      <td>1</td>\n",
       "    </tr>\n",
       "    <tr>\n",
       "      <th>487</th>\n",
       "      <td>18</td>\n",
       "      <td>1.4480</td>\n",
       "      <td>37.5</td>\n",
       "      <td>17.89</td>\n",
       "      <td>0</td>\n",
       "      <td>0</td>\n",
       "      <td>100</td>\n",
       "      <td>60</td>\n",
       "      <td>0</td>\n",
       "      <td>0</td>\n",
       "      <td>0</td>\n",
       "      <td>0</td>\n",
       "      <td>1</td>\n",
       "      <td>1</td>\n",
       "    </tr>\n",
       "    <tr>\n",
       "      <th>1318</th>\n",
       "      <td>25</td>\n",
       "      <td>1.4220</td>\n",
       "      <td>52.2</td>\n",
       "      <td>25.80</td>\n",
       "      <td>0</td>\n",
       "      <td>1</td>\n",
       "      <td>120</td>\n",
       "      <td>80</td>\n",
       "      <td>0</td>\n",
       "      <td>0</td>\n",
       "      <td>0</td>\n",
       "      <td>0</td>\n",
       "      <td>1</td>\n",
       "      <td>1</td>\n",
       "    </tr>\n",
       "    <tr>\n",
       "      <th>2452</th>\n",
       "      <td>20</td>\n",
       "      <td>1.4470</td>\n",
       "      <td>72.5</td>\n",
       "      <td>34.59</td>\n",
       "      <td>0</td>\n",
       "      <td>0</td>\n",
       "      <td>100</td>\n",
       "      <td>60</td>\n",
       "      <td>0</td>\n",
       "      <td>0</td>\n",
       "      <td>0</td>\n",
       "      <td>0</td>\n",
       "      <td>1</td>\n",
       "      <td>4</td>\n",
       "    </tr>\n",
       "    <tr>\n",
       "      <th>1891</th>\n",
       "      <td>21</td>\n",
       "      <td>1.6000</td>\n",
       "      <td>53.0</td>\n",
       "      <td>20.70</td>\n",
       "      <td>0</td>\n",
       "      <td>0</td>\n",
       "      <td>110</td>\n",
       "      <td>70</td>\n",
       "      <td>0</td>\n",
       "      <td>1</td>\n",
       "      <td>0</td>\n",
       "      <td>0</td>\n",
       "      <td>0</td>\n",
       "      <td>1</td>\n",
       "    </tr>\n",
       "    <tr>\n",
       "      <th>1503</th>\n",
       "      <td>25</td>\n",
       "      <td>1.5240</td>\n",
       "      <td>55.0</td>\n",
       "      <td>23.68</td>\n",
       "      <td>0</td>\n",
       "      <td>1</td>\n",
       "      <td>110</td>\n",
       "      <td>70</td>\n",
       "      <td>0</td>\n",
       "      <td>0</td>\n",
       "      <td>0</td>\n",
       "      <td>0</td>\n",
       "      <td>0</td>\n",
       "      <td>1</td>\n",
       "    </tr>\n",
       "    <tr>\n",
       "      <th>2245</th>\n",
       "      <td>30</td>\n",
       "      <td>1.5240</td>\n",
       "      <td>50.5</td>\n",
       "      <td>21.74</td>\n",
       "      <td>0</td>\n",
       "      <td>1</td>\n",
       "      <td>110</td>\n",
       "      <td>70</td>\n",
       "      <td>0</td>\n",
       "      <td>0</td>\n",
       "      <td>1</td>\n",
       "      <td>0</td>\n",
       "      <td>1</td>\n",
       "      <td>1</td>\n",
       "    </tr>\n",
       "    <tr>\n",
       "      <th>3561</th>\n",
       "      <td>21</td>\n",
       "      <td>1.5750</td>\n",
       "      <td>65.0</td>\n",
       "      <td>26.21</td>\n",
       "      <td>0</td>\n",
       "      <td>1</td>\n",
       "      <td>110</td>\n",
       "      <td>65</td>\n",
       "      <td>0</td>\n",
       "      <td>0</td>\n",
       "      <td>0</td>\n",
       "      <td>0</td>\n",
       "      <td>0</td>\n",
       "      <td>1</td>\n",
       "    </tr>\n",
       "    <tr>\n",
       "      <th>1160</th>\n",
       "      <td>29</td>\n",
       "      <td>1.5490</td>\n",
       "      <td>54.0</td>\n",
       "      <td>22.51</td>\n",
       "      <td>0</td>\n",
       "      <td>0</td>\n",
       "      <td>100</td>\n",
       "      <td>80</td>\n",
       "      <td>0</td>\n",
       "      <td>0</td>\n",
       "      <td>0</td>\n",
       "      <td>0</td>\n",
       "      <td>0</td>\n",
       "      <td>1</td>\n",
       "    </tr>\n",
       "    <tr>\n",
       "      <th>1510</th>\n",
       "      <td>28</td>\n",
       "      <td>1.4732</td>\n",
       "      <td>67.0</td>\n",
       "      <td>30.87</td>\n",
       "      <td>0</td>\n",
       "      <td>1</td>\n",
       "      <td>100</td>\n",
       "      <td>80</td>\n",
       "      <td>0</td>\n",
       "      <td>0</td>\n",
       "      <td>0</td>\n",
       "      <td>0</td>\n",
       "      <td>0</td>\n",
       "      <td>1</td>\n",
       "    </tr>\n",
       "    <tr>\n",
       "      <th>805</th>\n",
       "      <td>35</td>\n",
       "      <td>1.4990</td>\n",
       "      <td>58.0</td>\n",
       "      <td>25.81</td>\n",
       "      <td>0</td>\n",
       "      <td>1</td>\n",
       "      <td>110</td>\n",
       "      <td>70</td>\n",
       "      <td>0</td>\n",
       "      <td>1</td>\n",
       "      <td>0</td>\n",
       "      <td>0</td>\n",
       "      <td>0</td>\n",
       "      <td>1</td>\n",
       "    </tr>\n",
       "    <tr>\n",
       "      <th>139</th>\n",
       "      <td>30</td>\n",
       "      <td>1.4980</td>\n",
       "      <td>66.9</td>\n",
       "      <td>30.82</td>\n",
       "      <td>0</td>\n",
       "      <td>2</td>\n",
       "      <td>90</td>\n",
       "      <td>60</td>\n",
       "      <td>0</td>\n",
       "      <td>0</td>\n",
       "      <td>0</td>\n",
       "      <td>0</td>\n",
       "      <td>1</td>\n",
       "      <td>1</td>\n",
       "    </tr>\n",
       "    <tr>\n",
       "      <th>596</th>\n",
       "      <td>27</td>\n",
       "      <td>1.5490</td>\n",
       "      <td>53.0</td>\n",
       "      <td>22.08</td>\n",
       "      <td>0</td>\n",
       "      <td>1</td>\n",
       "      <td>120</td>\n",
       "      <td>80</td>\n",
       "      <td>0</td>\n",
       "      <td>1</td>\n",
       "      <td>0</td>\n",
       "      <td>0</td>\n",
       "      <td>0</td>\n",
       "      <td>1</td>\n",
       "    </tr>\n",
       "    <tr>\n",
       "      <th>86</th>\n",
       "      <td>32</td>\n",
       "      <td>1.5240</td>\n",
       "      <td>47.8</td>\n",
       "      <td>20.58</td>\n",
       "      <td>1</td>\n",
       "      <td>1</td>\n",
       "      <td>100</td>\n",
       "      <td>80</td>\n",
       "      <td>0</td>\n",
       "      <td>0</td>\n",
       "      <td>0</td>\n",
       "      <td>0</td>\n",
       "      <td>1</td>\n",
       "      <td>2</td>\n",
       "    </tr>\n",
       "    <tr>\n",
       "      <th>507</th>\n",
       "      <td>25</td>\n",
       "      <td>1.4480</td>\n",
       "      <td>60.5</td>\n",
       "      <td>28.85</td>\n",
       "      <td>0</td>\n",
       "      <td>1</td>\n",
       "      <td>150</td>\n",
       "      <td>70</td>\n",
       "      <td>0</td>\n",
       "      <td>1</td>\n",
       "      <td>0</td>\n",
       "      <td>0</td>\n",
       "      <td>0</td>\n",
       "      <td>1</td>\n",
       "    </tr>\n",
       "  </tbody>\n",
       "</table>\n",
       "</div>"
      ],
      "text/plain": [
       "      Age  Height  Weight    BMI  Blood Group ( is Negative?)  Delivery Type  \\\n",
       "1444   23  1.5490    41.0  17.08                            0              1   \n",
       "487    18  1.4480    37.5  17.89                            0              0   \n",
       "1318   25  1.4220    52.2  25.80                            0              1   \n",
       "2452   20  1.4470    72.5  34.59                            0              0   \n",
       "1891   21  1.6000    53.0  20.70                            0              0   \n",
       "1503   25  1.5240    55.0  23.68                            0              1   \n",
       "2245   30  1.5240    50.5  21.74                            0              1   \n",
       "3561   21  1.5750    65.0  26.21                            0              1   \n",
       "1160   29  1.5490    54.0  22.51                            0              0   \n",
       "1510   28  1.4732    67.0  30.87                            0              1   \n",
       "805    35  1.4990    58.0  25.81                            0              1   \n",
       "139    30  1.4980    66.9  30.82                            0              2   \n",
       "596    27  1.5490    53.0  22.08                            0              1   \n",
       "86     32  1.5240    47.8  20.58                            1              1   \n",
       "507    25  1.4480    60.5  28.85                            0              1   \n",
       "\n",
       "      Systolic Blood Pressure  Diastolic Blood Pressure  Edema  Anemia  \\\n",
       "1444                      120                        90      0       1   \n",
       "487                       100                        60      0       0   \n",
       "1318                      120                        80      0       0   \n",
       "2452                      100                        60      0       0   \n",
       "1891                      110                        70      0       1   \n",
       "1503                      110                        70      0       0   \n",
       "2245                      110                        70      0       0   \n",
       "3561                      110                        65      0       0   \n",
       "1160                      100                        80      0       0   \n",
       "1510                      100                        80      0       0   \n",
       "805                       110                        70      0       1   \n",
       "139                        90                        60      0       0   \n",
       "596                       120                        80      0       1   \n",
       "86                        100                        80      0       0   \n",
       "507                       150                        70      0       1   \n",
       "\n",
       "      Jaundice  Diabetes  Risk  parity  \n",
       "1444         0         0     1       1  \n",
       "487          0         0     1       1  \n",
       "1318         0         0     1       1  \n",
       "2452         0         0     1       4  \n",
       "1891         0         0     0       1  \n",
       "1503         0         0     0       1  \n",
       "2245         1         0     1       1  \n",
       "3561         0         0     0       1  \n",
       "1160         0         0     0       1  \n",
       "1510         0         0     0       1  \n",
       "805          0         0     0       1  \n",
       "139          0         0     1       1  \n",
       "596          0         0     0       1  \n",
       "86           0         0     1       2  \n",
       "507          0         0     0       1  "
      ]
     },
     "execution_count": 7,
     "metadata": {},
     "output_type": "execute_result"
    }
   ],
   "source": [
    "ss = df1.sample(15)\n",
    "ss"
   ]
  },
  {
   "cell_type": "code",
   "execution_count": 8,
   "id": "5b4f2cc3",
   "metadata": {},
   "outputs": [],
   "source": [
    "# from sklearn.model_selection import train_test_split\n",
    "\n",
    "# X = df1.drop(['Risk','Height','Weight'],axis=1)\n",
    "# y = df1.Risk\n",
    "\n",
    "# x_train, x_test, y_train, y_test = train_test_split(X,y,test_size=0.3)"
   ]
  },
  {
   "cell_type": "code",
   "execution_count": 9,
   "id": "41d7019c",
   "metadata": {},
   "outputs": [],
   "source": [
    "length = int(len(df1)*0.70)\n",
    "\n",
    "train = df1[:length]\n",
    "test = df1[length:]\n",
    "\n",
    "x_train = train.drop(['Risk','Height','Weight'],axis=1)\n",
    "y_train = train.Risk\n",
    "\n",
    "x_test = test.drop(['Risk','Height','Weight'],axis=1)\n",
    "y_test = test.Risk"
   ]
  },
  {
   "cell_type": "code",
   "execution_count": 10,
   "id": "dda17e09",
   "metadata": {},
   "outputs": [
    {
     "data": {
      "text/plain": [
       "(2504, 14)"
      ]
     },
     "execution_count": 10,
     "metadata": {},
     "output_type": "execute_result"
    }
   ],
   "source": [
    "train.shape"
   ]
  },
  {
   "cell_type": "code",
   "execution_count": 11,
   "id": "57714ce4",
   "metadata": {},
   "outputs": [
    {
     "data": {
      "text/plain": [
       "(1074, 14)"
      ]
     },
     "execution_count": 11,
     "metadata": {},
     "output_type": "execute_result"
    }
   ],
   "source": [
    "test.shape"
   ]
  },
  {
   "cell_type": "code",
   "execution_count": 12,
   "id": "84da0e7a",
   "metadata": {},
   "outputs": [],
   "source": [
    "# def model(model,i):\n",
    "#     print(i,'.',model,':\\n')\n",
    "#     model = model.fit(x_train,y_train)\n",
    "\n",
    "#     #train data\n",
    "#     y_pred = model.predict(x_train)\n",
    "#     print('\\tTraining Data:')\n",
    "#     print('\\t\\t> Accuracy: ', round(accuracy_score(y_train,y_pred),2)*100,'%',end=\" \")\n",
    "#     print('\\t> f1_score: ', round(f1_score(y_train,y_pred),2)*100,'%',end=\" \")\n",
    "#     print('\\t> precision_score: ', round(precision_score(y_train,y_pred),2)*100,'%',end=\" \")\n",
    "#     print('\\t> recall_score: ', round(recall_score(y_train,y_pred),2)*100,'%',end=\" \")\n",
    "\n",
    "#     #test data\n",
    "#     y_pred = model.predict(x_test)\n",
    "#     print('\\n\\tTesting Data:')\n",
    "#     print('\\t\\t> Accuracy: ', round(accuracy_score(y_test,y_pred),2)*100,'%',end=\" \")\n",
    "#     print('\\t> f1_score: ', round(f1_score(y_test,y_pred),2)*100,'%',end=\" \")\n",
    "#     print('\\t> precision_score: ', round(precision_score(y_test,y_pred),2)*100,'%',end=\" \")\n",
    "#     print('\\t> recall_score: ', round(recall_score(y_test,y_pred),2)*100,'%','\\n')"
   ]
  },
  {
   "cell_type": "code",
   "execution_count": 13,
   "id": "b3ab0153",
   "metadata": {},
   "outputs": [],
   "source": [
    "# model(LogisticRegression(),1)\n",
    "# model(SVC(),2)\n",
    "# model(DecisionTreeClassifier(),3)\n",
    "# model(RandomForestClassifier(),4)\n",
    "# model(KNeighborsClassifier(),5)\n",
    "# model(GaussianNB(),6)\n",
    "# model(MultinomialNB(),7)"
   ]
  },
  {
   "cell_type": "code",
   "execution_count": 14,
   "id": "1d140fc3",
   "metadata": {},
   "outputs": [],
   "source": [
    "# #best model\n",
    "# model = RandomForestClassifier().fit(x_train,y_train)\n",
    "# #train data\n",
    "# y_train_pred = model.predict(x_train)\n",
    "# print('Training Data:')\n",
    "# print('\\t> Accuracy:', round(accuracy_score(y_train,y_train_pred),2)*100,'%')\n",
    "# print('\\t> f1_score:', round(f1_score(y_train,y_train_pred),2)*100,'%')\n",
    "# print('\\t> precision_score:', round(precision_score(y_train,y_train_pred),2)*100,'%')\n",
    "# print('\\t> recall_score:', round(recall_score(y_train,y_train_pred),2)*100,'%')\n",
    "\n",
    "# #test data\n",
    "# y_test_pred = model.predict(x_test)\n",
    "# print('\\nTesting Data:')\n",
    "# print('\\t> Accuracy:', round(accuracy_score(y_test,y_test_pred),2)*100,'%')\n",
    "# print('\\t> f1_score:', round(f1_score(y_test,y_test_pred),2)*100,'%')\n",
    "# print('\\t> precision_score:', round(precision_score(y_test,y_test_pred),2)*100,'%')\n",
    "# print('\\t> recall_score:', round(recall_score(y_test,y_test_pred),2)*100,'%')"
   ]
  },
  {
   "cell_type": "code",
   "execution_count": 15,
   "id": "4ff38c12",
   "metadata": {},
   "outputs": [],
   "source": [
    "# tn, fp, fn, tp = confusion_matrix(y_test,y_test_pred).ravel()\n",
    "# print(tn,fp,fn,tp)"
   ]
  },
  {
   "cell_type": "code",
   "execution_count": 16,
   "id": "6494bbcf",
   "metadata": {},
   "outputs": [],
   "source": [
    "# accuracy = (tp+tn)/(len(test))\n",
    "# accuracy"
   ]
  },
  {
   "cell_type": "code",
   "execution_count": 17,
   "id": "db0568b0",
   "metadata": {},
   "outputs": [],
   "source": [
    "# f_score = (2*tp)/((2*tp)+fp+fn)\n",
    "# f_score"
   ]
  },
  {
   "cell_type": "code",
   "execution_count": 18,
   "id": "bf4055b6",
   "metadata": {},
   "outputs": [],
   "source": [
    "# precision = tp/(tp+fp)\n",
    "# precision"
   ]
  },
  {
   "cell_type": "code",
   "execution_count": 19,
   "id": "cf8b0085",
   "metadata": {},
   "outputs": [],
   "source": [
    "# recall = tp/(tp+fn)\n",
    "# recall"
   ]
  },
  {
   "cell_type": "code",
   "execution_count": 20,
   "id": "2c41909b",
   "metadata": {},
   "outputs": [],
   "source": [
    "# print(y_test.value_counts())\n",
    "# # plt.figure(figsize=(10,8))\n",
    "# ConfusionMatrixDisplay.from_predictions(y_test,y_test_pred,display_labels=['No Risk','Risk'])\n",
    "# # print(cm)\n",
    "# # sns.heatmap(cm,annot=True)\n",
    "# # plt.savefig('Random Forest Confusion Matries.jpg')\n",
    "# plt.show()"
   ]
  },
  {
   "cell_type": "code",
   "execution_count": 21,
   "id": "b3dea136",
   "metadata": {
    "scrolled": false
   },
   "outputs": [
    {
     "name": "stdout",
     "output_type": "stream",
     "text": [
      "precision :  0.92\n",
      "recall :  0.8\n",
      "f1_masure :  0.86\n",
      "se :  0.8\n",
      "sp :  0.97\n",
      "acc :  0.92\n",
      "auc :  0.92\n"
     ]
    },
    {
     "data": {
      "text/plain": [
       "<Figure size 144x216 with 0 Axes>"
      ]
     },
     "metadata": {},
     "output_type": "display_data"
    },
    {
     "data": {
      "image/png": "[encoded data removed]",
      "text/plain": [
       "<Figure size 432x288 with 1 Axes>"
      ]
     },
     "metadata": {
      "needs_background": "light"
     },
     "output_type": "display_data"
    },
    {
     "name": "stdout",
     "output_type": "stream",
     "text": [
      "Yes as Yes (TP):  246\n",
      "No as No   (TN):  745\n",
      "No as Yes  (FP):  20\n",
      "yes as No  (FN):  63\n"
     ]
    }
   ],
   "source": [
    "clf = RandomForestClassifier().fit(x_train,y_train)\n",
    "RF_pred = clf.predict(x_test)\n",
    "RF_proba = clf.predict_proba(x_test)\n",
    "tn, fp, fn, tp = confusion_matrix(y_test,RF_pred).ravel()\n",
    "\n",
    "precision = round((tp/(tp+fp)),2)\n",
    "recall = round((tp/(tp+fn)),2)\n",
    "f1_masure = round((2*precision*recall)/(precision+recall),2)\n",
    "se = round((tp/(tp+fn)),2)\n",
    "sp = round((tn/(tn+fp)),2)\n",
    "acc = round(((tp+tn)/len(x_test)),2)\n",
    "auc_ = round((roc_auc_score(y_test,RF_proba[:,1])),2)\n",
    "\n",
    "print(\"precision : \",precision)\n",
    "print(\"recall : \",recall)\n",
    "print(\"f1_masure : \",f1_masure)\n",
    "print(\"se : \",se)\n",
    "print(\"sp : \",sp)\n",
    "print(\"acc : \",acc)\n",
    "print(\"auc : \",auc_)\n",
    "\n",
    "result.append({\n",
    "    'Classifier': 'Random Forest',\n",
    "    'Precision': precision,\n",
    "    'Se/Recall':recall,\n",
    "    'Sp':sp,\n",
    "    'F1-Measure':f1_masure,\n",
    "    'Accuracy':acc,\n",
    "    'AUC':auc_\n",
    "})\n",
    "plt.figure(figsize=(2, 3))\n",
    "ConfusionMatrixDisplay.from_predictions(y_test,RF_pred,display_labels=['No','Yes'],colorbar = False)\n",
    "plt.title('Random Forest Test Data Confusion Matrix')\n",
    "plt.show()\n",
    "print('Yes as Yes (TP): ',tp)\n",
    "print('No as No   (TN): ',tn)\n",
    "print('No as Yes  (FP): ',fp)\n",
    "print('yes as No  (FN): ',fn)"
   ]
  },
  {
   "cell_type": "code",
   "execution_count": 22,
   "id": "60fe810d",
   "metadata": {},
   "outputs": [
    {
     "name": "stdout",
     "output_type": "stream",
     "text": [
      "precision :  0.96\n",
      "recall :  0.71\n",
      "f1_masure :  0.82\n",
      "se :  0.71\n",
      "sp :  0.99\n",
      "acc :  0.91\n",
      "auc :  0.83\n"
     ]
    },
    {
     "data": {
      "text/plain": [
       "<Figure size 144x216 with 0 Axes>"
      ]
     },
     "metadata": {},
     "output_type": "display_data"
    },
    {
     "data": {
      "image/png": "[encoded data removed]",
      "text/plain": [
       "<Figure size 432x288 with 1 Axes>"
      ]
     },
     "metadata": {
      "needs_background": "light"
     },
     "output_type": "display_data"
    },
    {
     "name": "stdout",
     "output_type": "stream",
     "text": [
      "Yes as Yes (TP):  219\n",
      "No as No   (TN):  755\n",
      "No as Yes  (FP):  10\n",
      "yes as No  (FN):  90\n"
     ]
    }
   ],
   "source": [
    "clf = DecisionTreeClassifier(max_depth=15).fit(x_train,y_train)\n",
    "DT_pred = clf.predict(x_test)\n",
    "DT_proba = clf.predict_proba(x_test)\n",
    "tn, fp, fn, tp = confusion_matrix(y_test,DT_pred).ravel()\n",
    "\n",
    "precision = round((tp/(tp+fp)),2)\n",
    "recall = round((tp/(tp+fn)),2)\n",
    "f1_masure = round((2*precision*recall)/(precision+recall),2)\n",
    "se = round((tp/(tp+fn)),2)\n",
    "sp = round((tn/(tn+fp)),2)\n",
    "acc = round(((tp+tn)/len(x_test)),2)\n",
    "auc_ = round((roc_auc_score(y_test,DT_proba[:,1])),2)\n",
    "\n",
    "print(\"precision : \",precision)\n",
    "print(\"recall : \",recall)\n",
    "print(\"f1_masure : \",f1_masure)\n",
    "print(\"se : \",se)\n",
    "print(\"sp : \",sp)\n",
    "print(\"acc : \",acc)\n",
    "print(\"auc : \",auc_)\n",
    "\n",
    "\n",
    "result.append({\n",
    "    'Classifier': 'Decision Tree',\n",
    "    'Precision': precision,\n",
    "    'Se/Recall':recall,\n",
    "    'Sp':sp,\n",
    "    'F1-Measure':f1_masure,\n",
    "    'Accuracy':acc,\n",
    "    'AUC':auc_\n",
    "})\n",
    "plt.figure(figsize=(2, 3))\n",
    "ConfusionMatrixDisplay.from_predictions(y_test,DT_pred,display_labels=['No','Yes'],colorbar = False)\n",
    "plt.title('Decision Tree Test Data Confusion Matrix')\n",
    "plt.show()\n",
    "print('Yes as Yes (TP): ',tp)\n",
    "print('No as No   (TN): ',tn)\n",
    "print('No as Yes  (FP): ',fp)\n",
    "print('yes as No  (FN): ',fn)"
   ]
  },
  {
   "cell_type": "code",
   "execution_count": 23,
   "id": "34578c96",
   "metadata": {},
   "outputs": [
    {
     "name": "stdout",
     "output_type": "stream",
     "text": [
      "precision :  0.89\n",
      "recall :  0.26\n",
      "f1_masure :  0.4\n",
      "se :  0.26\n",
      "sp :  0.99\n",
      "acc :  0.78\n",
      "auc :  0.75\n"
     ]
    },
    {
     "data": {
      "text/plain": [
       "<Figure size 144x216 with 0 Axes>"
      ]
     },
     "metadata": {},
     "output_type": "display_data"
    },
    {
     "data": {
      "image/png": "[encoded data removed]",
      "text/plain": [
       "<Figure size 432x288 with 1 Axes>"
      ]
     },
     "metadata": {
      "needs_background": "light"
     },
     "output_type": "display_data"
    },
    {
     "name": "stdout",
     "output_type": "stream",
     "text": [
      "Yes as Yes (TP):  81\n",
      "No as No   (TN):  755\n",
      "No as Yes  (FP):  10\n",
      "yes as No  (FN):  228\n"
     ]
    }
   ],
   "source": [
    "clf = LogisticRegression().fit(x_train,y_train)\n",
    "Los_pred = clf.predict(x_test)\n",
    "Los_proba = clf.predict_proba(x_test)\n",
    "tn, fp, fn, tp = confusion_matrix(y_test,Los_pred).ravel()\n",
    "\n",
    "precision = round((tp/(tp+fp)),2)\n",
    "recall = round((tp/(tp+fn)),2)\n",
    "f1_masure = round((2*precision*recall)/(precision+recall),2)\n",
    "se = round((tp/(tp+fn)),2)\n",
    "sp = round((tn/(tn+fp)),2)\n",
    "acc = round(((tp+tn)/len(x_test)),2)\n",
    "auc_ = round((roc_auc_score(y_test,Los_proba[:,1])),2)\n",
    "\n",
    "print(\"precision : \",precision)\n",
    "print(\"recall : \",recall)\n",
    "print(\"f1_masure : \",f1_masure)\n",
    "print(\"se : \",se)\n",
    "print(\"sp : \",sp)\n",
    "print(\"acc : \",acc)\n",
    "print(\"auc : \",auc_)\n",
    "\n",
    "\n",
    "result.append({\n",
    "    'Classifier': 'Logistic Regression',\n",
    "    'Precision': precision,\n",
    "    'Se/Recall':recall,\n",
    "    'Sp':sp,\n",
    "    'F1-Measure':f1_masure,\n",
    "    'Accuracy':acc,\n",
    "    'AUC':auc_\n",
    "})\n",
    "plt.figure(figsize=(2, 3))\n",
    "ConfusionMatrixDisplay.from_predictions(y_test,Los_pred,display_labels=['No','Yes'],colorbar = False)\n",
    "plt.title('Logistic Regression Test Data Confusion Matrix')\n",
    "plt.show()\n",
    "print('Yes as Yes (TP): ',tp)\n",
    "print('No as No   (TN): ',tn)\n",
    "print('No as Yes  (FP): ',fp)\n",
    "print('yes as No  (FN): ',fn)"
   ]
  },
  {
   "cell_type": "code",
   "execution_count": 24,
   "id": "a2eb9aee",
   "metadata": {},
   "outputs": [
    {
     "name": "stdout",
     "output_type": "stream",
     "text": [
      "precision :  0.91\n",
      "recall :  0.43\n",
      "f1_masure :  0.58\n",
      "se :  0.43\n",
      "sp :  0.98\n",
      "acc :  0.82\n",
      "auc :  0.8\n"
     ]
    },
    {
     "data": {
      "text/plain": [
       "<Figure size 144x216 with 0 Axes>"
      ]
     },
     "metadata": {},
     "output_type": "display_data"
    },
    {
     "data": {
      "image/png": "[encoded data removed]",
      "text/plain": [
       "<Figure size 432x288 with 1 Axes>"
      ]
     },
     "metadata": {
      "needs_background": "light"
     },
     "output_type": "display_data"
    },
    {
     "name": "stdout",
     "output_type": "stream",
     "text": [
      "Yes as Yes (TP):  134\n",
      "No as No   (TN):  752\n",
      "No as Yes  (FP):  13\n",
      "yes as No  (FN):  175\n"
     ]
    }
   ],
   "source": [
    "clf = KNeighborsClassifier(n_neighbors=15).fit(x_train,y_train)\n",
    "Knn_pred = clf.predict(x_test)\n",
    "Knn_proba = clf.predict_proba(x_test)\n",
    "tn, fp, fn, tp = confusion_matrix(y_test,Knn_pred).ravel()\n",
    "\n",
    "precision = round((tp/(tp+fp)),2)\n",
    "recall = round((tp/(tp+fn)),2)\n",
    "f1_masure = round((2*precision*recall)/(precision+recall),2)\n",
    "se = round((tp/(tp+fn)),2)\n",
    "sp = round((tn/(tn+fp)),2)\n",
    "acc = round(((tp+tn)/len(x_test)),2)\n",
    "auc_ = round((roc_auc_score(y_test,Knn_proba[:,1])),2)\n",
    "\n",
    "print(\"precision : \",precision)\n",
    "print(\"recall : \",recall)\n",
    "print(\"f1_masure : \",f1_masure)\n",
    "print(\"se : \",se)\n",
    "print(\"sp : \",sp)\n",
    "print(\"acc : \",acc)\n",
    "print(\"auc : \",auc_)\n",
    "\n",
    "\n",
    "result.append({\n",
    "    'Classifier': 'K-Nearest Neighbors',\n",
    "    'Precision': precision,\n",
    "    'Se/Recall':recall,\n",
    "    'Sp':sp,\n",
    "    'F1-Measure':f1_masure,\n",
    "    'Accuracy':acc,\n",
    "    'AUC':auc_\n",
    "})\n",
    "plt.figure(figsize=(2, 3))\n",
    "ConfusionMatrixDisplay.from_predictions(y_test,Knn_pred,display_labels=['No','Yes'],colorbar = False)\n",
    "plt.title('K-Nearest Neighbors Test Data Confusion Matrix')\n",
    "plt.show()\n",
    "print('Yes as Yes (TP): ',tp)\n",
    "print('No as No   (TN): ',tn)\n",
    "print('No as Yes  (FP): ',fp)\n",
    "print('yes as No  (FN): ',fn)"
   ]
  },
  {
   "cell_type": "code",
   "execution_count": 25,
   "id": "25bd6159",
   "metadata": {},
   "outputs": [
    {
     "name": "stdout",
     "output_type": "stream",
     "text": [
      "precision :  1.0\n",
      "recall :  0.11\n",
      "f1_masure :  0.2\n",
      "se :  0.11\n",
      "sp :  1.0\n",
      "acc :  0.74\n",
      "auc :  0.76\n"
     ]
    },
    {
     "data": {
      "text/plain": [
       "<Figure size 144x216 with 0 Axes>"
      ]
     },
     "metadata": {},
     "output_type": "display_data"
    },
    {
     "data": {
      "image/png": "[encoded data removed]",
      "text/plain": [
       "<Figure size 432x288 with 1 Axes>"
      ]
     },
     "metadata": {
      "needs_background": "light"
     },
     "output_type": "display_data"
    },
    {
     "name": "stdout",
     "output_type": "stream",
     "text": [
      "Yes as Yes (TP):  33\n",
      "No as No   (TN):  765\n",
      "No as Yes  (FP):  0\n",
      "yes as No  (FN):  276\n"
     ]
    }
   ],
   "source": [
    "clf = SVC(probability=True).fit(x_train,y_train)\n",
    "svm_pred = clf.predict(x_test)\n",
    "svm_proba = clf.predict_proba(x_test)\n",
    "tn, fp, fn, tp = confusion_matrix(y_test,svm_pred).ravel()\n",
    "\n",
    "precision = round((tp/(tp+fp)),2)\n",
    "recall = round((tp/(tp+fn)),2)\n",
    "f1_masure = round((2*precision*recall)/(precision+recall),2)\n",
    "se = round((tp/(tp+fn)),2)\n",
    "sp = round((tn/(tn+fp)),2)\n",
    "acc = round(((tp+tn)/len(x_test)),2)\n",
    "auc_ = round((roc_auc_score(y_test,svm_proba[:,1])),2)\n",
    "\n",
    "print(\"precision : \",precision)\n",
    "print(\"recall : \",recall)\n",
    "print(\"f1_masure : \",f1_masure)\n",
    "print(\"se : \",se)\n",
    "print(\"sp : \",sp)\n",
    "print(\"acc : \",acc)\n",
    "print(\"auc : \",auc_)\n",
    "\n",
    "\n",
    "result.append({\n",
    "    'Classifier': 'SVM',\n",
    "    'Precision': precision,\n",
    "    'Se/Recall':recall,\n",
    "    'Sp':sp,\n",
    "    'F1-Measure':f1_masure,\n",
    "    'Accuracy':acc,\n",
    "    'AUC':auc_\n",
    "})\n",
    "plt.figure(figsize=(2, 3))\n",
    "ConfusionMatrixDisplay.from_predictions(y_test,svm_pred,display_labels=['No','Yes'],colorbar = False)\n",
    "plt.title('SVM Confusion Test Data Matrix')\n",
    "plt.show()\n",
    "print('Yes as Yes (TP): ',tp)\n",
    "print('No as No   (TN): ',tn)\n",
    "print('No as Yes  (FP): ',fp)\n",
    "print('yes as No  (FN): ',fn)"
   ]
  },
  {
   "cell_type": "code",
   "execution_count": 26,
   "id": "ca624a8f",
   "metadata": {},
   "outputs": [
    {
     "name": "stdout",
     "output_type": "stream",
     "text": [
      "precision :  1.0\n",
      "recall :  0.2\n",
      "f1_masure :  0.33\n",
      "se :  0.2\n",
      "sp :  1.0\n",
      "acc :  0.77\n",
      "auc :  0.6\n"
     ]
    },
    {
     "data": {
      "text/plain": [
       "<Figure size 144x216 with 0 Axes>"
      ]
     },
     "metadata": {},
     "output_type": "display_data"
    },
    {
     "data": {
      "image/png": "[encoded data removed]",
      "text/plain": [
       "<Figure size 432x288 with 1 Axes>"
      ]
     },
     "metadata": {
      "needs_background": "light"
     },
     "output_type": "display_data"
    },
    {
     "name": "stdout",
     "output_type": "stream",
     "text": [
      "Yes as Yes (TP):  63\n",
      "No as No   (TN):  765\n",
      "No as Yes  (FP):  0\n",
      "yes as No  (FN):  246\n"
     ]
    }
   ],
   "source": [
    "clf = GaussianNB().fit(x_train,y_train)\n",
    "gnb_pred = clf.predict(x_test)\n",
    "gnb_proba = clf.predict_proba(x_test)\n",
    "tn, fp, fn, tp = confusion_matrix(y_test,gnb_pred).ravel()\n",
    "\n",
    "precision = round((tp/(tp+fp)),2)\n",
    "recall = round((tp/(tp+fn)),2)\n",
    "f1_masure = round((2*precision*recall)/(precision+recall),2)\n",
    "se = round((tp/(tp+fn)),2)\n",
    "sp = round((tn/(tn+fp)),2)\n",
    "acc = round(((tp+tn)/len(x_test)),2)\n",
    "auc_ = round((roc_auc_score(y_test,gnb_pred)),2)\n",
    "\n",
    "print(\"precision : \",precision)\n",
    "print(\"recall : \",recall)\n",
    "print(\"f1_masure : \",f1_masure)\n",
    "print(\"se : \",se)\n",
    "print(\"sp : \",sp)\n",
    "print(\"acc : \",acc)\n",
    "print(\"auc : \",auc_)\n",
    "\n",
    "\n",
    "result.append({\n",
    "    'Classifier': 'Naive Baye\\'s',\n",
    "    'Precision': precision,\n",
    "    'Se/Recall':recall,\n",
    "    'Sp':sp,\n",
    "    'F1-Measure':f1_masure,\n",
    "    'Accuracy':acc,\n",
    "    'AUC':auc_\n",
    "})\n",
    "plt.figure(figsize=(2, 3))\n",
    "ConfusionMatrixDisplay.from_predictions(y_test,gnb_pred,display_labels=['No','Yes'],colorbar = False)\n",
    "plt.title('Naive Baye\\'s Test Data Confusion Matrix')\n",
    "plt.show()\n",
    "print('Yes as Yes (TP): ',tp)\n",
    "print('No as No   (TN): ',tn)\n",
    "print('No as Yes  (FP): ',fp)\n",
    "print('yes as No  (FN): ',fn)"
   ]
  },
  {
   "cell_type": "code",
   "execution_count": 27,
   "id": "ffd6b3f9",
   "metadata": {},
   "outputs": [
    {
     "data": {
      "text/html": [
       "<div>\n",
       "<style scoped>\n",
       "    .dataframe tbody tr th:only-of-type {\n",
       "        vertical-align: middle;\n",
       "    }\n",
       "\n",
       "    .dataframe tbody tr th {\n",
       "        vertical-align: top;\n",
       "    }\n",
       "\n",
       "    .dataframe thead th {\n",
       "        text-align: right;\n",
       "    }\n",
       "</style>\n",
       "<table border=\"1\" class=\"dataframe\">\n",
       "  <thead>\n",
       "    <tr style=\"text-align: right;\">\n",
       "      <th></th>\n",
       "      <th>Classifier</th>\n",
       "      <th>Precision</th>\n",
       "      <th>Se/Recall</th>\n",
       "      <th>Sp</th>\n",
       "      <th>F1-Measure</th>\n",
       "      <th>Accuracy</th>\n",
       "      <th>AUC</th>\n",
       "    </tr>\n",
       "  </thead>\n",
       "  <tbody>\n",
       "    <tr>\n",
       "      <th>0</th>\n",
       "      <td>Random Forest</td>\n",
       "      <td>0.92</td>\n",
       "      <td>0.80</td>\n",
       "      <td>0.97</td>\n",
       "      <td>0.86</td>\n",
       "      <td>0.92</td>\n",
       "      <td>0.92</td>\n",
       "    </tr>\n",
       "    <tr>\n",
       "      <th>1</th>\n",
       "      <td>Decision Tree</td>\n",
       "      <td>0.96</td>\n",
       "      <td>0.71</td>\n",
       "      <td>0.99</td>\n",
       "      <td>0.82</td>\n",
       "      <td>0.91</td>\n",
       "      <td>0.83</td>\n",
       "    </tr>\n",
       "    <tr>\n",
       "      <th>2</th>\n",
       "      <td>Logistic Regression</td>\n",
       "      <td>0.89</td>\n",
       "      <td>0.26</td>\n",
       "      <td>0.99</td>\n",
       "      <td>0.40</td>\n",
       "      <td>0.78</td>\n",
       "      <td>0.75</td>\n",
       "    </tr>\n",
       "    <tr>\n",
       "      <th>3</th>\n",
       "      <td>K-Nearest Neighbors</td>\n",
       "      <td>0.91</td>\n",
       "      <td>0.43</td>\n",
       "      <td>0.98</td>\n",
       "      <td>0.58</td>\n",
       "      <td>0.82</td>\n",
       "      <td>0.80</td>\n",
       "    </tr>\n",
       "    <tr>\n",
       "      <th>4</th>\n",
       "      <td>SVM</td>\n",
       "      <td>1.00</td>\n",
       "      <td>0.11</td>\n",
       "      <td>1.00</td>\n",
       "      <td>0.20</td>\n",
       "      <td>0.74</td>\n",
       "      <td>0.76</td>\n",
       "    </tr>\n",
       "    <tr>\n",
       "      <th>5</th>\n",
       "      <td>Naive Baye's</td>\n",
       "      <td>1.00</td>\n",
       "      <td>0.20</td>\n",
       "      <td>1.00</td>\n",
       "      <td>0.33</td>\n",
       "      <td>0.77</td>\n",
       "      <td>0.60</td>\n",
       "    </tr>\n",
       "  </tbody>\n",
       "</table>\n",
       "</div>"
      ],
      "text/plain": [
       "            Classifier  Precision  Se/Recall    Sp  F1-Measure  Accuracy   AUC\n",
       "0        Random Forest       0.92       0.80  0.97        0.86      0.92  0.92\n",
       "1        Decision Tree       0.96       0.71  0.99        0.82      0.91  0.83\n",
       "2  Logistic Regression       0.89       0.26  0.99        0.40      0.78  0.75\n",
       "3  K-Nearest Neighbors       0.91       0.43  0.98        0.58      0.82  0.80\n",
       "4                  SVM       1.00       0.11  1.00        0.20      0.74  0.76\n",
       "5         Naive Baye's       1.00       0.20  1.00        0.33      0.77  0.60"
      ]
     },
     "execution_count": 27,
     "metadata": {},
     "output_type": "execute_result"
    }
   ],
   "source": [
    "pd.DataFrame(result)"
   ]
  },
  {
   "cell_type": "code",
   "execution_count": null,
   "id": "d3b72a39",
   "metadata": {},
   "outputs": [],
   "source": []
  },
  {
   "cell_type": "code",
   "execution_count": 28,
   "id": "654f75c4",
   "metadata": {},
   "outputs": [],
   "source": [
    "# pd.DataFrame(result).reset_index(drop=True).to_csv('./con_mat/result evaluation.csv')"
   ]
  },
  {
   "cell_type": "code",
   "execution_count": 29,
   "id": "8d9c3248",
   "metadata": {},
   "outputs": [],
   "source": [
    "# plt.figure(figsize=(10, 7), dpi=100)\n",
    "\n",
    "# def plot_roc(name,pred,i):\n",
    "#     fpr, tpr, threshold = roc_curve(y_test, pred)\n",
    "#     auc_ = auc(fpr,tpr)\n",
    "    \n",
    "#     if i%2==0:\n",
    "#         plt.plot(fpr,tpr, linestyle='--', label = name+' (auc = %0.2f)' % auc_)\n",
    "#     else:\n",
    "#         plt.plot(fpr,tpr, linestyle='-', label = name+' (auc = %0.2f)' % auc_)\n",
    "    \n",
    "\n",
    "# plot_roc('Random Forest',RF_pred,1)\n",
    "# plot_roc('SVM',svm_pred,5)\n",
    "# plot_roc('K-Nearest Neighbors',Knn_pred,4)\n",
    "# plot_roc('Decision Tree',DT_pred,2)\n",
    "# plot_roc('Naive Baye\\'s',gnb_pred,6)\n",
    "# plot_roc('Logistic Regression',Los_pred,3)\n",
    "\n",
    "# plt.plot([0,1],[0,1],'k--',label = 'Reference Line')\n",
    "# plt.xlim([0,1])\n",
    "# plt.ylim([0,1.05])\n",
    "# plt.title('“Receiver Operating Characteristic(ROC) Curve” of test data')\n",
    "# plt.xlabel('False Positive Rate (FPR) -->')\n",
    "# plt.ylabel('True Positive Rate (TPR) -->')\n",
    "\n",
    "# plt.legend()\n",
    "\n",
    "# # plt.savefig('./con_mat/all testing result ROC-AUC.jpg')\n",
    "# plt.show()"
   ]
  },
  {
   "cell_type": "code",
   "execution_count": 30,
   "id": "dc2794f7",
   "metadata": {},
   "outputs": [
    {
     "data": {
      "image/png": "[encoded data removed]",
      "text/plain": [
       "<Figure size 700x500 with 1 Axes>"
      ]
     },
     "metadata": {
      "needs_background": "light"
     },
     "output_type": "display_data"
    }
   ],
   "source": [
    "plt.figure(figsize=(7, 5), dpi=100)\n",
    "\n",
    "def plot_roc(name,pred,i):\n",
    "    fpr, tpr, threshold = roc_curve(y_test, pred)\n",
    "    auc_ = auc(fpr,tpr)\n",
    "    \n",
    "    if i%2==0:\n",
    "        plt.plot(fpr,tpr, linestyle='--', label = name+' (auc = %0.2f)' % auc_)\n",
    "    else:\n",
    "        plt.plot(fpr,tpr, linestyle='-', label = name+' (auc = %0.2f)' % auc_)\n",
    "    \n",
    "\n",
    "plot_roc('Random Forest',RF_proba[:,1],1)\n",
    "plot_roc('Decision Tree',DT_proba[:,1],2)\n",
    "plot_roc('Logistic Regression',Los_proba[:,1],3)\n",
    "plot_roc('K-Nearest Neighbors',Knn_proba[:,1],4)\n",
    "plot_roc('SVM',svm_proba[:,1],5)\n",
    "plot_roc('Naive Baye\\'s',gnb_proba[:,1],6)\n",
    "\n",
    "\n",
    "plt.plot([0,1],[0,1],'k--',label = 'Reference Line')\n",
    "plt.xlim([0,1])\n",
    "plt.ylim([0,1.05])\n",
    "plt.title('“Receiver Operating Characteristic(ROC) Curve” of test data')\n",
    "plt.xlabel('False Positive Rate (FPR) -->')\n",
    "plt.ylabel('True Positive Rate (TPR) -->')\n",
    "\n",
    "plt.legend()\n",
    "\n",
    "plt.savefig('./con_mat/all testing result ROC-AUC.jpg')\n",
    "plt.show()"
   ]
  },
  {
   "cell_type": "code",
   "execution_count": 31,
   "id": "edc58a4d",
   "metadata": {},
   "outputs": [],
   "source": [
    "#prediction"
   ]
  },
  {
   "cell_type": "code",
   "execution_count": 32,
   "id": "af6a21fa",
   "metadata": {},
   "outputs": [],
   "source": [
    "model = DecisionTreeClassifier(max_depth=15).fit(x_train,y_train)"
   ]
  },
  {
   "cell_type": "code",
   "execution_count": 33,
   "id": "47c38539",
   "metadata": {},
   "outputs": [
    {
     "data": {
      "text/plain": [
       "0"
      ]
     },
     "execution_count": 33,
     "metadata": {},
     "output_type": "execute_result"
    }
   ],
   "source": [
    "model.predict([[26,23.96,0,0,120,90,0,0,0,0,2]])[0]"
   ]
  },
  {
   "cell_type": "code",
   "execution_count": 34,
   "id": "cfc6fa10",
   "metadata": {},
   "outputs": [
    {
     "data": {
      "text/plain": [
       "array([[0.91382869, 0.08617131]])"
      ]
     },
     "execution_count": 34,
     "metadata": {},
     "output_type": "execute_result"
    }
   ],
   "source": [
    "model.predict_proba([[26,23.96,0,0,120,90,0,0,0,0,2]])"
   ]
  },
  {
   "cell_type": "code",
   "execution_count": 41,
   "id": "a208b532",
   "metadata": {},
   "outputs": [
    {
     "data": {
      "text/plain": [
       "array([1], dtype=int64)"
      ]
     },
     "execution_count": 41,
     "metadata": {},
     "output_type": "execute_result"
    }
   ],
   "source": [
    "model.predict([[26,23.96,0,0,150,80,0,0,0,0,2]])"
   ]
  },
  {
   "cell_type": "code",
   "execution_count": 40,
   "id": "b01fc5f4",
   "metadata": {},
   "outputs": [
    {
     "data": {
      "text/plain": [
       "array([0., 1.])"
      ]
     },
     "execution_count": 40,
     "metadata": {},
     "output_type": "execute_result"
    }
   ],
   "source": [
    "model.predict_proba([[26,23.96,0,0,150,70,0,0,0,0,2]])[0]"
   ]
  },
  {
   "cell_type": "code",
   "execution_count": null,
   "id": "744e12a5",
   "metadata": {},
   "outputs": [],
   "source": []
  }
 ],
 "metadata": {
  "kernelspec": {
   "display_name": "Python 3 (ipykernel)",
   "language": "python",
   "name": "python3"
  },
  "language_info": {
   "codemirror_mode": {
    "name": "ipython",
    "version": 3
   },
   "file_extension": ".py",
   "mimetype": "text/x-python",
   "name": "python",
   "nbconvert_exporter": "python",
   "pygments_lexer": "ipython3",
   "version": "3.9.12"
  }
 },
 "nbformat": 4,
 "nbformat_minor": 5
}
