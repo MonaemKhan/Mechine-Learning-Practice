{
 "cells": [
  {
   "cell_type": "code",
   "execution_count": 1,
   "id": "de120b59",
   "metadata": {},
   "outputs": [],
   "source": [
    "import pandas as pd\n",
    "import seaborn as sn\n",
    "import matplotlib.pyplot as plt\n",
    "pd.options.display.float_format = '{:.2f}'.format\n",
    "%matplotlib inline"
   ]
  },
  {
   "cell_type": "code",
   "execution_count": 2,
   "id": "f3a14505",
   "metadata": {},
   "outputs": [
    {
     "data": {
      "text/plain": [
       "(768, 9)"
      ]
     },
     "execution_count": 2,
     "metadata": {},
     "output_type": "execute_result"
    }
   ],
   "source": [
    "df = pd.read_csv('diabetes.csv')\n",
    "df.shape"
   ]
  },
  {
   "cell_type": "code",
   "execution_count": 3,
   "id": "9e606118",
   "metadata": {},
   "outputs": [
    {
     "data": {
      "text/html": [
       "<div>\n",
       "<style scoped>\n",
       "    .dataframe tbody tr th:only-of-type {\n",
       "        vertical-align: middle;\n",
       "    }\n",
       "\n",
       "    .dataframe tbody tr th {\n",
       "        vertical-align: top;\n",
       "    }\n",
       "\n",
       "    .dataframe thead th {\n",
       "        text-align: right;\n",
       "    }\n",
       "</style>\n",
       "<table border=\"1\" class=\"dataframe\">\n",
       "  <thead>\n",
       "    <tr style=\"text-align: right;\">\n",
       "      <th></th>\n",
       "      <th>Pregnancies</th>\n",
       "      <th>Glucose</th>\n",
       "      <th>BloodPressure</th>\n",
       "      <th>SkinThickness</th>\n",
       "      <th>Insulin</th>\n",
       "      <th>BMI</th>\n",
       "      <th>DiabetesPedigreeFunction</th>\n",
       "      <th>Age</th>\n",
       "      <th>Outcome</th>\n",
       "    </tr>\n",
       "  </thead>\n",
       "  <tbody>\n",
       "    <tr>\n",
       "      <th>0</th>\n",
       "      <td>6</td>\n",
       "      <td>148</td>\n",
       "      <td>72</td>\n",
       "      <td>35</td>\n",
       "      <td>0</td>\n",
       "      <td>33.60</td>\n",
       "      <td>0.63</td>\n",
       "      <td>50</td>\n",
       "      <td>1</td>\n",
       "    </tr>\n",
       "    <tr>\n",
       "      <th>1</th>\n",
       "      <td>1</td>\n",
       "      <td>85</td>\n",
       "      <td>66</td>\n",
       "      <td>29</td>\n",
       "      <td>0</td>\n",
       "      <td>26.60</td>\n",
       "      <td>0.35</td>\n",
       "      <td>31</td>\n",
       "      <td>0</td>\n",
       "    </tr>\n",
       "    <tr>\n",
       "      <th>2</th>\n",
       "      <td>8</td>\n",
       "      <td>183</td>\n",
       "      <td>64</td>\n",
       "      <td>0</td>\n",
       "      <td>0</td>\n",
       "      <td>23.30</td>\n",
       "      <td>0.67</td>\n",
       "      <td>32</td>\n",
       "      <td>1</td>\n",
       "    </tr>\n",
       "    <tr>\n",
       "      <th>3</th>\n",
       "      <td>1</td>\n",
       "      <td>89</td>\n",
       "      <td>66</td>\n",
       "      <td>23</td>\n",
       "      <td>94</td>\n",
       "      <td>28.10</td>\n",
       "      <td>0.17</td>\n",
       "      <td>21</td>\n",
       "      <td>0</td>\n",
       "    </tr>\n",
       "    <tr>\n",
       "      <th>4</th>\n",
       "      <td>0</td>\n",
       "      <td>137</td>\n",
       "      <td>40</td>\n",
       "      <td>35</td>\n",
       "      <td>168</td>\n",
       "      <td>43.10</td>\n",
       "      <td>2.29</td>\n",
       "      <td>33</td>\n",
       "      <td>1</td>\n",
       "    </tr>\n",
       "  </tbody>\n",
       "</table>\n",
       "</div>"
      ],
      "text/plain": [
       "   Pregnancies  Glucose  BloodPressure  SkinThickness  Insulin   BMI  \\\n",
       "0            6      148             72             35        0 33.60   \n",
       "1            1       85             66             29        0 26.60   \n",
       "2            8      183             64              0        0 23.30   \n",
       "3            1       89             66             23       94 28.10   \n",
       "4            0      137             40             35      168 43.10   \n",
       "\n",
       "   DiabetesPedigreeFunction  Age  Outcome  \n",
       "0                      0.63   50        1  \n",
       "1                      0.35   31        0  \n",
       "2                      0.67   32        1  \n",
       "3                      0.17   21        0  \n",
       "4                      2.29   33        1  "
      ]
     },
     "execution_count": 3,
     "metadata": {},
     "output_type": "execute_result"
    }
   ],
   "source": [
    "df.head()"
   ]
  },
  {
   "cell_type": "code",
   "execution_count": 4,
   "id": "be63a460",
   "metadata": {},
   "outputs": [
    {
     "name": "stdout",
     "output_type": "stream",
     "text": [
      "<class 'pandas.core.frame.DataFrame'>\n",
      "RangeIndex: 768 entries, 0 to 767\n",
      "Data columns (total 9 columns):\n",
      " #   Column                    Non-Null Count  Dtype  \n",
      "---  ------                    --------------  -----  \n",
      " 0   Pregnancies               768 non-null    int64  \n",
      " 1   Glucose                   768 non-null    int64  \n",
      " 2   BloodPressure             768 non-null    int64  \n",
      " 3   SkinThickness             768 non-null    int64  \n",
      " 4   Insulin                   768 non-null    int64  \n",
      " 5   BMI                       768 non-null    float64\n",
      " 6   DiabetesPedigreeFunction  768 non-null    float64\n",
      " 7   Age                       768 non-null    int64  \n",
      " 8   Outcome                   768 non-null    int64  \n",
      "dtypes: float64(2), int64(7)\n",
      "memory usage: 54.1 KB\n"
     ]
    }
   ],
   "source": [
    "df.info()"
   ]
  },
  {
   "cell_type": "code",
   "execution_count": 5,
   "id": "4826b2ee",
   "metadata": {},
   "outputs": [
    {
     "data": {
      "text/plain": [
       "0"
      ]
     },
     "execution_count": 5,
     "metadata": {},
     "output_type": "execute_result"
    }
   ],
   "source": [
    "df.duplicated().sum()"
   ]
  },
  {
   "cell_type": "code",
   "execution_count": 6,
   "id": "dd583479",
   "metadata": {},
   "outputs": [
    {
     "data": {
      "text/plain": [
       "Pregnancies                 0\n",
       "Glucose                     0\n",
       "BloodPressure               0\n",
       "SkinThickness               0\n",
       "Insulin                     0\n",
       "BMI                         0\n",
       "DiabetesPedigreeFunction    0\n",
       "Age                         0\n",
       "Outcome                     0\n",
       "dtype: int64"
      ]
     },
     "execution_count": 6,
     "metadata": {},
     "output_type": "execute_result"
    }
   ],
   "source": [
    "df.isna().sum()"
   ]
  },
  {
   "cell_type": "code",
   "execution_count": 7,
   "id": "4454f78d",
   "metadata": {},
   "outputs": [
    {
     "data": {
      "text/html": [
       "<div>\n",
       "<style scoped>\n",
       "    .dataframe tbody tr th:only-of-type {\n",
       "        vertical-align: middle;\n",
       "    }\n",
       "\n",
       "    .dataframe tbody tr th {\n",
       "        vertical-align: top;\n",
       "    }\n",
       "\n",
       "    .dataframe thead th {\n",
       "        text-align: right;\n",
       "    }\n",
       "</style>\n",
       "<table border=\"1\" class=\"dataframe\">\n",
       "  <thead>\n",
       "    <tr style=\"text-align: right;\">\n",
       "      <th></th>\n",
       "      <th>Pregnant</th>\n",
       "      <th>Glucose</th>\n",
       "      <th>Pressure</th>\n",
       "      <th>Triceps</th>\n",
       "      <th>Insulin</th>\n",
       "      <th>BMI</th>\n",
       "      <th>Pedigree</th>\n",
       "      <th>Age</th>\n",
       "      <th>Outcome</th>\n",
       "    </tr>\n",
       "  </thead>\n",
       "  <tbody>\n",
       "    <tr>\n",
       "      <th>0</th>\n",
       "      <td>6</td>\n",
       "      <td>148</td>\n",
       "      <td>72</td>\n",
       "      <td>35</td>\n",
       "      <td>0</td>\n",
       "      <td>33.60</td>\n",
       "      <td>0.63</td>\n",
       "      <td>50</td>\n",
       "      <td>1</td>\n",
       "    </tr>\n",
       "    <tr>\n",
       "      <th>1</th>\n",
       "      <td>1</td>\n",
       "      <td>85</td>\n",
       "      <td>66</td>\n",
       "      <td>29</td>\n",
       "      <td>0</td>\n",
       "      <td>26.60</td>\n",
       "      <td>0.35</td>\n",
       "      <td>31</td>\n",
       "      <td>0</td>\n",
       "    </tr>\n",
       "    <tr>\n",
       "      <th>2</th>\n",
       "      <td>8</td>\n",
       "      <td>183</td>\n",
       "      <td>64</td>\n",
       "      <td>0</td>\n",
       "      <td>0</td>\n",
       "      <td>23.30</td>\n",
       "      <td>0.67</td>\n",
       "      <td>32</td>\n",
       "      <td>1</td>\n",
       "    </tr>\n",
       "    <tr>\n",
       "      <th>3</th>\n",
       "      <td>1</td>\n",
       "      <td>89</td>\n",
       "      <td>66</td>\n",
       "      <td>23</td>\n",
       "      <td>94</td>\n",
       "      <td>28.10</td>\n",
       "      <td>0.17</td>\n",
       "      <td>21</td>\n",
       "      <td>0</td>\n",
       "    </tr>\n",
       "    <tr>\n",
       "      <th>4</th>\n",
       "      <td>0</td>\n",
       "      <td>137</td>\n",
       "      <td>40</td>\n",
       "      <td>35</td>\n",
       "      <td>168</td>\n",
       "      <td>43.10</td>\n",
       "      <td>2.29</td>\n",
       "      <td>33</td>\n",
       "      <td>1</td>\n",
       "    </tr>\n",
       "    <tr>\n",
       "      <th>...</th>\n",
       "      <td>...</td>\n",
       "      <td>...</td>\n",
       "      <td>...</td>\n",
       "      <td>...</td>\n",
       "      <td>...</td>\n",
       "      <td>...</td>\n",
       "      <td>...</td>\n",
       "      <td>...</td>\n",
       "      <td>...</td>\n",
       "    </tr>\n",
       "    <tr>\n",
       "      <th>763</th>\n",
       "      <td>10</td>\n",
       "      <td>101</td>\n",
       "      <td>76</td>\n",
       "      <td>48</td>\n",
       "      <td>180</td>\n",
       "      <td>32.90</td>\n",
       "      <td>0.17</td>\n",
       "      <td>63</td>\n",
       "      <td>0</td>\n",
       "    </tr>\n",
       "    <tr>\n",
       "      <th>764</th>\n",
       "      <td>2</td>\n",
       "      <td>122</td>\n",
       "      <td>70</td>\n",
       "      <td>27</td>\n",
       "      <td>0</td>\n",
       "      <td>36.80</td>\n",
       "      <td>0.34</td>\n",
       "      <td>27</td>\n",
       "      <td>0</td>\n",
       "    </tr>\n",
       "    <tr>\n",
       "      <th>765</th>\n",
       "      <td>5</td>\n",
       "      <td>121</td>\n",
       "      <td>72</td>\n",
       "      <td>23</td>\n",
       "      <td>112</td>\n",
       "      <td>26.20</td>\n",
       "      <td>0.24</td>\n",
       "      <td>30</td>\n",
       "      <td>0</td>\n",
       "    </tr>\n",
       "    <tr>\n",
       "      <th>766</th>\n",
       "      <td>1</td>\n",
       "      <td>126</td>\n",
       "      <td>60</td>\n",
       "      <td>0</td>\n",
       "      <td>0</td>\n",
       "      <td>30.10</td>\n",
       "      <td>0.35</td>\n",
       "      <td>47</td>\n",
       "      <td>1</td>\n",
       "    </tr>\n",
       "    <tr>\n",
       "      <th>767</th>\n",
       "      <td>1</td>\n",
       "      <td>93</td>\n",
       "      <td>70</td>\n",
       "      <td>31</td>\n",
       "      <td>0</td>\n",
       "      <td>30.40</td>\n",
       "      <td>0.32</td>\n",
       "      <td>23</td>\n",
       "      <td>0</td>\n",
       "    </tr>\n",
       "  </tbody>\n",
       "</table>\n",
       "<p>768 rows × 9 columns</p>\n",
       "</div>"
      ],
      "text/plain": [
       "     Pregnant  Glucose  Pressure  Triceps  Insulin   BMI  Pedigree  Age  \\\n",
       "0           6      148        72       35        0 33.60      0.63   50   \n",
       "1           1       85        66       29        0 26.60      0.35   31   \n",
       "2           8      183        64        0        0 23.30      0.67   32   \n",
       "3           1       89        66       23       94 28.10      0.17   21   \n",
       "4           0      137        40       35      168 43.10      2.29   33   \n",
       "..        ...      ...       ...      ...      ...   ...       ...  ...   \n",
       "763        10      101        76       48      180 32.90      0.17   63   \n",
       "764         2      122        70       27        0 36.80      0.34   27   \n",
       "765         5      121        72       23      112 26.20      0.24   30   \n",
       "766         1      126        60        0        0 30.10      0.35   47   \n",
       "767         1       93        70       31        0 30.40      0.32   23   \n",
       "\n",
       "     Outcome  \n",
       "0          1  \n",
       "1          0  \n",
       "2          1  \n",
       "3          0  \n",
       "4          1  \n",
       "..       ...  \n",
       "763        0  \n",
       "764        0  \n",
       "765        0  \n",
       "766        1  \n",
       "767        0  \n",
       "\n",
       "[768 rows x 9 columns]"
      ]
     },
     "execution_count": 7,
     "metadata": {},
     "output_type": "execute_result"
    }
   ],
   "source": [
    "df = df.rename(columns={'Pregnancies':'Pregnant','BloodPressure':'Pressure','SkinThickness':'Triceps','DiabetesPedigreeFunction':'Pedigree'})\n",
    "df"
   ]
  },
  {
   "cell_type": "code",
   "execution_count": 8,
   "id": "ef7d1542",
   "metadata": {},
   "outputs": [
    {
     "data": {
      "text/plain": [
       "(268, 9)"
      ]
     },
     "execution_count": 8,
     "metadata": {},
     "output_type": "execute_result"
    }
   ],
   "source": [
    "#has daibaties\n",
    "df[df['Outcome'] == 1].shape"
   ]
  },
  {
   "cell_type": "code",
   "execution_count": 9,
   "id": "fb7ac17e",
   "metadata": {},
   "outputs": [
    {
     "data": {
      "text/plain": [
       "(500, 9)"
      ]
     },
     "execution_count": 9,
     "metadata": {},
     "output_type": "execute_result"
    }
   ],
   "source": [
    "#has no daibaties\n",
    "df[df['Outcome'] == 0].shape"
   ]
  },
  {
   "cell_type": "code",
   "execution_count": 10,
   "id": "04e0e634",
   "metadata": {},
   "outputs": [
    {
     "data": {
      "text/plain": [
       "768"
      ]
     },
     "execution_count": 10,
     "metadata": {},
     "output_type": "execute_result"
    }
   ],
   "source": [
    "target = df['Outcome']\n",
    "len(target)"
   ]
  },
  {
   "cell_type": "code",
   "execution_count": null,
   "id": "eddbeb0e",
   "metadata": {},
   "outputs": [
    {
     "data": {
      "text/plain": [
       "<Figure size 7200x7200 with 0 Axes>"
      ]
     },
     "metadata": {},
     "output_type": "display_data"
    }
   ],
   "source": [
    "plt.figure(figsize=(100,100))\n",
    "sn.pairplot(df,hue='Outcome',height=5)\n",
    "plt.savefig('./pairplot.png')\n",
    "plt.show()"
   ]
  },
  {
   "cell_type": "code",
   "execution_count": null,
   "id": "e93fec2f",
   "metadata": {},
   "outputs": [],
   "source": [
    "df.head()"
   ]
  },
  {
   "cell_type": "code",
   "execution_count": null,
   "id": "370c36f3",
   "metadata": {},
   "outputs": [],
   "source": [
    "Pregnant = df.drop(['Glucose','Pressure','Triceps','Insulin','BMI','Pedigree','Age'],axis='columns')\n",
    "sn.pairplot(Pregnant,hue='Outcome',kind='scatter')\n",
    "plt.savefig('./distribution of all attributes/Pregnant.png')\n",
    "plt.show()"
   ]
  },
  {
   "cell_type": "code",
   "execution_count": null,
   "id": "bc35a33f",
   "metadata": {},
   "outputs": [],
   "source": [
    "Glucose = df.drop(['Pregnant','Pressure','Triceps','Insulin','BMI','Pedigree','Age'],axis='columns')\n",
    "sn.pairplot(Glucose,hue='Outcome',kind='scatter')\n",
    "plt.savefig('./distribution of all attributes/Glucose.png')\n",
    "plt.show()"
   ]
  },
  {
   "cell_type": "code",
   "execution_count": null,
   "id": "0f721e3d",
   "metadata": {},
   "outputs": [],
   "source": [
    "Pressure = df.drop(['Pregnant','Glucose','Triceps','Insulin','BMI','Pedigree','Age'],axis='columns')\n",
    "sn.pairplot(Pressure,hue='Outcome',kind='scatter')\n",
    "plt.savefig('./distribution of all attributes/Pressure.png')\n",
    "plt.show()"
   ]
  },
  {
   "cell_type": "code",
   "execution_count": null,
   "id": "d268afb3",
   "metadata": {},
   "outputs": [],
   "source": [
    "Triceps = df.drop(['Pregnant','Glucose','Pressure','Insulin','BMI','Pedigree','Age'],axis='columns')\n",
    "sn.pairplot(Triceps,hue='Outcome',kind='scatter')\n",
    "plt.savefig('./distribution of all attributes/Triceps.png')\n",
    "plt.show()"
   ]
  },
  {
   "cell_type": "code",
   "execution_count": null,
   "id": "9cd4331b",
   "metadata": {},
   "outputs": [],
   "source": [
    "Insulin = df.drop(['Pregnant','Glucose','Triceps','Pressure','BMI','Pedigree','Age'],axis='columns')\n",
    "sn.pairplot(Insulin,hue='Outcome',kind='scatter')\n",
    "plt.savefig('./distribution of all attributes/Insulin.png')\n",
    "plt.show()"
   ]
  },
  {
   "cell_type": "code",
   "execution_count": null,
   "id": "13206654",
   "metadata": {},
   "outputs": [],
   "source": [
    "BMI = df.drop(['Pregnant','Glucose','Triceps','Insulin','Pressure','Pedigree','Age'],axis='columns')\n",
    "sn.pairplot(BMI,hue='Outcome',kind='kde')\n",
    "plt.savefig('./distribution of all attributes/BMI.png')\n",
    "plt.show()"
   ]
  },
  {
   "cell_type": "code",
   "execution_count": null,
   "id": "32a119d0",
   "metadata": {},
   "outputs": [],
   "source": [
    "Pedigree = df.drop(['Pregnant','Glucose','Triceps','Insulin','BMI','Pressure','Age'],axis='columns')\n",
    "sn.pairplot(Pedigree,hue='Outcome',kind='kde')\n",
    "plt.savefig('./distribution of all attributes/Pedigree.png')\n",
    "plt.show()"
   ]
  },
  {
   "cell_type": "code",
   "execution_count": null,
   "id": "7091f1d0",
   "metadata": {},
   "outputs": [],
   "source": [
    "Pressure = df.drop(['Pregnant','Glucose','Triceps','Insulin','BMI','Pedigree','Age'],axis='columns')\n",
    "sn.pairplot(Pressure,hue='Outcome')\n",
    "#plt.savefig('./distribution of all attributes/Pressure.png')\n",
    "plt.show()"
   ]
  },
  {
   "cell_type": "code",
   "execution_count": null,
   "id": "98f65e2c",
   "metadata": {},
   "outputs": [],
   "source": [
    "df.head()"
   ]
  },
  {
   "cell_type": "code",
   "execution_count": null,
   "id": "0bfbe700",
   "metadata": {},
   "outputs": [],
   "source": [
    "Daibaties = df['BMI'][df['Outcome']==1]\n",
    "len(Daibaties)"
   ]
  },
  {
   "cell_type": "code",
   "execution_count": null,
   "id": "5cf6cdd7",
   "metadata": {},
   "outputs": [],
   "source": [
    "non_daibaties = df['BMI'][df['Outcome']==0]\n",
    "len(non_daibaties)"
   ]
  },
  {
   "cell_type": "code",
   "execution_count": null,
   "id": "2cb8a34e",
   "metadata": {},
   "outputs": [],
   "source": [
    "x = df.describe()\n",
    "x['Pregnant']"
   ]
  },
  {
   "cell_type": "code",
   "execution_count": null,
   "id": "5defe4d5",
   "metadata": {},
   "outputs": [],
   "source": [
    "round(df['Pregnant'].mean(),2)"
   ]
  },
  {
   "cell_type": "code",
   "execution_count": null,
   "id": "2d8d3b05",
   "metadata": {},
   "outputs": [],
   "source": [
    "round(df['Pregnant'].std(),2)"
   ]
  },
  {
   "cell_type": "code",
   "execution_count": null,
   "id": "689092ca",
   "metadata": {},
   "outputs": [],
   "source": [
    "Attribute = ['Pregnant','Glucose','Pressure','Triceps','Insulin','BMI','Pedigree','Age']"
   ]
  },
  {
   "cell_type": "code",
   "execution_count": null,
   "id": "12a937d4",
   "metadata": {},
   "outputs": [],
   "source": [
    "calculation = []\n",
    "for item in Attribute:\n",
    "    print(item)\n",
    "    read = {\n",
    "        'Attribute': item,\n",
    "        'Mean': round(df[item].mean(),2),\n",
    "        'std': round(df[item].std(),2)\n",
    "    }\n",
    "    calculation.append(read)\n",
    "    "
   ]
  },
  {
   "cell_type": "code",
   "execution_count": null,
   "id": "7c48049e",
   "metadata": {},
   "outputs": [],
   "source": [
    "pd.DataFrame(calculation)"
   ]
  },
  {
   "cell_type": "code",
   "execution_count": null,
   "id": "527bdad7",
   "metadata": {},
   "outputs": [],
   "source": [
    "diabetes = df[df['Outcome'] == 1].describe().T\n",
    "diabetes[['mean','std']]"
   ]
  },
  {
   "cell_type": "code",
   "execution_count": null,
   "id": "16c5232d",
   "metadata": {},
   "outputs": [],
   "source": [
    "non_diabetes = df[df['Outcome'] == 0].describe().T\n",
    "non_diabetes[['mean','std']]"
   ]
  },
  {
   "cell_type": "code",
   "execution_count": null,
   "id": "f11174e9",
   "metadata": {},
   "outputs": [],
   "source": [
    "from sklearn.preprocessing import MinMaxScaler,StandardScaler\n",
    "mms = MinMaxScaler() # Normalization\n",
    "ss = StandardScaler() # Standardization\n",
    "\n",
    "df1 = df.copy(deep = True)\n",
    "#df1.drop(columns = ['Glucose_Group','Insulin_Group','BMI_Group','DiabetesPedigreeFunction_Group'],inplace = True)\n",
    "\n",
    "df1['Pregnant'] = mms.fit_transform(df1[['Pregnant']])\n",
    "df1['Insulin'] = ss.fit_transform(df1[['Insulin']])\n",
    "df1['Pedigree'] = ss.fit_transform(df1[['Pedigree']])\n",
    "df1['Age'] = ss.fit_transform(df1[['Age']])\n",
    "df1['Pressure'] = ss.fit_transform(df1[['Pressure']])\n",
    "df1['Triceps'] = ss.fit_transform(df1[['Triceps']])\n",
    "df1['Glucose'] = ss.fit_transform(df1[['Glucose']])\n",
    "df1['BMI'] = ss.fit_transform(df1[['BMI']])\n",
    "df1.head()"
   ]
  },
  {
   "cell_type": "code",
   "execution_count": null,
   "id": "ea8e3e4b",
   "metadata": {},
   "outputs": [],
   "source": [
    "df1.skew()"
   ]
  },
  {
   "cell_type": "code",
   "execution_count": null,
   "id": "f0c42bc3",
   "metadata": {},
   "outputs": [],
   "source": [
    "plt.figure(figsize=(100,100))\n",
    "sn.pairplot(df,hue='Outcome',height=5)\n",
    "#plt.savefig('./pairplot.png')\n",
    "plt.show()"
   ]
  },
  {
   "cell_type": "code",
   "execution_count": null,
   "id": "062196bc",
   "metadata": {},
   "outputs": [],
   "source": [
    "df1.corr()"
   ]
  },
  {
   "cell_type": "code",
   "execution_count": null,
   "id": "2febeeab",
   "metadata": {},
   "outputs": [],
   "source": [
    "sn.boxplot(data=df,x='Glucose',y='Outcome',hue='Outcome')\n",
    "#plt.savefig('./pairplot.png')\n",
    "plt.show()"
   ]
  },
  {
   "cell_type": "code",
   "execution_count": null,
   "id": "9bab0230",
   "metadata": {},
   "outputs": [],
   "source": [
    "df.head()"
   ]
  },
  {
   "cell_type": "code",
   "execution_count": null,
   "id": "43e16273",
   "metadata": {},
   "outputs": [],
   "source": [
    "df.Outcome[df.Pregnant>6].shape"
   ]
  },
  {
   "cell_type": "code",
   "execution_count": null,
   "id": "e8942fd7",
   "metadata": {},
   "outputs": [],
   "source": [
    "df.Outcome[df.Glucose>125].shape"
   ]
  },
  {
   "cell_type": "code",
   "execution_count": null,
   "id": "a0a66219",
   "metadata": {},
   "outputs": [],
   "source": []
  }
 ],
 "metadata": {
  "kernelspec": {
   "display_name": "Python 3 (ipykernel)",
   "language": "python",
   "name": "python3"
  },
  "language_info": {
   "codemirror_mode": {
    "name": "ipython",
    "version": 3
   },
   "file_extension": ".py",
   "mimetype": "text/x-python",
   "name": "python",
   "nbconvert_exporter": "python",
   "pygments_lexer": "ipython3",
   "version": "3.9.12"
  }
 },
 "nbformat": 4,
 "nbformat_minor": 5
}
